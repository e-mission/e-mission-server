{
 "cells": [
  {
   "cell_type": "markdown",
   "metadata": {},
   "source": [
    "# Create Fake User\n",
    "\n",
    "- Config object\n"
   ]
  },
  {
   "cell_type": "code",
   "execution_count": null,
   "metadata": {},
   "outputs": [],
   "source": [
    "#Imports\n",
    "from emission.simulation.client import EmissionFakeDataGenerator\n",
    "from emission.simulation.fake_user import FakeUser\n",
    "import emission.storage.timeseries.cache_series as estcs\n",
    "import requests\n",
    "import numpy as np\n",
    "import pandas as pd\n",
    "from time import sleep"
   ]
  },
  {
   "cell_type": "code",
   "execution_count": null,
   "metadata": {},
   "outputs": [],
   "source": [
    "#Step1 : specify a config object for user\n",
    "client_config = {\n",
    "    'emission_server_base_url': 'http://localhost:8080',\n",
    "    'register_user_endpoint': '/profile/create',\n",
    "    'user_cache_endpoint': '/usercache/put'\n",
    "}\n",
    "\n",
    "user_config = {\n",
    "            \"email\" : 'fake_user_129',\n",
    "    \n",
    "            \"locations\" :\n",
    "            [\n",
    "               {\n",
    "                    'label': 'home',\n",
    "                    'coordinate': [37.77264255,-122.399714854263]\n",
    "                },\n",
    "\n",
    "                {\n",
    "                    'label': 'work',\n",
    "                    'coordinate': [37.42870635,-122.140926605802]\n",
    "                },\n",
    "                {\n",
    "                    'label': 'family',\n",
    "                    'coordinate': [37.87119, -122.27388]\n",
    "                }\n",
    "            ],\n",
    "            \"transition_probabilities\":\n",
    "            [\n",
    "                np.random.dirichlet(np.ones(3), size=1)[0],\n",
    "                np.random.dirichlet(np.ones(3), size=1)[0],\n",
    "                np.random.dirichlet(np.ones(3), size=1)[0]\n",
    "            ],\n",
    "    \n",
    "            \"modes\" : \n",
    "            {\n",
    "                \"CAR\" : [['home', 'family']],\n",
    "                \"TRANSIT\" : [['home', 'work'], ['work', 'home']]  \n",
    "            },\n",
    "\n",
    "            \"default_mode\": \"CAR\",\n",
    "            \"initial_state\" : \"home\",\n",
    "            \"radius\" : \".1\"\n",
    "        }\n"
   ]
  },
  {
   "cell_type": "code",
   "execution_count": null,
   "metadata": {},
   "outputs": [],
   "source": [
    "np.random.dirichlet(np.ones(3), size=1)[0]"
   ]
  },
  {
   "cell_type": "code",
   "execution_count": null,
   "metadata": {},
   "outputs": [],
   "source": [
    "client = EmissionFakeDataGenerator(client_config)"
   ]
  },
  {
   "cell_type": "code",
   "execution_count": null,
   "metadata": {},
   "outputs": [],
   "source": [
    "fake_user = client.create_fake_user(user_config)"
   ]
  },
  {
   "cell_type": "markdown",
   "metadata": {},
   "source": [
    "## Simulate User Behavior"
   ]
  },
  {
   "cell_type": "code",
   "execution_count": null,
   "metadata": {},
   "outputs": [],
   "source": [
    "measurements = []\n",
    "for _ in range(4):\n",
    "    \"\"\"\n",
    "    \n",
    "    \"\"\"\n",
    "    temp = fake_user.take_trip()\n",
    "    print('# of location measurements:', len(temp))\n",
    "    measurements.append(temp)\n",
    "    #try:\n",
    "        #respons = requests.post('server_address', payload={'data':measurements})\n",
    "    #except:\n",
    "        \n",
    "    #sleep(2)\n",
    "\n",
    "print('Path:',fake_user._path)\n",
    "#Run pipeline\n"
   ]
  },
  {
   "cell_type": "markdown",
   "metadata": {},
   "source": [
    "# Push data to server"
   ]
  },
  {
   "cell_type": "code",
   "execution_count": null,
   "metadata": {},
   "outputs": [],
   "source": [
    "len(fake_user._measurements_cache)"
   ]
  },
  {
   "cell_type": "code",
   "execution_count": null,
   "metadata": {},
   "outputs": [],
   "source": [
    "fake_user.sync_data_to_server()"
   ]
  },
  {
   "cell_type": "code",
   "execution_count": null,
   "metadata": {},
   "outputs": [],
   "source": [
    "len(fake_user._measurements_cache)"
   ]
  },
  {
   "cell_type": "code",
   "execution_count": null,
   "metadata": {},
   "outputs": [],
   "source": [
    "location_data = [entry.data for sublist in measurements for entry in sublist if entry.metadata.key == 'background/filtered_location']\n",
    "#meta_data = [entry.metadata for sublist in measurements for entry in sublist if entry.metadata.key == 'background/filtered_location']"
   ]
  },
  {
   "cell_type": "code",
   "execution_count": null,
   "metadata": {},
   "outputs": [],
   "source": [
    "pd.DataFrame(location_data)"
   ]
  },
  {
   "cell_type": "code",
   "execution_count": null,
   "metadata": {},
   "outputs": [],
   "source": [
    "# Run pipeline manually \n",
    "#(tsdb_count, ucdb_count) = estcs.insert_entries(override_uuid, measurements)\n",
    "#print(\"Finished loading %d entries into the usercache and %d entries into the timeseries\" %\n",
    "#(ucdb_count, tsdb_count))"
   ]
  },
  {
   "cell_type": "markdown",
   "metadata": {},
   "source": [
    "## Run intake pipeline"
   ]
  },
  {
   "cell_type": "code",
   "execution_count": null,
   "metadata": {},
   "outputs": [],
   "source": [
    "email = fake_user._email"
   ]
  },
  {
   "cell_type": "code",
   "execution_count": null,
   "metadata": {},
   "outputs": [],
   "source": [
    "!source activate emission\n",
    "!./e-mission-py.bash bin/debug/intake_single_user.py -e 'fake_user_129'"
   ]
  },
  {
   "cell_type": "markdown",
   "metadata": {
    "collapsed": true
   },
   "source": [
    "## Display data\n",
    "- Show trip entries\n",
    "- Show trips on the map "
   ]
  },
  {
   "cell_type": "code",
   "execution_count": null,
   "metadata": {},
   "outputs": [],
   "source": [
    "from uuid import UUID\n",
    "import arrow\n",
    "fake_user_id = UUID(fake_user._uuid)"
   ]
  },
  {
   "cell_type": "code",
   "execution_count": null,
   "metadata": {},
   "outputs": [],
   "source": [
    "import emission.storage.timeseries.abstract_timeseries as esta\n",
    "import emission.storage.decorations.analysis_timeseries_queries as esda\n",
    "import emission.core.wrapper.entry as ecwe\n",
    "import emission.storage.decorations.trip_queries as esdt\n",
    "import emission.storage.timeseries.timequery as estt"
   ]
  },
  {
   "cell_type": "code",
   "execution_count": null,
   "metadata": {},
   "outputs": [],
   "source": [
    "print(fake_user_id)\n",
    "ts = esta.TimeSeries.get_time_series(fake_user_id)"
   ]
  },
  {
   "cell_type": "code",
   "execution_count": null,
   "metadata": {},
   "outputs": [],
   "source": [
    "# Raw trips\n",
    "rt_df = ts.get_data_df('segmentation/raw_trip', time_query=None)\n",
    "raw_trips = rt_df[[\"start_loc\", \"end_loc\", \"start_ts\", \"end_ts\"]]\n",
    "raw_trips['start_time'] = raw_trips[\"start_ts\"].apply(lambda x : arrow.get(x).format())\n",
    "raw_trips['end_time'] = raw_trips[\"end_ts\"].apply(lambda x : arrow.get(x).format())\n",
    "raw_trips['end_coord'] = raw_trips[\"end_loc\"].apply(lambda x : dict(x)['coordinates'])\n",
    "raw_trips['start_coord'] = raw_trips[\"start_loc\"].apply(lambda x : dict(x)['coordinates'])"
   ]
  },
  {
   "cell_type": "code",
   "execution_count": null,
   "metadata": {},
   "outputs": [],
   "source": [
    "raw_trips[['start_time', 'end_time',\"start_coord\", \"end_coord\"]]"
   ]
  },
  {
   "cell_type": "code",
   "execution_count": null,
   "metadata": {},
   "outputs": [],
   "source": [
    "# Get all cleaned trips for the first user\n",
    "entry_it = ts.find_entries([\"analysis/cleaned_trip\"], time_query=None)"
   ]
  },
  {
   "cell_type": "code",
   "execution_count": null,
   "metadata": {},
   "outputs": [],
   "source": [
    "for ct in entry_it:\n",
    "    cte = ecwe.Entry(ct)\n",
    "    print(\"=== Trip:\", cte.data.start_loc, \"->\", cte.data.end_loc)\n",
    "    section_it = esdt.get_sections_for_trip(\"analysis/cleaned_section\", fake_user_id, cte.get_id())\n",
    "    for sec in section_it:\n",
    "        print(\"  --- Section:\", sec.data.start_loc, \"->\", sec.data.end_loc, \" on \", sec.data.sensed_mode)"
   ]
  },
  {
   "cell_type": "code",
   "execution_count": null,
   "metadata": {},
   "outputs": [],
   "source": []
  }
 ],
 "metadata": {
  "kernelspec": {
   "display_name": "Python 2",
   "language": "python",
   "name": "python2"
  },
  "language_info": {
   "codemirror_mode": {
    "name": "ipython",
    "version": 2
   },
   "file_extension": ".py",
   "mimetype": "text/x-python",
   "name": "python",
   "nbconvert_exporter": "python",
   "pygments_lexer": "ipython2",
   "version": "2.7.15"
  }
 },
 "nbformat": 4,
 "nbformat_minor": 2
}
