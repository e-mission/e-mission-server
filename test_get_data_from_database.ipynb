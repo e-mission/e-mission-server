{
 "cells": [
  {
   "cell_type": "code",
   "execution_count": 5,
   "id": "shaped-martin",
   "metadata": {},
   "outputs": [
    {
     "name": "stdout",
     "output_type": "stream",
     "text": [
      "storage not configured, falling back to sample, default configuration\n",
      "Connecting to database URL localhost\n"
     ]
    },
    {
     "data": {
      "text/html": [
       "<div>\n",
       "<style scoped>\n",
       "    .dataframe tbody tr th:only-of-type {\n",
       "        vertical-align: middle;\n",
       "    }\n",
       "\n",
       "    .dataframe tbody tr th {\n",
       "        vertical-align: top;\n",
       "    }\n",
       "\n",
       "    .dataframe thead th {\n",
       "        text-align: right;\n",
       "    }\n",
       "</style>\n",
       "<table border=\"1\" class=\"dataframe\">\n",
       "  <thead>\n",
       "    <tr style=\"text-align: right;\">\n",
       "      <th></th>\n",
       "      <th>user_email</th>\n",
       "      <th>uuid</th>\n",
       "    </tr>\n",
       "  </thead>\n",
       "  <tbody>\n",
       "    <tr>\n",
       "      <th>0</th>\n",
       "      <td>test_aug_21</td>\n",
       "      <td>9052e86a-69b9-478a-9cba-c05a58565ab2</td>\n",
       "    </tr>\n",
       "    <tr>\n",
       "      <th>1</th>\n",
       "      <td>test_july_22</td>\n",
       "      <td>bb4ff90c-ea1c-4977-b4c6-55dbcd3aa591</td>\n",
       "    </tr>\n",
       "    <tr>\n",
       "      <th>2</th>\n",
       "      <td>test_aug_23</td>\n",
       "      <td>63c333d5-c4fa-4eec-a7ec-d088f3063ea8</td>\n",
       "    </tr>\n",
       "  </tbody>\n",
       "</table>\n",
       "</div>"
      ],
      "text/plain": [
       "     user_email                                  uuid\n",
       "0   test_aug_21  9052e86a-69b9-478a-9cba-c05a58565ab2\n",
       "1  test_july_22  bb4ff90c-ea1c-4977-b4c6-55dbcd3aa591\n",
       "2   test_aug_23  63c333d5-c4fa-4eec-a7ec-d088f3063ea8"
      ]
     },
     "execution_count": 5,
     "metadata": {},
     "output_type": "execute_result"
    }
   ],
   "source": [
    "import emission.core.get_database as edb\n",
    "import pandas as pd\n",
    "all_users = pd.DataFrame(list(edb.get_uuid_db().find({}, {\"user_email\":1, \"uuid\": 1, \"_id\": 0})))\n",
    "all_users"
   ]
  },
  {
   "cell_type": "code",
   "execution_count": 6,
   "id": "moved-worship",
   "metadata": {},
   "outputs": [],
   "source": [
    "from uuid import UUID"
   ]
  },
  {
   "cell_type": "code",
   "execution_count": 7,
   "id": "behind-objective",
   "metadata": {},
   "outputs": [],
   "source": [
    "# test_user_id = all_users.iloc[1].uuid # replace with UUID from above"
   ]
  },
  {
   "cell_type": "code",
   "execution_count": 8,
   "id": "median-turkey",
   "metadata": {},
   "outputs": [],
   "source": [
    "# test_user_id_2 = all_users.iloc[2].uuid"
   ]
  },
  {
   "cell_type": "code",
   "execution_count": 9,
   "id": "executive-madness",
   "metadata": {},
   "outputs": [
    {
     "name": "stdout",
     "output_type": "stream",
     "text": [
      "analysis.debug.conf.json not configured, falling back to sample, default configuration\n",
      "google maps key not configured, falling back to nominatim\n",
      "nominatim not configured either, place decoding must happen on the client\n"
     ]
    }
   ],
   "source": [
    "from __future__ import unicode_literals\n",
    "from __future__ import print_function\n",
    "from __future__ import division\n",
    "from __future__ import absolute_import\n",
    "from future import standard_library\n",
    "standard_library.install_aliases()\n",
    "from builtins import *\n",
    "import sys\n",
    "import logging\n",
    "import emission.net.usercache.abstract_usercache_handler as euah\n",
    "import emission.net.usercache.abstract_usercache as enua\n",
    "import emission.storage.timeseries.abstract_timeseries as esta\n",
    "import emission.storage.decorations.tour_model_queries as esdtmq\n",
    "#from emission.core.get_database import get_db, get_mode_db, get_section_db\n",
    "\n",
    "import emission.analysis.intake.cleaning.filter_accuracy as eaicf\n",
    "import emission.analysis.intake.segmentation.trip_segmentation as eaist\n",
    "import emission.analysis.intake.segmentation.section_segmentation as eaiss\n",
    "import emission.analysis.intake.cleaning.location_smoothing as eaicl\n",
    "import emission.analysis.intake.cleaning.clean_and_resample as eaicr\n",
    "import emission.analysis.classification.inference.mode as md\n",
    "import emission.net.ext_service.habitica.executor as autocheck\n",
    "import emission.analysis.classification.inference.mode as pipeline\n",
    "import emission.pipeline.model_stage as stage\n"
   ]
  },
  {
   "cell_type": "code",
   "execution_count": 10,
   "id": "careful-green",
   "metadata": {},
   "outputs": [],
   "source": [
    "# print(test_user_id, test_user_id_2)\n",
    "# ts = esta.TimeSeries.get_time_series(test_user_id)\n",
    "# ts_2 = esta.TimeSeries.get_time_series(test_user_id_2)"
   ]
  },
  {
   "cell_type": "code",
   "execution_count": 11,
   "id": "recovered-burner",
   "metadata": {},
   "outputs": [],
   "source": [
    "import emission.core.get_database as edb"
   ]
  },
  {
   "cell_type": "code",
   "execution_count": 12,
   "id": "increased-bibliography",
   "metadata": {
    "scrolled": true
   },
   "outputs": [
    {
     "data": {
      "text/plain": [
       "{'_id': ObjectId('60078969e84630147a20f027'),\n",
       " 'user_id': UUID('9052e86a-69b9-478a-9cba-c05a58565ab2'),\n",
       " 'data': {'loc': {'type': 'Point', 'coordinates': [-122.0822358, 37.3926163]},\n",
       "  'fmt_time': '2015-08-21T07:54:51.095000-07:00',\n",
       "  'altitude': 0,\n",
       "  'ts': 1440168891.095,\n",
       "  'longitude': -122.0822358,\n",
       "  'filter': 'time',\n",
       "  'local_dt': {'hour': 7,\n",
       "   'month': 8,\n",
       "   'second': 51,\n",
       "   'weekday': 4,\n",
       "   'year': 2015,\n",
       "   'timezone': 'America/Los_Angeles',\n",
       "   'day': 21,\n",
       "   'minute': 54},\n",
       "  'latitude': 37.3926163,\n",
       "  'heading': 0,\n",
       "  'sensed_speed': 0,\n",
       "  'accuracy': 31.5},\n",
       " 'metadata': {'write_fmt_time': '2015-08-21T07:54:51.712000-07:00',\n",
       "  'write_ts': 1440168891.712,\n",
       "  'time_zone': 'America/Los_Angeles',\n",
       "  'platform': 'android',\n",
       "  'write_local_dt': {'hour': 7,\n",
       "   'month': 8,\n",
       "   'second': 51,\n",
       "   'weekday': 5,\n",
       "   'year': 2015,\n",
       "   'timezone': 'America/Los_Angeles',\n",
       "   'day': 21,\n",
       "   'minute': 54},\n",
       "  'key': 'background/filtered_location',\n",
       "  'read_ts': 0,\n",
       "  'type': 'message'}}"
      ]
     },
     "execution_count": 12,
     "metadata": {},
     "output_type": "execute_result"
    }
   ],
   "source": [
    "edb.get_timeseries_db().find_one()"
   ]
  },
  {
   "cell_type": "code",
   "execution_count": 13,
   "id": "enabling-style",
   "metadata": {},
   "outputs": [
    {
     "data": {
      "text/plain": [
       "{'uuid': UUID('9052e86a-69b9-478a-9cba-c05a58565ab2')}"
      ]
     },
     "execution_count": 13,
     "metadata": {},
     "output_type": "execute_result"
    }
   ],
   "source": [
    "edb.get_uuid_db().find_one({},{\"_id\":0, \"uuid\":1 })"
   ]
  },
  {
   "cell_type": "code",
   "execution_count": 14,
   "id": "applied-throw",
   "metadata": {},
   "outputs": [
    {
     "data": {
      "text/plain": [
       "Collection(Database(MongoClient(host=['localhost:27017'], document_class=dict, tz_aware=False, connect=True), 'Stage_database'), 'Stage_uuids')"
      ]
     },
     "execution_count": 14,
     "metadata": {},
     "output_type": "execute_result"
    }
   ],
   "source": [
    "edb.get_uuid_db()"
   ]
  },
  {
   "cell_type": "code",
   "execution_count": 15,
   "id": "considerable-organizer",
   "metadata": {},
   "outputs": [
    {
     "data": {
      "text/plain": [
       "{'user_id': UUID('9052e86a-69b9-478a-9cba-c05a58565ab2')}"
      ]
     },
     "execution_count": 15,
     "metadata": {},
     "output_type": "execute_result"
    }
   ],
   "source": [
    "edb.get_timeseries_db().find_one({},{\"_id\":0, \"user_id\":1 })"
   ]
  },
  {
   "cell_type": "code",
   "execution_count": 16,
   "id": "atmospheric-midnight",
   "metadata": {},
   "outputs": [
    {
     "name": "stderr",
     "output_type": "stream",
     "text": [
      "2021-01-23 20:40:21,297:INFO:**********long term UUID list = [UUID('63c333d5-c4fa-4eec-a7ec-d088f3063ea8'), UUID('9052e86a-69b9-478a-9cba-c05a58565ab2'), UUID('bb4ff90c-ea1c-4977-b4c6-55dbcd3aa591')]\n",
      "2021-01-23 20:40:21,298:INFO:**********UUID 63c333d5-c4fa-4eec-a7ec-d088f3063ea8: finding common trips**********\n",
      "2021-01-23 20:40:21,298:DEBUG:for user 63c333d5-c4fa-4eec-a7ec-d088f3063ea8, returning timeseries <emission.storage.timeseries.builtin_timeseries.BuiltinTimeSeries object at 0x7fe3c655a6d0>\n",
      "2021-01-23 20:40:21,298:DEBUG:curr_query = {'user_id': UUID('63c333d5-c4fa-4eec-a7ec-d088f3063ea8'), '$or': [{'metadata.key': 'analysis/cleaned_trip'}]}, sort_key = metadata.write_ts\n",
      "2021-01-23 20:40:21,299:DEBUG:orig_ts_db_keys = [], analysis_ts_db_keys = ['analysis/cleaned_trip']\n",
      "2021-01-23 20:40:21,300:DEBUG:finished querying values for [], count = 0\n",
      "2021-01-23 20:40:21,303:DEBUG:finished querying values for ['analysis/cleaned_trip'], count = 3\n",
      "2021-01-23 20:40:21,303:DEBUG:orig_ts_db_matches = 0, analysis_ts_db_matches = 3\n",
      "2021-01-23 20:40:21,308:DEBUG:Returning entry with length 3 result\n",
      "2021-01-23 20:40:21,309:INFO:After reading data, returning 3 trips\n",
      "2021-01-23 20:40:21,310:DEBUG:len(data) is 3\n",
      "2021-01-23 20:40:21,311:DEBUG:Considering trip Entry({'_id': ObjectId('600789ed3ac724165b16aeb3'), 'user_id': UUID('63c333d5-c4fa-4eec-a7ec-d088f3063ea8'), 'metadata': {'key': 'analysis/cleaned_trip', 'platform': 'server', 'write_ts': 1611106797.3094459, 'time_zone': 'America/Los_Angeles', 'write_local_dt': {'year': 2021, 'month': 1, 'day': 19, 'hour': 17, 'minute': 39, 'second': 57, 'weekday': 1, 'timezone': 'America/Los_Angeles'}, 'write_fmt_time': '2021-01-19T17:39:57.309446-08:00'}, 'data': {'source': 'DwellSegmentationTimeFilter', 'end_ts': 1440349144.081, 'end_local_dt': {'year': 2015, 'month': 8, 'day': 23, 'hour': 9, 'minute': 59, 'second': 4, 'weekday': 6, 'timezone': 'America/Los_Angeles'}, 'end_fmt_time': '2015-08-23T09:59:04.081000-07:00', 'end_loc': {'type': 'Point', 'coordinates': [-122.0437059, 37.3210843]}, 'raw_trip': ObjectId('600789ec3ac724165b16ae9b'), 'start_ts': 1440348354.303, 'start_local_dt': {'year': 2015, 'month': 8, 'day': 23, 'hour': 9, 'minute': 45, 'second': 54, 'weekday': 6, 'timezone': 'America/Los_Angeles'}, 'start_fmt_time': '2015-08-23T09:45:54.303000-07:00', 'start_loc': {'type': 'Point', 'coordinates': [-122.0868631, 37.390118]}, 'duration': 789.7780001163483, 'distance': 9360.855628145382, 'start_place': ObjectId('600789ed3ac724165b16af36'), 'end_place': ObjectId('600789ed3ac724165b16af37')}})\n",
      "2021-01-23 20:40:21,317:DEBUG:endpoints are = (-122.0868631, 37.390118) and (-122.0437059, 37.3210843)\n",
      "2021-01-23 20:40:21,318:DEBUG:Considering trip Entry({'_id': ObjectId('600789ed3ac724165b16aed2'), 'user_id': UUID('63c333d5-c4fa-4eec-a7ec-d088f3063ea8'), 'metadata': {'key': 'analysis/cleaned_trip', 'platform': 'server', 'write_ts': 1611106797.520614, 'time_zone': 'America/Los_Angeles', 'write_local_dt': {'year': 2021, 'month': 1, 'day': 19, 'hour': 17, 'minute': 39, 'second': 57, 'weekday': 1, 'timezone': 'America/Los_Angeles'}, 'write_fmt_time': '2021-01-19T17:39:57.520614-08:00'}, 'data': {'source': 'DwellSegmentationTimeFilter', 'end_ts': 1440355321.043, 'end_local_dt': {'year': 2015, 'month': 8, 'day': 23, 'hour': 11, 'minute': 42, 'second': 1, 'weekday': 6, 'timezone': 'America/Los_Angeles'}, 'end_fmt_time': '2015-08-23T11:42:01.043000-07:00', 'end_loc': {'type': 'Point', 'coordinates': [-122.0440361, 37.3206362]}, 'raw_trip': ObjectId('600789ec3ac724165b16ae9d'), 'start_ts': 1440354611.6317801, 'start_local_dt': {'year': 2015, 'month': 8, 'day': 23, 'hour': 11, 'minute': 30, 'second': 11, 'weekday': 6, 'timezone': 'America/Los_Angeles'}, 'start_fmt_time': '2015-08-23T11:30:11.631780-07:00', 'start_loc': {'type': 'Point', 'coordinates': [-122.0437059, 37.3210843]}, 'duration': 709.4112198352814, 'distance': 318.6786980121866, 'start_place': ObjectId('600789ed3ac724165b16af37'), 'end_place': ObjectId('600789ed3ac724165b16af38')}})\n",
      "2021-01-23 20:40:21,323:DEBUG:endpoints are = (-122.0437059, 37.3210843) and (-122.0440361, 37.3206362)\n",
      "2021-01-23 20:40:21,323:DEBUG:After removing trips that are points, there are 2 data points\n",
      "2021-01-23 20:40:21,324:DEBUG:number of bins before filtering: 2\n",
      "2021-01-23 20:40:21,326:DEBUG:the new number of trips is 0\n",
      "2021-01-23 20:40:21,327:DEBUG:the cutoff point is 0\n",
      "2021-01-23 20:40:21,328:DEBUG:number of bins after filtering: 0\n",
      "2021-01-23 20:40:21,330:DEBUG:min_clusters = 0, max_clusters = 0, len(self.points) = 2\n",
      "2021-01-23 20:40:21,331:DEBUG:min_clusters < 2, setting min_clusters = 2\n",
      "Must have at least 2 clusters\n",
      "2021-01-23 20:40:21,332:DEBUG:max_clusters >= len(self.points), setting max_clusters = 1\n",
      "2021-01-23 20:40:21,332:DEBUG:Got ValueError Please provide a valid range of cluster sizes while creating tour model, skipping it...\n",
      "2021-01-23 20:40:21,333:INFO:**********UUID 9052e86a-69b9-478a-9cba-c05a58565ab2: finding common trips**********\n",
      "2021-01-23 20:40:21,333:DEBUG:for user 9052e86a-69b9-478a-9cba-c05a58565ab2, returning timeseries <emission.storage.timeseries.builtin_timeseries.BuiltinTimeSeries object at 0x7fe3c654efd0>\n",
      "2021-01-23 20:40:21,334:DEBUG:curr_query = {'user_id': UUID('9052e86a-69b9-478a-9cba-c05a58565ab2'), '$or': [{'metadata.key': 'analysis/cleaned_trip'}]}, sort_key = metadata.write_ts\n",
      "2021-01-23 20:40:21,335:DEBUG:orig_ts_db_keys = [], analysis_ts_db_keys = ['analysis/cleaned_trip']\n",
      "2021-01-23 20:40:21,335:DEBUG:finished querying values for [], count = 0\n",
      "2021-01-23 20:40:21,339:DEBUG:finished querying values for ['analysis/cleaned_trip'], count = 5\n",
      "2021-01-23 20:40:21,340:DEBUG:orig_ts_db_matches = 0, analysis_ts_db_matches = 5\n",
      "2021-01-23 20:40:21,346:DEBUG:Returning entry with length 5 result\n",
      "2021-01-23 20:40:21,347:INFO:After reading data, returning 5 trips\n",
      "2021-01-23 20:40:21,348:DEBUG:len(data) is 5\n",
      "2021-01-23 20:40:21,348:DEBUG:Considering trip Entry({'_id': ObjectId('600789926dca7b49095591d6'), 'user_id': UUID('9052e86a-69b9-478a-9cba-c05a58565ab2'), 'metadata': {'key': 'analysis/cleaned_trip', 'platform': 'server', 'write_ts': 1611106706.3871949, 'time_zone': 'America/Los_Angeles', 'write_local_dt': {'year': 2021, 'month': 1, 'day': 19, 'hour': 17, 'minute': 38, 'second': 26, 'weekday': 1, 'timezone': 'America/Los_Angeles'}, 'write_fmt_time': '2021-01-19T17:38:26.387195-08:00'}, 'data': {'source': 'DwellSegmentationTimeFilter', 'end_ts': 1440169080.326, 'end_local_dt': {'year': 2015, 'month': 8, 'day': 21, 'hour': 7, 'minute': 58, 'second': 0, 'weekday': 4, 'timezone': 'America/Los_Angeles'}, 'end_fmt_time': '2015-08-21T07:58:00.326000-07:00', 'end_loc': {'type': 'Point', 'coordinates': [-122.0770814, 37.3947974]}, 'raw_trip': ObjectId('600789916dca7b49095591a4'), 'start_ts': 1440168891.095, 'start_local_dt': {'year': 2015, 'month': 8, 'day': 21, 'hour': 7, 'minute': 54, 'second': 51, 'weekday': 4, 'timezone': 'America/Los_Angeles'}, 'start_fmt_time': '2015-08-21T07:54:51.095000-07:00', 'start_loc': {'type': 'Point', 'coordinates': [-122.0822358, 37.3926163]}, 'duration': 189.23099994659424, 'distance': 601.605978572294, 'start_place': ObjectId('600789936dca7b490955933a'), 'end_place': ObjectId('600789936dca7b490955933b')}})\n",
      "2021-01-23 20:40:21,354:DEBUG:endpoints are = (-122.0822358, 37.3926163) and (-81.7647791, 26.2236502)\n",
      "2021-01-23 20:40:21,354:DEBUG:Considering trip Entry({'_id': ObjectId('600789926dca7b49095591e1'), 'user_id': UUID('9052e86a-69b9-478a-9cba-c05a58565ab2'), 'metadata': {'key': 'analysis/cleaned_trip', 'platform': 'server', 'write_ts': 1611106706.581731, 'time_zone': 'America/Los_Angeles', 'write_local_dt': {'year': 2021, 'month': 1, 'day': 19, 'hour': 17, 'minute': 38, 'second': 26, 'weekday': 1, 'timezone': 'America/Los_Angeles'}, 'write_fmt_time': '2021-01-19T17:38:26.581731-08:00'}, 'data': {'source': 'DwellSegmentationTimeFilter', 'end_ts': 1440175802.937, 'end_local_dt': {'year': 2015, 'month': 8, 'day': 21, 'hour': 9, 'minute': 50, 'second': 2, 'weekday': 4, 'timezone': 'America/Los_Angeles'}, 'end_fmt_time': '2015-08-21T09:50:02.937000-07:00', 'end_loc': {'type': 'Point', 'coordinates': [-122.258812, 37.8751271]}, 'raw_trip': ObjectId('600789916dca7b49095591a6'), 'start_ts': 1440170208.085, 'start_local_dt': {'year': 2015, 'month': 8, 'day': 21, 'hour': 8, 'minute': 16, 'second': 48, 'weekday': 4, 'timezone': 'America/Los_Angeles'}, 'start_fmt_time': '2015-08-21T08:16:48.085000-07:00', 'start_loc': {'type': 'Point', 'coordinates': [-81.7647791, 26.2236502]}, 'duration': 5594.851999998093, 'distance': 4075906.2756567565, 'start_place': ObjectId('600789936dca7b490955933b'), 'end_place': ObjectId('600789936dca7b490955933c')}})\n"
     ]
    },
    {
     "name": "stderr",
     "output_type": "stream",
     "text": [
      "2021-01-23 20:40:21,360:DEBUG:endpoints are = (-81.7647791, 26.2236502) and (-122.258812, 37.8751271)\n",
      "2021-01-23 20:40:21,361:DEBUG:Considering trip Entry({'_id': ObjectId('600789926dca7b49095592a3'), 'user_id': UUID('9052e86a-69b9-478a-9cba-c05a58565ab2'), 'metadata': {'key': 'analysis/cleaned_trip', 'platform': 'server', 'write_ts': 1611106706.9555972, 'time_zone': 'America/Los_Angeles', 'write_local_dt': {'year': 2021, 'month': 1, 'day': 19, 'hour': 17, 'minute': 38, 'second': 26, 'weekday': 1, 'timezone': 'America/Los_Angeles'}, 'write_fmt_time': '2021-01-19T17:38:26.955597-08:00'}, 'data': {'source': 'DwellSegmentationTimeFilter', 'end_ts': 1440202477.681, 'end_local_dt': {'year': 2015, 'month': 8, 'day': 21, 'hour': 17, 'minute': 14, 'second': 37, 'weekday': 4, 'timezone': 'America/Los_Angeles'}, 'end_fmt_time': '2015-08-21T17:14:37.681000-07:00', 'end_loc': {'type': 'Point', 'coordinates': [-122.2615348, 37.8740219]}, 'raw_trip': ObjectId('600789916dca7b49095591a8'), 'start_ts': 1440202416.475, 'start_local_dt': {'year': 2015, 'month': 8, 'day': 21, 'hour': 17, 'minute': 13, 'second': 36, 'weekday': 4, 'timezone': 'America/Los_Angeles'}, 'start_fmt_time': '2015-08-21T17:13:36.475000-07:00', 'start_loc': {'type': 'Point', 'coordinates': [-122.2602255, 37.8750554]}, 'duration': 61.206000089645386, 'distance': 171.84009475201336, 'start_place': ObjectId('600789936dca7b490955933d'), 'end_place': ObjectId('600789936dca7b490955933e')}})\n",
      "2021-01-23 20:40:21,370:DEBUG:endpoints are = (-122.2602255, 37.8750554) and (-122.2615348, 37.8740219)\n",
      "2021-01-23 20:40:21,371:DEBUG:Considering trip Entry({'_id': ObjectId('600789936dca7b49095592b2'), 'user_id': UUID('9052e86a-69b9-478a-9cba-c05a58565ab2'), 'metadata': {'key': 'analysis/cleaned_trip', 'platform': 'server', 'write_ts': 1611106707.330719, 'time_zone': 'America/Los_Angeles', 'write_local_dt': {'year': 2021, 'month': 1, 'day': 19, 'hour': 17, 'minute': 38, 'second': 27, 'weekday': 1, 'timezone': 'America/Los_Angeles'}, 'write_fmt_time': '2021-01-19T17:38:27.330719-08:00'}, 'data': {'source': 'DwellSegmentationTimeFilter', 'end_ts': 1440209488.817, 'end_local_dt': {'year': 2015, 'month': 8, 'day': 21, 'hour': 19, 'minute': 11, 'second': 28, 'weekday': 4, 'timezone': 'America/Los_Angeles'}, 'end_fmt_time': '2015-08-21T19:11:28.817000-07:00', 'end_loc': {'type': 'Point', 'coordinates': [-122.0862011, 37.3910039]}, 'raw_trip': ObjectId('600789916dca7b49095591b0'), 'start_ts': 1440205576.905, 'start_local_dt': {'year': 2015, 'month': 8, 'day': 21, 'hour': 18, 'minute': 6, 'second': 16, 'weekday': 4, 'timezone': 'America/Los_Angeles'}, 'start_fmt_time': '2015-08-21T18:06:16.905000-07:00', 'start_loc': {'type': 'Point', 'coordinates': [-122.4426899, 37.7280596]}, 'duration': 3911.911999940872, 'distance': 55509.65087526851, 'start_place': ObjectId('600789936dca7b4909559341'), 'end_place': ObjectId('600789936dca7b4909559342')}})\n",
      "2021-01-23 20:40:21,376:DEBUG:endpoints are = (-122.4426899, 37.7280596) and (-122.0862011, 37.3910039)\n",
      "2021-01-23 20:40:21,377:DEBUG:After removing trips that are points, there are 4 data points\n",
      "2021-01-23 20:40:21,378:DEBUG:number of bins before filtering: 4\n",
      "2021-01-23 20:40:21,380:DEBUG:the new number of trips is 0\n",
      "2021-01-23 20:40:21,381:DEBUG:the cutoff point is 0\n",
      "2021-01-23 20:40:21,381:DEBUG:number of bins after filtering: 0\n",
      "2021-01-23 20:40:21,382:DEBUG:min_clusters = 0, max_clusters = 0, len(self.points) = 4\n",
      "2021-01-23 20:40:21,382:DEBUG:min_clusters < 2, setting min_clusters = 2\n",
      "Must have at least 2 clusters\n",
      "2021-01-23 20:40:21,408:DEBUG:number of clusters: 2\n",
      "2021-01-23 20:40:21,410:DEBUG:Considering cluster 0 = [Entry({'_id': ObjectId('600789926dca7b49095591d6'), 'user_id': UUID('9052e86a-69b9-478a-9cba-c05a58565ab2'), 'metadata': {'key': 'analysis/cleaned_trip', 'platform': 'server', 'write_ts': 1611106706.3871949, 'time_zone': 'America/Los_Angeles', 'write_local_dt': {'year': 2021, 'month': 1, 'day': 19, 'hour': 17, 'minute': 38, 'second': 26, 'weekday': 1, 'timezone': 'America/Los_Angeles'}, 'write_fmt_time': '2021-01-19T17:38:26.387195-08:00'}, 'data': {'source': 'DwellSegmentationTimeFilter', 'end_ts': 1440169080.326, 'end_local_dt': {'year': 2015, 'month': 8, 'day': 21, 'hour': 7, 'minute': 58, 'second': 0, 'weekday': 4, 'timezone': 'America/Los_Angeles'}, 'end_fmt_time': '2015-08-21T07:58:00.326000-07:00', 'end_loc': {'type': 'Point', 'coordinates': [-122.0770814, 37.3947974]}, 'raw_trip': ObjectId('600789916dca7b49095591a4'), 'start_ts': 1440168891.095, 'start_local_dt': {'year': 2015, 'month': 8, 'day': 21, 'hour': 7, 'minute': 54, 'second': 51, 'weekday': 4, 'timezone': 'America/Los_Angeles'}, 'start_fmt_time': '2015-08-21T07:54:51.095000-07:00', 'start_loc': {'type': 'Point', 'coordinates': [-122.0822358, 37.3926163]}, 'duration': 189.23099994659424, 'distance': 601.605978572294, 'start_place': ObjectId('600789936dca7b490955933a'), 'end_place': ObjectId('600789936dca7b490955933b')}}), Entry({'_id': ObjectId('600789936dca7b49095592aa'), 'user_id': UUID('9052e86a-69b9-478a-9cba-c05a58565ab2'), 'metadata': {'key': 'analysis/cleaned_trip', 'platform': 'server', 'write_ts': 1611106707.135865, 'time_zone': 'America/Los_Angeles', 'write_local_dt': {'year': 2021, 'month': 1, 'day': 19, 'hour': 17, 'minute': 38, 'second': 27, 'weekday': 1, 'timezone': 'America/Los_Angeles'}, 'write_fmt_time': '2021-01-19T17:38:27.135865-08:00'}, 'data': {'source': 'DwellSegmentationTimeFilter', 'end_ts': 1440204221.711, 'end_local_dt': {'year': 2015, 'month': 8, 'day': 21, 'hour': 17, 'minute': 43, 'second': 41, 'weekday': 4, 'timezone': 'America/Los_Angeles'}, 'end_fmt_time': '2015-08-21T17:43:41.711000-07:00', 'end_loc': {'type': 'Point', 'coordinates': [-122.2941049, 37.8047001]}, 'raw_trip': ObjectId('600789916dca7b49095591ac'), 'start_ts': 1440204131.497, 'start_local_dt': {'year': 2015, 'month': 8, 'day': 21, 'hour': 17, 'minute': 42, 'second': 11, 'weekday': 4, 'timezone': 'America/Los_Angeles'}, 'start_fmt_time': '2015-08-21T17:42:11.497000-07:00', 'start_loc': {'type': 'Point', 'coordinates': [-122.2818387, 37.8004691]}, 'duration': 90.21399998664856, 'distance': 1176.353349283932, 'start_place': ObjectId('600789936dca7b490955933f'), 'end_place': ObjectId('600789936dca7b4909559340')}}), Entry({'_id': ObjectId('600789936dca7b49095592b2'), 'user_id': UUID('9052e86a-69b9-478a-9cba-c05a58565ab2'), 'metadata': {'key': 'analysis/cleaned_trip', 'platform': 'server', 'write_ts': 1611106707.330719, 'time_zone': 'America/Los_Angeles', 'write_local_dt': {'year': 2021, 'month': 1, 'day': 19, 'hour': 17, 'minute': 38, 'second': 27, 'weekday': 1, 'timezone': 'America/Los_Angeles'}, 'write_fmt_time': '2021-01-19T17:38:27.330719-08:00'}, 'data': {'source': 'DwellSegmentationTimeFilter', 'end_ts': 1440209488.817, 'end_local_dt': {'year': 2015, 'month': 8, 'day': 21, 'hour': 19, 'minute': 11, 'second': 28, 'weekday': 4, 'timezone': 'America/Los_Angeles'}, 'end_fmt_time': '2015-08-21T19:11:28.817000-07:00', 'end_loc': {'type': 'Point', 'coordinates': [-122.0862011, 37.3910039]}, 'raw_trip': ObjectId('600789916dca7b49095591b0'), 'start_ts': 1440205576.905, 'start_local_dt': {'year': 2015, 'month': 8, 'day': 21, 'hour': 18, 'minute': 6, 'second': 16, 'weekday': 4, 'timezone': 'America/Los_Angeles'}, 'start_fmt_time': '2015-08-21T18:06:16.905000-07:00', 'start_loc': {'type': 'Point', 'coordinates': [-122.4426899, 37.7280596]}, 'duration': 3911.911999940872, 'distance': 55509.65087526851, 'start_place': ObjectId('600789936dca7b4909559341'), 'end_place': ObjectId('600789936dca7b4909559342')}})]\n",
      "2021-01-23 20:40:21,411:DEBUG:Consider point 0 = Entry({'_id': ObjectId('600789926dca7b49095591d6'), 'user_id': UUID('9052e86a-69b9-478a-9cba-c05a58565ab2'), 'metadata': {'key': 'analysis/cleaned_trip', 'platform': 'server', 'write_ts': 1611106706.3871949, 'time_zone': 'America/Los_Angeles', 'write_local_dt': {'year': 2021, 'month': 1, 'day': 19, 'hour': 17, 'minute': 38, 'second': 26, 'weekday': 1, 'timezone': 'America/Los_Angeles'}, 'write_fmt_time': '2021-01-19T17:38:26.387195-08:00'}, 'data': {'source': 'DwellSegmentationTimeFilter', 'end_ts': 1440169080.326, 'end_local_dt': {'year': 2015, 'month': 8, 'day': 21, 'hour': 7, 'minute': 58, 'second': 0, 'weekday': 4, 'timezone': 'America/Los_Angeles'}, 'end_fmt_time': '2015-08-21T07:58:00.326000-07:00', 'end_loc': {'type': 'Point', 'coordinates': [-122.0770814, 37.3947974]}, 'raw_trip': ObjectId('600789916dca7b49095591a4'), 'start_ts': 1440168891.095, 'start_local_dt': {'year': 2015, 'month': 8, 'day': 21, 'hour': 7, 'minute': 54, 'second': 51, 'weekday': 4, 'timezone': 'America/Los_Angeles'}, 'start_fmt_time': '2015-08-21T07:54:51.095000-07:00', 'start_loc': {'type': 'Point', 'coordinates': [-122.0822358, 37.3926163]}, 'duration': 189.23099994659424, 'distance': 601.605978572294, 'start_place': ObjectId('600789936dca7b490955933a'), 'end_place': ObjectId('600789936dca7b490955933b')}})\n"
     ]
    },
    {
     "name": "stderr",
     "output_type": "stream",
     "text": [
      "2021-01-23 20:40:21,418:DEBUG:in representatives, endpoints have len = 4\n",
      "2021-01-23 20:40:21,419:DEBUG:Consider point 1 = Entry({'_id': ObjectId('600789936dca7b49095592aa'), 'user_id': UUID('9052e86a-69b9-478a-9cba-c05a58565ab2'), 'metadata': {'key': 'analysis/cleaned_trip', 'platform': 'server', 'write_ts': 1611106707.135865, 'time_zone': 'America/Los_Angeles', 'write_local_dt': {'year': 2021, 'month': 1, 'day': 19, 'hour': 17, 'minute': 38, 'second': 27, 'weekday': 1, 'timezone': 'America/Los_Angeles'}, 'write_fmt_time': '2021-01-19T17:38:27.135865-08:00'}, 'data': {'source': 'DwellSegmentationTimeFilter', 'end_ts': 1440204221.711, 'end_local_dt': {'year': 2015, 'month': 8, 'day': 21, 'hour': 17, 'minute': 43, 'second': 41, 'weekday': 4, 'timezone': 'America/Los_Angeles'}, 'end_fmt_time': '2015-08-21T17:43:41.711000-07:00', 'end_loc': {'type': 'Point', 'coordinates': [-122.2941049, 37.8047001]}, 'raw_trip': ObjectId('600789916dca7b49095591ac'), 'start_ts': 1440204131.497, 'start_local_dt': {'year': 2015, 'month': 8, 'day': 21, 'hour': 17, 'minute': 42, 'second': 11, 'weekday': 4, 'timezone': 'America/Los_Angeles'}, 'start_fmt_time': '2015-08-21T17:42:11.497000-07:00', 'start_loc': {'type': 'Point', 'coordinates': [-122.2818387, 37.8004691]}, 'duration': 90.21399998664856, 'distance': 1176.353349283932, 'start_place': ObjectId('600789936dca7b490955933f'), 'end_place': ObjectId('600789936dca7b4909559340')}})\n",
      "2021-01-23 20:40:21,422:DEBUG:in representatives, endpoints have len = 4\n",
      "2021-01-23 20:40:21,423:DEBUG:Consider point 2 = Entry({'_id': ObjectId('600789936dca7b49095592b2'), 'user_id': UUID('9052e86a-69b9-478a-9cba-c05a58565ab2'), 'metadata': {'key': 'analysis/cleaned_trip', 'platform': 'server', 'write_ts': 1611106707.330719, 'time_zone': 'America/Los_Angeles', 'write_local_dt': {'year': 2021, 'month': 1, 'day': 19, 'hour': 17, 'minute': 38, 'second': 27, 'weekday': 1, 'timezone': 'America/Los_Angeles'}, 'write_fmt_time': '2021-01-19T17:38:27.330719-08:00'}, 'data': {'source': 'DwellSegmentationTimeFilter', 'end_ts': 1440209488.817, 'end_local_dt': {'year': 2015, 'month': 8, 'day': 21, 'hour': 19, 'minute': 11, 'second': 28, 'weekday': 4, 'timezone': 'America/Los_Angeles'}, 'end_fmt_time': '2015-08-21T19:11:28.817000-07:00', 'end_loc': {'type': 'Point', 'coordinates': [-122.0862011, 37.3910039]}, 'raw_trip': ObjectId('600789916dca7b49095591b0'), 'start_ts': 1440205576.905, 'start_local_dt': {'year': 2015, 'month': 8, 'day': 21, 'hour': 18, 'minute': 6, 'second': 16, 'weekday': 4, 'timezone': 'America/Los_Angeles'}, 'start_fmt_time': '2015-08-21T18:06:16.905000-07:00', 'start_loc': {'type': 'Point', 'coordinates': [-122.4426899, 37.7280596]}, 'duration': 3911.911999940872, 'distance': 55509.65087526851, 'start_place': ObjectId('600789936dca7b4909559341'), 'end_place': ObjectId('600789936dca7b4909559342')}})\n",
      "2021-01-23 20:40:21,428:DEBUG:in representatives, endpoints have len = 4\n",
      "2021-01-23 20:40:21,429:DEBUG:For cluster 0, centers are [  37.64038167 -122.26892147   33.8064514  -108.71502837]\n",
      "2021-01-23 20:40:21,432:DEBUG:Considering cluster 1 = [Entry({'_id': ObjectId('600789926dca7b49095591e1'), 'user_id': UUID('9052e86a-69b9-478a-9cba-c05a58565ab2'), 'metadata': {'key': 'analysis/cleaned_trip', 'platform': 'server', 'write_ts': 1611106706.581731, 'time_zone': 'America/Los_Angeles', 'write_local_dt': {'year': 2021, 'month': 1, 'day': 19, 'hour': 17, 'minute': 38, 'second': 26, 'weekday': 1, 'timezone': 'America/Los_Angeles'}, 'write_fmt_time': '2021-01-19T17:38:26.581731-08:00'}, 'data': {'source': 'DwellSegmentationTimeFilter', 'end_ts': 1440175802.937, 'end_local_dt': {'year': 2015, 'month': 8, 'day': 21, 'hour': 9, 'minute': 50, 'second': 2, 'weekday': 4, 'timezone': 'America/Los_Angeles'}, 'end_fmt_time': '2015-08-21T09:50:02.937000-07:00', 'end_loc': {'type': 'Point', 'coordinates': [-122.258812, 37.8751271]}, 'raw_trip': ObjectId('600789916dca7b49095591a6'), 'start_ts': 1440170208.085, 'start_local_dt': {'year': 2015, 'month': 8, 'day': 21, 'hour': 8, 'minute': 16, 'second': 48, 'weekday': 4, 'timezone': 'America/Los_Angeles'}, 'start_fmt_time': '2015-08-21T08:16:48.085000-07:00', 'start_loc': {'type': 'Point', 'coordinates': [-81.7647791, 26.2236502]}, 'duration': 5594.851999998093, 'distance': 4075906.2756567565, 'start_place': ObjectId('600789936dca7b490955933b'), 'end_place': ObjectId('600789936dca7b490955933c')}})]\n",
      "2021-01-23 20:40:21,433:DEBUG:Consider point 0 = Entry({'_id': ObjectId('600789926dca7b49095591e1'), 'user_id': UUID('9052e86a-69b9-478a-9cba-c05a58565ab2'), 'metadata': {'key': 'analysis/cleaned_trip', 'platform': 'server', 'write_ts': 1611106706.581731, 'time_zone': 'America/Los_Angeles', 'write_local_dt': {'year': 2021, 'month': 1, 'day': 19, 'hour': 17, 'minute': 38, 'second': 26, 'weekday': 1, 'timezone': 'America/Los_Angeles'}, 'write_fmt_time': '2021-01-19T17:38:26.581731-08:00'}, 'data': {'source': 'DwellSegmentationTimeFilter', 'end_ts': 1440175802.937, 'end_local_dt': {'year': 2015, 'month': 8, 'day': 21, 'hour': 9, 'minute': 50, 'second': 2, 'weekday': 4, 'timezone': 'America/Los_Angeles'}, 'end_fmt_time': '2015-08-21T09:50:02.937000-07:00', 'end_loc': {'type': 'Point', 'coordinates': [-122.258812, 37.8751271]}, 'raw_trip': ObjectId('600789916dca7b49095591a6'), 'start_ts': 1440170208.085, 'start_local_dt': {'year': 2015, 'month': 8, 'day': 21, 'hour': 8, 'minute': 16, 'second': 48, 'weekday': 4, 'timezone': 'America/Los_Angeles'}, 'start_fmt_time': '2015-08-21T08:16:48.085000-07:00', 'start_loc': {'type': 'Point', 'coordinates': [-81.7647791, 26.2236502]}, 'duration': 5594.851999998093, 'distance': 4075906.2756567565, 'start_place': ObjectId('600789936dca7b490955933b'), 'end_place': ObjectId('600789936dca7b490955933c')}})\n",
      "2021-01-23 20:40:21,438:DEBUG:in representatives, endpoints have len = 4\n",
      "2021-01-23 20:40:21,439:DEBUG:For cluster 1, centers are [  26.2236502  -81.7647791   37.8751271 -122.258812 ]\n",
      "2021-01-23 20:40:21,441:DEBUG:number of locations: 4\n",
      "2021-01-23 20:40:21,462:DEBUG:About to create places for 2 clusters\n",
      "2021-01-23 20:40:21,463:DEBUG:Current coords = {'sections': [Entry({'_id': ObjectId('600789926dca7b49095591d6'), 'user_id': UUID('9052e86a-69b9-478a-9cba-c05a58565ab2'), 'metadata': {'key': 'analysis/cleaned_trip', 'platform': 'server', 'write_ts': 1611106706.3871949, 'time_zone': 'America/Los_Angeles', 'write_local_dt': {'year': 2021, 'month': 1, 'day': 19, 'hour': 17, 'minute': 38, 'second': 26, 'weekday': 1, 'timezone': 'America/Los_Angeles'}, 'write_fmt_time': '2021-01-19T17:38:26.387195-08:00'}, 'data': {'source': 'DwellSegmentationTimeFilter', 'end_ts': 1440169080.326, 'end_local_dt': {'year': 2015, 'month': 8, 'day': 21, 'hour': 7, 'minute': 58, 'second': 0, 'weekday': 4, 'timezone': 'America/Los_Angeles'}, 'end_fmt_time': '2015-08-21T07:58:00.326000-07:00', 'end_loc': {'type': 'Point', 'coordinates': [-122.0770814, 37.3947974]}, 'raw_trip': ObjectId('600789916dca7b49095591a4'), 'start_ts': 1440168891.095, 'start_local_dt': {'year': 2015, 'month': 8, 'day': 21, 'hour': 7, 'minute': 54, 'second': 51, 'weekday': 4, 'timezone': 'America/Los_Angeles'}, 'start_fmt_time': '2015-08-21T07:54:51.095000-07:00', 'start_loc': {'type': 'Point', 'coordinates': [-122.0822358, 37.3926163]}, 'duration': 189.23099994659424, 'distance': 601.605978572294, 'start_place': ObjectId('600789936dca7b490955933a'), 'end_place': ObjectId('600789936dca7b490955933b')}}), Entry({'_id': ObjectId('600789936dca7b49095592aa'), 'user_id': UUID('9052e86a-69b9-478a-9cba-c05a58565ab2'), 'metadata': {'key': 'analysis/cleaned_trip', 'platform': 'server', 'write_ts': 1611106707.135865, 'time_zone': 'America/Los_Angeles', 'write_local_dt': {'year': 2021, 'month': 1, 'day': 19, 'hour': 17, 'minute': 38, 'second': 27, 'weekday': 1, 'timezone': 'America/Los_Angeles'}, 'write_fmt_time': '2021-01-19T17:38:27.135865-08:00'}, 'data': {'source': 'DwellSegmentationTimeFilter', 'end_ts': 1440204221.711, 'end_local_dt': {'year': 2015, 'month': 8, 'day': 21, 'hour': 17, 'minute': 43, 'second': 41, 'weekday': 4, 'timezone': 'America/Los_Angeles'}, 'end_fmt_time': '2015-08-21T17:43:41.711000-07:00', 'end_loc': {'type': 'Point', 'coordinates': [-122.2941049, 37.8047001]}, 'raw_trip': ObjectId('600789916dca7b49095591ac'), 'start_ts': 1440204131.497, 'start_local_dt': {'year': 2015, 'month': 8, 'day': 21, 'hour': 17, 'minute': 42, 'second': 11, 'weekday': 4, 'timezone': 'America/Los_Angeles'}, 'start_fmt_time': '2015-08-21T17:42:11.497000-07:00', 'start_loc': {'type': 'Point', 'coordinates': [-122.2818387, 37.8004691]}, 'duration': 90.21399998664856, 'distance': 1176.353349283932, 'start_place': ObjectId('600789936dca7b490955933f'), 'end_place': ObjectId('600789936dca7b4909559340')}}), Entry({'_id': ObjectId('600789936dca7b49095592b2'), 'user_id': UUID('9052e86a-69b9-478a-9cba-c05a58565ab2'), 'metadata': {'key': 'analysis/cleaned_trip', 'platform': 'server', 'write_ts': 1611106707.330719, 'time_zone': 'America/Los_Angeles', 'write_local_dt': {'year': 2021, 'month': 1, 'day': 19, 'hour': 17, 'minute': 38, 'second': 27, 'weekday': 1, 'timezone': 'America/Los_Angeles'}, 'write_fmt_time': '2021-01-19T17:38:27.330719-08:00'}, 'data': {'source': 'DwellSegmentationTimeFilter', 'end_ts': 1440209488.817, 'end_local_dt': {'year': 2015, 'month': 8, 'day': 21, 'hour': 19, 'minute': 11, 'second': 28, 'weekday': 4, 'timezone': 'America/Los_Angeles'}, 'end_fmt_time': '2015-08-21T19:11:28.817000-07:00', 'end_loc': {'type': 'Point', 'coordinates': [-122.0862011, 37.3910039]}, 'raw_trip': ObjectId('600789916dca7b49095591b0'), 'start_ts': 1440205576.905, 'start_local_dt': {'year': 2015, 'month': 8, 'day': 21, 'hour': 18, 'minute': 6, 'second': 16, 'weekday': 4, 'timezone': 'America/Los_Angeles'}, 'start_fmt_time': '2015-08-21T18:06:16.905000-07:00', 'start_loc': {'type': 'Point', 'coordinates': [-122.4426899, 37.7280596]}, 'duration': 3911.911999940872, 'distance': 55509.65087526851, 'start_place': ObjectId('600789936dca7b4909559341'), 'end_place': ObjectId('600789936dca7b4909559342')}})], 'start_places': [Cleanedplace({'source': 'DwellSegmentationTimeFilter', 'location': {'type': 'Point', 'coordinates': [-122.0822358, 37.3926163]}, 'raw_places': [ObjectId('600789916dca7b49095591a3'), ObjectId('600789916dca7b49095591a3')], 'starting_trip': ObjectId('600789926dca7b49095591d6'), 'exit_ts': 1440168891.095, 'exit_fmt_time': '2015-08-21T07:54:51.095000-07:00', 'exit_local_dt': {'year': 2015, 'month': 8, 'day': 21, 'hour': 7, 'minute': 54, 'second': 51, 'weekday': 4, 'timezone': 'America/Los_Angeles'}}), Cleanedplace({'source': 'DwellSegmentationTimeFilter', 'enter_ts': 1440204131.497, 'enter_local_dt': {'hour': 17, 'month': 8, 'second': 11, 'weekday': 4, 'year': 2015, 'timezone': 'America/Los_Angeles', 'day': 21, 'minute': 42}, 'enter_fmt_time': '2015-08-21T17:42:11.497000-07:00', 'location': {'type': 'Point', 'coordinates': [-122.2818387, 37.8004691]}, 'raw_places': [ObjectId('600789916dca7b49095591af'), ObjectId('600789916dca7b49095591af')], 'ending_trip': ObjectId('600789936dca7b49095592a9'), 'starting_trip': ObjectId('600789936dca7b49095592aa'), 'exit_ts': 1440204131.497, 'exit_fmt_time': '2015-08-21T17:42:11.497000-07:00', 'exit_local_dt': {'year': 2015, 'month': 8, 'day': 21, 'hour': 17, 'minute': 42, 'second': 11, 'weekday': 4, 'timezone': 'America/Los_Angeles'}, 'duration': 0.0}), Cleanedplace({'source': 'DwellSegmentationTimeFilter', 'enter_ts': 1440205576.905, 'enter_local_dt': {'hour': 18, 'month': 8, 'second': 16, 'weekday': 4, 'year': 2015, 'timezone': 'America/Los_Angeles', 'day': 21, 'minute': 6}, 'enter_fmt_time': '2015-08-21T18:06:16.905000-07:00', 'location': {'type': 'Point', 'coordinates': [-122.4426899, 37.7280596]}, 'raw_places': [ObjectId('600789916dca7b49095591b3'), ObjectId('600789916dca7b49095591b3')], 'ending_trip': ObjectId('600789936dca7b49095592b1'), 'starting_trip': ObjectId('600789936dca7b49095592b2'), 'exit_ts': 1440205576.905, 'exit_fmt_time': '2015-08-21T18:06:16.905000-07:00', 'exit_local_dt': {'year': 2015, 'month': 8, 'day': 21, 'hour': 18, 'minute': 6, 'second': 16, 'weekday': 4, 'timezone': 'America/Los_Angeles'}, 'duration': 0.0})], 'end_places': [Cleanedplace({'source': 'DwellSegmentationTimeFilter', 'enter_ts': 1440170028.085, 'enter_local_dt': {'hour': 8, 'month': 8, 'second': 48, 'weekday': 4, 'year': 2015, 'timezone': 'America/Los_Angeles', 'day': 21, 'minute': 13}, 'enter_fmt_time': '2015-08-21T08:13:48.085000-07:00', 'location': {'type': 'Point', 'coordinates': [-81.7647791, 26.2236502]}, 'raw_places': [ObjectId('600789916dca7b49095591a5'), ObjectId('600789916dca7b49095591a5')], 'ending_trip': ObjectId('600789926dca7b49095591d6'), 'starting_trip': ObjectId('600789926dca7b49095591e1'), 'exit_ts': 1440170208.085, 'exit_fmt_time': '2015-08-21T08:16:48.085000-07:00', 'exit_local_dt': {'year': 2015, 'month': 8, 'day': 21, 'hour': 8, 'minute': 16, 'second': 48, 'weekday': 4, 'timezone': 'America/Los_Angeles'}, 'duration': 180.0}), Cleanedplace({'source': 'DwellSegmentationTimeFilter', 'enter_ts': 1440204221.711, 'enter_local_dt': {'hour': 17, 'month': 8, 'second': 41, 'weekday': 4, 'year': 2015, 'timezone': 'America/Los_Angeles', 'day': 21, 'minute': 43}, 'enter_fmt_time': '2015-08-21T17:43:41.711000-07:00', 'location': {'type': 'Point', 'coordinates': [-122.2941049, 37.8047001]}, 'raw_places': [ObjectId('600789916dca7b49095591ad'), ObjectId('600789916dca7b49095591ad')], 'ending_trip': ObjectId('600789936dca7b49095592aa'), 'starting_trip': ObjectId('600789936dca7b49095592b1'), 'exit_ts': 1440204226.711, 'exit_fmt_time': '2015-08-21T17:43:41.711000-07:00', 'exit_local_dt': {'hour': 17, 'month': 8, 'second': 41, 'weekday': 4, 'year': 2015, 'timezone': 'America/Los_Angeles', 'day': 21, 'minute': 43}, 'duration': 5.0}), Cleanedplace({'source': 'DwellSegmentationTimeFilter', 'enter_ts': 1440209488.817, 'enter_local_dt': {'hour': 19, 'month': 8, 'second': 28, 'weekday': 4, 'year': 2015, 'timezone': 'America/Los_Angeles', 'day': 21, 'minute': 11}, 'enter_fmt_time': '2015-08-21T19:11:28.817000-07:00', 'location': {'type': 'Point', 'coordinates': [-122.0862011, 37.3910039]}, 'raw_places': [ObjectId('600789916dca7b49095591b1'), ObjectId('600789916dca7b49095591b1'), ObjectId('600789916dca7b49095591b5')], 'ending_trip': ObjectId('600789936dca7b49095592b2')})], 'start': 0, 'end': 1, 'start_coords': [-122.26892146666667, 37.64038166666666], 'end_coords': [-108.71502836666666, 33.8064514]}\n"
     ]
    },
    {
     "name": "stderr",
     "output_type": "stream",
     "text": [
      "2021-01-23 20:40:21,464:DEBUG:Current coords = {'sections': [Entry({'_id': ObjectId('600789926dca7b49095591e1'), 'user_id': UUID('9052e86a-69b9-478a-9cba-c05a58565ab2'), 'metadata': {'key': 'analysis/cleaned_trip', 'platform': 'server', 'write_ts': 1611106706.581731, 'time_zone': 'America/Los_Angeles', 'write_local_dt': {'year': 2021, 'month': 1, 'day': 19, 'hour': 17, 'minute': 38, 'second': 26, 'weekday': 1, 'timezone': 'America/Los_Angeles'}, 'write_fmt_time': '2021-01-19T17:38:26.581731-08:00'}, 'data': {'source': 'DwellSegmentationTimeFilter', 'end_ts': 1440175802.937, 'end_local_dt': {'year': 2015, 'month': 8, 'day': 21, 'hour': 9, 'minute': 50, 'second': 2, 'weekday': 4, 'timezone': 'America/Los_Angeles'}, 'end_fmt_time': '2015-08-21T09:50:02.937000-07:00', 'end_loc': {'type': 'Point', 'coordinates': [-122.258812, 37.8751271]}, 'raw_trip': ObjectId('600789916dca7b49095591a6'), 'start_ts': 1440170208.085, 'start_local_dt': {'year': 2015, 'month': 8, 'day': 21, 'hour': 8, 'minute': 16, 'second': 48, 'weekday': 4, 'timezone': 'America/Los_Angeles'}, 'start_fmt_time': '2015-08-21T08:16:48.085000-07:00', 'start_loc': {'type': 'Point', 'coordinates': [-81.7647791, 26.2236502]}, 'duration': 5594.851999998093, 'distance': 4075906.2756567565, 'start_place': ObjectId('600789936dca7b490955933b'), 'end_place': ObjectId('600789936dca7b490955933c')}})], 'start_places': [Cleanedplace({'source': 'DwellSegmentationTimeFilter', 'enter_ts': 1440170028.085, 'enter_local_dt': {'hour': 8, 'month': 8, 'second': 48, 'weekday': 4, 'year': 2015, 'timezone': 'America/Los_Angeles', 'day': 21, 'minute': 13}, 'enter_fmt_time': '2015-08-21T08:13:48.085000-07:00', 'location': {'type': 'Point', 'coordinates': [-81.7647791, 26.2236502]}, 'raw_places': [ObjectId('600789916dca7b49095591a5'), ObjectId('600789916dca7b49095591a5')], 'ending_trip': ObjectId('600789926dca7b49095591d6'), 'starting_trip': ObjectId('600789926dca7b49095591e1'), 'exit_ts': 1440170208.085, 'exit_fmt_time': '2015-08-21T08:16:48.085000-07:00', 'exit_local_dt': {'year': 2015, 'month': 8, 'day': 21, 'hour': 8, 'minute': 16, 'second': 48, 'weekday': 4, 'timezone': 'America/Los_Angeles'}, 'duration': 180.0})], 'end_places': [Cleanedplace({'source': 'DwellSegmentationTimeFilter', 'enter_ts': 1440175802.937, 'enter_local_dt': {'hour': 9, 'month': 8, 'second': 2, 'weekday': 4, 'year': 2015, 'timezone': 'America/Los_Angeles', 'day': 21, 'minute': 50}, 'enter_fmt_time': '2015-08-21T09:50:02.937000-07:00', 'location': {'type': 'Point', 'coordinates': [-122.258812, 37.8751271]}, 'raw_places': [ObjectId('600789916dca7b49095591a7'), ObjectId('600789916dca7b49095591a7')], 'ending_trip': ObjectId('600789926dca7b49095591e1'), 'starting_trip': ObjectId('600789926dca7b49095592a2'), 'exit_ts': 1440175807.937, 'exit_fmt_time': '2015-08-21T09:50:02.937000-07:00', 'exit_local_dt': {'hour': 9, 'month': 8, 'second': 2, 'weekday': 4, 'year': 2015, 'timezone': 'America/Los_Angeles', 'day': 21, 'minute': 50}, 'duration': 5.0})], 'start': 2, 'end': 3, 'start_coords': [-81.7647791, 26.2236502], 'end_coords': [-122.258812, 37.8751271]}\n",
      "2021-01-23 20:40:21,467:DEBUG:After creating map, number of places is 4\n",
      "2021-01-23 20:40:21,468:DEBUG:Adding 3 places for this place\n",
      "2021-01-23 20:40:21,471:DEBUG:Adding 3 places for this place\n",
      "2021-01-23 20:40:21,474:DEBUG:Adding 1 places for this place\n",
      "2021-01-23 20:40:21,478:DEBUG:Adding 1 places for this place\n",
      "2021-01-23 20:40:21,513:INFO:**********UUID bb4ff90c-ea1c-4977-b4c6-55dbcd3aa591: finding common trips**********\n",
      "2021-01-23 20:40:21,513:DEBUG:for user bb4ff90c-ea1c-4977-b4c6-55dbcd3aa591, returning timeseries <emission.storage.timeseries.builtin_timeseries.BuiltinTimeSeries object at 0x7fe3c62920d0>\n",
      "2021-01-23 20:40:21,514:DEBUG:curr_query = {'user_id': UUID('bb4ff90c-ea1c-4977-b4c6-55dbcd3aa591'), '$or': [{'metadata.key': 'analysis/cleaned_trip'}]}, sort_key = metadata.write_ts\n",
      "2021-01-23 20:40:21,514:DEBUG:orig_ts_db_keys = [], analysis_ts_db_keys = ['analysis/cleaned_trip']\n",
      "2021-01-23 20:40:21,515:DEBUG:finished querying values for [], count = 0\n",
      "2021-01-23 20:40:21,518:DEBUG:finished querying values for ['analysis/cleaned_trip'], count = 6\n",
      "2021-01-23 20:40:21,518:DEBUG:orig_ts_db_matches = 0, analysis_ts_db_matches = 6\n",
      "2021-01-23 20:40:21,526:DEBUG:Returning entry with length 6 result\n",
      "2021-01-23 20:40:21,526:INFO:After reading data, returning 6 trips\n",
      "2021-01-23 20:40:21,527:DEBUG:len(data) is 6\n",
      "2021-01-23 20:40:21,528:DEBUG:Considering trip Entry({'_id': ObjectId('600789aa93f6750a7eb07233'), 'user_id': UUID('bb4ff90c-ea1c-4977-b4c6-55dbcd3aa591'), 'metadata': {'key': 'analysis/cleaned_trip', 'platform': 'server', 'write_ts': 1611106730.869212, 'time_zone': 'America/Los_Angeles', 'write_local_dt': {'year': 2021, 'month': 1, 'day': 19, 'hour': 17, 'minute': 38, 'second': 50, 'weekday': 1, 'timezone': 'America/Los_Angeles'}, 'write_fmt_time': '2021-01-19T17:38:50.869212-08:00'}, 'data': {'source': 'DwellSegmentationTimeFilter', 'end_ts': 1437582214.517, 'end_local_dt': {'year': 2015, 'month': 7, 'day': 22, 'hour': 9, 'minute': 23, 'second': 34, 'weekday': 2, 'timezone': 'America/Los_Angeles'}, 'end_fmt_time': '2015-07-22T09:23:34.517000-07:00', 'end_loc': {'type': 'Point', 'coordinates': [-122.0820411, 37.3920436]}, 'raw_trip': ObjectId('600789a993f6750a7eb071e8'), 'start_ts': 1437578093.881, 'start_local_dt': {'year': 2015, 'month': 7, 'day': 22, 'hour': 8, 'minute': 14, 'second': 53, 'weekday': 2, 'timezone': 'America/Los_Angeles'}, 'start_fmt_time': '2015-07-22T08:14:53.881000-07:00', 'start_loc': {'type': 'Point', 'coordinates': [-122.0876886, 37.3887767]}, 'duration': 4120.635999917984, 'distance': 25699.69350532018, 'start_place': ObjectId('600789ad93f6750a7eb073f4'), 'end_place': ObjectId('600789ad93f6750a7eb073f5')}})\n",
      "2021-01-23 20:40:21,532:DEBUG:endpoints are = (-122.0876886, 37.3887767) and (-122.0820411, 37.3920436)\n",
      "2021-01-23 20:40:21,533:DEBUG:Considering trip Entry({'_id': ObjectId('600789ab93f6750a7eb072d2'), 'user_id': UUID('bb4ff90c-ea1c-4977-b4c6-55dbcd3aa591'), 'metadata': {'key': 'analysis/cleaned_trip', 'platform': 'server', 'write_ts': 1611106731.563093, 'time_zone': 'America/Los_Angeles', 'write_local_dt': {'year': 2021, 'month': 1, 'day': 19, 'hour': 17, 'minute': 38, 'second': 51, 'weekday': 1, 'timezone': 'America/Los_Angeles'}, 'write_fmt_time': '2021-01-19T17:38:51.563093-08:00'}, 'data': {'source': 'DwellSegmentationTimeFilter', 'end_ts': 1437582609.011, 'end_local_dt': {'year': 2015, 'month': 7, 'day': 22, 'hour': 9, 'minute': 30, 'second': 9, 'weekday': 2, 'timezone': 'America/Los_Angeles'}, 'end_fmt_time': '2015-07-22T09:30:09.011000-07:00', 'end_loc': {'type': 'Point', 'coordinates': [-122.0862974, 37.3908925]}, 'raw_trip': ObjectId('600789a993f6750a7eb071ea'), 'start_ts': 1437582315.494, 'start_local_dt': {'year': 2015, 'month': 7, 'day': 22, 'hour': 9, 'minute': 25, 'second': 15, 'weekday': 2, 'timezone': 'America/Los_Angeles'}, 'start_fmt_time': '2015-07-22T09:25:15.494000-07:00', 'start_loc': {'type': 'Point', 'coordinates': [-122.0820411, 37.3920436]}, 'duration': 293.5169999599457, 'distance': 447.80916982774124, 'start_place': ObjectId('600789ad93f6750a7eb073f5'), 'end_place': ObjectId('600789ad93f6750a7eb073f6')}})\n",
      "2021-01-23 20:40:21,539:DEBUG:endpoints are = (-122.0820411, 37.3920436) and (-122.0862974, 37.3908925)\n",
      "2021-01-23 20:40:21,540:DEBUG:Considering trip Entry({'_id': ObjectId('600789ab93f6750a7eb072e0'), 'user_id': UUID('bb4ff90c-ea1c-4977-b4c6-55dbcd3aa591'), 'metadata': {'key': 'analysis/cleaned_trip', 'platform': 'server', 'write_ts': 1611106731.817515, 'time_zone': 'America/Los_Angeles', 'write_local_dt': {'year': 2021, 'month': 1, 'day': 19, 'hour': 17, 'minute': 38, 'second': 51, 'weekday': 1, 'timezone': 'America/Los_Angeles'}, 'write_fmt_time': '2021-01-19T17:38:51.817515-08:00'}, 'data': {'source': 'DwellSegmentationTimeFilter', 'end_ts': 1437596572.41, 'end_local_dt': {'year': 2015, 'month': 7, 'day': 22, 'hour': 13, 'minute': 22, 'second': 52, 'weekday': 2, 'timezone': 'America/Los_Angeles'}, 'end_fmt_time': '2015-07-22T13:22:52.410000-07:00', 'end_loc': {'type': 'Point', 'coordinates': [-122.0801222, 37.3921316]}, 'raw_trip': ObjectId('600789a993f6750a7eb071ec'), 'start_ts': 1437596124.7422514, 'start_local_dt': {'year': 2015, 'month': 7, 'day': 22, 'hour': 13, 'minute': 15, 'second': 24, 'weekday': 2, 'timezone': 'America/Los_Angeles'}, 'start_fmt_time': '2015-07-22T13:15:24.742251-07:00', 'start_loc': {'type': 'Point', 'coordinates': [-122.0862974, 37.3908925]}, 'duration': 447.6677486896515, 'distance': 1023.5611990493823, 'start_place': ObjectId('600789ad93f6750a7eb073f6'), 'end_place': ObjectId('600789ad93f6750a7eb073f7')}})\n"
     ]
    },
    {
     "name": "stderr",
     "output_type": "stream",
     "text": [
      "2021-01-23 20:40:21,545:DEBUG:endpoints are = (-122.0862974, 37.3908925) and (-122.0801222, 37.3921316)\n",
      "2021-01-23 20:40:21,546:DEBUG:Considering trip Entry({'_id': ObjectId('600789ac93f6750a7eb072f3'), 'user_id': UUID('bb4ff90c-ea1c-4977-b4c6-55dbcd3aa591'), 'metadata': {'key': 'analysis/cleaned_trip', 'platform': 'server', 'write_ts': 1611106732.095027, 'time_zone': 'America/Los_Angeles', 'write_local_dt': {'year': 2021, 'month': 1, 'day': 19, 'hour': 17, 'minute': 38, 'second': 52, 'weekday': 1, 'timezone': 'America/Los_Angeles'}, 'write_fmt_time': '2021-01-19T17:38:52.095027-08:00'}, 'data': {'source': 'DwellSegmentationTimeFilter', 'end_ts': 1437598393.736, 'end_local_dt': {'year': 2015, 'month': 7, 'day': 22, 'hour': 13, 'minute': 53, 'second': 13, 'weekday': 2, 'timezone': 'America/Los_Angeles'}, 'end_fmt_time': '2015-07-22T13:53:13.736000-07:00', 'end_loc': {'type': 'Point', 'coordinates': [-122.1592342, 37.4438439]}, 'raw_trip': ObjectId('600789a993f6750a7eb071ee'), 'start_ts': 1437596745.1372657, 'start_local_dt': {'year': 2015, 'month': 7, 'day': 22, 'hour': 13, 'minute': 25, 'second': 45, 'weekday': 2, 'timezone': 'America/Los_Angeles'}, 'start_fmt_time': '2015-07-22T13:25:45.137266-07:00', 'start_loc': {'type': 'Point', 'coordinates': [-122.0801222, 37.3921316]}, 'duration': 1648.5987343788147, 'distance': 11834.680998250173, 'start_place': ObjectId('600789ad93f6750a7eb073f7'), 'end_place': ObjectId('600789ad93f6750a7eb073f8')}})\n",
      "2021-01-23 20:40:21,550:DEBUG:endpoints are = (-122.0801222, 37.3921316) and (-122.1592342, 37.4438439)\n",
      "2021-01-23 20:40:21,551:DEBUG:Considering trip Entry({'_id': ObjectId('600789ac93f6750a7eb0732e'), 'user_id': UUID('bb4ff90c-ea1c-4977-b4c6-55dbcd3aa591'), 'metadata': {'key': 'analysis/cleaned_trip', 'platform': 'server', 'write_ts': 1611106732.4476318, 'time_zone': 'America/Los_Angeles', 'write_local_dt': {'year': 2021, 'month': 1, 'day': 19, 'hour': 17, 'minute': 38, 'second': 52, 'weekday': 1, 'timezone': 'America/Los_Angeles'}, 'write_fmt_time': '2021-01-19T17:38:52.447632-08:00'}, 'data': {'source': 'DwellSegmentationTimeFilter', 'end_ts': 1437604764.546, 'end_local_dt': {'year': 2015, 'month': 7, 'day': 22, 'hour': 15, 'minute': 39, 'second': 24, 'weekday': 2, 'timezone': 'America/Los_Angeles'}, 'end_fmt_time': '2015-07-22T15:39:24.546000-07:00', 'end_loc': {'type': 'Point', 'coordinates': [-122.0823243, 37.3793178]}, 'raw_trip': ObjectId('600789a993f6750a7eb071f0'), 'start_ts': 1437601247.8459613, 'start_local_dt': {'year': 2015, 'month': 7, 'day': 22, 'hour': 14, 'minute': 40, 'second': 47, 'weekday': 2, 'timezone': 'America/Los_Angeles'}, 'start_fmt_time': '2015-07-22T14:40:47.845961-07:00', 'start_loc': {'type': 'Point', 'coordinates': [-122.1592342, 37.4438439]}, 'duration': 3516.7000386714935, 'distance': 16306.202193986588, 'start_place': ObjectId('600789ad93f6750a7eb073f8'), 'end_place': ObjectId('600789ad93f6750a7eb073f9')}})\n",
      "2021-01-23 20:40:21,556:DEBUG:endpoints are = (-122.1592342, 37.4438439) and (-122.0823243, 37.3793178)\n",
      "2021-01-23 20:40:21,557:DEBUG:Considering trip Entry({'_id': ObjectId('600789ad93f6750a7eb073b7'), 'user_id': UUID('bb4ff90c-ea1c-4977-b4c6-55dbcd3aa591'), 'metadata': {'key': 'analysis/cleaned_trip', 'platform': 'server', 'write_ts': 1611106733.049579, 'time_zone': 'America/Los_Angeles', 'write_local_dt': {'year': 2021, 'month': 1, 'day': 19, 'hour': 17, 'minute': 38, 'second': 53, 'weekday': 1, 'timezone': 'America/Los_Angeles'}, 'write_fmt_time': '2021-01-19T17:38:53.049579-08:00'}, 'data': {'source': 'DwellSegmentationTimeFilter', 'end_ts': 1437607732.997, 'end_local_dt': {'year': 2015, 'month': 7, 'day': 22, 'hour': 16, 'minute': 28, 'second': 52, 'weekday': 2, 'timezone': 'America/Los_Angeles'}, 'end_fmt_time': '2015-07-22T16:28:52.997000-07:00', 'end_loc': {'type': 'Point', 'coordinates': [-122.0862601, 37.3909372]}, 'raw_trip': ObjectId('600789a993f6750a7eb071f2'), 'start_ts': 1437606026.2955952, 'start_local_dt': {'year': 2015, 'month': 7, 'day': 22, 'hour': 16, 'minute': 0, 'second': 26, 'weekday': 2, 'timezone': 'America/Los_Angeles'}, 'start_fmt_time': '2015-07-22T16:00:26.295595-07:00', 'start_loc': {'type': 'Point', 'coordinates': [-122.0823243, 37.3793178]}, 'duration': 1706.7014048099518, 'distance': 2993.6277980039113, 'start_place': ObjectId('600789ad93f6750a7eb073f9'), 'end_place': ObjectId('600789ad93f6750a7eb073fa')}})\n",
      "2021-01-23 20:40:21,562:DEBUG:endpoints are = (-122.0823243, 37.3793178) and (-122.0862601, 37.3909372)\n",
      "2021-01-23 20:40:21,563:DEBUG:After removing trips that are points, there are 6 data points\n",
      "2021-01-23 20:40:21,564:DEBUG:number of bins before filtering: 5\n",
      "2021-01-23 20:40:21,565:DEBUG:the new number of trips is 2\n",
      "2021-01-23 20:40:21,566:DEBUG:the cutoff point is 1\n",
      "2021-01-23 20:40:21,566:DEBUG:number of bins after filtering: 1\n",
      "2021-01-23 20:40:21,567:DEBUG:min_clusters = 1, max_clusters = 2, len(self.points) = 2\n",
      "2021-01-23 20:40:21,568:DEBUG:min_clusters < 2, setting min_clusters = 2\n",
      "2021-01-23 20:40:21,568:DEBUG:max_clusters >= len(self.points), setting max_clusters = 1\n",
      "2021-01-23 20:40:21,568:DEBUG:Got ValueError Please provide a valid range of cluster sizes while creating tour model, skipping it...\n"
     ]
    }
   ],
   "source": [
    "logging.basicConfig(format='%(asctime)s:%(levelname)s:%(message)s',\n",
    "                    level=logging.DEBUG)\n",
    "\n",
    "long_term_uuid_list = esta.TimeSeries.get_uuid_list()\n",
    "logging.info(\"*\" * 10 + \"long term UUID list = %s\" % long_term_uuid_list)\n",
    "for uuid in long_term_uuid_list:\n",
    "    if uuid is None:\n",
    "        continue\n",
    "\n",
    "    logging.info(\"*\" * 10 + \"UUID %s: finding common trips\" % uuid + \"*\" * 10)\n",
    "    esdtmq.make_tour_model_from_raw_user_data(uuid)\n",
    "\n"
   ]
  },
  {
   "cell_type": "code",
   "execution_count": 17,
   "id": "republican-communications",
   "metadata": {},
   "outputs": [],
   "source": [
    "import emission.storage.decorations.common_place_queries as esdcpq"
   ]
  },
  {
   "cell_type": "code",
   "execution_count": 23,
   "id": "appropriate-appointment",
   "metadata": {
    "scrolled": true
   },
   "outputs": [
    {
     "data": {
      "text/plain": [
       "<pymongo.cursor.Cursor at 0x7fe3c6a54810>"
      ]
     },
     "execution_count": 23,
     "metadata": {},
     "output_type": "execute_result"
    }
   ],
   "source": [
    "place=esdcpq.get_all_common_places_for_user(long_term_uuid_list[0])\n",
    "place"
   ]
  },
  {
   "cell_type": "code",
   "execution_count": 24,
   "id": "veterinary-extra",
   "metadata": {},
   "outputs": [
    {
     "data": {
      "text/plain": [
       "UUID('63c333d5-c4fa-4eec-a7ec-d088f3063ea8')"
      ]
     },
     "execution_count": 24,
     "metadata": {},
     "output_type": "execute_result"
    }
   ],
   "source": [
    "long_term_uuid_list[0]"
   ]
  },
  {
   "cell_type": "code",
   "execution_count": 25,
   "id": "double-lying",
   "metadata": {
    "scrolled": false
   },
   "outputs": [
    {
     "ename": "SyntaxError",
     "evalue": "invalid character in identifier (<ipython-input-25-bdfbdffcc97f>, line 1)",
     "output_type": "error",
     "traceback": [
      "\u001b[0;36m  File \u001b[0;32m\"<ipython-input-25-bdfbdffcc97f>\"\u001b[0;36m, line \u001b[0;32m1\u001b[0m\n\u001b[0;31m    places = esdcpq.get_all_common_places_for_user（edb.get_timeseries_db().find_one({},{\"_id\":0, \"user_id\":1 }))\u001b[0m\n\u001b[0m                                                     ^\u001b[0m\n\u001b[0;31mSyntaxError\u001b[0m\u001b[0;31m:\u001b[0m invalid character in identifier\n"
     ]
    }
   ],
   "source": [
    "places = esdcpq.get_all_common_places_for_user（edb.get_timeseries_db().find_one({},{\"_id\":0, \"user_id\":1 }))"
   ]
  },
  {
   "cell_type": "code",
   "execution_count": 26,
   "id": "focused-applicant",
   "metadata": {},
   "outputs": [],
   "source": [
    "import emission.analysis.plotting.geojson.geojson_feature_converter as gfc\n",
    "import emission.analysis.plotting.leaflet_osm.our_plotter as lo"
   ]
  },
  {
   "cell_type": "code",
   "execution_count": 27,
   "id": "adult-shelter",
   "metadata": {},
   "outputs": [
    {
     "ename": "TypeError",
     "evalue": "index 'geometry' cannot be applied to Cursor instances",
     "output_type": "error",
     "traceback": [
      "\u001b[0;31m---------------------------------------------------------------------------\u001b[0m",
      "\u001b[0;31mTypeError\u001b[0m                                 Traceback (most recent call last)",
      "\u001b[0;32m<ipython-input-27-27ad158b92c0>\u001b[0m in \u001b[0;36m<module>\u001b[0;34m\u001b[0m\n\u001b[0;32m----> 1\u001b[0;31m \u001b[0mraw_place\u001b[0m \u001b[0;34m=\u001b[0m \u001b[0mlo\u001b[0m\u001b[0;34m.\u001b[0m\u001b[0mget_place_ui\u001b[0m\u001b[0;34m(\u001b[0m\u001b[0mplace\u001b[0m\u001b[0;34m)\u001b[0m\u001b[0;34m\u001b[0m\u001b[0;34m\u001b[0m\u001b[0m\n\u001b[0m",
      "\u001b[0;32m~/Desktop/e-mission-server/emission/analysis/plotting/leaflet_osm/our_plotter.py\u001b[0m in \u001b[0;36mget_place_ui\u001b[0;34m(place)\u001b[0m\n\u001b[1;32m    113\u001b[0m \u001b[0;34m\u001b[0m\u001b[0m\n\u001b[1;32m    114\u001b[0m \u001b[0;32mdef\u001b[0m \u001b[0mget_place_ui\u001b[0m\u001b[0;34m(\u001b[0m\u001b[0mplace\u001b[0m\u001b[0;34m)\u001b[0m\u001b[0;34m:\u001b[0m\u001b[0;34m\u001b[0m\u001b[0;34m\u001b[0m\u001b[0m\n\u001b[0;32m--> 115\u001b[0;31m     \u001b[0;32mreturn\u001b[0m \u001b[0mfolium\u001b[0m\u001b[0;34m.\u001b[0m\u001b[0mMarker\u001b[0m\u001b[0;34m(\u001b[0m\u001b[0mplace\u001b[0m\u001b[0;34m[\u001b[0m\u001b[0;34m\"geometry\"\u001b[0m\u001b[0;34m]\u001b[0m\u001b[0;34m[\u001b[0m\u001b[0;34m\"coordinates\"\u001b[0m\u001b[0;34m]\u001b[0m\u001b[0;34m[\u001b[0m\u001b[0;34m:\u001b[0m\u001b[0;34m:\u001b[0m\u001b[0;34m-\u001b[0m\u001b[0;36m1\u001b[0m\u001b[0;34m]\u001b[0m\u001b[0;34m,\u001b[0m \u001b[0mpopup\u001b[0m\u001b[0;34m=\u001b[0m\u001b[0mbju\u001b[0m\u001b[0;34m.\u001b[0m\u001b[0mdumps\u001b[0m\u001b[0;34m(\u001b[0m\u001b[0mplace\u001b[0m\u001b[0;34m[\u001b[0m\u001b[0;34m\"properties\"\u001b[0m\u001b[0;34m]\u001b[0m\u001b[0;34m)\u001b[0m\u001b[0;34m)\u001b[0m\u001b[0;34m\u001b[0m\u001b[0;34m\u001b[0m\u001b[0m\n\u001b[0m\u001b[1;32m    116\u001b[0m \u001b[0;34m\u001b[0m\u001b[0m\n\u001b[1;32m    117\u001b[0m \u001b[0;32mdef\u001b[0m \u001b[0mget_section_ui\u001b[0m\u001b[0;34m(\u001b[0m\u001b[0msection\u001b[0m\u001b[0;34m)\u001b[0m\u001b[0;34m:\u001b[0m\u001b[0;34m\u001b[0m\u001b[0;34m\u001b[0m\u001b[0m\n",
      "\u001b[0;32m~/miniconda-4.8.3/envs/emission/lib/python3.7/site-packages/pymongo/cursor.py\u001b[0m in \u001b[0;36m__getitem__\u001b[0;34m(self, index)\u001b[0m\n\u001b[1;32m    649\u001b[0m             \u001b[0;32mraise\u001b[0m \u001b[0mIndexError\u001b[0m\u001b[0;34m(\u001b[0m\u001b[0;34m\"no such item for Cursor instance\"\u001b[0m\u001b[0;34m)\u001b[0m\u001b[0;34m\u001b[0m\u001b[0;34m\u001b[0m\u001b[0m\n\u001b[1;32m    650\u001b[0m         raise TypeError(\"index %r cannot be applied to Cursor \"\n\u001b[0;32m--> 651\u001b[0;31m                         \"instances\" % index)\n\u001b[0m\u001b[1;32m    652\u001b[0m \u001b[0;34m\u001b[0m\u001b[0m\n\u001b[1;32m    653\u001b[0m     \u001b[0;32mdef\u001b[0m \u001b[0mmax_scan\u001b[0m\u001b[0;34m(\u001b[0m\u001b[0mself\u001b[0m\u001b[0;34m,\u001b[0m \u001b[0mmax_scan\u001b[0m\u001b[0;34m)\u001b[0m\u001b[0;34m:\u001b[0m\u001b[0;34m\u001b[0m\u001b[0;34m\u001b[0m\u001b[0m\n",
      "\u001b[0;31mTypeError\u001b[0m: index 'geometry' cannot be applied to Cursor instances"
     ]
    }
   ],
   "source": [
    "raw_place = lo.get_place_ui(place)"
   ]
  },
  {
   "cell_type": "code",
   "execution_count": null,
   "id": "subtle-issue",
   "metadata": {},
   "outputs": [],
   "source": []
  }
 ],
 "metadata": {
  "kernelspec": {
   "display_name": "Python 3",
   "language": "python",
   "name": "python3"
  },
  "language_info": {
   "codemirror_mode": {
    "name": "ipython",
    "version": 3
   },
   "file_extension": ".py",
   "mimetype": "text/x-python",
   "name": "python",
   "nbconvert_exporter": "python",
   "pygments_lexer": "ipython3",
   "version": "3.7.9"
  }
 },
 "nbformat": 4,
 "nbformat_minor": 5
}
