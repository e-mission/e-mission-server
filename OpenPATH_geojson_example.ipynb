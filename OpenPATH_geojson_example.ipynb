{
 "cells": [
  {
   "cell_type": "markdown",
   "id": "ac9142cb",
   "metadata": {},
   "source": [
    "## Example of how to work with the geojson data\n",
    "\n",
    "This has been tested with the following configuration:\n",
    "\n",
    "```\n",
    "- branca=0.4.1\n",
    "- folium=0.11.0\n",
    "- ipython=7.17.0\n",
    "- jupyter=1.0.0\n",
    "- pandas=1.1.0\n",
    "```\n",
    "\n",
    "An easy approach to set all the dependencies is:\n",
    "- use the `setup/environment36.yml` and `setup/environment36.notebook.additions.yml` in https://github.com/e-mission/e-mission-server/, OR\n",
    "- set the `EMISSION_SERVER_HOME` environment variable and then run:\n",
    "   - `bash setup.sh`\n",
    "   - `source activate.sh`\n",
    "   - `./em-jupyter-notebook.sh`"
   ]
  },
  {
   "cell_type": "code",
   "execution_count": null,
   "id": "8e1f1afc",
   "metadata": {},
   "outputs": [],
   "source": [
    "import folium\n",
    "import json\n",
    "import gzip"
   ]
  },
  {
   "cell_type": "code",
   "execution_count": null,
   "id": "ed9c1173",
   "metadata": {},
   "outputs": [],
   "source": [
    "print(\"folium %s\" % folium.__version__)\n",
    "print(\"json %s\" % json.__version__)"
   ]
  },
  {
   "cell_type": "markdown",
   "id": "d79bdd05",
   "metadata": {},
   "source": [
    "### Pick a user to work with\n",
    "\n",
    "We are starting with user with ID `3f067105-255e-4b0c-a1ba-b377fee7ef16`. You need to adjust the file path below to the location where you have unzipped the data"
   ]
  },
  {
   "cell_type": "code",
   "execution_count": null,
   "id": "c240639e",
   "metadata": {},
   "outputs": [],
   "source": [
    "TEST_FILE = \"/tmp/gj__3f067105-255e-4b0c-a1ba-b377fee7ef16.gz\""
   ]
  },
  {
   "cell_type": "markdown",
   "id": "73dc0e26",
   "metadata": {},
   "source": [
    "### Visualize their data\n",
    "\n",
    "The markers are the start and end locations of trips and the lines are the trip trajectories.\n",
    "Note that:\n",
    "- the start of many trips is a straight line instead of a trajectory because of latency in detecting trip start. We join the previous trip end to the first point detected in the new trip but that is a straight line.\n",
    "- for small trips (2-3 blocks) this means that the trajectory is a straight line"
   ]
  },
  {
   "cell_type": "code",
   "execution_count": null,
   "id": "a0beb0ac",
   "metadata": {},
   "outputs": [],
   "source": [
    "m = folium.Map()\n",
    "gj = json.load(gzip.open(TEST_FILE))\n",
    "m.add_child(folium.GeoJson({\"type\": \"FeatureCollection\", \"features\": gj}))"
   ]
  },
  {
   "cell_type": "markdown",
   "id": "0d61ad5d",
   "metadata": {},
   "source": [
    "### Get their trip information"
   ]
  },
  {
   "cell_type": "code",
   "execution_count": null,
   "id": "7e28ce56",
   "metadata": {},
   "outputs": [],
   "source": [
    "import pandas as pd\n",
    "print (pd.__version__)"
   ]
  },
  {
   "cell_type": "code",
   "execution_count": null,
   "id": "ab7f33ee",
   "metadata": {},
   "outputs": [],
   "source": [
    "trip_df = pd.DataFrame(trip[\"properties\"] for trip in gj)"
   ]
  },
  {
   "cell_type": "code",
   "execution_count": null,
   "id": "5f4eeafd",
   "metadata": {},
   "outputs": [],
   "source": [
    "trip_df.columns"
   ]
  },
  {
   "cell_type": "code",
   "execution_count": null,
   "id": "cd661cdf",
   "metadata": {},
   "outputs": [],
   "source": [
    "trip_df[[\"start_fmt_time\", \"end_fmt_time\", \"start_loc\", \"end_loc\"]]"
   ]
  },
  {
   "cell_type": "markdown",
   "id": "de546e9f",
   "metadata": {},
   "source": [
    "### Including user labels"
   ]
  },
  {
   "cell_type": "code",
   "execution_count": null,
   "id": "fb9d510a",
   "metadata": {},
   "outputs": [],
   "source": [
    "expanded_trip_df = pd.json_normalize(gj)"
   ]
  },
  {
   "cell_type": "code",
   "execution_count": null,
   "id": "ca1adfce",
   "metadata": {},
   "outputs": [],
   "source": [
    "expanded_trip_df.columns"
   ]
  },
  {
   "cell_type": "code",
   "execution_count": null,
   "id": "92a98604",
   "metadata": {},
   "outputs": [],
   "source": [
    "expanded_trip_df[[\"properties.distance\", \"properties.duration\", \"properties.user_input.mode_confirm\", \"properties.user_input.purpose_confirm\"]]"
   ]
  },
  {
   "cell_type": "markdown",
   "id": "7c73400f",
   "metadata": {},
   "source": [
    "### The trip information can be filtered by mode\n",
    "\n",
    "To focus on e-bike trips, for example"
   ]
  },
  {
   "cell_type": "code",
   "execution_count": null,
   "id": "4180217a",
   "metadata": {},
   "outputs": [],
   "source": [
    "expanded_trip_df[expanded_trip_df[\"properties.user_input.mode_confirm\"] == \"pilot_ebike\"][[\"properties.distance\", \"properties.duration\", \"properties.user_input.purpose_confirm\", \"properties.user_input.replaced_mode\"]].head()"
   ]
  },
  {
   "cell_type": "markdown",
   "id": "0e5b81d5",
   "metadata": {},
   "source": [
    "### Using the trip \"label assist\"\n",
    "\n",
    "Note that the trip labeling can taper off after a few months. This is very heterogenous - there are users who are still labeling trips and users who stopped after one month. NREL has added functionality to guess labels based on prior labels - the \"label assist\" feature.\n",
    "\n",
    "We basically cluster the existing trips into groups based on start and end points, and then look at the distribution of labels in the cluster. \n",
    "\n",
    "You could choose to use those labels instead of writing your own clustering algorithms. "
   ]
  },
  {
   "cell_type": "code",
   "execution_count": null,
   "id": "c902156b",
   "metadata": {},
   "outputs": [],
   "source": [
    "for idx, inferred_labels in expanded_trip_df[pd.isna(expanded_trip_df[\"properties.user_input.mode_confirm\"])][\"properties.inferred_labels\"].iteritems():\n",
    "    if len(inferred_labels) > 0:\n",
    "        top_inference = pd.DataFrame(inferred_labels).loc[pd.DataFrame(inferred_labels).p.argmax()]\n",
    "        print(idx, \"TOP_INFERENCE = %s with probability %s\" % (top_inference[\"labels\"], top_inference[\"p\"]))\n",
    "    else:\n",
    "        print(idx, \"NO INFERENCES\")"
   ]
  },
  {
   "cell_type": "code",
   "execution_count": null,
   "id": "bb865569",
   "metadata": {},
   "outputs": [],
   "source": []
  },
  {
   "cell_type": "code",
   "execution_count": null,
   "id": "18d8b5ab",
   "metadata": {},
   "outputs": [],
   "source": []
  },
  {
   "cell_type": "code",
   "execution_count": null,
   "id": "e6aba1ff",
   "metadata": {},
   "outputs": [],
   "source": []
  }
 ],
 "metadata": {
  "kernelspec": {
   "display_name": "Python 3",
   "language": "python",
   "name": "python3"
  },
  "language_info": {
   "codemirror_mode": {
    "name": "ipython",
    "version": 3
   },
   "file_extension": ".py",
   "mimetype": "text/x-python",
   "name": "python",
   "nbconvert_exporter": "python",
   "pygments_lexer": "ipython3",
   "version": "3.7.9"
  }
 },
 "nbformat": 4,
 "nbformat_minor": 5
}
