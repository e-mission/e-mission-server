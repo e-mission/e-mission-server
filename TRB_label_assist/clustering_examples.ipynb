{
    "cells": [
        {
            "cell_type": "markdown",
            "metadata": {},
            "source": [
                "This notebook generates figures that demonstrate the clustering algorithms at various distance thresholds. "
            ]
        },
        {
            "cell_type": "markdown",
            "metadata": {},
            "source": [
                "### imports"
            ]
        },
        {
            "cell_type": "code",
            "execution_count": null,
            "metadata": {},
            "outputs": [],
            "source": [
                "%load_ext autoreload\n",
                "%autoreload 2\n",
                "\n",
                "from uuid import UUID\n",
                "\n",
                "import emission.storage.timeseries.abstract_timeseries as esta\n",
                "import emission.storage.decorations.trip_queries as esdtq\n",
                "import emission.core.get_database as edb\n",
                "\n",
                "import mapping"
            ]
        },
        {
            "cell_type": "markdown",
            "metadata": {},
            "source": [
                "### load data"
            ]
        },
        {
            "cell_type": "code",
            "execution_count": null,
            "metadata": {},
            "outputs": [],
            "source": [
                "# Please contact the corresponding author for the uuids of the data used in the paper.\n",
                "suburban_uuid = UUID('PLACEHOLDER')\n",
                "college_campus_uuid = UUID('PLACEHOLDER')\n",
                "\n",
                "uuids = [suburban_uuid, college_campus_uuid]\n",
                "confirmed_trip_df_map = {}\n",
                "labeled_trip_df_map = {}\n",
                "expanded_trip_df_map = {}\n",
                "for u in uuids:\n",
                "    ts = esta.TimeSeries.get_time_series(u)\n",
                "    ct_df = ts.get_data_df(\"analysis/confirmed_trip\")\n",
                "    confirmed_trip_df_map[u] = ct_df\n",
                "    labeled_trip_df_map[u] = esdtq.filter_labeled_trips(ct_df)\n",
                "    expanded_trip_df_map[u] = esdtq.expand_userinputs(labeled_trip_df_map[u])"
            ]
        },
        {
            "cell_type": "markdown",
            "metadata": {},
            "source": [
                "### naive fixed-width clustering"
            ]
        },
        {
            "cell_type": "code",
            "execution_count": null,
            "metadata": {},
            "outputs": [],
            "source": [
                "fig = mapping.find_plot_clusters(expanded_trip_df_map[suburban_uuid],\n",
                "                                 alg='naive',\n",
                "                                 loc_type='end',\n",
                "                                 plot_unlabeled=False,\n",
                "                                 cluster_unlabeled=False,\n",
                "                                 radii=[50, 100, 150])\n",
                "fig"
            ]
        },
        {
            "cell_type": "code",
            "execution_count": null,
            "metadata": {},
            "outputs": [],
            "source": [
                "fig = mapping.find_plot_clusters(expanded_trip_df_map[college_campus_uuid],\n",
                "                                 alg='naive',\n",
                "                                 loc_type='end',\n",
                "                                 plot_unlabeled=False,\n",
                "                                 cluster_unlabeled=False,\n",
                "                                 radii=[50, 100, 150])\n",
                "fig"
            ]
        },
        {
            "cell_type": "markdown",
            "metadata": {},
            "source": [
                "### DBSCAN"
            ]
        },
        {
            "cell_type": "code",
            "execution_count": null,
            "metadata": {},
            "outputs": [],
            "source": [
                "fig = mapping.find_plot_clusters(expanded_trip_df_map[suburban_uuid],\n",
                "                                 alg='DBSCAN',\n",
                "                                 SVM=False,\n",
                "                                 loc_type='end',\n",
                "                                 plot_unlabeled=False,\n",
                "                                 cluster_unlabeled=False,\n",
                "                                 radii=[50, 100, 150, 200])\n",
                "fig"
            ]
        },
        {
            "cell_type": "code",
            "execution_count": null,
            "metadata": {},
            "outputs": [],
            "source": [
                "fig = mapping.find_plot_clusters(expanded_trip_df_map[college_campus_uuid],\n",
                "                                 alg='DBSCAN',\n",
                "                                 SVM=False,\n",
                "                                 loc_type='end',\n",
                "                                 plot_unlabeled=False,\n",
                "                                 cluster_unlabeled=False,\n",
                "                                 radii=[50, 100, 150, 200])\n",
                "fig"
            ]
        },
        {
            "cell_type": "markdown",
            "metadata": {},
            "source": [
                "### DBSCAN+SVM"
            ]
        },
        {
            "cell_type": "code",
            "execution_count": null,
            "metadata": {},
            "outputs": [],
            "source": [
                "fig = mapping.find_plot_clusters(expanded_trip_df_map[suburban_uuid],\n",
                "                                 alg='DBSCAN',\n",
                "                                 SVM=True,\n",
                "                                 loc_type='end',\n",
                "                                 plot_unlabeled=False,\n",
                "                                 cluster_unlabeled=False,\n",
                "                                 radii=[50, 100, 150, 200])\n",
                "fig"
            ]
        },
        {
            "cell_type": "code",
            "execution_count": null,
            "metadata": {},
            "outputs": [],
            "source": [
                "fig = mapping.find_plot_clusters(expanded_trip_df_map[college_campus_uuid],\n",
                "                                 alg='DBSCAN',\n",
                "                                 SVM=True,\n",
                "                                 loc_type='end',\n",
                "                                 plot_unlabeled=False,\n",
                "                                 cluster_unlabeled=False,\n",
                "                                 radii=[50, 100, 150, 200])\n",
                "fig"
            ]
        }
    ],
    "metadata": {
        "interpreter": {
            "hash": "39792147defedce75a7e3a68ae8b893956023a509c7f6b059d8d59165c20ef2c"
        },
        "kernelspec": {
            "display_name": "Python 3.7.12",
            "language": "python",
            "name": "python3"
        },
        "language_info": {
            "codemirror_mode": {
                "name": "ipython",
                "version": 3
            },
            "file_extension": ".py",
            "mimetype": "text/x-python",
            "name": "python",
            "nbconvert_exporter": "python",
            "pygments_lexer": "ipython3",
            "version": "3.7.12"
        },
        "orig_nbformat": 4
    },
    "nbformat": 4,
    "nbformat_minor": 2
}
