{
    "cells": [
        {
            "cell_type": "markdown",
            "metadata": {},
            "source": [
                "### imports"
            ]
        },
        {
            "cell_type": "code",
            "execution_count": null,
            "metadata": {},
            "outputs": [],
            "source": [
                "%load_ext autoreload\n",
                "%autoreload 2\n",
                "\n",
                "import pandas as pd\n",
                "import matplotlib.pyplot as plt\n",
                "\n",
                "import emission.storage.timeseries.abstract_timeseries as esta\n",
                "import emission.storage.decorations.trip_queries as esdtq\n",
                "import performance_eval\n",
                "import data_wrangling\n"
            ]
        },
        {
            "cell_type": "markdown",
            "metadata": {},
            "source": [
                "### load data"
            ]
        },
        {
            "cell_type": "code",
            "execution_count": null,
            "metadata": {},
            "outputs": [],
            "source": [
                "all_users = esta.TimeSeries.get_uuid_list()\n",
                "\n",
                "confirmed_trip_df_map = {}\n",
                "labeled_trip_df_map = {}\n",
                "expanded_labeled_trip_df_map = {}\n",
                "expanded_all_trip_df_map = {}\n",
                "for u in all_users:\n",
                "    ts = esta.TimeSeries.get_time_series(u)\n",
                "    ct_df = ts.get_data_df(\"analysis/confirmed_trip\")\n",
                "\n",
                "    confirmed_trip_df_map[u] = ct_df\n",
                "    labeled_trip_df_map[u] = esdtq.filter_labeled_trips(ct_df)\n",
                "    expanded_labeled_trip_df_map[u] = esdtq.expand_userinputs(\n",
                "        labeled_trip_df_map[u])\n",
                "    expanded_all_trip_df_map[u] = esdtq.expand_userinputs(\n",
                "        confirmed_trip_df_map[u])"
            ]
        },
        {
            "cell_type": "markdown",
            "metadata": {},
            "source": [
                "### run DBSCAN at varying distance thresholds"
            ]
        },
        {
            "cell_type": "code",
            "execution_count": null,
            "metadata": {},
            "outputs": [],
            "source": [
                "try:\n",
                "    all_results_df = pd.read_csv('DBSCAN_vary_distance_threshold.csv')\n",
                "except:\n",
                "    param_grid = {\n",
                "        'DBSCAN': {\n",
                "            'SVM': [False],\n",
                "            'min_samples': [1],\n",
                "            'gamma': [0.05],\n",
                "            'C': [1],\n",
                "            'size_thresh': [1],\n",
                "            'purity_thresh': [1],\n",
                "            # 'radii': [50, 100, 150]\n",
                "        },\n",
                "    }\n",
                "    radii = [50, 100, 150, 200]\n",
                "\n",
                "    all_results_df = performance_eval.run_eval_cluster_metrics(\n",
                "        expanded_labeled_trip_df_map,\n",
                "        user_list=all_users,\n",
                "        radii=radii,\n",
                "        loc_type='end',\n",
                "        algs=['DBSCAN'],\n",
                "        param_grid=param_grid,\n",
                "        n_iter=1,\n",
                "        random_state=42)\n",
                "\n",
                "    all_results_df = data_wrangling.expand_df_dict(all_results_df, 'params')\n",
                "    all_results_df.to_csv('DBSCAN_vary_distance_threshold.csv', index=False)"
            ]
        },
        {
            "cell_type": "markdown",
            "metadata": {},
            "source": [
                "### plot resulting cluster metrics"
            ]
        },
        {
            "cell_type": "code",
            "execution_count": null,
            "metadata": {},
            "outputs": [],
            "source": [
                "plt.style.use(\"default\")\n",
                "fig, axs = plt.subplots(1,\n",
                "                        3,\n",
                "                        figsize=(9, 4),\n",
                "                        gridspec_kw={'width_ratios': [4, 2, 2]})\n",
                "\n",
                "purities = []\n",
                "req_pcts = []\n",
                "\n",
                "radii = [50, 100, 150, 200]\n",
                "\n",
                "for i in range(len(radii)):\n",
                "    r = radii[i]\n",
                "    results = all_results_df.loc[all_results_df['radius'] == r]\n",
                "    hom = results.loc[:, 'homogeneity']\n",
                "    mod_hom = results.loc[:, 'modified_homogeneity']\n",
                "    purity = results.loc[:, 'purity']\n",
                "    req_pct = results.loc[:, 'n_clusters'] / results.loc[:, 'n_trips']\n",
                "    purities += [purity]\n",
                "    req_pcts += [req_pct]\n",
                "    axs[0].scatter(x=purity,\n",
                "                   y=req_pct,\n",
                "                   s=12,\n",
                "                   color=plt.cm.tab10(i),\n",
                "                   alpha=0.8,\n",
                "                   edgecolors='white',\n",
                "                   label=r)\n",
                "axs[0].set_aspect('equal', adjustable='box')\n",
                "axs[0].legend(title='Distance Threshold (m)')._legend_box.align = 'left'\n",
                "\n",
                "axs[0].set_ylabel('Request Percentage')\n",
                "axs[0].set_xlabel('Mean Cluster Purity by User')\n",
                "axs[0].set_xlim(-0.05, 1.05)\n",
                "axs[0].set_ylim(-0.05, 1.05)\n",
                "axs[1].set_ylim(-0.05, 1.05)\n",
                "axs[2].set_ylim(-0.05, 1.05)\n",
                "\n",
                "axs[1].boxplot(purities)\n",
                "axs[2].boxplot(req_pcts)\n",
                "\n",
                "axs[1].set_xticklabels(radii)\n",
                "axs[2].set_xticklabels(radii)\n",
                "\n",
                "axs[1].set_ylabel('Mean Cluster Purity by User')\n",
                "axs[2].set_ylabel('Request Percentage')\n",
                "\n",
                "axs[1].set_xlabel('Distance Threshold (m)')\n",
                "axs[2].set_xlabel('Distance Threshold (m)')\n",
                "\n",
                "# fig.suptitle('DBSCAN Cluster Quality Across All Users')\n",
                "plt.tight_layout()\n",
                "plt.show()\n"
            ]
        },
        {
            "cell_type": "code",
            "execution_count": null,
            "metadata": {},
            "outputs": [],
            "source": []
        }
    ],
    "metadata": {
        "interpreter": {
            "hash": "39792147defedce75a7e3a68ae8b893956023a509c7f6b059d8d59165c20ef2c"
        },
        "kernelspec": {
            "display_name": "Python 3.7.12",
            "language": "python",
            "name": "python3"
        },
        "language_info": {
            "codemirror_mode": {
                "name": "ipython",
                "version": 3
            },
            "file_extension": ".py",
            "mimetype": "text/x-python",
            "name": "python",
            "nbconvert_exporter": "python",
            "pygments_lexer": "ipython3",
            "version": "3.7.12"
        },
        "orig_nbformat": 4
    },
    "nbformat": 4,
    "nbformat_minor": 2
}
