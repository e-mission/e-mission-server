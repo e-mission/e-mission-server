{
    "cells": [
        {
            "attachments": {},
            "cell_type": "markdown",
            "metadata": {},
            "source": [
                "### imports\n"
            ]
        },
        {
            "cell_type": "code",
            "execution_count": null,
            "metadata": {},
            "outputs": [],
            "source": [
                "%load_ext autoreload\n",
                "%autoreload 2\n",
                "\n",
                "import pandas as pd\n",
                "import numpy as np\n",
                "from uuid import UUID\n",
                "\n",
                "import matplotlib.pyplot as plt\n",
                "\n",
                "import emission.storage.timeseries.abstract_timeseries as esta\n",
                "import emission.storage.decorations.trip_queries as esdtq\n",
                "\n",
                "from performance_eval import get_clf_metrics, cv_for_all_algs, PREDICTORS"
            ]
        },
        {
            "attachments": {},
            "cell_type": "markdown",
            "metadata": {},
            "source": [
                "### load data\n"
            ]
        },
        {
            "cell_type": "code",
            "execution_count": null,
            "metadata": {},
            "outputs": [],
            "source": [
                "all_users = esta.TimeSeries.get_uuid_list()\n",
                "confirmed_trip_df_map = {}\n",
                "labeled_trip_df_map = {}\n",
                "expanded_labeled_trip_df_map = {}\n",
                "expanded_all_trip_df_map = {}\n",
                "for u in all_users:\n",
                "    ts = esta.TimeSeries.get_time_series(u)\n",
                "    ct_df = ts.get_data_df(\"analysis/confirmed_trip\")\n",
                "\n",
                "    confirmed_trip_df_map[u] = ct_df\n",
                "    labeled_trip_df_map[u] = esdtq.filter_labeled_trips(ct_df)\n",
                "    expanded_labeled_trip_df_map[u] = esdtq.expand_userinputs(\n",
                "        labeled_trip_df_map[u])\n",
                "    expanded_all_trip_df_map[u] = esdtq.expand_userinputs(\n",
                "        confirmed_trip_df_map[u])"
            ]
        },
        {
            "attachments": {},
            "cell_type": "markdown",
            "metadata": {},
            "source": [
                "check how many labeled/unlabeled trips there are:\n"
            ]
        },
        {
            "cell_type": "code",
            "execution_count": null,
            "metadata": {},
            "outputs": [],
            "source": [
                "n_trips_df = pd.DataFrame(\n",
                "    [[u, len(confirmed_trip_df_map[u]),\n",
                "      len(labeled_trip_df_map[u])] for u in all_users],\n",
                "    columns=[\"user_id\", \"all_trips\", \"labeled_trips\"])\n",
                "\n",
                "all_trips = n_trips_df.all_trips.sum()\n",
                "labeled_trips = n_trips_df.labeled_trips.sum()\n",
                "unlabeled_trips = all_trips - labeled_trips\n",
                "print('{} ({:.2f}%) unlabeled, {} ({:.2f}%) labeled, {} total trips'.format(\n",
                "    unlabeled_trips, unlabeled_trips / all_trips, labeled_trips,\n",
                "    labeled_trips / all_trips, all_trips))\n",
                "\n",
                "n_users_too_few_trips = len(n_trips_df[n_trips_df.labeled_trips < 5])\n",
                "print(\n",
                "    '{}/{} ({:.2f}%) users have less than 5 labeled trips and cannot do cross-validation'\n",
                "    .format(n_users_too_few_trips, len(n_trips_df),\n",
                "            n_users_too_few_trips / len(n_trips_df)))"
            ]
        },
        {
            "attachments": {},
            "cell_type": "markdown",
            "metadata": {},
            "source": [
                "### evaluate performance in aggregate\n"
            ]
        },
        {
            "cell_type": "code",
            "execution_count": null,
            "metadata": {},
            "outputs": [],
            "source": [
                "# load in all runs\n",
                "model_names = list(PREDICTORS.keys())\n",
                "model_names = [\n",
                "    'random forests (O-D, destination clusters)',\n",
                "    'random forests (coordinates)'\n",
                "]\n",
                "cv_results = cv_for_all_algs(\n",
                "    uuid_list=all_users,\n",
                "    expanded_trip_df_map=expanded_labeled_trip_df_map,\n",
                "    model_names=model_names,\n",
                "    override_prior_runs=True,\n",
                "    raise_errors=False,\n",
                "    random_state=42,\n",
                ")\n"
            ]
        },
        {
            "cell_type": "code",
            "execution_count": null,
            "metadata": {},
            "outputs": [],
            "source": [
                "# store results for all models in a nice dataframe\n",
                "all_model_results = {\n",
                "    ('model_name', ''): [],\n",
                "    ('trips without prediction', 'purpose'): [],\n",
                "    ('trips without prediction', 'mode'): [],\n",
                "    ('trips without prediction', 'replaced'): [],\n",
                "    ('accuracy overall', 'purpose'): [],\n",
                "    ('accuracy overall', 'mode'): [],\n",
                "    ('accuracy overall', 'replaced'): [],\n",
                "    ('accuracy of trips w predictions', 'purpose'): [],\n",
                "    ('accuracy of trips w predictions', 'mode'): [],\n",
                "    ('accuracy of trips w predictions', 'replaced'): [],\n",
                "    ('f1 weighted', 'purpose'): [],\n",
                "    ('f1 weighted', 'mode'): [],\n",
                "    ('f1 weighted', 'replaced'): [],\n",
                "}\n",
                "\n",
                "for model_name in cv_results.keys():\n",
                "    print(f'now evaluating: {model_name}')\n",
                "    all_model_results[('model_name', '')] += [model_name]\n",
                "    for label_type in ['purpose', 'mode', 'replaced']:\n",
                "        # get results\n",
                "        results = get_clf_metrics(cv_results[model_name],\n",
                "                                  label_type,\n",
                "                                  keep_nopred=True,\n",
                "                                  ignore_custom=False)\n",
                "\n",
                "        # update our dict of aggregate results\n",
                "        all_model_results[('trips without prediction', label_type)] += [\n",
                "            results['n_trips_without_prediction']\n",
                "        ]\n",
                "        all_model_results[('accuracy overall',\n",
                "                           label_type)] += [results['accuracy']]\n",
                "        all_model_results[('accuracy of trips w predictions', label_type)] += [\n",
                "            results['accuracy'] * len(results['label_true']) /\n",
                "            (len(results['label_true']) - results['n_trips_without_prediction'])\n",
                "        ]\n",
                "        all_model_results[('f1 weighted',\n",
                "                           label_type)] += [results['weighted_f_score']]\n",
                "\n",
                "all_model_results_df = pd.DataFrame(all_model_results)\n",
                "all_model_results_df.to_csv('all_model_results.csv')"
            ]
        },
        {
            "cell_type": "code",
            "execution_count": null,
            "metadata": {},
            "outputs": [],
            "source": [
                "all_model_results_df.sort_values(by=[('accuracy overall', 'purpose')], axis=0)"
            ]
        }
    ],
    "metadata": {
        "kernelspec": {
            "display_name": "Python 3",
            "language": "python",
            "name": "python3"
        },
        "language_info": {
            "codemirror_mode": {
                "name": "ipython",
                "version": 3
            },
            "file_extension": ".py",
            "mimetype": "text/x-python",
            "name": "python",
            "nbconvert_exporter": "python",
            "pygments_lexer": "ipython3",
            "version": "3.9.6 (default, Sep 26 2022, 11:37:49) \n[Clang 14.0.0 (clang-1400.0.29.202)]"
        },
        "orig_nbformat": 4,
        "vscode": {
            "interpreter": {
                "hash": "5edc29c2ed010d6458d71a83433b383a96a8cbd3efe8531bc90c4b8a5b8bcec9"
            }
        }
    },
    "nbformat": 4,
    "nbformat_minor": 2
}
