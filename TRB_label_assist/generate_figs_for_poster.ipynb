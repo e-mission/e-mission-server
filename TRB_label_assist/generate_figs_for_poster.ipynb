{
    "cells": [
        {
            "attachments": {},
            "cell_type": "markdown",
            "metadata": {},
            "source": [
                "This notebook contains code to generate data/figures needed to finish the TRB poster."
            ]
        },
        {
            "cell_type": "markdown",
            "metadata": {},
            "source": [
                "### imports"
            ]
        },
        {
            "cell_type": "code",
            "execution_count": null,
            "metadata": {},
            "outputs": [
                {
                    "ename": "",
                    "evalue": "",
                    "output_type": "error",
                    "traceback": [
                        "\u001b[1;31mRunning cells with '/Library/Developer/CommandLineTools/usr/bin/python3' requires ipykernel package.\n",
                        "\u001b[1;31mRun the following command to install 'ipykernel' into the Python environment. \n",
                        "\u001b[1;31mCommand: '/Library/Developer/CommandLineTools/usr/bin/python3 -m pip install ipykernel -U --user --force-reinstall'"
                    ]
                }
            ],
            "source": [
                "%load_ext autoreload\n",
                "%autoreload 2\n",
                "\n",
                "from uuid import UUID\n",
                "\n",
                "import emission.storage.timeseries.abstract_timeseries as esta\n",
                "import emission.storage.decorations.trip_queries as esdtq\n",
                "import emission.core.get_database as edb\n",
                "\n",
                "import mapping"
            ]
        },
        {
            "cell_type": "markdown",
            "metadata": {},
            "source": [
                "### load data"
            ]
        },
        {
            "cell_type": "code",
            "execution_count": null,
            "metadata": {},
            "outputs": [],
            "source": [
                "# TODO: replace uuids\n",
                "shankari_uuid = UUID('PLACEHOLDER')\n",
                "tom_uuid = UUID('PLACEHOLDER')\n",
                "\n",
                "uuids = [shankari_uuid, tom_uuid]\n",
                "confirmed_trip_df_map = {}\n",
                "labeled_trip_df_map = {}\n",
                "expanded_trip_df_map = {}\n",
                "for u in uuids:\n",
                "    ts = esta.TimeSeries.get_time_series(u)\n",
                "    ct_df = ts.get_data_df(\"analysis/confirmed_trip\")\n",
                "    confirmed_trip_df_map[u] = ct_df\n",
                "    labeled_trip_df_map[u] = esdtq.filter_labeled_trips(ct_df)\n",
                "    expanded_trip_df_map[u] = esdtq.expand_userinputs(labeled_trip_df_map[u])"
            ]
        },
        {
            "attachments": {},
            "cell_type": "markdown",
            "metadata": {},
            "source": [
                "### naive fixed-width clustering from Tom's data"
            ]
        },
        {
            "cell_type": "code",
            "execution_count": null,
            "metadata": {},
            "outputs": [],
            "source": [
                "fig = mapping.find_plot_clusters(expanded_trip_df_map[tom_uuid],\n",
                "                                 alg='naive',\n",
                "                                 loc_type='end',\n",
                "                                 plot_unlabeled=False,\n",
                "                                 cluster_unlabeled=False,\n",
                "                                 radii=[50, 100])\n",
                "fig"
            ]
        },
        {
            "attachments": {},
            "cell_type": "markdown",
            "metadata": {},
            "source": [
                "### DBSCAN+SVM from shankari's data"
            ]
        },
        {
            "cell_type": "code",
            "execution_count": null,
            "metadata": {},
            "outputs": [
                {
                    "ename": "",
                    "evalue": "",
                    "output_type": "error",
                    "traceback": [
                        "\u001b[1;31mRunning cells with '/Library/Developer/CommandLineTools/usr/bin/python3' requires ipykernel package.\n",
                        "\u001b[1;31mRun the following command to install 'ipykernel' into the Python environment. \n",
                        "\u001b[1;31mCommand: '/Library/Developer/CommandLineTools/usr/bin/python3 -m pip install ipykernel -U --user --force-reinstall'"
                    ]
                }
            ],
            "source": [
                "fig = mapping.find_plot_clusters(expanded_trip_df_map[shankari_uuid],\n",
                "                                 alg='DBSCAN',\n",
                "                                 SVM=True,\n",
                "                                 loc_type='end',\n",
                "                                 plot_unlabeled=False,\n",
                "                                 cluster_unlabeled=False,\n",
                "                                 radii=[150])\n",
                "fig"
            ]
        }
    ],
    "metadata": {
        "kernelspec": {
            "display_name": "Python 3",
            "language": "python",
            "name": "python3"
        },
        "language_info": {
            "codemirror_mode": {
                "name": "ipython",
                "version": 3
            },
            "file_extension": ".py",
            "mimetype": "text/x-python",
            "name": "python",
            "nbconvert_exporter": "python",
            "pygments_lexer": "ipython3",
            "version": "3.9.6 (default, Sep 26 2022, 11:37:49) \n[Clang 14.0.0 (clang-1400.0.29.202)]"
        },
        "orig_nbformat": 4,
        "vscode": {
            "interpreter": {
                "hash": "5edc29c2ed010d6458d71a83433b383a96a8cbd3efe8531bc90c4b8a5b8bcec9"
            }
        }
    },
    "nbformat": 4,
    "nbformat_minor": 2
}
