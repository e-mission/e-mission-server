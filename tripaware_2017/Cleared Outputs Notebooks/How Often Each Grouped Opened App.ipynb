{
 "cells": [
  {
   "cell_type": "code",
   "execution_count": null,
   "metadata": {},
   "outputs": [],
   "source": [
    "import emission.storage.timeseries.aggregate_timeseries as estag\n",
    "import emission.storage.timeseries.timequery as estt\n",
    "import arrow\n",
    "import emission.core.get_database as edb\n",
    "from emission.core.wrapper.user import User\n",
    "import matplotlib.pyplot as plt\n",
    "import pandas as pd\n",
    "from scipy import stats\n",
    "import emission.storage.timeseries.abstract_timeseries as esta\n",
    "from datetime import timedelta, date, tzinfo, datetime\n",
    "import numpy as np"
   ]
  },
  {
   "cell_type": "code",
   "execution_count": null,
   "metadata": {},
   "outputs": [],
   "source": [
    "agts = estag.AggregateTimeSeries()\n",
    "sep_dec_tq_data_ts = estt.TimeQuery(\"data.ts\", arrow.get('2018-03-28', 'YYYY-MM-DD').timestamp, arrow.get('2018-06-06', 'YYYY-MM-DD').timestamp)\n",
    "client_nav_events_df = agts.get_data_df(\"stats/client_nav_event\", time_query=sep_dec_tq_data_ts)\n",
    "client_nav_events_df.head()"
   ]
  },
  {
   "cell_type": "code",
   "execution_count": null,
   "metadata": {},
   "outputs": [],
   "source": [
    "opened_app_events = client_nav_events_df[client_nav_events_df.name == \"opened_app\"]"
   ]
  },
  {
   "cell_type": "markdown",
   "metadata": {
    "collapsed": true
   },
   "source": [
    "# Permutation Tests"
   ]
  },
  {
   "cell_type": "code",
   "execution_count": null,
   "metadata": {},
   "outputs": [],
   "source": [
    "users = edb.get_uuid_db().find()"
   ]
  },
  {
   "cell_type": "code",
   "execution_count": null,
   "metadata": {},
   "outputs": [],
   "source": [
    "# Create a dataframe with columns user_id, , number notifications opened, week number, and group.\n",
    "df = pd.DataFrame()\n",
    "information_count = 0\n",
    "emotion_count = 0\n",
    "control_count = 0\n",
    "for i in range(len(users)):\n",
    "    user_id = users[i]\n",
    "    start = arrow.get('2018-03-28', 'YYYY-MM-DD')\n",
    "    end = arrow.get('2018-06-06', 'YYYY-MM-DD')\n",
    "    vals = []\n",
    "    week_val = -1\n",
    "    for week in arrow.Arrow.range('week', start, end):\n",
    "        ts = esta.TimeSeries.get_time_series(user_id)\n",
    "        begin_ts = week.timestamp\n",
    "        end_ts = (week + timedelta(weeks=1)).timestamp\n",
    "        last_period_tq = estt.TimeQuery(\"data.start_ts\", begin_ts, end_ts)\n",
    "        cs_df = ts.get_data_df(\"analysis/inferred_section\", time_query=last_period_tq)\n",
    "        total = 0\n",
    "        if cs_df.shape[0] <= 0:\n",
    "            continue\n",
    "        try:\n",
    "            for event in opened_app_events:\n",
    "                if event['user_id'] == user_id:\n",
    "                    if event['ts'] > begin_ts and event['ts'] <= end_ts:\n",
    "                        total += 1\n",
    "        except:\n",
    "            continue\n",
    "        vals.append(total)\n",
    "    #Always use lists only where the number of datapoints is greater than 2 otherwise we get a perfect correlation\n",
    "    weeks = np.arange(len(vals))\n",
    "    if len(weeks) > 1:\n",
    "        group = \"none\"\n",
    "        try:\n",
    "            client = edb.get_profile_db().find_one({\"user_id\": user_id})['client']\n",
    "            if client == 'urap-2017-information':\n",
    "                group = \"information\"\n",
    "                information_count += 1\n",
    "            elif client == 'urap-2017-emotion':\n",
    "                group = \"emotion\"\n",
    "                emotion_count += 1\n",
    "            elif client == 'urap-2017-control':\n",
    "                group = \"control\"\n",
    "                control_count += 1\n",
    "        except:\n",
    "            continue\n",
    "        df = df.append({'uuid': user_id, 'group': group, 'total': sum(vals)}, ignore_index=True)"
   ]
  },
  {
   "cell_type": "code",
   "execution_count": null,
   "metadata": {},
   "outputs": [],
   "source": [
    "df.groupby('group').mean()"
   ]
  },
  {
   "cell_type": "code",
   "execution_count": null,
   "metadata": {},
   "outputs": [],
   "source": [
    "print(information_count, emotion_count, control_count)"
   ]
  },
  {
   "cell_type": "code",
   "execution_count": null,
   "metadata": {},
   "outputs": [],
   "source": [
    "df.head()"
   ]
  },
  {
   "cell_type": "code",
   "execution_count": null,
   "metadata": {},
   "outputs": [],
   "source": [
    "df.groupby('group').mean()"
   ]
  },
  {
   "cell_type": "code",
   "execution_count": null,
   "metadata": {},
   "outputs": [],
   "source": [
    "def mean_diff(vals_0, vals_1):\n",
    "    return np.mean(vals_0) - np.mean(vals_1)"
   ]
  },
  {
   "cell_type": "code",
   "execution_count": null,
   "metadata": {},
   "outputs": [],
   "source": [
    "def perm_test(labels, response_vars, stat_func, n):\n",
    "    '''Labels: Series with two labels, Response_vars series in same order as labels\n",
    "    stat_func is a function that takes in two series and returns a statistic, n is permutation numnber'''\n",
    "    unique_label_counts = labels.value_counts()\n",
    "    label_0 = unique_label_counts.index[0]\n",
    "    label_1 = unique_label_counts.index[1]\n",
    "    label_0_count = unique_label_counts[0]\n",
    "    label_1_count = unique_label_counts[1]\n",
    "    vals_0 = response_vars[labels == label_0]\n",
    "    vals_1 = response_vars[labels == label_1]\n",
    "    observed_stat = stat_func(vals_0, vals_1)\n",
    "    sample_stats = np.array([])\n",
    "    ind = labels\n",
    "    for i in range(n):\n",
    "        sampler = np.random.permutation(label_0_count + label_1_count)\n",
    "        new_vals = response_vars.take(sampler).values\n",
    "        df = pd.DataFrame({'vals': new_vals}, index=ind)\n",
    "        vals_0 = df[df.index == label_0]['vals']\n",
    "        vals_1 = df[df.index == label_1]['vals']\n",
    "        stat = stat_func(vals_0, vals_1)\n",
    "        sample_stats = np.append(sample_stats, stat)\n",
    "    perm_mean = np.mean(sample_stats)\n",
    "    plt.hist(sample_stats)\n",
    "    plt.show()\n",
    "    if observed_stat > perm_mean:\n",
    "        return np.sum(sample_stats > observed_stat) / len(sample_stats)\n",
    "    return np.sum(sample_stats < observed_stat) / len(sample_stats)"
   ]
  },
  {
   "cell_type": "code",
   "execution_count": null,
   "metadata": {},
   "outputs": [],
   "source": [
    "from math import sqrt\n",
    "def print_error_percent(p, n):\n",
    "    print(\"p value: \", p)\n",
    "    print(\"error percent: {0}%\".format(sqrt(p * (1-p) / n) * 2 * 100))"
   ]
  },
  {
   "cell_type": "code",
   "execution_count": null,
   "metadata": {},
   "outputs": [],
   "source": [
    "e_c = df[df['group'] != 'information']\n",
    "print_error_percent(perm_test(e_c['group'], e_c['total'], mean_diff, 100000), 100000)"
   ]
  },
  {
   "cell_type": "code",
   "execution_count": null,
   "metadata": {},
   "outputs": [],
   "source": [
    "i_c = df[df['group'] != 'emotion']\n",
    "print_error_percent(perm_test(i_c['group'], i_c['total'], mean_diff, 100000), 100000)"
   ]
  },
  {
   "cell_type": "code",
   "execution_count": null,
   "metadata": {},
   "outputs": [],
   "source": [
    "i_e = df[df['group'] != 'control']\n",
    "print_error_percent(perm_test(i_e['group'], i_e['total'], mean_diff, 100000), 100000)"
   ]
  },
  {
   "cell_type": "markdown",
   "metadata": {},
   "source": [
    "# Bootstrapping Tests"
   ]
  },
  {
   "cell_type": "code",
   "execution_count": null,
   "metadata": {},
   "outputs": [],
   "source": [
    "# Same as permutation testing but sampling is with replacement.\n",
    "# Also don't include iteration if SD's of both groups are 0.\n",
    "\n",
    "def bootstrap_test(labels, response_vars, stat_func, n):\n",
    "    '''Labels: Series with two labels, Response_vars series in same order as labels\n",
    "    stat_func is a function that takes in two series and returns a statistic, n is permutation numnber'''\n",
    "    unique_label_counts = labels.value_counts()\n",
    "    label_0 = unique_label_counts.index[0]\n",
    "    label_1 = unique_label_counts.index[1]\n",
    "    label_0_count = unique_label_counts[0]\n",
    "    label_1_count = unique_label_counts[1]\n",
    "    vals_0 = response_vars[labels == label_0]\n",
    "    vals_1 = response_vars[labels == label_1]\n",
    "    observed_stat = stat_func(vals_0, vals_1)\n",
    "    sample_stats = np.array([])\n",
    "    ind = labels\n",
    "    for i in range(n):\n",
    "        sampler = np.random.choice(np.random.permutation(label_0_count + label_1_count), label_0_count + label_1_count)\n",
    "        new_vals = response_vars.take(sampler).values\n",
    "        df = pd.DataFrame({'vals': new_vals}, index=ind)\n",
    "        vals_0 = df[df.index == label_0]['vals']\n",
    "        vals_1 = df[df.index == label_1]['vals']\n",
    "        if np.std(vals_0) == 0 and np.std(vals_1) == 0:\n",
    "            continue\n",
    "        stat = stat_func(vals_0, vals_1)\n",
    "        sample_stats = np.append(sample_stats, stat)\n",
    "    perm_mean = np.mean(sample_stats)\n",
    "    plt.hist(sample_stats)\n",
    "    plt.show()\n",
    "    if observed_stat > perm_mean:\n",
    "        return np.sum(sample_stats > observed_stat) / len(sample_stats)\n",
    "    return np.sum(sample_stats < observed_stat) / len(sample_stats)"
   ]
  },
  {
   "cell_type": "code",
   "execution_count": null,
   "metadata": {},
   "outputs": [],
   "source": [
    "e_c = df[df['group'] != 'information']\n",
    "print_error_percent(bootstrap_test(e_c['group'], e_c['total'], mean_diff, 100000), 100000)"
   ]
  },
  {
   "cell_type": "code",
   "execution_count": null,
   "metadata": {},
   "outputs": [],
   "source": [
    "i_c = df[df['group'] != 'emotion']\n",
    "print_error_percent(bootstrap_test(i_c['group'], i_c['total'], mean_diff, 100000), 100000)"
   ]
  },
  {
   "cell_type": "markdown",
   "metadata": {
    "collapsed": true
   },
   "source": [
    "# Mann Whitney U Tests"
   ]
  },
  {
   "cell_type": "code",
   "execution_count": null,
   "metadata": {},
   "outputs": [],
   "source": [
    "from scipy.stats import mannwhitneyu\n",
    "\n",
    "control = df[df['group'] == 'control']\n",
    "control_array = control.as_matrix(columns=control.columns[1:2])\n",
    "\n",
    "info = df[df['group'] == 'information']\n",
    "info_array = info.as_matrix(columns=info.columns[1:2])\n",
    "\n",
    "emotion = df[df['group'] == 'emotion']\n",
    "emotion_array = emotion.as_matrix(columns=emotion.columns[1:2])\n",
    "\n",
    "print(mannwhitneyu(info_array, control_array))\n",
    "print(mannwhitneyu(emotion_array, control_array))"
   ]
  }
 ],
 "metadata": {
  "kernelspec": {
   "display_name": "Python 3",
   "language": "python",
   "name": "python3"
  },
  "language_info": {
   "codemirror_mode": {
    "name": "ipython",
    "version": 3
   },
   "file_extension": ".py",
   "mimetype": "text/x-python",
   "name": "python",
   "nbconvert_exporter": "python",
   "pygments_lexer": "ipython3",
   "version": "3.6.5"
  }
 },
 "nbformat": 4,
 "nbformat_minor": 2
}
