{
 "cells": [
  {
   "cell_type": "code",
   "execution_count": null,
   "metadata": {},
   "outputs": [],
   "source": [
    "import emission.storage.timeseries.aggregate_timeseries as estag\n",
    "import emission.storage.timeseries.timequery as estt\n",
    "import arrow\n",
    "import emission.core.get_database as edb\n",
    "from emission.core.wrapper.user import User\n",
    "import numpy as np"
   ]
  },
  {
   "cell_type": "code",
   "execution_count": null,
   "metadata": {},
   "outputs": [],
   "source": [
    "agts = estag.AggregateTimeSeries()\n",
    "sep_dec_tq_data_ts = estt.TimeQuery(\"data.ts\", arrow.get(\"2018-3-28\").timestamp, arrow.now().timestamp)\n",
    "client_nav_events_df = agts.get_data_df(\"stats/client_nav_event\", time_query=sep_dec_tq_data_ts)\n",
    "client_nav_events_df.head()"
   ]
  },
  {
   "cell_type": "code",
   "execution_count": null,
   "metadata": {},
   "outputs": [],
   "source": [
    "app_launched_events = client_nav_events_df[client_nav_events_df.name == \"opened_app\"]\n",
    "suggestion_events = client_nav_events_df[client_nav_events_df.name == \"tapped_suggestion\"]"
   ]
  },
  {
   "cell_type": "code",
   "execution_count": null,
   "metadata": {},
   "outputs": [],
   "source": [
    "information = {}\n",
    "for i in range(len(app_launched_events)):\n",
    "    uuid = app_launched_events[i]['user_id']\n",
    "    try:\n",
    "        client = edb.get_profile_db().find_one({\"user_id\": uuid})['client']\n",
    "        if client == 'urap-2017-information':\n",
    "            information[uuid] = 0\n",
    "    except:\n",
    "        continue\n",
    "for i in range(len(suggestion_events)):\n",
    "    uuid = suggestion_events[i]['user_id']\n",
    "    try:\n",
    "        client = edb.get_profile_db().find_one({\"user_id\": uuid})['client']\n",
    "        if client == 'urap-2017-information':\n",
    "            information[uuid] = information.get(uuid, 0) + 1\n",
    "    except:\n",
    "        continue\n",
    "print(len(information))\n",
    "print(information)"
   ]
  },
  {
   "cell_type": "code",
   "execution_count": null,
   "metadata": {},
   "outputs": [],
   "source": [
    "import matplotlib.pyplot as plt\n",
    "import matplotlib\n",
    "plt.hist(x=list(information.values()), bins=np.arange(9.5) - 0.5)\n",
    "plt.title(\"Suggestion Clicks\")\n",
    "plt.xlabel(\"Number of Clicks\")\n",
    "plt.ylabel(\"Number of People\")\n",
    "plt.show()"
   ]
  }
 ],
 "metadata": {
  "kernelspec": {
   "display_name": "Python 3",
   "language": "python",
   "name": "python3"
  },
  "language_info": {
   "codemirror_mode": {
    "name": "ipython",
    "version": 3
   },
   "file_extension": ".py",
   "mimetype": "text/x-python",
   "name": "python",
   "nbconvert_exporter": "python",
   "pygments_lexer": "ipython3",
   "version": "3.6.5"
  }
 },
 "nbformat": 4,
 "nbformat_minor": 2
}
