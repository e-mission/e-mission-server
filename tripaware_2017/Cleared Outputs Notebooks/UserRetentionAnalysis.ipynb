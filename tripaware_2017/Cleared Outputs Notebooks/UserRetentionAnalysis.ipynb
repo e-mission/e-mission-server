{
 "cells": [
  {
   "cell_type": "code",
   "execution_count": null,
   "metadata": {},
   "outputs": [],
   "source": [
    "import stats_functions as sf\n",
    "import emission.storage.timeseries.aggregate_timeseries as estag\n",
    "import emission.storage.timeseries.timequery as estt\n",
    "import arrow\n",
    "import emission.core.get_database as edb\n",
    "from emission.core.wrapper.user import User\n",
    "import matplotlib.pyplot as plt\n",
    "from datetime import datetime, tzinfo, timedelta\n",
    "import pandas as pd\n",
    "\n",
    "import datetime\n",
    "import numpy as np\n",
    "import matplotlib.dates as mdates\n",
    "import matplotlib.pyplot as plt\n",
    "import matplotlib\n",
    "\n",
    "class UTC(tzinfo):\n",
    "    def utcoffset(self, dt):\n",
    "         return timedelta(0)\n",
    "    def tzname(self, dt):\n",
    "        return \"UTC\"\n",
    "    def dst(self, dt):\n",
    "        return timedelta(0)"
   ]
  },
  {
   "cell_type": "code",
   "execution_count": null,
   "metadata": {},
   "outputs": [],
   "source": [
    "agts = estag.AggregateTimeSeries()\n",
    "sep_dec_tq_data_ts = estt.TimeQuery(\"data.ts\", arrow.get(\"2018-3-28\").timestamp, arrow.now().timestamp)\n",
    "client_nav_events_df = agts.get_data_df(\"stats/client_nav_event\", time_query=sep_dec_tq_data_ts)\n",
    "client_nav_events_df.head()"
   ]
  },
  {
   "cell_type": "code",
   "execution_count": null,
   "metadata": {},
   "outputs": [],
   "source": [
    "app_launched_events = client_nav_events_df[client_nav_events_df.name == \"opened_app\"]"
   ]
  },
  {
   "cell_type": "code",
   "execution_count": null,
   "metadata": {},
   "outputs": [],
   "source": [
    "information_hm = {}\n",
    "emotion_hm = {}\n",
    "control_hm = {}\n",
    "no_clients = set()\n",
    "for i in range(len(app_launched_events)):\n",
    "    uuid = app_launched_events[i]['user_id']\n",
    "    timestamp = app_launched_events[i]['ts']\n",
    "    pt = datetime.datetime.fromtimestamp(float(timestamp))\n",
    "    try:\n",
    "        client = edb.get_profile_db().find_one({\"user_id\": uuid})['client']\n",
    "        if client == 'urap-2017-information':\n",
    "            if uuid in information_hm:\n",
    "                information_hm[uuid].append(pt)\n",
    "            else:\n",
    "                information_hm[uuid] = [pt]\n",
    "        elif client == 'urap-2017-emotion':\n",
    "            if uuid in emotion_hm:\n",
    "                emotion_hm[uuid].append(pt)\n",
    "            else:\n",
    "                emotion_hm[uuid] = [pt]\n",
    "        elif client == 'urap-2017-control':\n",
    "            if uuid in control_hm:\n",
    "                control_hm[uuid].append(pt)\n",
    "            else:\n",
    "                control_hm[uuid] = [pt]\n",
    "    except:\n",
    "        no_clients.add(str(uuid))\n",
    "for elem in no_clients:\n",
    "    print(elem + \" doesnt have a client for some reason\")"
   ]
  },
  {
   "cell_type": "code",
   "execution_count": null,
   "metadata": {},
   "outputs": [],
   "source": [
    "information_data = {}\n",
    "for u in information_hm:\n",
    "    earliest = datetime.datetime(2020, 12, 2, 9, 30)\n",
    "    latest = datetime.datetime(2009, 12, 2, 9, 30)\n",
    "    for ts in information_hm[u]:\n",
    "        if ts > latest and ts < datetime.datetime(2018, 6, 6, 0, 0):\n",
    "            latest = ts\n",
    "        if ts < earliest:\n",
    "            earliest = ts\n",
    "    information_data[u] = (earliest, latest)\n",
    "\n",
    "emotion_data = {}\n",
    "for u in emotion_hm:\n",
    "    earliest = datetime.datetime(2020, 12, 2, 9, 30)\n",
    "    latest = datetime.datetime(2009, 12, 2, 9, 30)\n",
    "    for ts in emotion_hm[u]:\n",
    "        if ts > latest and ts < datetime.datetime(2018, 6, 6, 0, 0):\n",
    "            latest = ts\n",
    "        if ts < earliest:\n",
    "            earliest = ts\n",
    "    emotion_data[u] = (earliest, latest)\n",
    "\n",
    "control_data = {}\n",
    "for u in control_hm:\n",
    "    earliest = datetime.datetime(2020, 12, 2, 9, 30)\n",
    "    latest = datetime.datetime(2009, 12, 2, 9, 30)\n",
    "    for ts in control_hm[u]:\n",
    "        if ts > latest and ts < datetime.datetime(2018, 6, 6, 0, 0):\n",
    "            latest = ts\n",
    "        if ts < earliest:\n",
    "            earliest = ts\n",
    "    control_data[u] = (earliest, latest)"
   ]
  },
  {
   "cell_type": "code",
   "execution_count": null,
   "metadata": {},
   "outputs": [],
   "source": [
    "font = {'family' : 'serif'}\n",
    "\n",
    "matplotlib.rc('font', **font)\n",
    "\n",
    "def plot_interval_data(data, title):\n",
    "    event_start = []\n",
    "    event_finish = []\n",
    "    users = []\n",
    "\n",
    "    i = 0\n",
    "    for u in data:\n",
    "        users.append(i)\n",
    "        event_start.append(data[u][0])\n",
    "        event_finish.append(data[u][1])\n",
    "        i += 1\n",
    "    # dates for xaxis\n",
    "    # translate times and dates lists into matplotlib date format numpy arrays\n",
    "    start = np.fromiter((mdates.date2num(event) for event in event_start), dtype = 'float', count = len(event_start))\n",
    "    finish = np.fromiter((mdates.date2num(event) for event in event_finish), dtype = 'float', count = len(event_finish))\n",
    "\n",
    "    # calculate events durations\n",
    "    duration = finish - start\n",
    "    print(\"Mean: \", np.mean(duration))\n",
    "    print(\"Variance: \", np.var(duration))\n",
    "    fig = plt.figure()\n",
    "    ax = fig.add_subplot(1, 1, 1)\n",
    "\n",
    "    # use errorbar to represent event duration\n",
    "    ax.errorbar(users, start, [np.zeros(len(duration)), duration], linestyle = '')\n",
    "    # make matplotlib treat both axis as times\n",
    "    #ax.xaxis_date()\n",
    "    ax.yaxis_date()\n",
    "    plt.title(title)\n",
    "    plt.xlabel('User')\n",
    "    plt.ylabel('Date')\n",
    "    plt.show()"
   ]
  },
  {
   "cell_type": "code",
   "execution_count": null,
   "metadata": {},
   "outputs": [],
   "source": [
    "plot_interval_data(information_data, \"Information\")"
   ]
  },
  {
   "cell_type": "code",
   "execution_count": null,
   "metadata": {},
   "outputs": [],
   "source": [
    "plot_interval_data(emotion_data, \"Emotion\")"
   ]
  },
  {
   "cell_type": "code",
   "execution_count": null,
   "metadata": {},
   "outputs": [],
   "source": [
    "plot_interval_data(control_data, \"Control\")"
   ]
  },
  {
   "cell_type": "markdown",
   "metadata": {
    "collapsed": true
   },
   "source": [
    "# Permutation Tests"
   ]
  },
  {
   "cell_type": "code",
   "execution_count": null,
   "metadata": {
    "scrolled": false
   },
   "outputs": [],
   "source": [
    "def timedelta_to_seconds(td):\n",
    "    return td.days * 86400 + td.seconds + td.microseconds / 10**6\n",
    "\n",
    "info_duration = {key: timedelta_to_seconds(val[1]-val[0]) for (key,val) in information_data.items()}\n",
    "emt_duration = {key: timedelta_to_seconds(val[1]-val[0]) for (key,val) in emotion_data.items()}\n",
    "ctrl_duration = {key: timedelta_to_seconds(val[1]-val[0]) for (key,val) in control_data.items()}"
   ]
  },
  {
   "cell_type": "code",
   "execution_count": null,
   "metadata": {},
   "outputs": [],
   "source": [
    "# Create a dataframe with columns user_id, , number notifications opened, week number, and group.\n",
    "df = pd.DataFrame()\n",
    "for k,v in info_duration.items():\n",
    "    df = df.append({\n",
    "                    'uuid': k, \n",
    "                    'duration': v, \n",
    "                    'group': \"information\"\n",
    "                   }, ignore_index=True)\n",
    "for k,v in emt_duration.items():\n",
    "    df = df.append({\n",
    "                    'uuid': k, \n",
    "                    'duration': v, \n",
    "                    'group': \"emotion\"\n",
    "                   }, ignore_index=True)\n",
    "for k,v in ctrl_duration.items():\n",
    "    df = df.append({\n",
    "                    'uuid': k, \n",
    "                    'duration': v, \n",
    "                    'group': \"control\"\n",
    "                   }, ignore_index=True)"
   ]
  },
  {
   "cell_type": "code",
   "execution_count": null,
   "metadata": {},
   "outputs": [],
   "source": [
    "e_c = df[df['group'] != 'information']\n",
    "sf.print_error_percent(sf.perm_test(e_c['group'], e_c['duration'], sf.mean_diff, 100000), 100000)"
   ]
  },
  {
   "cell_type": "code",
   "execution_count": null,
   "metadata": {},
   "outputs": [],
   "source": [
    "i_c = df[df['group'] != 'emotion']\n",
    "sf.print_error_percent(sf.perm_test(i_c['group'], i_c['duration'], sf.mean_diff, 100000), 100000)"
   ]
  },
  {
   "cell_type": "code",
   "execution_count": null,
   "metadata": {},
   "outputs": [],
   "source": [
    "i_e = df[df['group'] != 'control']\n",
    "sf.print_error_percent(sf.perm_test(i_e['group'], i_e['duration'], sf.mean_diff, 100000), 100000)"
   ]
  },
  {
   "cell_type": "markdown",
   "metadata": {},
   "source": [
    "# Bootstrapping Tests"
   ]
  },
  {
   "cell_type": "code",
   "execution_count": null,
   "metadata": {},
   "outputs": [],
   "source": [
    "e_c = df[df['group'] != 'information']\n",
    "sf.print_error_percent(sf.bootstrap_test(e_c['group'], e_c['duration'], sf.mean_diff, 100000), 100000)"
   ]
  },
  {
   "cell_type": "code",
   "execution_count": null,
   "metadata": {},
   "outputs": [],
   "source": [
    "i_e = df[df['group'] != 'control']\n",
    "sf.print_error_percent(sf.bootstrap_test(i_e['group'], i_e['duration'], sf.mean_diff, 100000), 100000)"
   ]
  },
  {
   "cell_type": "markdown",
   "metadata": {},
   "source": [
    "# Mann Whitney U Tests"
   ]
  },
  {
   "cell_type": "code",
   "execution_count": null,
   "metadata": {},
   "outputs": [],
   "source": [
    "from scipy.stats import mannwhitneyu\n",
    "\n",
    "control = df[df['group'] == 'control']\n",
    "control_array = control.as_matrix(columns=control.columns[0:1])\n",
    "\n",
    "info = df[df['group'] == 'information']\n",
    "info_array = info.as_matrix(columns=info.columns[0:1])\n",
    "\n",
    "emotion = df[df['group'] == 'emotion']\n",
    "emotion_array = emotion.as_matrix(columns=emotion.columns[0:1])\n",
    "\n",
    "print(mannwhitneyu(emotion_array, control_array))\n",
    "print(mannwhitneyu(info_array, emotion_array))"
   ]
  }
 ],
 "metadata": {
  "kernelspec": {
   "display_name": "Python 3",
   "language": "python",
   "name": "python3"
  },
  "language_info": {
   "codemirror_mode": {
    "name": "ipython",
    "version": 3
   },
   "file_extension": ".py",
   "mimetype": "text/x-python",
   "name": "python",
   "nbconvert_exporter": "python",
   "pygments_lexer": "ipython3",
   "version": "3.6.5"
  }
 },
 "nbformat": 4,
 "nbformat_minor": 2
}
