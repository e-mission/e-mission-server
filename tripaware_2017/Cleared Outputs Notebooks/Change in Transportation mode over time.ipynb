{
 "cells": [
  {
   "cell_type": "code",
   "execution_count": null,
   "metadata": {},
   "outputs": [],
   "source": [
    "import emission.storage.timeseries.aggregate_timeseries as estag\n",
    "import emission.storage.timeseries.timequery as estt\n",
    "import arrow\n",
    "import pandas as pd\n",
    "import emission.core.get_database as edb\n",
    "from emission.core.wrapper.user import User\n",
    "import emission.storage.timeseries.abstract_timeseries as esta\n",
    "from datetime import timedelta, date, tzinfo, datetime\n",
    "import matplotlib.pyplot as plt\n",
    "import matplotlib\n",
    "import math\n",
    "import pytz\n",
    "from scipy import stats\n",
    "from collections import Counter\n",
    "import numpy as np\n",
    "class UTC(tzinfo):\n",
    "    def utcoffset(self, dt):\n",
    "         return timedelta(0)\n",
    "    def tzname(self, dt):\n",
    "        return \"UTC\"\n",
    "    def dst(self, dt):\n",
    "        return timedelta(0)"
   ]
  },
  {
   "cell_type": "code",
   "execution_count": null,
   "metadata": {},
   "outputs": [],
   "source": [
    "agts = estag.AggregateTimeSeries()\n",
    "sep_dec_tq_data_ts = estt.TimeQuery(\"data.ts\", arrow.get('2018-03-28', 'YYYY-MM-DD').timestamp, arrow.get('2018-06-06', 'YYYY-MM-DD').timestamp)\n",
    "client_nav_events_df = agts.get_data_df(\"stats/client_nav_event\", time_query=sep_dec_tq_data_ts)"
   ]
  },
  {
   "cell_type": "code",
   "execution_count": null,
   "metadata": {},
   "outputs": [],
   "source": [
    "app_launched_events = client_nav_events_df[client_nav_events_df.name == \"opened_app\"]\n",
    "information_hm = {}\n",
    "emotion_hm = {}\n",
    "control_hm = {}\n",
    "no_clients = set()\n",
    "for i in range(len(app_launched_events)):\n",
    "    uuid = app_launched_events[i]['user_id']\n",
    "    timestamp = app_launched_events[i]['ts']\n",
    "    pt = datetime.fromtimestamp(float(timestamp))\n",
    "    try:\n",
    "        client = edb.get_profile_db().find_one({\"user_id\": uuid})['client']\n",
    "        if client == 'urap-2017-information':\n",
    "            if uuid in information_hm:\n",
    "                information_hm[uuid].append(pt)\n",
    "            else:\n",
    "                information_hm[uuid] = [pt]\n",
    "        elif client == 'urap-2017-emotion':\n",
    "            if uuid in emotion_hm:\n",
    "                emotion_hm[uuid].append(pt)\n",
    "            else:\n",
    "                emotion_hm[uuid] = [pt]\n",
    "        elif client == 'urap-2017-control':\n",
    "            if uuid in control_hm:\n",
    "                control_hm[uuid].append(pt)\n",
    "            else:\n",
    "                control_hm[uuid] = [pt]\n",
    "    except:\n",
    "        no_clients.add(str(uuid))\n",
    "for elem in no_clients:\n",
    "    print(elem + \" doesnt have a client for some reason\")"
   ]
  },
  {
   "cell_type": "code",
   "execution_count": null,
   "metadata": {},
   "outputs": [],
   "source": [
    "information_data = {}\n",
    "for u in information_hm:\n",
    "    earliest = datetime(2020, 12, 2, 9, 30)\n",
    "    latest = datetime(2009, 12, 2, 9, 30)\n",
    "    for ts in information_hm[u]:\n",
    "        if ts > latest:\n",
    "            latest = ts\n",
    "        if ts < earliest:\n",
    "            earliest = ts\n",
    "    information_data[u] = (earliest, latest)\n",
    "\n",
    "emotion_data = {}\n",
    "for u in emotion_hm:\n",
    "    earliest = datetime(2020, 12, 2, 9, 30)\n",
    "    latest = datetime(2009, 12, 2, 9, 30)\n",
    "    for ts in emotion_hm[u]:\n",
    "        if ts > latest:\n",
    "            latest = ts\n",
    "        if ts < earliest:\n",
    "            earliest = ts\n",
    "    emotion_data[u] = (earliest, latest)\n",
    "\n",
    "control_data = {}\n",
    "for u in control_hm:\n",
    "    earliest = datetime(2020, 12, 2, 9, 30)\n",
    "    latest = datetime(2009, 12, 2, 9, 30)\n",
    "    for ts in control_hm[u]:\n",
    "        if ts > latest:\n",
    "            latest = ts\n",
    "        if ts < earliest:\n",
    "            earliest = ts\n",
    "    control_data[u] = (earliest, latest)"
   ]
  },
  {
   "cell_type": "code",
   "execution_count": null,
   "metadata": {},
   "outputs": [],
   "source": [
    "def calc_weeks(d1, d2):\n",
    "    monday1 = (d1 - timedelta(days=d1.weekday()))\n",
    "    monday2 = (d2 - timedelta(days=d2.weekday()))\n",
    "    return int(math.floor((monday2 - monday1).days / 7))"
   ]
  },
  {
   "cell_type": "code",
   "execution_count": null,
   "metadata": {},
   "outputs": [],
   "source": [
    "mode_mapping = {0: \"Unknown Type\", 1: \"Walk-Bike\", 2: \"Walk-Bike\", 3: \"Bus\", 4: \"Train\", 5: \"Car\", 6: \"Air\"}\n",
    "# Create a dataframe with columns user_id, carbon intensity, day, week number, and group (info/emotion).\n",
    "df = pd.DataFrame()\n",
    "    \n",
    "for i in range(len(users)):\n",
    "    user_id = users[i]\n",
    "    \n",
    "    # Determine group for the user.\n",
    "    group = \"none\"\n",
    "    try:\n",
    "        client = edb.get_profile_db().find_one({\"user_id\": user_id})['client']\n",
    "        if client == 'urap-2017-information':\n",
    "            group = \"information\"\n",
    "        elif client == 'urap-2017-emotion':\n",
    "            group = \"emotion\"\n",
    "        elif client == 'urap-2017-control':\n",
    "            group = \"control\"\n",
    "    except:\n",
    "        continue\n",
    "    \n",
    "    start = arrow.get('2018-03-28', 'YYYY-MM-DD')\n",
    "    end = arrow.get('2018-06-06', 'YYYY-MM-DD')\n",
    "    week_val = -1\n",
    "    for week in arrow.Arrow.range('week', start, end):\n",
    "        ts = esta.TimeSeries.get_time_series(user_id)\n",
    "        begin_ts = week.timestamp\n",
    "        end_ts = (week + timedelta(weeks=1)).timestamp\n",
    "        last_period_tq = estt.TimeQuery(\"data.start_ts\", begin_ts, end_ts)\n",
    "        cs_df = ts.get_data_df(\"analysis/inferred_section\", time_query=last_period_tq)\n",
    "        modes = []\n",
    "        try:\n",
    "            for trip in cs_df[[\"sensed_mode\"]].iterrows():\n",
    "                modes.append(mode_mapping[trip[1][0]])\n",
    "        except:\n",
    "            continue\n",
    "        count = Counter(modes)\n",
    "        proportions = {\"Unknown Type\": 0, \"Walk-Bike\": 0, \"Bus\": 0, \"Train\": 0, \"Car\": 0, \"Air\": 0}\n",
    "        for i in count.most_common():\n",
    "            proportions[i[0]] = i[1]/len(modes)            \n",
    "        week_val += 1\n",
    "        df = df.append({'uuid': user_id, 'Walking-Biking': proportions[\"Walk-Bike\"],\n",
    "                        \"Bus\": proportions[\"Bus\"], \"Train\": proportions[\"Train\"], \"Car\": proportions[\"Car\"],\n",
    "                        \"Air\": proportions[\"Air\"], \"Unknown Type\": proportions[\"Unknown Type\"],\n",
    "                        'week': week_val, 'group': group}, ignore_index=True)\n",
    "df.head()"
   ]
  },
  {
   "cell_type": "code",
   "execution_count": null,
   "metadata": {},
   "outputs": [],
   "source": [
    "df = df.groupby(['group', 'week']).mean().drop(\"Unknown Type\", 1).drop(\"Air\", 1)"
   ]
  },
  {
   "cell_type": "code",
   "execution_count": null,
   "metadata": {},
   "outputs": [],
   "source": [
    "df.head()"
   ]
  },
  {
   "cell_type": "code",
   "execution_count": null,
   "metadata": {},
   "outputs": [],
   "source": [
    "df.plot(kind='bar', figsize=(15, 15))\n",
    "plt.show()"
   ]
  },
  {
   "cell_type": "code",
   "execution_count": null,
   "metadata": {},
   "outputs": [],
   "source": [
    "num_weeks = int(df.shape[0]/3)\n",
    "weeks = np.arange(num_weeks)\n",
    "print(num_weeks)"
   ]
  },
  {
   "cell_type": "code",
   "execution_count": null,
   "metadata": {},
   "outputs": [],
   "source": [
    "weekly_installs = []\n",
    "for i in range(num_weeks):\n",
    "    weekly_installs.append(0)\n",
    "# Create a dataframe with columns user_id, carbon intensity, day, week number, and group (info/emotion).    \n",
    "for i in range(len(users)):\n",
    "    user_id = users[i]\n",
    "    \n",
    "    # Determine group for the user.\n",
    "    group = \"none\"\n",
    "    try:\n",
    "        client = edb.get_profile_db().find_one({\"user_id\": user_id})['client']\n",
    "        if client == 'urap-2017-information':\n",
    "            user = information_data[user_id]\n",
    "        elif client == 'urap-2017-emotion':\n",
    "            group = \"emotion\"\n",
    "            user = emotion_data[user_id]\n",
    "        elif client == 'urap-2017-control':\n",
    "            group = \"control\"\n",
    "            user = control_data[user_id]\n",
    "    except:\n",
    "        continue\n",
    "    diff = user[0].replace(tzinfo=pytz.UTC) - arrow.get(1522195200).replace(tzinfo=pytz.UTC)\n",
    "    weekly_installs[max(int(diff.days / 7), 0)] += 1\n",
    "    diff = user[1].replace(tzinfo=pytz.UTC) - arrow.get(1522195200).replace(tzinfo=pytz.UTC)\n",
    "    weekly_installs[max(int(diff.days / 7), 0)] -= 1\n",
    "print(weekly_installs)"
   ]
  },
  {
   "cell_type": "code",
   "execution_count": null,
   "metadata": {},
   "outputs": [],
   "source": [
    "font = {'family' : 'serif',\n",
    "        'weight' : 'light',\n",
    "        'size'   : 16}\n",
    "\n",
    "matplotlib.rc('font', **font)\n",
    "\n",
    "bike = df['Walking-Biking']\n",
    "control = []\n",
    "emotion = []\n",
    "information = []\n",
    "counter = 0\n",
    "for i in bike:\n",
    "    if (counter < num_weeks):\n",
    "        control.append(i)\n",
    "    elif counter < num_weeks * 2:\n",
    "        emotion.append(i)\n",
    "    else:\n",
    "        information.append(i)\n",
    "    counter += 1\n",
    "width = np.min(np.diff(weeks))/3 - 0.08\n",
    "fig, ax = plt.subplots()\n",
    "fig.set_size_inches(8, 8)\n",
    "size = 0.25\n",
    "rects1 = ax.bar(weeks, control, size)\n",
    "rects2 = ax.bar(weeks + width, emotion, size)\n",
    "rects3 = ax.bar(weeks + 2*width, information, size)\n",
    "ax.set_ylabel('Proportion of Trips by Foot/Bicycle')\n",
    "ax.set_title('Change in Proportion of Trips for Walking/Biking')\n",
    "ax.set_xlabel('Week')\n",
    "ax.legend((rects1[0], rects2[0], rects3[0]), ('Control', 'Emotion', 'Information'))\n",
    "def autolabel(rects):\n",
    "    for rect in rects:\n",
    "        height = rect.get_height()\n",
    "        ax.text(rect.get_x() + rect.get_width()/2., 1.001*height,\n",
    "               '%.2f' % height,\n",
    "               ha='center', va='bottom')\n",
    "plt.show()"
   ]
  },
  {
   "cell_type": "code",
   "execution_count": null,
   "metadata": {},
   "outputs": [],
   "source": [
    "bike = df['Car']\n",
    "control = []\n",
    "emotion = []\n",
    "information = []\n",
    "counter = 0\n",
    "for i in bike:\n",
    "    if (counter < num_weeks):\n",
    "        control.append(i)\n",
    "    elif counter < num_weeks * 2:\n",
    "        emotion.append(i)\n",
    "    else:\n",
    "        information.append(i)\n",
    "    counter += 1\n",
    "width = np.min(np.diff(weeks))/3 - 0.08\n",
    "fig, ax = plt.subplots()\n",
    "fig.set_size_inches(8, 8)\n",
    "size = 0.25\n",
    "rects1 = ax.bar(weeks, control, size)\n",
    "rects2 = ax.bar(weeks + width, emotion, size)\n",
    "rects3 = ax.bar(weeks + 2*width, information, size)\n",
    "ax.set_ylabel('Proportion of Trips by Car')\n",
    "ax.set_title('Change in Proportion of Trips in Car')\n",
    "ax.set_xlabel('Week')\n",
    "ax.legend((rects1[0], rects2[0], rects3[0]), ('Control', 'Emotion', 'Information'))\n",
    "def autolabel(rects):\n",
    "    for rect in rects:\n",
    "        height = rect.get_height()\n",
    "        ax.text(rect.get_x() + rect.get_width()/2., 1.001*height,\n",
    "               '%.2f' % height,\n",
    "               ha='center', va='bottom')\n",
    "plt.show()"
   ]
  },
  {
   "cell_type": "code",
   "execution_count": null,
   "metadata": {},
   "outputs": [],
   "source": [
    "bike = df['Bus']\n",
    "control = []\n",
    "emotion = []\n",
    "information = []\n",
    "counter = 0\n",
    "for i in bike:\n",
    "    if (counter < num_weeks):\n",
    "        control.append(i)\n",
    "    elif counter < num_weeks * 2:\n",
    "        emotion.append(i)\n",
    "    else:\n",
    "        information.append(i)\n",
    "    counter += 1\n",
    "width = np.min(np.diff(weeks))/3 - 0.08\n",
    "fig, ax = plt.subplots()\n",
    "fig.set_size_inches(8, 8)\n",
    "size = 0.25\n",
    "rects1 = ax.bar(weeks, control, size)\n",
    "rects2 = ax.bar(weeks + width, emotion, size)\n",
    "rects3 = ax.bar(weeks + 2*width, information, size)\n",
    "ax.set_ylabel('Proportion of Trips by Bus')\n",
    "ax.set_title('Change in Proportion of Trips on Bus')\n",
    "ax.set_xlabel('Week')\n",
    "ax.legend((rects1[0], rects2[0], rects3[0]), ('Control', 'Emotion', 'Information'))\n",
    "def autolabel(rects):\n",
    "    for rect in rects:\n",
    "        height = rect.get_height()\n",
    "        ax.text(rect.get_x() + rect.get_width()/2., 1.001*height,\n",
    "               '%.2f' % height,\n",
    "               ha='center', va='bottom')\n",
    "plt.show()"
   ]
  },
  {
   "cell_type": "markdown",
   "metadata": {
    "collapsed": true
   },
   "source": [
    "## Permutation Tests"
   ]
  },
  {
   "cell_type": "code",
   "execution_count": null,
   "metadata": {},
   "outputs": [],
   "source": [
    "mode_mapping = {0: \"Unknown Type\", 1: \"Walk-Bike\", 2: \"Walk-Bike\", 3: \"Bus\", 4: \"Train\", 5: \"Car\", 6: \"Air\"}\n",
    "# Create a dataframe with columns user_id, carbon intensity, day, week number, and group (info/emotion).\n",
    "df_totals = pd.DataFrame()\n",
    "df_weeks = pd.DataFrame()\n",
    "for i in range(len(users)):\n",
    "    user_id = users[i]\n",
    "    \n",
    "    # Determine group for the user.\n",
    "    group = \"none\"\n",
    "    try:\n",
    "        client = edb.get_profile_db().find_one({\"user_id\": user_id})['client']\n",
    "        if client == 'urap-2017-information':\n",
    "            group = \"information\"\n",
    "        elif client == 'urap-2017-emotion':\n",
    "            group = \"emotion\"\n",
    "        elif client == 'urap-2017-control':\n",
    "            group = \"control\"\n",
    "    except:\n",
    "        continue\n",
    "    \n",
    "    start = arrow.get('2018-03-28', 'YYYY-MM-DD')\n",
    "    end = arrow.get('2018-06-06', 'YYYY-MM-DD')\n",
    "    counts = {\"Unknown Type\": 0, \"Walk-Bike\": 0, \"Bus\": 0, \"Train\": 0, \"Car\": 0, \"Air\": 0}\n",
    "    modes = []\n",
    "    week_val = -1\n",
    "    for week in arrow.Arrow.range('week', start, end):\n",
    "        ts = esta.TimeSeries.get_time_series(user_id)\n",
    "        week_modes = []\n",
    "        week_counts = {\"Unknown Type\": 0, \"Walk-Bike\": 0, \"Bus\": 0, \"Train\": 0, \"Car\": 0, \"Air\": 0}\n",
    "        begin_ts = week.timestamp\n",
    "        end_ts = (week + timedelta(weeks=1)).timestamp\n",
    "        last_period_tq = estt.TimeQuery(\"data.start_ts\", begin_ts, end_ts)\n",
    "        cs_df = ts.get_data_df(\"analysis/inferred_section\", time_query=last_period_tq)\n",
    "        week_val += 1\n",
    "        try:\n",
    "            for trip in cs_df[[\"sensed_mode\"]].iterrows():\n",
    "                modes.append(mode_mapping[trip[1][0]])\n",
    "                week_modes.append(mode_mapping[trip[1][0]])\n",
    "        except:\n",
    "            continue\n",
    "        count = Counter(week_modes)\n",
    "        for i in count.most_common():\n",
    "            week_counts[i[0]] = i[1]\n",
    "        if len(week_modes) != 0:\n",
    "            df_weeks = df_weeks.append({'uuid': user_id, 'WalkBike': week_counts[\"Walk-Bike\"]/len(week_modes),\n",
    "                        \"Bus\": week_counts[\"Bus\"]/len(week_modes), \n",
    "                        \"Car\": week_counts[\"Car\"]/len(week_modes), 'week': week_val, 'group': group}, ignore_index=True)\n",
    "    count = Counter(modes)\n",
    "    for i in count.most_common():\n",
    "        counts[i[0]] = i[1]\n",
    "    if len(modes) !=  0:\n",
    "        df_totals = df_totals.append({'uuid': user_id, 'WalkBike': counts[\"Walk-Bike\"]/len(modes),\n",
    "                        \"Bus\": counts[\"Bus\"]/len(modes), \n",
    "                        \"Car\": counts[\"Car\"]/len(modes), 'group': group}, ignore_index=True)\n",
    "df_totals.head()"
   ]
  },
  {
   "cell_type": "code",
   "execution_count": null,
   "metadata": {},
   "outputs": [],
   "source": [
    "df_weeks.head()"
   ]
  },
  {
   "cell_type": "code",
   "execution_count": null,
   "metadata": {},
   "outputs": [],
   "source": [
    "df_weeks.groupby(['group' , 'uuid', 'week']).sum()"
   ]
  },
  {
   "cell_type": "code",
   "execution_count": null,
   "metadata": {},
   "outputs": [],
   "source": [
    "df_car = pd.DataFrame()\n",
    "df_bus = pd.DataFrame()\n",
    "df_wb = pd.DataFrame()\n",
    "curr_uuid = None\n",
    "for index, row  in df_weeks.groupby(['group' , 'uuid', 'week']).sum().iterrows():\n",
    "    curr_car = row['Car']\n",
    "    curr_bus = row['Bus']\n",
    "    curr_wb = row['WalkBike']\n",
    "    group = index[0]\n",
    "    uuid = index[1]\n",
    "    week = index[2]\n",
    "    if curr_uuid == None:\n",
    "        curr_uuid = uuid\n",
    "    if uuid == curr_uuid:\n",
    "        if week == 0:\n",
    "            val = math.nan\n",
    "        else:\n",
    "            car_val = 100 * (curr_car - prev_car)/df_totals[df_totals.uuid == curr_uuid].iloc[0].Car\n",
    "            bus_val = 100 * (curr_bus - prev_bus)/df_totals[df_totals.uuid == curr_uuid].iloc[0].Bus\n",
    "            wb_val = 100 * (curr_wb - prev_wb)/df_totals[df_totals.uuid == curr_uuid].iloc[0].WalkBike\n",
    "            df_car = df_car.append({'uuid': uuid, 'Proportion Change (%)': car_val, 'week': week, 'group': group}, ignore_index=True)\n",
    "            df_bus = df_bus.append({'uuid': uuid, 'Proportion Change (%)': bus_val, 'week': week, 'group': group}, ignore_index=True)\n",
    "            df_wb = df_wb.append({'uuid': uuid, 'Proportion Change (%)': wb_val, 'week': week, 'group': group}, ignore_index=True)\n",
    "    elif uuid != curr_uuid:\n",
    "        curr_uuid = uuid\n",
    "    prev_car = curr_car\n",
    "    prev_bus = curr_bus\n",
    "    prev_wb = curr_wb\n",
    "df_car_mean = df_car.dropna().groupby(['group', 'uuid']).sum()\n",
    "df_bus_mean = df_bus.dropna().groupby(['group', 'uuid']).sum()\n",
    "df_wb_mean = df_wb.dropna().groupby(['group', 'uuid']).sum()"
   ]
  },
  {
   "cell_type": "code",
   "execution_count": null,
   "metadata": {},
   "outputs": [],
   "source": [
    "df_car_mean"
   ]
  },
  {
   "cell_type": "code",
   "execution_count": null,
   "metadata": {},
   "outputs": [],
   "source": [
    "df_bus_mean"
   ]
  },
  {
   "cell_type": "code",
   "execution_count": null,
   "metadata": {},
   "outputs": [],
   "source": [
    "df_wb_mean"
   ]
  },
  {
   "cell_type": "code",
   "execution_count": null,
   "metadata": {},
   "outputs": [],
   "source": [
    "information_walk_bike_df = df_wb[df_wb.group == \"information\"]\n",
    "emotion_walk_bike_df = df_wb[df_wb.group == \"emotion\"]\n",
    "control_walk_bike_df = df_wb[df_wb.group == \"control\"]\n",
    "\n",
    "information_car_df = df_car[df_car.group == \"information\"]\n",
    "emotion_car_df = df_car[df_car.group == \"emotion\"]\n",
    "control_car_df = df_car[df_car.group == \"control\"]\n",
    "\n",
    "information_bus_df = df_bus[df_bus.group == \"information\"]\n",
    "emotion_bus_df = df_bus[df_bus.group == \"emotion\"]\n",
    "control_bus_df = df_bus[df_bus.group == \"control\"]\n",
    "\n",
    "\n",
    "information_walk_bike_avg = information_walk_bike_df['Proportion Change (%)'].mean()\n",
    "emotion_walk_bike_avg = emotion_walk_bike_df['Proportion Change (%)'].mean()\n",
    "control_walk_bike_avg = control_walk_bike_df['Proportion Change (%)'].mean()\n",
    "\n",
    "information_car_avg = information_car_df['Proportion Change (%)'].mean()\n",
    "emotion_car_avg = emotion_car_df['Proportion Change (%)'].mean()\n",
    "control_car_avg = control_car_df['Proportion Change (%)'].mean()\n",
    "\n",
    "information_bus_avg = information_bus_df['Proportion Change (%)'].mean()\n",
    "emotion_bus_avg = emotion_bus_df['Proportion Change (%)'].mean()\n",
    "control_bus_avg = control_bus_df['Proportion Change (%)'].mean()"
   ]
  },
  {
   "cell_type": "code",
   "execution_count": null,
   "metadata": {},
   "outputs": [],
   "source": [
    "ec_wb = df_wb[df_wb.group != \"information\"]\n",
    "ic_wb = df_wb[df_wb.group != \"emotion\"]\n",
    "ie_wb = df_wb[df_wb.group != \"control\"]\n",
    "\n",
    "ec_car = df_car[df_car.group != \"information\"]\n",
    "ic_car = df_car[df_car.group != \"emotion\"]\n",
    "ie_car = df_car[df_car.group != \"control\"]\n",
    "\n",
    "ec_bus = df_bus[df_bus.group != \"information\"]\n",
    "ic_bus = df_bus[df_bus.group != \"emotion\"]\n",
    "ie_bus = df_bus[df_bus.group != \"control\"]"
   ]
  },
  {
   "cell_type": "markdown",
   "metadata": {},
   "source": [
    "### Permutation Tests"
   ]
  },
  {
   "cell_type": "code",
   "execution_count": null,
   "metadata": {},
   "outputs": [],
   "source": [
    "def perm_test(labels, response_vars, stat_func, n):\n",
    "    '''Labels: Series with two labels, Response_vars series in same order as labels\n",
    "    stat_func is a function that takes in two series and returns a statistic, n is permutation numnber'''\n",
    "    unique_label_counts = labels.value_counts()\n",
    "    label_0 = unique_label_counts.index[0]\n",
    "    label_1 = unique_label_counts.index[1]\n",
    "    label_0_count = unique_label_counts[0]\n",
    "    label_1_count = unique_label_counts[1]\n",
    "    vals_0 = response_vars[labels == label_0]\n",
    "    vals_1 = response_vars[labels == label_1]\n",
    "    observed_stat = stat_func(vals_0, vals_1)\n",
    "    sample_stats = np.array([])\n",
    "    ind = labels\n",
    "    for i in range(n):\n",
    "        sampler = np.random.permutation(label_0_count + label_1_count)\n",
    "        new_vals = response_vars.take(sampler).values\n",
    "        df = pd.DataFrame({'vals': new_vals}, index=ind)\n",
    "        vals_0 = df[df.index == label_0]['vals']\n",
    "        vals_1 = df[df.index == label_1]['vals']\n",
    "        stat = stat_func(vals_0, vals_1)\n",
    "        sample_stats = np.append(sample_stats, stat)\n",
    "    perm_mean = np.mean(sample_stats)\n",
    "    plt.hist(sample_stats)\n",
    "    plt.show()\n",
    "    if observed_stat > perm_mean:\n",
    "        return np.sum(sample_stats > observed_stat) / len(sample_stats)\n",
    "    return np.sum(sample_stats < observed_stat) / len(sample_stats)"
   ]
  },
  {
   "cell_type": "code",
   "execution_count": null,
   "metadata": {},
   "outputs": [],
   "source": [
    "def mean_diff(vals_0, vals_1):\n",
    "    return np.mean(vals_0) - np.mean(vals_1)"
   ]
  },
  {
   "cell_type": "code",
   "execution_count": null,
   "metadata": {},
   "outputs": [],
   "source": [
    "#Info vs control Walking\n",
    "perm_test(ic_wb['group'], ic_wb['Proportion Change (%)'], mean_diff, 100000)"
   ]
  },
  {
   "cell_type": "code",
   "execution_count": null,
   "metadata": {},
   "outputs": [],
   "source": [
    "#Emotion vs control Walking\n",
    "perm_test(ec_wb['group'], ec_wb['Proportion Change (%)'], mean_diff, 100000)"
   ]
  },
  {
   "cell_type": "code",
   "execution_count": null,
   "metadata": {},
   "outputs": [],
   "source": [
    "#Info vs Emotion Walking\n",
    "perm_test(ie_wb['group'], ie_wb['Proportion Change (%)'], mean_diff, 100000)"
   ]
  },
  {
   "cell_type": "code",
   "execution_count": null,
   "metadata": {},
   "outputs": [],
   "source": [
    "#Info vs Control Car\n",
    "perm_test(ie_car['group'], ie_car['Proportion Change (%)'], mean_diff, 100000)"
   ]
  },
  {
   "cell_type": "code",
   "execution_count": null,
   "metadata": {},
   "outputs": [],
   "source": [
    "#Emotion vs Control Car\n",
    "perm_test(ec_car['group'], ec_car['Proportion Change (%)'], mean_diff, 100000)"
   ]
  },
  {
   "cell_type": "code",
   "execution_count": null,
   "metadata": {},
   "outputs": [],
   "source": [
    "#Emotion vs Info Car\n",
    "perm_test(ie_car['group'], ie_car['Proportion Change (%)'], mean_diff, 100000)"
   ]
  },
  {
   "cell_type": "code",
   "execution_count": null,
   "metadata": {},
   "outputs": [],
   "source": [
    "#Info vs Control Bus\n",
    "perm_test(ic_bus['group'], ic_bus['Proportion Change (%)'], mean_diff, 100000)"
   ]
  },
  {
   "cell_type": "code",
   "execution_count": null,
   "metadata": {},
   "outputs": [],
   "source": [
    "#Emotion vs Control Bus\n",
    "perm_test(ec_bus['group'], ec_bus['Proportion Change (%)'], mean_diff, 100000)"
   ]
  },
  {
   "cell_type": "code",
   "execution_count": null,
   "metadata": {},
   "outputs": [],
   "source": [
    "#Info vs Emotion Bus\n",
    "perm_test(ie_bus['group'], ie_bus['Proportion Change (%)'], mean_diff, 100000)"
   ]
  }
 ],
 "metadata": {
  "kernelspec": {
   "display_name": "Python 3",
   "language": "python",
   "name": "python3"
  },
  "language_info": {
   "codemirror_mode": {
    "name": "ipython",
    "version": 3
   },
   "file_extension": ".py",
   "mimetype": "text/x-python",
   "name": "python",
   "nbconvert_exporter": "python",
   "pygments_lexer": "ipython3",
   "version": "3.6.5"
  }
 },
 "nbformat": 4,
 "nbformat_minor": 2
}
