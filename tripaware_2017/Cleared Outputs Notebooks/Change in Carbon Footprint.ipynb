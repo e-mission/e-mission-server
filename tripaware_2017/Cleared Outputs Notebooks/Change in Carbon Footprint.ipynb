{
 "cells": [
  {
   "cell_type": "code",
   "execution_count": null,
   "metadata": {
    "scrolled": true
   },
   "outputs": [],
   "source": [
    "import stats_functions as sf\n",
    "import emission.storage.timeseries.aggregate_timeseries as estag\n",
    "import emission.storage.timeseries.timequery as estt\n",
    "import arrow\n",
    "import numpy as np\n",
    "import emission.core.get_database as edb\n",
    "from emission.core.wrapper.user import User\n",
    "import matplotlib.pyplot as plt\n",
    "import pandas as pd\n",
    "import uuid\n",
    "from datetime import timedelta, date\n",
    "import math\n",
    "from scipy import stats"
   ]
  },
  {
   "cell_type": "code",
   "execution_count": null,
   "metadata": {},
   "outputs": [],
   "source": [
    "all_users = pd.DataFrame(list(edb.get_uuid_db().find({}, {\"uuid\": 1, \"_id\": 0})))\n",
    "num_users = all_users.shape[0]\n",
    "if num_users <= 0:\n",
    "    raise Exception(\"No users in DB\")"
   ]
  },
  {
   "cell_type": "code",
   "execution_count": null,
   "metadata": {},
   "outputs": [],
   "source": [
    "def calc_weeks(d1, d2):\n",
    "    monday1 = (d1 - timedelta(days=d1.weekday()))\n",
    "    monday2 = (d2 - timedelta(days=d2.weekday()))\n",
    "    return int(math.floor((monday2 - monday1).days / 7))"
   ]
  },
  {
   "cell_type": "code",
   "execution_count": null,
   "metadata": {},
   "outputs": [],
   "source": [
    "# Create a dataframe with columns user_id, carbon intensity, day, week number, and group (info/emotion).\n",
    "df = pd.DataFrame()\n",
    "    \n",
    "for i in range(len(all_users)):\n",
    "    user_id = all_users[i]\n",
    "    \n",
    "    # Determine group for the user.\n",
    "    group = \"none\"\n",
    "    try:\n",
    "        client = edb.get_profile_db().find_one({\"user_id\": user_id})['client']\n",
    "        if client == 'urap-2017-information':\n",
    "            group = \"information\"\n",
    "        elif client == 'urap-2017-emotion':\n",
    "            group = \"emotion\"\n",
    "        elif client == 'urap-2017-control':\n",
    "            group = \"control\"\n",
    "    except:\n",
    "        continue\n",
    "    \n",
    "    start = arrow.get('2018-03-28', 'YYYY-MM-DD')\n",
    "    end = arrow.get('2018-06-06', 'YYYY-MM-DD')\n",
    "    for day in arrow.Arrow.range('day', start, end):\n",
    "        begin_ts = day.timestamp\n",
    "        end_ts = (day + timedelta(days=1)).timestamp\n",
    "        val = User.computeCarbon(user_id, begin_ts, end_ts)\n",
    "        if val != None:\n",
    "            # Append a row to the df.\n",
    "            week = calc_weeks(start, day)\n",
    "            df = df.append({'uuid': user_id, 'carbon_intensity': val, 'week': week, 'group': group}, ignore_index=True)"
   ]
  },
  {
   "cell_type": "code",
   "execution_count": null,
   "metadata": {},
   "outputs": [],
   "source": [
    "# Mean carbon intensity for each user.\n",
    "mean_user_carbon_df = (df.groupby(['group' , 'uuid', 'week']).sum().reset_index()).drop('week', axis=1).groupby(['group' , 'uuid']).mean()\n",
    "mean_user_carbon_df = mean_user_carbon_df.reset_index()\n",
    "mean_user_carbon_df"
   ]
  },
  {
   "cell_type": "code",
   "execution_count": null,
   "metadata": {},
   "outputs": [],
   "source": [
    "diff_df = pd.DataFrame()\n",
    "\n",
    "# Only includes users with carbon intensities for more than one week.\n",
    "curr_uuid = None\n",
    "for index, row  in df.groupby(['group' , 'uuid', 'week']).sum().iterrows():\n",
    "    curr_c_intensity = row['carbon_intensity']\n",
    "    group = index[0]\n",
    "    uuid = index[1]\n",
    "    week = index[2]\n",
    "    if curr_uuid == None:\n",
    "        curr_uuid = uuid\n",
    "    \n",
    "    if uuid == curr_uuid:\n",
    "        if week == 0:\n",
    "            val = math.nan\n",
    "        else:\n",
    "            val = 100 * (curr_c_intensity - prev_c_intensity)/mean_user_carbon_df[mean_user_carbon_df.uuid == curr_uuid].iloc[0].carbon_intensity\n",
    "            diff_df = diff_df.append({'uuid': uuid, 'carbon_intensity_diff (%)': val, 'week': week, 'group': group}, ignore_index=True)\n",
    "    if uuid != curr_uuid:\n",
    "        curr_uuid = uuid\n",
    "    prev_c_intensity = curr_c_intensity\n",
    "    \n",
    "\n",
    "diff_df = diff_df[1:len(diff_df)]\n",
    "diff_df"
   ]
  },
  {
   "cell_type": "code",
   "execution_count": null,
   "metadata": {},
   "outputs": [],
   "source": [
    "# Averaged change in carbon intensity across users' weekly total carbon intensity.\n",
    "mean_df = diff_df.groupby(['group' , 'uuid']).sum()\n",
    "mean_df"
   ]
  },
  {
   "cell_type": "code",
   "execution_count": null,
   "metadata": {},
   "outputs": [],
   "source": [
    "df_group_change = mean_df.groupby(['group']).mean()\n",
    "df_group_change"
   ]
  },
  {
   "cell_type": "code",
   "execution_count": null,
   "metadata": {},
   "outputs": [],
   "source": [
    "import numpy as np\n",
    "df_group_change = mean_df.groupby(['group']).var()\n",
    "print(\"control: \", np.var(mean_df.loc['control']))\n",
    "print(\"emotion: \", np.var(mean_df.loc['emotion']))\n",
    "print(\"information: \", np.var(mean_df.loc['information']))\n",
    "df_group_change"
   ]
  },
  {
   "cell_type": "markdown",
   "metadata": {},
   "source": [
    "# Permutation Testing"
   ]
  },
  {
   "cell_type": "code",
   "execution_count": null,
   "metadata": {},
   "outputs": [],
   "source": [
    "mean_df = mean_df.reset_index()\n",
    "\n",
    "control_diff_simple_avg_df = mean_df.loc[mean_df.group == \"control\"]\n",
    "emotion_diff_simple_avg_df = mean_df.loc[mean_df.group == \"emotion\"]\n",
    "information_diff_simple_avg_df = mean_df.loc[mean_df.group == \"information\"]\n",
    "\n",
    "control_emotion_diff_df = mean_df[mean_df.group != \"information\"]\n",
    "control_information_diff_df = mean_df[mean_df.group != \"emotion\"]\n",
    "emotion_information_diff_df = mean_df[mean_df.group != \"control\"]\n",
    "\n",
    "control_emotion_diff_df"
   ]
  },
  {
   "cell_type": "code",
   "execution_count": null,
   "metadata": {},
   "outputs": [],
   "source": [
    "print(sf.perm_test(control_emotion_diff_df['group'], control_emotion_diff_df['carbon_intensity_diff (%)'], sf.mean_diff, 100000))\n",
    "print(\"Control vs Emotion\")"
   ]
  },
  {
   "cell_type": "code",
   "execution_count": null,
   "metadata": {},
   "outputs": [],
   "source": [
    "print(sf.perm_test(control_information_diff_df['group'], control_information_diff_df['carbon_intensity_diff (%)'], sf.mean_diff, 100000))\n",
    "print(\"Control vs Info\")"
   ]
  },
  {
   "cell_type": "code",
   "execution_count": null,
   "metadata": {},
   "outputs": [],
   "source": [
    "print(sf.perm_test(emotion_information_diff_df['group'], emotion_information_diff_df['carbon_intensity_diff (%)'], sf.mean_diff, 100000))\n",
    "print(\"Info vs Emotion\")"
   ]
  },
  {
   "cell_type": "markdown",
   "metadata": {
    "collapsed": true
   },
   "source": [
    "# Bootstrapping Tests"
   ]
  },
  {
   "cell_type": "code",
   "execution_count": null,
   "metadata": {},
   "outputs": [],
   "source": [
    "print(sf.bootstrap_test(control_information_diff_df['group'], control_information_diff_df['carbon_intensity_diff (%)'], sf.mean_diff, 100000))"
   ]
  },
  {
   "cell_type": "markdown",
   "metadata": {
    "collapsed": true
   },
   "source": [
    "# Mann Whitney U Tests"
   ]
  },
  {
   "cell_type": "code",
   "execution_count": null,
   "metadata": {},
   "outputs": [],
   "source": [
    "from scipy.stats import mannwhitneyu\n",
    "\n",
    "control = mean_df[mean_df['group'] == 'control']\n",
    "control_array = control.as_matrix(columns=control.columns[2:])\n",
    "\n",
    "info = mean_df[mean_df['group'] == 'information']\n",
    "info_array = info.as_matrix(columns=info.columns[2:])\n",
    "\n",
    "print(mannwhitneyu(info_array, control_array))"
   ]
  }
 ],
 "metadata": {
  "kernelspec": {
   "display_name": "Python 3",
   "language": "python",
   "name": "python3"
  },
  "language_info": {
   "codemirror_mode": {
    "name": "ipython",
    "version": 3
   },
   "file_extension": ".py",
   "mimetype": "text/x-python",
   "name": "python",
   "nbconvert_exporter": "python",
   "pygments_lexer": "ipython3",
   "version": "3.6.5"
  }
 },
 "nbformat": 4,
 "nbformat_minor": 2
}
