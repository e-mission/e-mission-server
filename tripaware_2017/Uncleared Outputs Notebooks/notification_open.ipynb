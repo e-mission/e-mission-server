{
 "cells": [
  {
   "cell_type": "code",
   "execution_count": null,
   "metadata": {},
   "outputs": [],
   "source": [
    "import pandas as pd\n",
    "import arrow\n",
    "import numpy as np\n",
    "import matplotlib.pyplot as plt\n",
    "import matplotlib.dates as mdates\n",
    "import sys\n",
    "%matplotlib inline\n",
    "import emission.storage.timeseries.abstract_timeseries as esta\n",
    "\n",
    "import emission.storage.timeseries.aggregate_timeseries as estag\n",
    "import emission.storage.timeseries.timequery as estt\n",
    "import emission.storage.timeseries.aggregate_timeseries as estag\n",
    "import emission.storage.timeseries.timequery as estt\n",
    "import arrow\n",
    "import emission.core.get_database as edb\n",
    "from emission.core.wrapper.user import User"
   ]
  },
  {
   "cell_type": "code",
   "execution_count": null,
   "metadata": {
    "collapsed": true
   },
   "outputs": [],
   "source": [
    "import emission.storage.timeseries.aggregate_timeseries as estag\n",
    "import emission.storage.timeseries.timequery as estt\n",
    "import arrow"
   ]
  },
  {
   "cell_type": "markdown",
   "metadata": {},
   "source": [
    "Get the dataframe that we need"
   ]
  },
  {
   "cell_type": "code",
   "execution_count": null,
   "metadata": {
    "collapsed": true
   },
   "outputs": [],
   "source": [
    "agts = estag.AggregateTimeSeries()\n",
    "sep_dec_tq_data_ts = estt.TimeQuery(\"data.ts\", arrow.get(\"2018-3-28\").timestamp, arrow.get(\"2018-6-6\").timestamp)\n",
    "server_api_calls_df = agts.get_data_df(\"stats/server_api_time\", time_query=sep_dec_tq_data_ts)"
   ]
  },
  {
   "cell_type": "code",
   "execution_count": null,
   "metadata": {},
   "outputs": [],
   "source": [
    "agts = estag.AggregateTimeSeries()\n",
    "client_nav_events_df = agts.get_data_df(\"stats/client_nav_event\", time_query=sep_dec_tq_data_ts)\n",
    "profile_create_api_calls_df = server_api_calls_df[server_api_calls_df.name == 'POST_/profile/notification_open']\n",
    "client_nav_events_df[client_nav_events_df.name.str.contains('state')]\n",
    "client_nav_events_df.head()"
   ]
  },
  {
   "cell_type": "code",
   "execution_count": null,
   "metadata": {},
   "outputs": [],
   "source": [
    "users = edb.get_uuid_db().find()\n",
    "information_uuids = []\n",
    "emotion_uuids = []\n",
    "control_uuids = []\n",
    "mode_mapping = {0: \"Unkown Type\", 1: \"Walking\", 2: \"Bicycling\", 3: \"Bus\", 4: \"Train\", 5: \"Car\", 6: \"Air\"}\n",
    "for user_id in users:\n",
    "    ts = esta.TimeSeries.get_time_series(user_id)\n",
    "    last_period_tq = estt.TimeQuery(\"data.start_ts\",\n",
    "                            arrow.get(\"2018-3-28\").timestamp, # start of range\n",
    "                            arrow.get(\"2018-6-6\").timestamp)  # end of range\n",
    "    cs_df = ts.get_data_df(\"analysis/inferred_section\", time_query=last_period_tq)\n",
    "    if cs_df.shape[0] > 0:\n",
    "        try:\n",
    "            client = edb.get_profile_db().find_one({\"user_id\": user_id})['client']\n",
    "            if client == 'urap-2017-information':\n",
    "                information_uuids.append(user_id)\n",
    "            elif client == 'urap-2017-emotion':\n",
    "                emotion_uuids.append(user_id)\n",
    "            elif client == 'urap-2017-control':\n",
    "                control_uuids.append(user_id)\n",
    "        except:\n",
    "            continue\n",
    "print(len(information_uuids) + len(emotion_uuids) + len(control_uuids))"
   ]
  },
  {
   "cell_type": "code",
   "execution_count": null,
   "metadata": {},
   "outputs": [],
   "source": [
    "information_users = pd.DataFrame([i for i in information_uuids]).rename(columns={0: 'user_id'})\n",
    "emotion_users = pd.DataFrame([i for i in emotion_uuids]).rename(columns={0: 'user_id'})\n",
    "control_users = pd.DataFrame([i for i in control_uuids]).rename(columns={0: 'user_id'})\n",
    "information_users.head()"
   ]
  },
  {
   "cell_type": "code",
   "execution_count": null,
   "metadata": {},
   "outputs": [],
   "source": [
    "edb.get_profile_db()"
   ]
  },
  {
   "cell_type": "code",
   "execution_count": null,
   "metadata": {},
   "outputs": [],
   "source": [
    "notifications_df = client_nav_events_df[client_nav_events_df['name'] == 'notification_open']"
   ]
  },
  {
   "cell_type": "code",
   "execution_count": null,
   "metadata": {},
   "outputs": [],
   "source": [
    "notifications_df = notifications_df.fillna(1)\n",
    "user_notifications = notifications_df.groupby('user_id').sum()\n",
    "user_notifications.head()"
   ]
  },
  {
   "cell_type": "code",
   "execution_count": null,
   "metadata": {},
   "outputs": [],
   "source": [
    "information_notifications = pd.merge(\n",
    "    information_users, user_notifications, how='left', left_on='user_id', right_index=True).fillna(0).rename(columns={'reading': 'num_opened'})\n",
    "\n",
    "emotion_notifications = pd.merge(\n",
    "    emotion_users, user_notifications, how='left', left_on='user_id', right_index=True).fillna(0).rename(columns={'reading': 'num_opened'})\n",
    "\n",
    "control_notifications = pd.merge(\n",
    "    control_users, user_notifications, how='left', left_on='user_id', right_index=True).fillna(0).rename(columns={'reading': 'num_opened'})\n",
    "\n",
    "information_notifications"
   ]
  },
  {
   "cell_type": "markdown",
   "metadata": {},
   "source": [
    "## Average notifcations opened per app\n",
    "This is a very simplistic measurement. We need to normalize by the number of total notifactions, because this is different for each user and version.\n",
    "\n",
    "We dont have that :("
   ]
  },
  {
   "cell_type": "code",
   "execution_count": null,
   "metadata": {
    "collapsed": true
   },
   "outputs": [],
   "source": [
    "information_avg = np.mean(information_notifications['num_opened'])\n",
    "information_med = np.median(information_notifications['num_opened'])\n",
    "informtaiton_sd = np.std(information_notifications['num_opened'])\n",
    "information_avg, information_med, informtaiton_sd"
   ]
  },
  {
   "cell_type": "code",
   "execution_count": null,
   "metadata": {
    "collapsed": true
   },
   "outputs": [],
   "source": [
    "emotion_avg = np.mean(emotion_notifications['num_opened'])\n",
    "emotion_med = np.median(emotion_notifications['num_opened'])\n",
    "emotion_sd = np.std(emotion_notifications['num_opened'])\n",
    "emotion_avg, emotion_med, emotion_sd"
   ]
  },
  {
   "cell_type": "code",
   "execution_count": null,
   "metadata": {
    "collapsed": true
   },
   "outputs": [],
   "source": [
    "info_counts = information_notifications['num_opened']\n",
    "plt.hist(info_counts);\n",
    "plt.title('Information: Distribution of Notifications Opened');"
   ]
  },
  {
   "cell_type": "code",
   "execution_count": null,
   "metadata": {
    "collapsed": true
   },
   "outputs": [],
   "source": [
    "emotion_counts = emotion_notifications['num_opened']\n",
    "plt.hist(emotion_counts, bins = np.arange(35));\n",
    "plt.title('Emotion: Distribution of Notifications Opened');"
   ]
  }
 ],
 "metadata": {
  "kernelspec": {
   "display_name": "Python 3",
   "language": "python",
   "name": "python3"
  },
  "language_info": {
   "codemirror_mode": {
    "name": "ipython",
    "version": 3
   },
   "file_extension": ".py",
   "mimetype": "text/x-python",
   "name": "python",
   "nbconvert_exporter": "python",
   "pygments_lexer": "ipython3",
   "version": "3.6.1"
  }
 },
 "nbformat": 4,
 "nbformat_minor": 2
}
