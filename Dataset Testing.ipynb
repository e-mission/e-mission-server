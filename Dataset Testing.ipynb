{
 "cells": [
  {
   "cell_type": "code",
   "execution_count": 2,
   "metadata": {},
   "outputs": [],
   "source": [
    "import emission.core.wrapper.suggestion_sys as sugg"
   ]
  },
  {
   "cell_type": "code",
   "execution_count": 4,
   "metadata": {},
   "outputs": [
    {
     "data": {
      "text/plain": [
       "{'alias': 'kohls-mountain-view-mountain-view-2',\n",
       " 'categories': [{'alias': 'deptstores', 'title': 'Department Stores'},\n",
       "  {'alias': 'menscloth', 'title': \"Men's Clothing\"},\n",
       "  {'alias': 'womenscloth', 'title': \"Women's Clothing\"}],\n",
       " 'coordinates': {'latitude': 37.4028391, 'longitude': -122.1082734},\n",
       " 'display_phone': '(650) 947-7600',\n",
       " 'hours': [{'hours_type': 'REGULAR',\n",
       "   'is_open_now': False,\n",
       "   'open': [{'day': 0, 'end': '2200', 'is_overnight': False, 'start': '0900'},\n",
       "    {'day': 1, 'end': '2200', 'is_overnight': False, 'start': '0900'},\n",
       "    {'day': 2, 'end': '2200', 'is_overnight': False, 'start': '0900'},\n",
       "    {'day': 3, 'end': '2200', 'is_overnight': False, 'start': '0900'},\n",
       "    {'day': 4, 'end': '2300', 'is_overnight': False, 'start': '0900'},\n",
       "    {'day': 5, 'end': '2300', 'is_overnight': False, 'start': '0800'},\n",
       "    {'day': 6, 'end': '2100', 'is_overnight': False, 'start': '0900'}]}],\n",
       " 'id': 'Vxyg-UGIAZsVJaeZFcKqVA',\n",
       " 'image_url': 'https://s3-media2.fl.yelpcdn.com/bphoto/n62GiO9w9t5fMyCHmqaP2Q/o.jpg',\n",
       " 'is_claimed': True,\n",
       " 'is_closed': False,\n",
       " 'location': {'address1': '350 Showers Dr',\n",
       "  'address2': '',\n",
       "  'address3': '',\n",
       "  'city': 'Mountain View',\n",
       "  'country': 'US',\n",
       "  'cross_streets': '',\n",
       "  'display_address': ['350 Showers Dr', 'Mountain View, CA 94040'],\n",
       "  'state': 'CA',\n",
       "  'zip_code': '94040'},\n",
       " 'name': \"Kohl's -  Mountain View\",\n",
       " 'phone': '+16509477600',\n",
       " 'photos': ['https://s3-media2.fl.yelpcdn.com/bphoto/n62GiO9w9t5fMyCHmqaP2Q/o.jpg',\n",
       "  'https://s3-media4.fl.yelpcdn.com/bphoto/g3e8q7aLTQdsQ0KaEF6B1w/o.jpg',\n",
       "  'https://s3-media3.fl.yelpcdn.com/bphoto/h7KFAtRQeMQH76djBjz0Iw/o.jpg'],\n",
       " 'price': '$$',\n",
       " 'rating': 2.5,\n",
       " 'review_count': 84,\n",
       " 'transactions': [],\n",
       " 'url': 'https://www.yelp.com/biz/kohls-mountain-view-mountain-view-2?adjust_creative=TJdz5Lnp0Vk5NdomBW6G1g&utm_campaign=yelp_api_v3&utm_medium=api_v3_business_lookup&utm_source=TJdz5Lnp0Vk5NdomBW6G1g'}"
      ]
     },
     "execution_count": 4,
     "metadata": {},
     "output_type": "execute_result"
    }
   ],
   "source": []
  },
  {
   "cell_type": "code",
   "execution_count": null,
   "metadata": {
    "collapsed": true
   },
   "outputs": [],
   "source": []
  }
 ],
 "metadata": {
  "kernelspec": {
   "display_name": "Python 3",
   "language": "python",
   "name": "python3"
  },
  "language_info": {
   "codemirror_mode": {
    "name": "ipython",
    "version": 3
   },
   "file_extension": ".py",
   "mimetype": "text/x-python",
   "name": "python",
   "nbconvert_exporter": "python",
   "pygments_lexer": "ipython3",
   "version": "3.6.1"
  }
 },
 "nbformat": 4,
 "nbformat_minor": 2
}
