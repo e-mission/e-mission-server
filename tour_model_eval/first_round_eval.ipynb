{
 "cells": [
  {
   "cell_type": "markdown",
   "metadata": {},
   "source": [
    "This notebook runs 5-fold cross validation to assess the label assist performance (first round clustering only). Ouputs include confusion matrices and tables of standard performance metrics (precision, recall, f-score, accuracy). "
   ]
  },
  {
   "cell_type": "markdown",
   "metadata": {},
   "source": [
    "### imports and setup"
   ]
  },
  {
   "cell_type": "code",
   "execution_count": null,
   "metadata": {
    "ExecuteTime": {
     "end_time": "2022-06-24T16:55:13.225781Z",
     "start_time": "2022-06-24T16:55:11.620262Z"
    },
    "scrolled": false
   },
   "outputs": [],
   "source": [
    "import pandas as pd\n",
    "import numpy as np\n",
    "\n",
    "import models\n",
    "from performance_eval import cross_val_predict, print_metrics"
   ]
  },
  {
   "cell_type": "code",
   "execution_count": null,
   "metadata": {
    "ExecuteTime": {
     "end_time": "2022-06-24T16:55:13.260897Z",
     "start_time": "2022-06-24T16:55:13.253686Z"
    }
   },
   "outputs": [],
   "source": [
    "# our imports\n",
    "import emission.storage.timeseries.abstract_timeseries as esta\n",
    "import emission.core.get_database as edb\n",
    "import emission.storage.decorations.trip_queries as esdtq\n"
   ]
  },
  {
   "cell_type": "markdown",
   "metadata": {},
   "source": [
    "### Read data and set up variables"
   ]
  },
  {
   "cell_type": "code",
   "execution_count": null,
   "metadata": {
    "ExecuteTime": {
     "end_time": "2022-06-24T16:55:13.465715Z",
     "start_time": "2022-06-24T16:55:13.449580Z"
    }
   },
   "outputs": [],
   "source": [
    "uuid_list = edb.get_uuid_db().distinct(\"uuid\")"
   ]
  },
  {
   "cell_type": "code",
   "execution_count": null,
   "metadata": {
    "ExecuteTime": {
     "end_time": "2022-06-24T16:55:13.534775Z",
     "start_time": "2022-06-24T16:55:13.488985Z"
    }
   },
   "outputs": [],
   "source": [
    "print(len(uuid_list))\n",
    "uuid_list"
   ]
  },
  {
   "cell_type": "markdown",
   "metadata": {},
   "source": [
    "Let's see how many labeled/unlabeled trips there are"
   ]
  },
  {
   "cell_type": "code",
   "execution_count": null,
   "metadata": {
    "ExecuteTime": {
     "end_time": "2022-06-24T16:55:36.409688Z",
     "start_time": "2022-06-24T16:55:13.548684Z"
    },
    "scrolled": true
   },
   "outputs": [],
   "source": [
    "all_users = esta.TimeSeries.get_uuid_list()\n",
    "confirmed_trip_df_map = {}\n",
    "labeled_trip_df_map = {}\n",
    "expanded_trip_df_map = {}\n",
    "for u in all_users:\n",
    "    ts = esta.TimeSeries.get_time_series(u)\n",
    "    ct_df = ts.get_data_df(\"analysis/confirmed_trip\")\n",
    "    confirmed_trip_df_map[u] = ct_df\n",
    "    labeled_trip_df_map[u] = esdtq.filter_labeled_trips(ct_df)\n",
    "    expanded_trip_df_map[u] = esdtq.expand_userinputs(labeled_trip_df_map[u])\n",
    "n_trips_df = pd.DataFrame(\n",
    "    [[u, len(confirmed_trip_df_map[u]),\n",
    "      len(labeled_trip_df_map[u])] for u in all_users],\n",
    "    columns=[\"user_id\", \"all_trips\", \"labeled_trips\"])\n",
    "n_trips_df"
   ]
  },
  {
   "cell_type": "code",
   "execution_count": null,
   "metadata": {
    "ExecuteTime": {
     "end_time": "2022-06-24T16:55:36.426285Z",
     "start_time": "2022-06-24T16:55:36.413898Z"
    }
   },
   "outputs": [],
   "source": [
    "all_trips = n_trips_df.all_trips.sum()\n",
    "labeled_trips = n_trips_df.labeled_trips.sum()\n",
    "unlabeled_trips = all_trips - labeled_trips\n",
    "print('{:.2f}% unlabeled, {:.2f}% labeled, {} total trips'.format(\n",
    "    unlabeled_trips / all_trips, labeled_trips / all_trips, all_trips))\n"
   ]
  },
  {
   "cell_type": "markdown",
   "metadata": {},
   "source": [
    "### get results"
   ]
  },
  {
   "cell_type": "code",
   "execution_count": null,
   "metadata": {
    "ExecuteTime": {
     "end_time": "2022-06-24T17:58:43.845093Z",
     "start_time": "2022-06-24T17:33:29.144532Z"
    },
    "scrolled": true
   },
   "outputs": [],
   "source": [
    "# cross_val_all = pd.DataFrame()\n",
    "dfs = []\n",
    "excluded_user_count = 0\n",
    "total_users = len(uuid_list)\n",
    "\n",
    "for user in uuid_list:\n",
    "    try:\n",
    "        results = cross_val_predict(models.first_round_cluster, user)\n",
    "        if results == None:\n",
    "            excluded_user_count += 1\n",
    "\n",
    "    except Exception as e:\n",
    "        excluded_user_count += 1\n",
    "        print('error for user', user)\n",
    "        print(repr(e))\n",
    "        continue\n",
    "\n",
    "    cross_val_results = pd.DataFrame(data=results)\n",
    "    cross_val_results['user_id'] = user\n",
    "    cross_val_results['program'] = 'minipilot'\n",
    "    dfs += [cross_val_results]\n",
    "\n",
    "print('using {}/{} users, excluded {}'.format(\n",
    "    total_users - excluded_user_count, total_users, excluded_user_count))\n",
    "\n",
    "cross_val_all = pd.concat(dfs, ignore_index=True)\n",
    "cross_val_all['top_pred'] = True\n",
    "cross_val_all"
   ]
  },
  {
   "cell_type": "code",
   "execution_count": null,
   "metadata": {
    "ExecuteTime": {
     "end_time": "2022-06-24T17:31:42.848701Z",
     "start_time": "2022-06-24T17:31:41.050635Z"
    }
   },
   "outputs": [],
   "source": [
    "print_metrics(cross_val_all, 'mode', keep_nopred=False, ignore_custom=True)"
   ]
  },
  {
   "cell_type": "code",
   "execution_count": null,
   "metadata": {
    "ExecuteTime": {
     "end_time": "2022-06-24T17:31:44.243661Z",
     "start_time": "2022-06-24T17:31:42.854195Z"
    }
   },
   "outputs": [],
   "source": [
    "print_metrics(cross_val_all, 'purpose', keep_nopred=False, ignore_custom=True)"
   ]
  },
  {
   "cell_type": "code",
   "execution_count": null,
   "metadata": {
    "ExecuteTime": {
     "end_time": "2022-06-24T17:31:46.351684Z",
     "start_time": "2022-06-24T17:31:44.249659Z"
    },
    "scrolled": false
   },
   "outputs": [],
   "source": [
    "print_metrics(cross_val_all, 'replaced', keep_nopred=True, ignore_custom=True)"
   ]
  },
  {
   "cell_type": "code",
   "execution_count": null,
   "metadata": {},
   "outputs": [],
   "source": []
  },
  {
   "cell_type": "code",
   "execution_count": null,
   "metadata": {},
   "outputs": [],
   "source": []
  }
 ],
 "metadata": {
  "kernelspec": {
   "display_name": "Python 3",
   "language": "python",
   "name": "python3"
  },
  "language_info": {
   "codemirror_mode": {
    "name": "ipython",
    "version": 3
   },
   "file_extension": ".py",
   "mimetype": "text/x-python",
   "name": "python",
   "nbconvert_exporter": "python",
   "pygments_lexer": "ipython3",
   "version": "3.7.12"
  }
 },
 "nbformat": 4,
 "nbformat_minor": 2
}
