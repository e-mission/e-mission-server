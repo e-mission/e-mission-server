{
 "cells": [
  {
   "cell_type": "markdown",
   "id": "be0239f6",
   "metadata": {},
   "source": [
    "This compares the effect of the `same_mode` mapping change on the staging database\n",
    "\n",
    "TODO: Extend to the other databases as well\n",
    "\n",
    "This assumes that the models have been built (using `build_save_model.py`) for the \"before\" values and `bin/build_label_model.py -a` for the \"after\" values.\n",
    "\n",
    "They have been renamed to `user_label_first_round_<uuid>.before` and `user_label_first_round_<uuid>.after`, and `locations_first_round_<uuid>.before` and `locations_first_round_<uuid>.after`\n",
    "\n",
    "A sample script that could be used for this renaming is: `for f in user_labels_first_round_*; do mv $f $f.before; done`\n",
    "\n",
    "This script reads those files and works with them."
   ]
  },
  {
   "cell_type": "code",
   "execution_count": 3,
   "id": "0e843b70",
   "metadata": {},
   "outputs": [],
   "source": [
    "import os"
   ]
  },
  {
   "cell_type": "code",
   "execution_count": 12,
   "id": "aeb0590e",
   "metadata": {},
   "outputs": [],
   "source": [
    "os.environ[\"EMISSION_SERVER_HOME\"] = \"/Users/kshankar/e-mission/e-mission-server\""
   ]
  },
  {
   "cell_type": "code",
   "execution_count": 13,
   "id": "045a8813",
   "metadata": {},
   "outputs": [
    {
     "data": {
      "text/plain": [
       "'/Users/kshankar/e-mission/e-mission-server'"
      ]
     },
     "execution_count": 13,
     "metadata": {},
     "output_type": "execute_result"
    }
   ],
   "source": [
    "MODEL_DIR = os.getenv(\"EMISSION_SERVER_HOME\"); MODEL_DIR"
   ]
  },
  {
   "cell_type": "code",
   "execution_count": 14,
   "id": "ca3cc07a",
   "metadata": {},
   "outputs": [
    {
     "name": "stdout",
     "output_type": "stream",
     "text": [
      "storage not configured, falling back to sample, default configuration\n",
      "Connecting to database URL localhost\n"
     ]
    }
   ],
   "source": [
    "import emission.analysis.modelling.tour_model_first_only.load_predict as lp"
   ]
  },
  {
   "cell_type": "code",
   "execution_count": 22,
   "id": "0d480048",
   "metadata": {},
   "outputs": [],
   "source": [
    "label_result_list = []\n",
    "for l in os.listdir(MODEL_DIR):\n",
    "    if l.startswith(\"user_labels_first_round\") and not l.endswith(\".after\"):\n",
    "        uuid = l.split(\"_\")[4]\n",
    "        before_ui_map = lp.loadModel(MODEL_DIR+\"/\"+l)\n",
    "        after_ui_map = lp.loadModel(MODEL_DIR+\"/\"+l+\".after\")\n",
    "        for cluster_label in before_ui_map:\n",
    "            before_cluster_options = before_ui_map[cluster_label]\n",
    "            after_cluster_options = after_ui_map[cluster_label]\n",
    "            before_max_p = sorted(before_cluster_options, key=lambda lp: lp[\"p\"])[-1][\"p\"]\n",
    "            after_max_p = sorted(after_cluster_options, key=lambda lp: lp[\"p\"])[-1][\"p\"]\n",
    "            label_result_list.append({\"user_id\": uuid, \"cluster_label\": cluster_label,\n",
    "                                      \"before_unique_combo_len\": len(before_cluster_options),\n",
    "                                      \"after_unique_combo_len\": len(after_cluster_options),\n",
    "                                      \"before_max_p\": before_max_p, \"after_max_p\": after_max_p})"
   ]
  },
  {
   "cell_type": "code",
   "execution_count": 23,
   "id": "0afc079a",
   "metadata": {},
   "outputs": [],
   "source": [
    "import pandas as pd"
   ]
  },
  {
   "cell_type": "code",
   "execution_count": 25,
   "id": "03aa9ec3",
   "metadata": {},
   "outputs": [
    {
     "data": {
      "text/html": [
       "<div>\n",
       "<style scoped>\n",
       "    .dataframe tbody tr th:only-of-type {\n",
       "        vertical-align: middle;\n",
       "    }\n",
       "\n",
       "    .dataframe tbody tr th {\n",
       "        vertical-align: top;\n",
       "    }\n",
       "\n",
       "    .dataframe thead th {\n",
       "        text-align: right;\n",
       "    }\n",
       "</style>\n",
       "<table border=\"1\" class=\"dataframe\">\n",
       "  <thead>\n",
       "    <tr style=\"text-align: right;\">\n",
       "      <th></th>\n",
       "      <th>user_id</th>\n",
       "      <th>cluster_label</th>\n",
       "      <th>before_unique_combo_len</th>\n",
       "      <th>after_unique_combo_len</th>\n",
       "      <th>before_max_p</th>\n",
       "      <th>after_max_p</th>\n",
       "    </tr>\n",
       "  </thead>\n",
       "  <tbody>\n",
       "    <tr>\n",
       "      <th>0</th>\n",
       "      <td>b0c98c51-4bb9-4c67-9ec3-7814cfbdfc82</td>\n",
       "      <td>0</td>\n",
       "      <td>3</td>\n",
       "      <td>3</td>\n",
       "      <td>0.833333</td>\n",
       "      <td>0.833333</td>\n",
       "    </tr>\n",
       "    <tr>\n",
       "      <th>1</th>\n",
       "      <td>b0c98c51-4bb9-4c67-9ec3-7814cfbdfc82</td>\n",
       "      <td>1</td>\n",
       "      <td>1</td>\n",
       "      <td>1</td>\n",
       "      <td>1.000000</td>\n",
       "      <td>1.000000</td>\n",
       "    </tr>\n",
       "    <tr>\n",
       "      <th>2</th>\n",
       "      <td>b0c98c51-4bb9-4c67-9ec3-7814cfbdfc82</td>\n",
       "      <td>2</td>\n",
       "      <td>1</td>\n",
       "      <td>1</td>\n",
       "      <td>1.000000</td>\n",
       "      <td>1.000000</td>\n",
       "    </tr>\n",
       "    <tr>\n",
       "      <th>3</th>\n",
       "      <td>b0c98c51-4bb9-4c67-9ec3-7814cfbdfc82</td>\n",
       "      <td>3</td>\n",
       "      <td>1</td>\n",
       "      <td>1</td>\n",
       "      <td>1.000000</td>\n",
       "      <td>1.000000</td>\n",
       "    </tr>\n",
       "    <tr>\n",
       "      <th>4</th>\n",
       "      <td>b0c98c51-4bb9-4c67-9ec3-7814cfbdfc82</td>\n",
       "      <td>4</td>\n",
       "      <td>1</td>\n",
       "      <td>1</td>\n",
       "      <td>1.000000</td>\n",
       "      <td>1.000000</td>\n",
       "    </tr>\n",
       "    <tr>\n",
       "      <th>...</th>\n",
       "      <td>...</td>\n",
       "      <td>...</td>\n",
       "      <td>...</td>\n",
       "      <td>...</td>\n",
       "      <td>...</td>\n",
       "      <td>...</td>\n",
       "    </tr>\n",
       "    <tr>\n",
       "      <th>799</th>\n",
       "      <td>405b221a-be9e-43bc-86a5-7ca7fccf2227</td>\n",
       "      <td>85</td>\n",
       "      <td>1</td>\n",
       "      <td>1</td>\n",
       "      <td>1.000000</td>\n",
       "      <td>1.000000</td>\n",
       "    </tr>\n",
       "    <tr>\n",
       "      <th>800</th>\n",
       "      <td>405b221a-be9e-43bc-86a5-7ca7fccf2227</td>\n",
       "      <td>86</td>\n",
       "      <td>1</td>\n",
       "      <td>1</td>\n",
       "      <td>1.000000</td>\n",
       "      <td>1.000000</td>\n",
       "    </tr>\n",
       "    <tr>\n",
       "      <th>801</th>\n",
       "      <td>405b221a-be9e-43bc-86a5-7ca7fccf2227</td>\n",
       "      <td>87</td>\n",
       "      <td>1</td>\n",
       "      <td>1</td>\n",
       "      <td>1.000000</td>\n",
       "      <td>1.000000</td>\n",
       "    </tr>\n",
       "    <tr>\n",
       "      <th>802</th>\n",
       "      <td>405b221a-be9e-43bc-86a5-7ca7fccf2227</td>\n",
       "      <td>88</td>\n",
       "      <td>1</td>\n",
       "      <td>1</td>\n",
       "      <td>1.000000</td>\n",
       "      <td>1.000000</td>\n",
       "    </tr>\n",
       "    <tr>\n",
       "      <th>803</th>\n",
       "      <td>405b221a-be9e-43bc-86a5-7ca7fccf2227</td>\n",
       "      <td>89</td>\n",
       "      <td>1</td>\n",
       "      <td>1</td>\n",
       "      <td>1.000000</td>\n",
       "      <td>1.000000</td>\n",
       "    </tr>\n",
       "  </tbody>\n",
       "</table>\n",
       "<p>804 rows × 6 columns</p>\n",
       "</div>"
      ],
      "text/plain": [
       "                                  user_id cluster_label  \\\n",
       "0    b0c98c51-4bb9-4c67-9ec3-7814cfbdfc82             0   \n",
       "1    b0c98c51-4bb9-4c67-9ec3-7814cfbdfc82             1   \n",
       "2    b0c98c51-4bb9-4c67-9ec3-7814cfbdfc82             2   \n",
       "3    b0c98c51-4bb9-4c67-9ec3-7814cfbdfc82             3   \n",
       "4    b0c98c51-4bb9-4c67-9ec3-7814cfbdfc82             4   \n",
       "..                                    ...           ...   \n",
       "799  405b221a-be9e-43bc-86a5-7ca7fccf2227            85   \n",
       "800  405b221a-be9e-43bc-86a5-7ca7fccf2227            86   \n",
       "801  405b221a-be9e-43bc-86a5-7ca7fccf2227            87   \n",
       "802  405b221a-be9e-43bc-86a5-7ca7fccf2227            88   \n",
       "803  405b221a-be9e-43bc-86a5-7ca7fccf2227            89   \n",
       "\n",
       "     before_unique_combo_len  after_unique_combo_len  before_max_p  \\\n",
       "0                          3                       3      0.833333   \n",
       "1                          1                       1      1.000000   \n",
       "2                          1                       1      1.000000   \n",
       "3                          1                       1      1.000000   \n",
       "4                          1                       1      1.000000   \n",
       "..                       ...                     ...           ...   \n",
       "799                        1                       1      1.000000   \n",
       "800                        1                       1      1.000000   \n",
       "801                        1                       1      1.000000   \n",
       "802                        1                       1      1.000000   \n",
       "803                        1                       1      1.000000   \n",
       "\n",
       "     after_max_p  \n",
       "0       0.833333  \n",
       "1       1.000000  \n",
       "2       1.000000  \n",
       "3       1.000000  \n",
       "4       1.000000  \n",
       "..           ...  \n",
       "799     1.000000  \n",
       "800     1.000000  \n",
       "801     1.000000  \n",
       "802     1.000000  \n",
       "803     1.000000  \n",
       "\n",
       "[804 rows x 6 columns]"
      ]
     },
     "execution_count": 25,
     "metadata": {},
     "output_type": "execute_result"
    }
   ],
   "source": [
    "label_result_df = pd.DataFrame(label_result_list); label_result_df"
   ]
  },
  {
   "cell_type": "code",
   "execution_count": 32,
   "id": "9ade3e62",
   "metadata": {},
   "outputs": [
    {
     "data": {
      "text/html": [
       "<div>\n",
       "<style scoped>\n",
       "    .dataframe tbody tr th:only-of-type {\n",
       "        vertical-align: middle;\n",
       "    }\n",
       "\n",
       "    .dataframe tbody tr th {\n",
       "        vertical-align: top;\n",
       "    }\n",
       "\n",
       "    .dataframe thead th {\n",
       "        text-align: right;\n",
       "    }\n",
       "</style>\n",
       "<table border=\"1\" class=\"dataframe\">\n",
       "  <thead>\n",
       "    <tr style=\"text-align: right;\">\n",
       "      <th></th>\n",
       "      <th>user_id</th>\n",
       "      <th>cluster_label</th>\n",
       "      <th>before_unique_combo_len</th>\n",
       "      <th>after_unique_combo_len</th>\n",
       "      <th>before_max_p</th>\n",
       "      <th>after_max_p</th>\n",
       "    </tr>\n",
       "  </thead>\n",
       "  <tbody>\n",
       "    <tr>\n",
       "      <th>25</th>\n",
       "      <td>802667b6-371f-45b2-9c7a-bb051244836a</td>\n",
       "      <td>0</td>\n",
       "      <td>10</td>\n",
       "      <td>9</td>\n",
       "      <td>0.423077</td>\n",
       "      <td>0.615385</td>\n",
       "    </tr>\n",
       "    <tr>\n",
       "      <th>26</th>\n",
       "      <td>802667b6-371f-45b2-9c7a-bb051244836a</td>\n",
       "      <td>1</td>\n",
       "      <td>5</td>\n",
       "      <td>4</td>\n",
       "      <td>0.545455</td>\n",
       "      <td>0.727273</td>\n",
       "    </tr>\n",
       "    <tr>\n",
       "      <th>27</th>\n",
       "      <td>802667b6-371f-45b2-9c7a-bb051244836a</td>\n",
       "      <td>2</td>\n",
       "      <td>6</td>\n",
       "      <td>4</td>\n",
       "      <td>0.400000</td>\n",
       "      <td>0.500000</td>\n",
       "    </tr>\n",
       "    <tr>\n",
       "      <th>29</th>\n",
       "      <td>802667b6-371f-45b2-9c7a-bb051244836a</td>\n",
       "      <td>4</td>\n",
       "      <td>6</td>\n",
       "      <td>5</td>\n",
       "      <td>0.166667</td>\n",
       "      <td>0.333333</td>\n",
       "    </tr>\n",
       "    <tr>\n",
       "      <th>32</th>\n",
       "      <td>802667b6-371f-45b2-9c7a-bb051244836a</td>\n",
       "      <td>7</td>\n",
       "      <td>2</td>\n",
       "      <td>1</td>\n",
       "      <td>0.666667</td>\n",
       "      <td>1.000000</td>\n",
       "    </tr>\n",
       "    <tr>\n",
       "      <th>311</th>\n",
       "      <td>9b1fc847-e689-49c4-a7f8-d766f76f5248</td>\n",
       "      <td>0</td>\n",
       "      <td>6</td>\n",
       "      <td>5</td>\n",
       "      <td>0.333333</td>\n",
       "      <td>0.400000</td>\n",
       "    </tr>\n",
       "    <tr>\n",
       "      <th>312</th>\n",
       "      <td>9b1fc847-e689-49c4-a7f8-d766f76f5248</td>\n",
       "      <td>1</td>\n",
       "      <td>3</td>\n",
       "      <td>2</td>\n",
       "      <td>0.400000</td>\n",
       "      <td>0.600000</td>\n",
       "    </tr>\n",
       "    <tr>\n",
       "      <th>438</th>\n",
       "      <td>73c7bf7e-2552-4a6d-b211-62190d2322e2</td>\n",
       "      <td>1</td>\n",
       "      <td>6</td>\n",
       "      <td>5</td>\n",
       "      <td>0.222222</td>\n",
       "      <td>0.333333</td>\n",
       "    </tr>\n",
       "    <tr>\n",
       "      <th>439</th>\n",
       "      <td>73c7bf7e-2552-4a6d-b211-62190d2322e2</td>\n",
       "      <td>2</td>\n",
       "      <td>6</td>\n",
       "      <td>5</td>\n",
       "      <td>0.250000</td>\n",
       "      <td>0.312500</td>\n",
       "    </tr>\n",
       "    <tr>\n",
       "      <th>443</th>\n",
       "      <td>73c7bf7e-2552-4a6d-b211-62190d2322e2</td>\n",
       "      <td>6</td>\n",
       "      <td>3</td>\n",
       "      <td>2</td>\n",
       "      <td>0.571429</td>\n",
       "      <td>0.714286</td>\n",
       "    </tr>\n",
       "    <tr>\n",
       "      <th>447</th>\n",
       "      <td>73c7bf7e-2552-4a6d-b211-62190d2322e2</td>\n",
       "      <td>10</td>\n",
       "      <td>3</td>\n",
       "      <td>2</td>\n",
       "      <td>0.666667</td>\n",
       "      <td>0.833333</td>\n",
       "    </tr>\n",
       "    <tr>\n",
       "      <th>448</th>\n",
       "      <td>73c7bf7e-2552-4a6d-b211-62190d2322e2</td>\n",
       "      <td>11</td>\n",
       "      <td>3</td>\n",
       "      <td>2</td>\n",
       "      <td>0.600000</td>\n",
       "      <td>0.800000</td>\n",
       "    </tr>\n",
       "    <tr>\n",
       "      <th>450</th>\n",
       "      <td>73c7bf7e-2552-4a6d-b211-62190d2322e2</td>\n",
       "      <td>13</td>\n",
       "      <td>3</td>\n",
       "      <td>2</td>\n",
       "      <td>0.500000</td>\n",
       "      <td>0.750000</td>\n",
       "    </tr>\n",
       "    <tr>\n",
       "      <th>451</th>\n",
       "      <td>73c7bf7e-2552-4a6d-b211-62190d2322e2</td>\n",
       "      <td>14</td>\n",
       "      <td>3</td>\n",
       "      <td>2</td>\n",
       "      <td>0.500000</td>\n",
       "      <td>0.750000</td>\n",
       "    </tr>\n",
       "    <tr>\n",
       "      <th>455</th>\n",
       "      <td>73c7bf7e-2552-4a6d-b211-62190d2322e2</td>\n",
       "      <td>18</td>\n",
       "      <td>2</td>\n",
       "      <td>1</td>\n",
       "      <td>0.666667</td>\n",
       "      <td>1.000000</td>\n",
       "    </tr>\n",
       "    <tr>\n",
       "      <th>459</th>\n",
       "      <td>73c7bf7e-2552-4a6d-b211-62190d2322e2</td>\n",
       "      <td>22</td>\n",
       "      <td>2</td>\n",
       "      <td>1</td>\n",
       "      <td>0.500000</td>\n",
       "      <td>1.000000</td>\n",
       "    </tr>\n",
       "    <tr>\n",
       "      <th>461</th>\n",
       "      <td>73c7bf7e-2552-4a6d-b211-62190d2322e2</td>\n",
       "      <td>24</td>\n",
       "      <td>2</td>\n",
       "      <td>1</td>\n",
       "      <td>0.500000</td>\n",
       "      <td>1.000000</td>\n",
       "    </tr>\n",
       "    <tr>\n",
       "      <th>504</th>\n",
       "      <td>f2799dc2-02bc-4249-b42a-4fda8770d1b6</td>\n",
       "      <td>1</td>\n",
       "      <td>6</td>\n",
       "      <td>5</td>\n",
       "      <td>0.277778</td>\n",
       "      <td>0.555556</td>\n",
       "    </tr>\n",
       "    <tr>\n",
       "      <th>505</th>\n",
       "      <td>f2799dc2-02bc-4249-b42a-4fda8770d1b6</td>\n",
       "      <td>2</td>\n",
       "      <td>8</td>\n",
       "      <td>7</td>\n",
       "      <td>0.277778</td>\n",
       "      <td>0.500000</td>\n",
       "    </tr>\n",
       "    <tr>\n",
       "      <th>618</th>\n",
       "      <td>db4bd43b-9b28-4b9a-b0b6-a751796baeb1</td>\n",
       "      <td>1</td>\n",
       "      <td>4</td>\n",
       "      <td>3</td>\n",
       "      <td>0.625000</td>\n",
       "      <td>0.750000</td>\n",
       "    </tr>\n",
       "    <tr>\n",
       "      <th>619</th>\n",
       "      <td>db4bd43b-9b28-4b9a-b0b6-a751796baeb1</td>\n",
       "      <td>2</td>\n",
       "      <td>4</td>\n",
       "      <td>3</td>\n",
       "      <td>0.333333</td>\n",
       "      <td>0.666667</td>\n",
       "    </tr>\n",
       "  </tbody>\n",
       "</table>\n",
       "</div>"
      ],
      "text/plain": [
       "                                  user_id cluster_label  \\\n",
       "25   802667b6-371f-45b2-9c7a-bb051244836a             0   \n",
       "26   802667b6-371f-45b2-9c7a-bb051244836a             1   \n",
       "27   802667b6-371f-45b2-9c7a-bb051244836a             2   \n",
       "29   802667b6-371f-45b2-9c7a-bb051244836a             4   \n",
       "32   802667b6-371f-45b2-9c7a-bb051244836a             7   \n",
       "311  9b1fc847-e689-49c4-a7f8-d766f76f5248             0   \n",
       "312  9b1fc847-e689-49c4-a7f8-d766f76f5248             1   \n",
       "438  73c7bf7e-2552-4a6d-b211-62190d2322e2             1   \n",
       "439  73c7bf7e-2552-4a6d-b211-62190d2322e2             2   \n",
       "443  73c7bf7e-2552-4a6d-b211-62190d2322e2             6   \n",
       "447  73c7bf7e-2552-4a6d-b211-62190d2322e2            10   \n",
       "448  73c7bf7e-2552-4a6d-b211-62190d2322e2            11   \n",
       "450  73c7bf7e-2552-4a6d-b211-62190d2322e2            13   \n",
       "451  73c7bf7e-2552-4a6d-b211-62190d2322e2            14   \n",
       "455  73c7bf7e-2552-4a6d-b211-62190d2322e2            18   \n",
       "459  73c7bf7e-2552-4a6d-b211-62190d2322e2            22   \n",
       "461  73c7bf7e-2552-4a6d-b211-62190d2322e2            24   \n",
       "504  f2799dc2-02bc-4249-b42a-4fda8770d1b6             1   \n",
       "505  f2799dc2-02bc-4249-b42a-4fda8770d1b6             2   \n",
       "618  db4bd43b-9b28-4b9a-b0b6-a751796baeb1             1   \n",
       "619  db4bd43b-9b28-4b9a-b0b6-a751796baeb1             2   \n",
       "\n",
       "     before_unique_combo_len  after_unique_combo_len  before_max_p  \\\n",
       "25                        10                       9      0.423077   \n",
       "26                         5                       4      0.545455   \n",
       "27                         6                       4      0.400000   \n",
       "29                         6                       5      0.166667   \n",
       "32                         2                       1      0.666667   \n",
       "311                        6                       5      0.333333   \n",
       "312                        3                       2      0.400000   \n",
       "438                        6                       5      0.222222   \n",
       "439                        6                       5      0.250000   \n",
       "443                        3                       2      0.571429   \n",
       "447                        3                       2      0.666667   \n",
       "448                        3                       2      0.600000   \n",
       "450                        3                       2      0.500000   \n",
       "451                        3                       2      0.500000   \n",
       "455                        2                       1      0.666667   \n",
       "459                        2                       1      0.500000   \n",
       "461                        2                       1      0.500000   \n",
       "504                        6                       5      0.277778   \n",
       "505                        8                       7      0.277778   \n",
       "618                        4                       3      0.625000   \n",
       "619                        4                       3      0.333333   \n",
       "\n",
       "     after_max_p  \n",
       "25      0.615385  \n",
       "26      0.727273  \n",
       "27      0.500000  \n",
       "29      0.333333  \n",
       "32      1.000000  \n",
       "311     0.400000  \n",
       "312     0.600000  \n",
       "438     0.333333  \n",
       "439     0.312500  \n",
       "443     0.714286  \n",
       "447     0.833333  \n",
       "448     0.800000  \n",
       "450     0.750000  \n",
       "451     0.750000  \n",
       "455     1.000000  \n",
       "459     1.000000  \n",
       "461     1.000000  \n",
       "504     0.555556  \n",
       "505     0.500000  \n",
       "618     0.750000  \n",
       "619     0.666667  "
      ]
     },
     "execution_count": 32,
     "metadata": {},
     "output_type": "execute_result"
    }
   ],
   "source": [
    "mismatched_df = label_result_df.query(\"before_max_p != after_max_p\"); mismatched_df"
   ]
  },
  {
   "cell_type": "code",
   "execution_count": 33,
   "id": "219d8a6b",
   "metadata": {},
   "outputs": [
    {
     "data": {
      "text/plain": [
       "21"
      ]
     },
     "execution_count": 33,
     "metadata": {},
     "output_type": "execute_result"
    }
   ],
   "source": [
    "len(mismatched_df)"
   ]
  },
  {
   "cell_type": "code",
   "execution_count": 38,
   "id": "eef8a5eb",
   "metadata": {},
   "outputs": [
    {
     "name": "stdout",
     "output_type": "stream",
     "text": [
      "|    |   cluster_label |   before_unique_combo_len |   after_unique_combo_len |   before_max_p |   after_max_p |\n",
      "|---:|----------------:|--------------------------:|-------------------------:|---------------:|--------------:|\n",
      "| 25 |               0 |                        10 |                        9 |       0.423077 |      0.615385 |\n",
      "| 26 |               1 |                         5 |                        4 |       0.545455 |      0.727273 |\n",
      "| 27 |               2 |                         6 |                        4 |       0.4      |      0.5      |\n",
      "| 29 |               4 |                         6 |                        5 |       0.166667 |      0.333333 |\n",
      "| 32 |               7 |                         2 |                        1 |       0.666667 |      1        |\n"
     ]
    }
   ],
   "source": [
    "print(mismatched_df.drop(\"user_id\", axis=1).head().to_markdown())"
   ]
  },
  {
   "cell_type": "code",
   "execution_count": 35,
   "id": "ff39481b",
   "metadata": {},
   "outputs": [
    {
     "data": {
      "text/plain": [
       "[Text(0, 0, '0'),\n",
       " Text(0, 0, '1'),\n",
       " Text(0, 0, '2'),\n",
       " Text(0, 0, '3'),\n",
       " Text(0, 0, '4')]"
      ]
     },
     "execution_count": 35,
     "metadata": {},
     "output_type": "execute_result"
    },
    {
     "data": {
      "image/png": "[encoded data removed]",
      "text/plain": [
       "<Figure size 432x288 with 1 Axes>"
      ]
     },
     "metadata": {
      "needs_background": "light"
     },
     "output_type": "display_data"
    }
   ],
   "source": [
    "ax = mismatched_df.user_id.value_counts().plot(kind=\"bar\")\n",
    "ax.set_xticklabels(list(range(len(mismatched_df))))"
   ]
  },
  {
   "cell_type": "code",
   "execution_count": 41,
   "id": "0b175fac",
   "metadata": {},
   "outputs": [
    {
     "data": {
      "text/plain": [
       "<matplotlib.axes._subplots.AxesSubplot at 0x7f8459b6b550>"
      ]
     },
     "execution_count": 41,
     "metadata": {},
     "output_type": "execute_result"
    },
    {
     "data": {
      "image/png": "[encoded data removed]",
      "text/plain": [
       "<Figure size 432x288 with 1 Axes>"
      ]
     },
     "metadata": {
      "needs_background": "light"
     },
     "output_type": "display_data"
    }
   ],
   "source": [
    "label_result_df[[\"before_max_p\", \"after_max_p\"]].plot.box(by=\"user_id\")"
   ]
  },
  {
   "cell_type": "code",
   "execution_count": 42,
   "id": "47a78311",
   "metadata": {},
   "outputs": [
    {
     "data": {
      "text/plain": [
       "<matplotlib.axes._subplots.AxesSubplot at 0x7f8459cf2890>"
      ]
     },
     "execution_count": 42,
     "metadata": {},
     "output_type": "execute_result"
    },
    {
     "data": {
      "image/png": "[encoded data removed]",
      "text/plain": [
       "<Figure size 432x288 with 1 Axes>"
      ]
     },
     "metadata": {
      "needs_background": "light"
     },
     "output_type": "display_data"
    }
   ],
   "source": [
    "label_result_df.query(\"before_max_p < 1\")[[\"before_max_p\", \"after_max_p\"]].plot.box(by=\"user_id\")"
   ]
  },
  {
   "cell_type": "code",
   "execution_count": 43,
   "id": "f65d1d04",
   "metadata": {},
   "outputs": [
    {
     "data": {
      "text/plain": [
       "count    122.000000\n",
       "mean       0.536492\n",
       "std        0.169980\n",
       "min        0.125000\n",
       "25%        0.500000\n",
       "50%        0.500000\n",
       "75%        0.666667\n",
       "max        1.000000\n",
       "Name: after_max_p, dtype: float64"
      ]
     },
     "execution_count": 43,
     "metadata": {},
     "output_type": "execute_result"
    }
   ],
   "source": [
    "label_result_df.query(\"before_max_p < 1\").after_max_p.describe()"
   ]
  },
  {
   "cell_type": "code",
   "execution_count": null,
   "id": "c57be7a5",
   "metadata": {},
   "outputs": [],
   "source": []
  }
 ],
 "metadata": {
  "kernelspec": {
   "display_name": "Python 3",
   "language": "python",
   "name": "python3"
  },
  "language_info": {
   "codemirror_mode": {
    "name": "ipython",
    "version": 3
   },
   "file_extension": ".py",
   "mimetype": "text/x-python",
   "name": "python",
   "nbconvert_exporter": "python",
   "pygments_lexer": "ipython3",
   "version": "3.7.9"
  }
 },
 "nbformat": 4,
 "nbformat_minor": 5
}
