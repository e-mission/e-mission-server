{
 "cells": [
  {
   "cell_type": "code",
   "execution_count": null,
   "id": "japanese-arkansas",
   "metadata": {},
   "outputs": [],
   "source": [
    "import logging\n",
    "\n",
    "# Our imports\n",
    "import emission.core.get_database as edb\n",
    "import emission.analysis.modelling.tour_model.cluster_pipeline as pipeline\n",
    "import emission.analysis.modelling.tour_model.similarity as similarity\n",
    "import emission.analysis.modelling.tour_model.featurization as featurization\n",
    "import emission.analysis.modelling.tour_model.representatives as representatives\n",
    "import emission.storage.decorations.analysis_timeseries_queries as esda\n",
    "import pandas as pd\n",
    "from numpy import *\n",
    "import confirmed_trips_eval_bins_clusters as evaluation"
   ]
  },
  {
   "cell_type": "code",
   "execution_count": null,
   "id": "essential-velvet",
   "metadata": {},
   "outputs": [],
   "source": [
    "logger = logging.getLogger()\n",
    "logger.setLevel(logging.DEBUG)"
   ]
  },
  {
   "cell_type": "code",
   "execution_count": null,
   "id": "russian-preview",
   "metadata": {},
   "outputs": [],
   "source": [
    "participant_uuid_obj = list(edb.get_profile_db().find({\"install_group\": \"participant\"}, {\"user_id\": 1, \"_id\": 0}))\n",
    "all_users = [u[\"user_id\"] for u in participant_uuid_obj]"
   ]
  },
  {
   "cell_type": "code",
   "execution_count": null,
   "id": "active-illness",
   "metadata": {},
   "outputs": [],
   "source": [
    "radius = 300"
   ]
  },
  {
   "cell_type": "markdown",
   "id": "expensive-fountain",
   "metadata": {},
   "source": [
    "## Calculate the precision for all users"
   ]
  },
  {
   "cell_type": "markdown",
   "id": "distinguished-sodium",
   "metadata": {},
   "source": [
    "### Calculation from original user inputs"
   ]
  },
  {
   "cell_type": "code",
   "execution_count": null,
   "id": "fifth-mumbai",
   "metadata": {},
   "outputs": [],
   "source": [
    "# this step doesn't change Spanish to English, nor does it convert purposes\n",
    "all_users_preci_noncvt=evaluation.precision_bin_all_users(all_users,radius)"
   ]
  },
  {
   "cell_type": "code",
   "execution_count": null,
   "id": "little-instrument",
   "metadata": {},
   "outputs": [],
   "source": [
    "all_users_preci_noncvt"
   ]
  },
  {
   "cell_type": "code",
   "execution_count": null,
   "id": "grave-solomon",
   "metadata": {},
   "outputs": [],
   "source": [
    "# average precision for all users\n",
    "mean_preci_noncvt=round(mean([x for x in all_users_preci_noncvt if str(x) != 'nan']),2)\n",
    "mean_preci_noncvt"
   ]
  },
  {
   "cell_type": "markdown",
   "id": "plain-leeds",
   "metadata": {},
   "source": [
    "### Calculation from user inputs after changing Spanish to English"
   ]
  },
  {
   "cell_type": "code",
   "execution_count": null,
   "id": "surprising-representation",
   "metadata": {},
   "outputs": [],
   "source": [
    "all_users_preci_sp2en=evaluation.precision_bin_all_users(all_users,radius,sp2en='True',cvt_purpose=None)"
   ]
  },
  {
   "cell_type": "code",
   "execution_count": null,
   "id": "empty-movie",
   "metadata": {},
   "outputs": [],
   "source": [
    "all_users_preci_sp2en"
   ]
  },
  {
   "cell_type": "code",
   "execution_count": null,
   "id": "confused-quilt",
   "metadata": {},
   "outputs": [],
   "source": [
    "mean_preci_sp2en=round(mean([x for x in all_users_preci_sp2en if str(x) != 'nan']),2)\n",
    "mean_preci_sp2en"
   ]
  },
  {
   "cell_type": "markdown",
   "id": "russian-magazine",
   "metadata": {},
   "source": [
    "### Calculation from user input after converting purposes"
   ]
  },
  {
   "cell_type": "code",
   "execution_count": null,
   "id": "seven-discipline",
   "metadata": {},
   "outputs": [],
   "source": [
    "all_users_preci_cvtpur=evaluation.precision_bin_all_users(all_users,radius,sp2en='True',cvt_purpose='True')"
   ]
  },
  {
   "cell_type": "code",
   "execution_count": null,
   "id": "extensive-envelope",
   "metadata": {},
   "outputs": [],
   "source": [
    "all_users_preci_cvtpur"
   ]
  },
  {
   "cell_type": "code",
   "execution_count": null,
   "id": "boolean-wilson",
   "metadata": {},
   "outputs": [],
   "source": [
    "mean_preci_cvtpur=round(mean([x for x in all_users_preci_cvtpur if str(x) != 'nan']),2)\n",
    "mean_preci_cvtpur"
   ]
  },
  {
   "cell_type": "markdown",
   "id": "completed-court",
   "metadata": {},
   "source": [
    "### Precision data frame"
   ]
  },
  {
   "cell_type": "code",
   "execution_count": null,
   "id": "spiritual-fiction",
   "metadata": {},
   "outputs": [],
   "source": [
    "pd.set_option('max_colwidth',100)\n",
    "pd.set_option('display.max_rows', None)"
   ]
  },
  {
   "cell_type": "code",
   "execution_count": null,
   "id": "thrown-timber",
   "metadata": {},
   "outputs": [],
   "source": [
    "preci_df = pd.DataFrame(data = {'precision for every user':[all_users_preci_noncvt,all_users_preci_sp2en,all_users_preci_cvtpur],\n",
    "                        'mean precision':[mean_preci_noncvt,mean_preci_sp2en,mean_preci_cvtpur]}, index = ['original user input',\n",
    "                                                                                                           'after translation',\n",
    "                                                                                                          'after converting purposes'])\n",
    "preci_df"
   ]
  },
  {
   "cell_type": "code",
   "execution_count": null,
   "id": "athletic-survivor",
   "metadata": {},
   "outputs": [],
   "source": []
  }
 ],
 "metadata": {
  "kernelspec": {
   "display_name": "Python 3",
   "language": "python",
   "name": "python3"
  },
  "language_info": {
   "codemirror_mode": {
    "name": "ipython",
    "version": 3
   },
   "file_extension": ".py",
   "mimetype": "text/x-python",
   "name": "python",
   "nbconvert_exporter": "python",
   "pygments_lexer": "ipython3",
   "version": "3.7.9"
  }
 },
 "nbformat": 4,
 "nbformat_minor": 5
}
