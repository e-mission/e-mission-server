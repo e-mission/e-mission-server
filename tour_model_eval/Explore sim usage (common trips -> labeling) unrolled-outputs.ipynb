{
 "cells": [
  {
   "cell_type": "markdown",
   "id": "finnish-despite",
   "metadata": {},
   "source": [
    "# Evaluate the use of the similarity code for trip clustering\n",
    "\n",
    "In this notebook, we are going to dig deeper into the use of the similarity code for trip clustering. The original goal of the similarity code was to find and display common trips to users in a user interface. We plan to use it to automatically label common trips.\n",
    "\n",
    "The goals seem very similar, but are they? Or should our usage patterns for this new use case be subtly different?\n",
    "\n",
    "This notebook is intended to be run against the participant-only version of the CanBikeCO Jan 31 minipilot dataset.\n",
    "If you have the older version that includes data from non-participants as well, please replace\n",
    "\n",
    "```\n",
    "all_users = esta.TimeSeries.get_uuid_list()\n",
    "```\n",
    "\n",
    "with \n",
    "\n",
    "```\n",
    "participant_uuid_obj = list(edb.get_profile_db().find({\"install_group\": \"participant\"}, {\"user_id\": 1, \"_id\": 0}))\n",
    "all_users = [u[\"user_id\"] for u in participant_uuid_obj]\n",
    "```"
   ]
  },
  {
   "cell_type": "markdown",
   "id": "upper-seventh",
   "metadata": {},
   "source": [
    "### First, we read the data and extract the most common purpose labels"
   ]
  },
  {
   "cell_type": "code",
   "execution_count": 1,
   "id": "particular-monster",
   "metadata": {},
   "outputs": [],
   "source": [
    "import pandas as pd\n",
    "import numpy as np\n",
    "import geojson as gj\n",
    "import sklearn.cluster as sc\n",
    "import sklearn.metrics.pairwise as smp"
   ]
  },
  {
   "cell_type": "code",
   "execution_count": 2,
   "id": "opposite-engineer",
   "metadata": {},
   "outputs": [],
   "source": [
    "import json\n",
    "import copy"
   ]
  },
  {
   "cell_type": "code",
   "execution_count": 3,
   "id": "single-narrative",
   "metadata": {},
   "outputs": [],
   "source": [
    "import folium\n",
    "import branca.element as bre"
   ]
  },
  {
   "cell_type": "code",
   "execution_count": 4,
   "id": "vocational-patient",
   "metadata": {},
   "outputs": [],
   "source": [
    "import matplotlib.pyplot as plt\n",
    "import matplotlib.colors as pltc\n",
    "import seaborn as sns"
   ]
  },
  {
   "cell_type": "code",
   "execution_count": 5,
   "id": "surgical-retro",
   "metadata": {},
   "outputs": [],
   "source": [
    "from IPython import display\n",
    "from uuid import UUID\n",
    "\n",
    "import bson.json_util as bju\n",
    "import bson.objectid as boi"
   ]
  },
  {
   "cell_type": "code",
   "execution_count": 6,
   "id": "elder-fiber",
   "metadata": {},
   "outputs": [
    {
     "name": "stdout",
     "output_type": "stream",
     "text": [
      "storage not configured, falling back to sample, default configuration\n",
      "Connecting to database URL localhost\n"
     ]
    }
   ],
   "source": [
    "import emission.storage.timeseries.abstract_timeseries as esta\n",
    "import emission.storage.decorations.trip_queries as esdtq\n",
    "import emission.analysis.modelling.tour_model.similarity as eamts"
   ]
  },
  {
   "cell_type": "code",
   "execution_count": 7,
   "id": "fantastic-drunk",
   "metadata": {},
   "outputs": [],
   "source": [
    "import emission.core.wrapper.entry as ecwe\n",
    "import emission.core.wrapper.confirmedtrip as ecwct"
   ]
  },
  {
   "cell_type": "markdown",
   "id": "furnished-webcam",
   "metadata": {},
   "source": [
    "### Read data and setup variables"
   ]
  },
  {
   "cell_type": "code",
   "execution_count": 8,
   "id": "declared-commitment",
   "metadata": {},
   "outputs": [],
   "source": [
    "all_users = esta.TimeSeries.get_uuid_list()\n",
    "confirmed_trip_df_map = {}\n",
    "labeled_trip_df_map = {}\n",
    "expanded_trip_df_map = {}\n",
    "for u in all_users:\n",
    "    ts = esta.TimeSeries.get_time_series(u)\n",
    "    ct_df = ts.get_data_df(\"analysis/confirmed_trip\")\n",
    "    confirmed_trip_df_map[u] = ct_df\n",
    "    labeled_trip_df_map[u] = esdtq.filter_labeled_trips(ct_df)\n",
    "    expanded_trip_df_map[u] = esdtq.expand_userinputs(labeled_trip_df_map[u])"
   ]
  },
  {
   "cell_type": "code",
   "execution_count": 9,
   "id": "fatty-homeless",
   "metadata": {},
   "outputs": [],
   "source": [
    "FINAL_RADIUS = 500\n",
    "FINAL_POINT_DBSCAN = sc.DBSCAN(FINAL_RADIUS, min_samples=2, metric=\"precomputed\")\n",
    "FINAL_TRIP_DBSCAN = sc.DBSCAN(FINAL_RADIUS * 2, min_samples=2, metric=\"precomputed\")"
   ]
  },
  {
   "cell_type": "markdown",
   "id": "discrete-modern",
   "metadata": {},
   "source": [
    "### Standard functions (currently copied over from other notebooks; should be refactored into a python file)"
   ]
  },
  {
   "cell_type": "code",
   "execution_count": 10,
   "id": "stretch-ethiopia",
   "metadata": {},
   "outputs": [],
   "source": [
    "def get_loc_df(loc_series):\n",
    "    loc_df = pd.DataFrame(loc_series.apply(lambda p: p[\"coordinates\"]).to_list(), columns=[\"longitude\", \"latitude\"])\n",
    "    # display.display(end_loc_df.head())\n",
    "    return loc_df"
   ]
  },
  {
   "cell_type": "code",
   "execution_count": 11,
   "id": "framed-nickel",
   "metadata": {},
   "outputs": [],
   "source": [
    "def get_distance_matrix(loc_df):\n",
    "    EARTH_RADIUS = 6371000\n",
    "    radians_lat_lon = np.radians(loc_df[[\"latitude\", \"longitude\"]])\n",
    "    dist_matrix_meters = pd.DataFrame(smp.haversine_distances(radians_lat_lon, radians_lat_lon) * 6371000)\n",
    "    return dist_matrix_meters"
   ]
  },
  {
   "cell_type": "code",
   "execution_count": 12,
   "id": "stone-airfare",
   "metadata": {},
   "outputs": [],
   "source": [
    "def add_loc_clusters(user_id, modeling_support_objects, trip_df):\n",
    "    user_trip_df = trip_df[trip_df.user_id == user_id]\n",
    "    start_distance_matrix = get_distance_matrix(get_loc_df(user_trip_df.start_loc))\n",
    "    end_distance_matrix = get_distance_matrix(get_loc_df(user_trip_df.end_loc))\n",
    "    start_loc_model = copy.copy(FINAL_POINT_DBSCAN).fit(start_distance_matrix)\n",
    "    end_loc_model = copy.copy(FINAL_POINT_DBSCAN).fit(end_distance_matrix)\n",
    "    trip_df.loc[user_trip_df.index, \"start_loc_cluster\"] = start_loc_model.labels_\n",
    "    trip_df.loc[user_trip_df.index, \"end_loc_cluster\"] = end_loc_model.labels_\n",
    "\n",
    "    curr_model_support = modeling_support_objects.get(user_id)\n",
    "    if curr_model_support is None:\n",
    "        modeling_support_objects[user_id] = {}\n",
    "        curr_model_support = modeling_support_objects[user_id]\n",
    "    curr_model_support[\"start_distance_matrix\"] = start_distance_matrix\n",
    "    curr_model_support[\"end_distance_matrix\"] = end_distance_matrix   \n",
    "    curr_model_support[\"start_loc_model\"] = start_loc_model\n",
    "    curr_model_support[\"end_loc_model\"] = end_loc_model\n",
    "\n",
    "    return trip_df"
   ]
  },
  {
   "cell_type": "code",
   "execution_count": 13,
   "id": "royal-nepal",
   "metadata": {},
   "outputs": [],
   "source": [
    "def add_trip_clusters_dbscan(user_id, trip_df):\n",
    "    user_trip_df = trip_df[trip_df.user_id == user_id]\n",
    "    all_combos = user_trip_df.groupby([\"start_loc_cluster\", \"end_loc_cluster\"])\n",
    "    valid_combos = [p for p in all_combos.groups if p[0] != -1 and p[1] != -1]\n",
    "    print(f\"After validating, all_combos {len(all_combos.groups)} -> {len(valid_combos)}\")\n",
    "    all_combos_dict = dict(all_combos.groups)\n",
    "    valid_combos_series = pd.Series(valid_combos)\n",
    "    for g, idxlist in all_combos_dict.items():\n",
    "        print(g, idxlist)\n",
    "        match = valid_combos_series[valid_combos_series == g]\n",
    "        if len(match) == 0:\n",
    "            print(f\"invalid combo {g} found for entries {idxlist}, trip is not in a cluster\")\n",
    "            trip_df.loc[idxlist, \"trip_cluster_dbscan\"] = -1\n",
    "        else:\n",
    "            print(f\"valid combo {g} found for entries {idxlist}, setting trip cluster to {match.index[0]}\")\n",
    "            trip_df.loc[idxlist, \"trip_cluster_dbscan\"] = int(match.index[0])\n",
    "    return trip_df"
   ]
  },
  {
   "cell_type": "markdown",
   "id": "religious-navigation",
   "metadata": {},
   "source": [
    "### First, we pick a participant to work with"
   ]
  },
  {
   "cell_type": "code",
   "execution_count": 14,
   "id": "indoor-corrections",
   "metadata": {},
   "outputs": [
    {
     "data": {
      "text/html": [
       "<div>\n",
       "<style scoped>\n",
       "    .dataframe tbody tr th:only-of-type {\n",
       "        vertical-align: middle;\n",
       "    }\n",
       "\n",
       "    .dataframe tbody tr th {\n",
       "        vertical-align: top;\n",
       "    }\n",
       "\n",
       "    .dataframe thead th {\n",
       "        text-align: right;\n",
       "    }\n",
       "</style>\n",
       "<table border=\"1\" class=\"dataframe\">\n",
       "  <thead>\n",
       "    <tr style=\"text-align: right;\">\n",
       "      <th></th>\n",
       "      <th>user_id</th>\n",
       "      <th>all_trips</th>\n",
       "      <th>labeled_trips</th>\n",
       "    </tr>\n",
       "  </thead>\n",
       "  <tbody>\n",
       "    <tr>\n",
       "      <th>0</th>\n",
       "      <td>1044195f-af9e-43d4-9407-60594e5e9938</td>\n",
       "      <td>480</td>\n",
       "      <td>380</td>\n",
       "    </tr>\n",
       "    <tr>\n",
       "      <th>1</th>\n",
       "      <td>113aef67-400e-4e21-a29f-d04e50fc42ea</td>\n",
       "      <td>453</td>\n",
       "      <td>33</td>\n",
       "    </tr>\n",
       "    <tr>\n",
       "      <th>2</th>\n",
       "      <td>1d292b85-c549-409a-a10d-746e957582a0</td>\n",
       "      <td>215</td>\n",
       "      <td>208</td>\n",
       "    </tr>\n",
       "    <tr>\n",
       "      <th>3</th>\n",
       "      <td>5079bb93-c9cf-46d7-a643-dfc86bb05605</td>\n",
       "      <td>294</td>\n",
       "      <td>212</td>\n",
       "    </tr>\n",
       "    <tr>\n",
       "      <th>4</th>\n",
       "      <td>576e37c7-ab7e-4c03-add7-02486bc3f42e</td>\n",
       "      <td>237</td>\n",
       "      <td>226</td>\n",
       "    </tr>\n",
       "    <tr>\n",
       "      <th>5</th>\n",
       "      <td>898b1a5e-cdd4-4a0c-90e4-942fa298e456</td>\n",
       "      <td>274</td>\n",
       "      <td>264</td>\n",
       "    </tr>\n",
       "    <tr>\n",
       "      <th>6</th>\n",
       "      <td>8b563348-52b3-4e3e-b046-a0aaf4fcea15</td>\n",
       "      <td>66</td>\n",
       "      <td>1</td>\n",
       "    </tr>\n",
       "    <tr>\n",
       "      <th>7</th>\n",
       "      <td>960835ac-9d8a-421d-8b8a-bf816f8a4b92</td>\n",
       "      <td>626</td>\n",
       "      <td>618</td>\n",
       "    </tr>\n",
       "    <tr>\n",
       "      <th>8</th>\n",
       "      <td>c8b9fe22-86f8-449a-b64f-c18a8d20eefc</td>\n",
       "      <td>182</td>\n",
       "      <td>163</td>\n",
       "    </tr>\n",
       "    <tr>\n",
       "      <th>9</th>\n",
       "      <td>cb3222a7-1e72-4a92-8b7b-2c4795402497</td>\n",
       "      <td>236</td>\n",
       "      <td>22</td>\n",
       "    </tr>\n",
       "    <tr>\n",
       "      <th>10</th>\n",
       "      <td>e7b24d99-324d-4d6d-b247-9edc87d3c848</td>\n",
       "      <td>200</td>\n",
       "      <td>81</td>\n",
       "    </tr>\n",
       "    <tr>\n",
       "      <th>11</th>\n",
       "      <td>efdbea3b-eef6-48fc-9558-7585f4ad6f24</td>\n",
       "      <td>5</td>\n",
       "      <td>0</td>\n",
       "    </tr>\n",
       "    <tr>\n",
       "      <th>12</th>\n",
       "      <td>feabfccd-dd6c-4e8e-8517-9d7177042483</td>\n",
       "      <td>224</td>\n",
       "      <td>217</td>\n",
       "    </tr>\n",
       "  </tbody>\n",
       "</table>\n",
       "</div>"
      ],
      "text/plain": [
       "                                 user_id  all_trips  labeled_trips\n",
       "0   1044195f-af9e-43d4-9407-60594e5e9938        480            380\n",
       "1   113aef67-400e-4e21-a29f-d04e50fc42ea        453             33\n",
       "2   1d292b85-c549-409a-a10d-746e957582a0        215            208\n",
       "3   5079bb93-c9cf-46d7-a643-dfc86bb05605        294            212\n",
       "4   576e37c7-ab7e-4c03-add7-02486bc3f42e        237            226\n",
       "5   898b1a5e-cdd4-4a0c-90e4-942fa298e456        274            264\n",
       "6   8b563348-52b3-4e3e-b046-a0aaf4fcea15         66              1\n",
       "7   960835ac-9d8a-421d-8b8a-bf816f8a4b92        626            618\n",
       "8   c8b9fe22-86f8-449a-b64f-c18a8d20eefc        182            163\n",
       "9   cb3222a7-1e72-4a92-8b7b-2c4795402497        236             22\n",
       "10  e7b24d99-324d-4d6d-b247-9edc87d3c848        200             81\n",
       "11  efdbea3b-eef6-48fc-9558-7585f4ad6f24          5              0\n",
       "12  feabfccd-dd6c-4e8e-8517-9d7177042483        224            217"
      ]
     },
     "execution_count": 14,
     "metadata": {},
     "output_type": "execute_result"
    }
   ],
   "source": [
    "n_trips_df = pd.DataFrame([[u, len(confirmed_trip_df_map[u]), len(labeled_trip_df_map[u])] for u in all_users], columns=[\"user_id\", \"all_trips\", \"labeled_trips\"]); n_trips_df"
   ]
  },
  {
   "cell_type": "code",
   "execution_count": 15,
   "id": "quarterly-sewing",
   "metadata": {},
   "outputs": [
    {
     "data": {
      "text/plain": [
       "UUID('1d292b85-c549-409a-a10d-746e957582a0')"
      ]
     },
     "execution_count": 15,
     "metadata": {},
     "output_type": "execute_result"
    }
   ],
   "source": [
    "median_user = n_trips_df[n_trips_df.labeled_trips == n_trips_df.labeled_trips.median()].user_id.iloc[0]; median_user"
   ]
  },
  {
   "cell_type": "code",
   "execution_count": 16,
   "id": "matched-hardwood",
   "metadata": {},
   "outputs": [],
   "source": [
    "median_user_df = expanded_trip_df_map[median_user]"
   ]
  },
  {
   "cell_type": "code",
   "execution_count": 17,
   "id": "magnetic-photographer",
   "metadata": {},
   "outputs": [],
   "source": [
    "# add_trip_clusters_oursim(participant_df.index[0], all_expanded_df)\n",
    "user_id = median_user\n",
    "user_trip_df = median_user_df\n",
    "user_trip_list = [ecwe.Entry({\"data\": ecwct.Confirmedtrip(tr), \"_id\": tr[\"_id\"], \"metadata\": {\"key\": \"analysis/confirmed_trip\"}}) for tr in user_trip_df.to_dict(\"records\")]\n",
    "curr_sim = eamts.similarity(user_trip_list, FINAL_RADIUS)\n",
    "curr_sim.bin_data()"
   ]
  },
  {
   "cell_type": "markdown",
   "id": "inclusive-vatican",
   "metadata": {},
   "source": [
    "### Step 1: filtering too short trips\n",
    "\n",
    "This is the first step of the binning, where we have not yet determined the cutoff and deleted the bins below it. However, we *have* filtered out trips that are too short. Let's examine if this filtering makes sense to us."
   ]
  },
  {
   "cell_type": "code",
   "execution_count": 18,
   "id": "developed-hydrogen",
   "metadata": {},
   "outputs": [
    {
     "data": {
      "text/plain": [
       "0        384.730231\n",
       "3        434.038504\n",
       "4        333.230154\n",
       "8        401.112438\n",
       "12      3709.362816\n",
       "13       520.045575\n",
       "16       361.384122\n",
       "17       282.347618\n",
       "29      1395.281290\n",
       "30       359.031469\n",
       "32      1123.483301\n",
       "33       188.659530\n",
       "35       597.671353\n",
       "37       741.332228\n",
       "41       816.366795\n",
       "64      1355.818152\n",
       "65       205.318487\n",
       "67     18856.731080\n",
       "68       230.650648\n",
       "70       718.709280\n",
       "83      6785.535867\n",
       "84       831.068100\n",
       "89       165.173889\n",
       "97       175.483272\n",
       "98       218.431141\n",
       "113      220.327550\n",
       "116      472.515693\n",
       "119      252.892584\n",
       "140      168.241488\n",
       "145      229.877958\n",
       "146      228.087648\n",
       "149     1519.919378\n",
       "157      312.377256\n",
       "158      200.998037\n",
       "159      248.875588\n",
       "160      243.955805\n",
       "161      241.290720\n",
       "164      530.910192\n",
       "166      422.958457\n",
       "167     1681.122318\n",
       "168     2147.090932\n",
       "169      253.747549\n",
       "172     3204.025261\n",
       "173      251.003381\n",
       "176      654.108057\n",
       "179      557.154621\n",
       "201     9578.320076\n",
       "206      255.993197\n",
       "207      224.726835\n",
       "Name: distance, dtype: float64"
      ]
     },
     "execution_count": 18,
     "metadata": {},
     "output_type": "execute_result"
    }
   ],
   "source": [
    "filtered_trip_df = pd.DataFrame([e[\"data\"] for e in curr_sim.data])\n",
    "removed_trips = user_trip_df[~user_trip_df._id.isin(filtered_trip_df._id)]\n",
    "removed_trips.distance"
   ]
  },
  {
   "cell_type": "markdown",
   "id": "driving-anniversary",
   "metadata": {},
   "source": [
    "Let's now characterise this in multiple ways."
   ]
  },
  {
   "cell_type": "code",
   "execution_count": 19,
   "id": "sized-category",
   "metadata": {},
   "outputs": [
    {
     "data": {
      "text/plain": [
       "count       49.000000\n",
       "mean      1332.479958\n",
       "std       3067.461589\n",
       "min        165.173889\n",
       "25%        241.290720\n",
       "50%        384.730231\n",
       "75%        816.366795\n",
       "max      18856.731080\n",
       "Name: distance, dtype: float64"
      ]
     },
     "execution_count": 19,
     "metadata": {},
     "output_type": "execute_result"
    }
   ],
   "source": [
    "removed_trips.distance.describe()"
   ]
  },
  {
   "cell_type": "code",
   "execution_count": 20,
   "id": "secret-thursday",
   "metadata": {},
   "outputs": [
    {
     "data": {
      "text/plain": [
       "20"
      ]
     },
     "execution_count": 20,
     "metadata": {},
     "output_type": "execute_result"
    }
   ],
   "source": [
    "removed_trips.distance[removed_trips.distance > FINAL_RADIUS]; len(removed_trips.distance[removed_trips.distance > FINAL_RADIUS])"
   ]
  },
  {
   "cell_type": "code",
   "execution_count": 21,
   "id": "subjective-differential",
   "metadata": {},
   "outputs": [
    {
     "data": {
      "text/plain": [
       "<matplotlib.axes._subplots.AxesSubplot at 0x7fc261017e50>"
      ]
     },
     "execution_count": 21,
     "metadata": {},
     "output_type": "execute_result"
    },
    {
     "data": {
      "image/png": "[encoded data removed]",
      "text/plain": [
       "<Figure size 432x288 with 1 Axes>"
      ]
     },
     "metadata": {
      "needs_background": "light"
     },
     "output_type": "display_data"
    }
   ],
   "source": [
    "removed_trips.boxplot(\"distance\")"
   ]
  },
  {
   "cell_type": "markdown",
   "id": "numerical-gasoline",
   "metadata": {},
   "source": [
    "### Filtering does not make sense\n",
    "\n",
    "It turns out that this filtering does not make sense.\n",
    "\n",
    "1. Even if the start and end are close to each other, the actual trip may not be very short because it may be a round trip.\n",
    "2. For example, around half of the trips that are filtered actually have a distance > our filter.\n",
    "3. The others may be \"not a trip\" aka fake trips. But those are still valuable! If the user has been labeling short trips to and from a particular location as \"Not a trip\", then automatically labeling those as \"Not a trip\" will still save the user a ton of time!"
   ]
  },
  {
   "cell_type": "markdown",
   "id": "crazy-friendly",
   "metadata": {},
   "source": [
    "### Step 2: binning\n",
    "\n",
    "We now bin the trips to effectively create \"clusters\". Let us compare these clusters against the DBSCAN clusters."
   ]
  },
  {
   "cell_type": "code",
   "execution_count": 22,
   "id": "focal-notification",
   "metadata": {},
   "outputs": [
    {
     "name": "stdout",
     "output_type": "stream",
     "text": [
      "After validating, all_combos 80 -> 69\n",
      "(-1, -1) Int64Index([181, 182, 191, 197], dtype='int64')\n",
      "invalid combo (-1, -1) found for entries Int64Index([181, 182, 191, 197], dtype='int64'), trip is not in a cluster\n",
      "(-1, 0) Int64Index([28, 34, 44, 48, 72, 74, 100, 121, 183, 198], dtype='int64')\n",
      "invalid combo (-1, 0) found for entries Int64Index([28, 34, 44, 48, 72, 74, 100, 121, 183, 198], dtype='int64'), trip is not in a cluster\n",
      "(-1, 1) Int64Index([153, 192], dtype='int64')\n",
      "invalid combo (-1, 1) found for entries Int64Index([153, 192], dtype='int64'), trip is not in a cluster\n",
      "(-1, 10) Int64Index([19], dtype='int64')\n",
      "invalid combo (-1, 10) found for entries Int64Index([19], dtype='int64'), trip is not in a cluster\n",
      "(-1, 15) Int64Index([163], dtype='int64')\n",
      "invalid combo (-1, 15) found for entries Int64Index([163], dtype='int64'), trip is not in a cluster\n",
      "(0, -1) Int64Index([47, 73, 99, 131, 180, 190, 196], dtype='int64')\n",
      "invalid combo (0, -1) found for entries Int64Index([47, 73, 99, 131, 180, 190, 196], dtype='int64'), trip is not in a cluster\n",
      "(0, 0) Int64Index([  0,  10,  27,  29,  32,  33,  35,  41,  67,  68,  97,  98, 116,\n",
      "            128, 134, 138, 139, 140, 144, 145, 146, 149, 152, 166, 167, 168,\n",
      "            169, 172, 173, 179, 195, 201, 206, 207],\n",
      "           dtype='int64')\n",
      "valid combo (0, 0) found for entries Int64Index([  0,  10,  27,  29,  32,  33,  35,  41,  67,  68,  97,  98, 116,\n",
      "            128, 134, 138, 139, 140, 144, 145, 146, 149, 152, 166, 167, 168,\n",
      "            169, 172, 173, 179, 195, 201, 206, 207],\n",
      "           dtype='int64'), setting trip cluster to 0\n",
      "(0, 1) Int64Index([1, 36, 45], dtype='int64')\n",
      "valid combo (0, 1) found for entries Int64Index([1, 36, 45], dtype='int64'), setting trip cluster to 1\n",
      "(0, 4) Int64Index([87, 110, 122], dtype='int64')\n",
      "valid combo (0, 4) found for entries Int64Index([87, 110, 122], dtype='int64'), setting trip cluster to 2\n",
      "(0, 5) Int64Index([105, 117], dtype='int64')\n",
      "valid combo (0, 5) found for entries Int64Index([105, 117], dtype='int64'), setting trip cluster to 3\n",
      "(0, 6) Int64Index([26, 94, 127, 133, 135, 143, 147], dtype='int64')\n",
      "valid combo (0, 6) found for entries Int64Index([26, 94, 127, 133, 135, 143, 147], dtype='int64'), setting trip cluster to 4\n",
      "(0, 7) Int64Index([11, 21], dtype='int64')\n",
      "valid combo (0, 7) found for entries Int64Index([11, 21], dtype='int64'), setting trip cluster to 5\n",
      "(0, 8) Int64Index([81], dtype='int64')\n",
      "valid combo (0, 8) found for entries Int64Index([81], dtype='int64'), setting trip cluster to 6\n",
      "(0, 10) Int64Index([49, 75, 186], dtype='int64')\n",
      "valid combo (0, 10) found for entries Int64Index([49, 75, 186], dtype='int64'), setting trip cluster to 7\n",
      "(0, 11) Int64Index([24, 42, 63, 69, 170], dtype='int64')\n",
      "valid combo (0, 11) found for entries Int64Index([24, 42, 63, 69, 170], dtype='int64'), setting trip cluster to 8\n",
      "(0, 13) Int64Index([54, 101, 136], dtype='int64')\n",
      "valid combo (0, 13) found for entries Int64Index([54, 101, 136], dtype='int64'), setting trip cluster to 9\n",
      "(0, 14) Int64Index([56], dtype='int64')\n",
      "valid combo (0, 14) found for entries Int64Index([56], dtype='int64'), setting trip cluster to 10\n",
      "(0, 15) Int64Index([95, 141], dtype='int64')\n",
      "valid combo (0, 15) found for entries Int64Index([95, 141], dtype='int64'), setting trip cluster to 11\n",
      "(0, 19) Int64Index([129, 150], dtype='int64')\n",
      "valid combo (0, 19) found for entries Int64Index([129, 150], dtype='int64'), setting trip cluster to 12\n",
      "(0, 20) Int64Index([156], dtype='int64')\n",
      "valid combo (0, 20) found for entries Int64Index([156], dtype='int64'), setting trip cluster to 13\n",
      "(0, 21) Int64Index([184, 199, 202, 204], dtype='int64')\n",
      "valid combo (0, 21) found for entries Int64Index([184, 199, 202, 204], dtype='int64'), setting trip cluster to 14\n",
      "(1, 0) Int64Index([154], dtype='int64')\n",
      "valid combo (1, 0) found for entries Int64Index([154], dtype='int64'), setting trip cluster to 15\n",
      "(1, 1) Int64Index([37, 77, 176], dtype='int64')\n",
      "valid combo (1, 1) found for entries Int64Index([37, 77, 176], dtype='int64'), setting trip cluster to 16\n",
      "(1, 2) Int64Index([2], dtype='int64')\n",
      "valid combo (1, 2) found for entries Int64Index([2], dtype='int64'), setting trip cluster to 17\n",
      "(1, 4) Int64Index([177], dtype='int64')\n",
      "valid combo (1, 4) found for entries Int64Index([177], dtype='int64'), setting trip cluster to 18\n",
      "(1, 10) Int64Index([46, 188, 193], dtype='int64')\n",
      "valid combo (1, 10) found for entries Int64Index([46, 188, 193], dtype='int64'), setting trip cluster to 19\n",
      "(1, 12) Int64Index([38, 78], dtype='int64')\n",
      "valid combo (1, 12) found for entries Int64Index([38, 78], dtype='int64'), setting trip cluster to 20\n",
      "(2, 2) Int64Index([3, 4], dtype='int64')\n",
      "valid combo (2, 2) found for entries Int64Index([3, 4], dtype='int64'), setting trip cluster to 21\n",
      "(2, 3) Int64Index([5], dtype='int64')\n",
      "valid combo (2, 3) found for entries Int64Index([5], dtype='int64'), setting trip cluster to 22\n",
      "(3, 4) Int64Index([6], dtype='int64')\n",
      "valid combo (3, 4) found for entries Int64Index([6], dtype='int64'), setting trip cluster to 23\n",
      "(3, 5) Int64Index([58], dtype='int64')\n",
      "valid combo (3, 5) found for entries Int64Index([58], dtype='int64'), setting trip cluster to 24\n",
      "(3, 7) Int64Index([91], dtype='int64')\n",
      "valid combo (3, 7) found for entries Int64Index([91], dtype='int64'), setting trip cluster to 25\n",
      "(4, 0) Int64Index([23, 53, 60, 93, 126, 178], dtype='int64')\n",
      "valid combo (4, 0) found for entries Int64Index([23, 53, 60, 93, 126, 178], dtype='int64'), setting trip cluster to 26\n",
      "(4, 5) Int64Index([7, 88, 111], dtype='int64')\n",
      "valid combo (4, 5) found for entries Int64Index([7, 88, 111], dtype='int64'), setting trip cluster to 27\n",
      "(4, 8) Int64Index([123], dtype='int64')\n",
      "valid combo (4, 8) found for entries Int64Index([123], dtype='int64'), setting trip cluster to 28\n",
      "(5, 3) Int64Index([90], dtype='int64')\n",
      "valid combo (5, 3) found for entries Int64Index([90], dtype='int64'), setting trip cluster to 29\n",
      "(5, 4) Int64Index([59], dtype='int64')\n",
      "valid combo (5, 4) found for entries Int64Index([59], dtype='int64'), setting trip cluster to 30\n",
      "(5, 5) Int64Index([8, 89], dtype='int64')\n",
      "valid combo (5, 5) found for entries Int64Index([8, 89], dtype='int64'), setting trip cluster to 31\n",
      "(5, 6) Int64Index([9], dtype='int64')\n",
      "valid combo (5, 6) found for entries Int64Index([9], dtype='int64'), setting trip cluster to 32\n",
      "(5, 8) Int64Index([106], dtype='int64')\n",
      "valid combo (5, 8) found for entries Int64Index([106], dtype='int64'), setting trip cluster to 33\n",
      "(5, 14) Int64Index([174], dtype='int64')\n",
      "valid combo (5, 14) found for entries Int64Index([174], dtype='int64'), setting trip cluster to 34\n",
      "(5, 17) Int64Index([112], dtype='int64')\n",
      "valid combo (5, 17) found for entries Int64Index([112], dtype='int64'), setting trip cluster to 35\n",
      "(5, 18) Int64Index([118], dtype='int64')\n",
      "valid combo (5, 18) found for entries Int64Index([118], dtype='int64'), setting trip cluster to 36\n",
      "(6, 4) Int64Index([22, 52, 92, 125], dtype='int64')\n",
      "valid combo (6, 4) found for entries Int64Index([22, 52, 92, 125], dtype='int64'), setting trip cluster to 37\n",
      "(6, 7) Int64Index([12, 13], dtype='int64')\n",
      "valid combo (6, 7) found for entries Int64Index([12, 13], dtype='int64'), setting trip cluster to 38\n",
      "(6, 8) Int64Index([14], dtype='int64')\n",
      "valid combo (6, 8) found for entries Int64Index([14], dtype='int64'), setting trip cluster to 39\n",
      "(7, 7) Int64Index([51, 124], dtype='int64')\n",
      "valid combo (7, 7) found for entries Int64Index([51, 124], dtype='int64'), setting trip cluster to 40\n",
      "(7, 9) Int64Index([15, 107], dtype='int64')\n",
      "valid combo (7, 9) found for entries Int64Index([15, 107], dtype='int64'), setting trip cluster to 41\n",
      "(7, 16) Int64Index([82], dtype='int64')\n",
      "valid combo (7, 16) found for entries Int64Index([82], dtype='int64'), setting trip cluster to 42\n",
      "(8, -1) Int64Index([18], dtype='int64')\n",
      "invalid combo (8, -1) found for entries Int64Index([18], dtype='int64'), trip is not in a cluster\n",
      "(8, 9) Int64Index([16, 17], dtype='int64')\n",
      "valid combo (8, 9) found for entries Int64Index([16, 17], dtype='int64'), setting trip cluster to 43\n",
      "(8, 10) Int64Index([108], dtype='int64')\n",
      "valid combo (8, 10) found for entries Int64Index([108], dtype='int64'), setting trip cluster to 44\n",
      "(9, 0) Int64Index([20, 40, 80, 109, 115, 189], dtype='int64')\n",
      "valid combo (9, 0) found for entries Int64Index([20, 40, 80, 109, 115, 189], dtype='int64'), setting trip cluster to 45\n",
      "(9, 1) Int64Index([76, 187], dtype='int64')\n",
      "valid combo (9, 1) found for entries Int64Index([76, 187], dtype='int64'), setting trip cluster to 46\n",
      "(9, 6) Int64Index([194], dtype='int64')\n",
      "valid combo (9, 6) found for entries Int64Index([194], dtype='int64'), setting trip cluster to 47\n",
      "(9, 8) Int64Index([50], dtype='int64')\n",
      "valid combo (9, 8) found for entries Int64Index([50], dtype='int64'), setting trip cluster to 48\n",
      "(10, -1) Int64Index([43, 71], dtype='int64')\n",
      "invalid combo (10, -1) found for entries Int64Index([43, 71], dtype='int64'), trip is not in a cluster\n",
      "(10, 0) Int64Index([25, 66, 171], dtype='int64')\n",
      "valid combo (10, 0) found for entries Int64Index([25, 66, 171], dtype='int64'), setting trip cluster to 49\n",
      "(10, 11) Int64Index([64, 65, 70], dtype='int64')\n",
      "valid combo (10, 11) found for entries Int64Index([64, 65, 70], dtype='int64'), setting trip cluster to 50\n",
      "(11, -1) Int64Index([30], dtype='int64')\n",
      "invalid combo (11, -1) found for entries Int64Index([30], dtype='int64'), trip is not in a cluster\n",
      "(11, 0) Int64Index([31], dtype='int64')\n",
      "valid combo (11, 0) found for entries Int64Index([31], dtype='int64'), setting trip cluster to 51\n",
      "(12, 10) Int64Index([39, 79], dtype='int64')\n",
      "valid combo (12, 10) found for entries Int64Index([39, 79], dtype='int64'), setting trip cluster to 52\n",
      "(13, 0) Int64Index([55, 102, 137], dtype='int64')\n",
      "valid combo (13, 0) found for entries Int64Index([55, 102, 137], dtype='int64'), setting trip cluster to 53\n",
      "(14, 1) Int64Index([175], dtype='int64')\n",
      "valid combo (14, 1) found for entries Int64Index([175], dtype='int64'), setting trip cluster to 54\n",
      "(14, 3) Int64Index([57], dtype='int64')\n",
      "valid combo (14, 3) found for entries Int64Index([57], dtype='int64'), setting trip cluster to 55\n",
      "(15, 15) Int64Index([61, 103], dtype='int64')\n",
      "valid combo (15, 15) found for entries Int64Index([61, 103], dtype='int64'), setting trip cluster to 56\n",
      "(16, 0) Int64Index([62, 96, 104, 142, 165], dtype='int64')\n",
      "valid combo (16, 0) found for entries Int64Index([62, 96, 104, 142, 165], dtype='int64'), setting trip cluster to 57\n",
      "(16, 15) Int64Index([164], dtype='int64')\n",
      "valid combo (16, 15) found for entries Int64Index([164], dtype='int64'), setting trip cluster to 58\n",
      "(17, 0) Int64Index([86], dtype='int64')\n",
      "valid combo (17, 0) found for entries Int64Index([86], dtype='int64'), setting trip cluster to 59\n",
      "(17, 16) Int64Index([83, 84, 85], dtype='int64')\n",
      "valid combo (17, 16) found for entries Int64Index([83, 84, 85], dtype='int64'), setting trip cluster to 60\n",
      "(18, 10) Int64Index([114], dtype='int64')\n",
      "valid combo (18, 10) found for entries Int64Index([114], dtype='int64'), setting trip cluster to 61\n",
      "(18, 17) Int64Index([113], dtype='int64')\n",
      "valid combo (18, 17) found for entries Int64Index([113], dtype='int64'), setting trip cluster to 62\n",
      "(19, -1) Int64Index([120], dtype='int64')\n",
      "invalid combo (19, -1) found for entries Int64Index([120], dtype='int64'), trip is not in a cluster\n",
      "(19, 18) Int64Index([119], dtype='int64')\n",
      "valid combo (19, 18) found for entries Int64Index([119], dtype='int64'), setting trip cluster to 63\n",
      "(20, 0) Int64Index([155], dtype='int64')\n",
      "valid combo (20, 0) found for entries Int64Index([155], dtype='int64'), setting trip cluster to 64\n",
      "(20, 6) Int64Index([130, 151], dtype='int64')\n",
      "valid combo (20, 6) found for entries Int64Index([130, 151], dtype='int64'), setting trip cluster to 65\n",
      "(21, 0) Int64Index([132, 148], dtype='int64')\n",
      "valid combo (21, 0) found for entries Int64Index([132, 148], dtype='int64'), setting trip cluster to 66\n",
      "(22, -1) Int64Index([162], dtype='int64')\n",
      "invalid combo (22, -1) found for entries Int64Index([162], dtype='int64'), trip is not in a cluster\n",
      "(22, 20) Int64Index([157, 158, 159, 160, 161], dtype='int64')\n",
      "valid combo (22, 20) found for entries Int64Index([157, 158, 159, 160, 161], dtype='int64'), setting trip cluster to 67\n",
      "(23, 0) Int64Index([185, 200, 203, 205], dtype='int64')\n",
      "valid combo (23, 0) found for entries Int64Index([185, 200, 203, 205], dtype='int64'), setting trip cluster to 68\n"
     ]
    },
    {
     "data": {
      "text/html": [
       "<div>\n",
       "<style scoped>\n",
       "    .dataframe tbody tr th:only-of-type {\n",
       "        vertical-align: middle;\n",
       "    }\n",
       "\n",
       "    .dataframe tbody tr th {\n",
       "        vertical-align: top;\n",
       "    }\n",
       "\n",
       "    .dataframe thead th {\n",
       "        text-align: right;\n",
       "    }\n",
       "</style>\n",
       "<table border=\"1\" class=\"dataframe\">\n",
       "  <thead>\n",
       "    <tr style=\"text-align: right;\">\n",
       "      <th></th>\n",
       "      <th>source</th>\n",
       "      <th>end_ts</th>\n",
       "      <th>end_fmt_time</th>\n",
       "      <th>end_loc</th>\n",
       "      <th>raw_trip</th>\n",
       "      <th>start_ts</th>\n",
       "      <th>start_fmt_time</th>\n",
       "      <th>start_loc</th>\n",
       "      <th>duration</th>\n",
       "      <th>distance</th>\n",
       "      <th>...</th>\n",
       "      <th>end_local_dt_timezone</th>\n",
       "      <th>_id</th>\n",
       "      <th>user_id</th>\n",
       "      <th>metadata_write_ts</th>\n",
       "      <th>mode_confirm</th>\n",
       "      <th>purpose_confirm</th>\n",
       "      <th>replaced_mode</th>\n",
       "      <th>start_loc_cluster</th>\n",
       "      <th>end_loc_cluster</th>\n",
       "      <th>trip_cluster_dbscan</th>\n",
       "    </tr>\n",
       "  </thead>\n",
       "  <tbody>\n",
       "    <tr>\n",
       "      <th>0</th>\n",
       "      <td>DwellSegmentationTimeFilter</td>\n",
       "      <td>1.604364e+09</td>\n",
       "      <td>2020-11-02T17:45:22.115000-07:00</td>\n",
       "      <td>{'type': 'Point', 'coordinates': [-104.9409405...</td>\n",
       "      <td>5fa139609ae96f3a5fcdef31</td>\n",
       "      <td>1.604364e+09</td>\n",
       "      <td>2020-11-02T17:39:08.049000-07:00</td>\n",
       "      <td>{'type': 'Point', 'coordinates': [-104.9398732...</td>\n",
       "      <td>374.066000</td>\n",
       "      <td>384.730231</td>\n",
       "      <td>...</td>\n",
       "      <td>America/Denver</td>\n",
       "      <td>600533265e173ffb99e07625</td>\n",
       "      <td>1d292b85-c549-409a-a10d-746e957582a0</td>\n",
       "      <td>1.604402e+09</td>\n",
       "      <td>walk</td>\n",
       "      <td>meal</td>\n",
       "      <td>same_mode</td>\n",
       "      <td>0</td>\n",
       "      <td>0</td>\n",
       "      <td>0.0</td>\n",
       "    </tr>\n",
       "    <tr>\n",
       "      <th>1</th>\n",
       "      <td>DwellSegmentationTimeFilter</td>\n",
       "      <td>1.604604e+09</td>\n",
       "      <td>2020-11-05T12:12:12-07:00</td>\n",
       "      <td>{'type': 'Point', 'coordinates': [-105.0670666...</td>\n",
       "      <td>5fa4690763a5e0e8d90c7fa4</td>\n",
       "      <td>1.604601e+09</td>\n",
       "      <td>2020-11-05T11:30:56.952000-07:00</td>\n",
       "      <td>{'type': 'Point', 'coordinates': [-104.9479963...</td>\n",
       "      <td>2475.048000</td>\n",
       "      <td>13765.915676</td>\n",
       "      <td>...</td>\n",
       "      <td>America/Denver</td>\n",
       "      <td>600533265e173ffb99e07626</td>\n",
       "      <td>1d292b85-c549-409a-a10d-746e957582a0</td>\n",
       "      <td>1.604610e+09</td>\n",
       "      <td>train</td>\n",
       "      <td>personal_med</td>\n",
       "      <td>same_mode</td>\n",
       "      <td>0</td>\n",
       "      <td>1</td>\n",
       "      <td>1.0</td>\n",
       "    </tr>\n",
       "    <tr>\n",
       "      <th>2</th>\n",
       "      <td>DwellSegmentationTimeFilter</td>\n",
       "      <td>1.604604e+09</td>\n",
       "      <td>2020-11-05T12:27:22-07:00</td>\n",
       "      <td>{'type': 'Point', 'coordinates': [-105.080878,...</td>\n",
       "      <td>5fa4690763a5e0e8d90c7fa8</td>\n",
       "      <td>1.604604e+09</td>\n",
       "      <td>2020-11-05T12:22:21.130739-07:00</td>\n",
       "      <td>{'type': 'Point', 'coordinates': [-105.0670666...</td>\n",
       "      <td>300.869261</td>\n",
       "      <td>1508.223413</td>\n",
       "      <td>...</td>\n",
       "      <td>America/Denver</td>\n",
       "      <td>600533265e173ffb99e07627</td>\n",
       "      <td>1d292b85-c549-409a-a10d-746e957582a0</td>\n",
       "      <td>1.604610e+09</td>\n",
       "      <td>skateboard</td>\n",
       "      <td>transit_transfer</td>\n",
       "      <td>bus</td>\n",
       "      <td>1</td>\n",
       "      <td>2</td>\n",
       "      <td>17.0</td>\n",
       "    </tr>\n",
       "    <tr>\n",
       "      <th>3</th>\n",
       "      <td>DwellSegmentationTimeFilter</td>\n",
       "      <td>1.604606e+09</td>\n",
       "      <td>2020-11-05T12:47:29.017000-07:00</td>\n",
       "      <td>{'type': 'Point', 'coordinates': [-105.0827029...</td>\n",
       "      <td>5fa4690763a5e0e8d90c7faa</td>\n",
       "      <td>1.604605e+09</td>\n",
       "      <td>2020-11-05T12:42:19.793043-07:00</td>\n",
       "      <td>{'type': 'Point', 'coordinates': [-105.080878,...</td>\n",
       "      <td>309.223957</td>\n",
       "      <td>434.038504</td>\n",
       "      <td>...</td>\n",
       "      <td>America/Denver</td>\n",
       "      <td>600533265e173ffb99e07628</td>\n",
       "      <td>1d292b85-c549-409a-a10d-746e957582a0</td>\n",
       "      <td>1.604610e+09</td>\n",
       "      <td>not_a_trip</td>\n",
       "      <td>transit_transfer</td>\n",
       "      <td>same_mode</td>\n",
       "      <td>2</td>\n",
       "      <td>2</td>\n",
       "      <td>21.0</td>\n",
       "    </tr>\n",
       "    <tr>\n",
       "      <th>4</th>\n",
       "      <td>DwellSegmentationTimeFilter</td>\n",
       "      <td>1.604610e+09</td>\n",
       "      <td>2020-11-05T13:54:28.880000-07:00</td>\n",
       "      <td>{'type': 'Point', 'coordinates': [-105.0824703...</td>\n",
       "      <td>5fa4771a533f6ebf89c7c5e3</td>\n",
       "      <td>1.604610e+09</td>\n",
       "      <td>2020-11-05T13:52:57.667396-07:00</td>\n",
       "      <td>{'type': 'Point', 'coordinates': [-105.0827029...</td>\n",
       "      <td>91.212605</td>\n",
       "      <td>333.230154</td>\n",
       "      <td>...</td>\n",
       "      <td>America/Denver</td>\n",
       "      <td>600533265e173ffb99e07629</td>\n",
       "      <td>1d292b85-c549-409a-a10d-746e957582a0</td>\n",
       "      <td>1.604614e+09</td>\n",
       "      <td>not_a_trip</td>\n",
       "      <td>transit_transfer</td>\n",
       "      <td>same_mode</td>\n",
       "      <td>2</td>\n",
       "      <td>2</td>\n",
       "      <td>21.0</td>\n",
       "    </tr>\n",
       "    <tr>\n",
       "      <th>...</th>\n",
       "      <td>...</td>\n",
       "      <td>...</td>\n",
       "      <td>...</td>\n",
       "      <td>...</td>\n",
       "      <td>...</td>\n",
       "      <td>...</td>\n",
       "      <td>...</td>\n",
       "      <td>...</td>\n",
       "      <td>...</td>\n",
       "      <td>...</td>\n",
       "      <td>...</td>\n",
       "      <td>...</td>\n",
       "      <td>...</td>\n",
       "      <td>...</td>\n",
       "      <td>...</td>\n",
       "      <td>...</td>\n",
       "      <td>...</td>\n",
       "      <td>...</td>\n",
       "      <td>...</td>\n",
       "      <td>...</td>\n",
       "      <td>...</td>\n",
       "    </tr>\n",
       "    <tr>\n",
       "      <th>203</th>\n",
       "      <td>DwellSegmentationTimeFilter</td>\n",
       "      <td>1.612027e+09</td>\n",
       "      <td>2021-01-30T10:10:11.271000-07:00</td>\n",
       "      <td>{'type': 'Point', 'coordinates': [-104.9412627...</td>\n",
       "      <td>60159fde780d93a383aeaceb</td>\n",
       "      <td>1.612026e+09</td>\n",
       "      <td>2021-01-30T10:03:38.301500-07:00</td>\n",
       "      <td>{'type': 'Point', 'coordinates': [-104.9410274...</td>\n",
       "      <td>392.969500</td>\n",
       "      <td>1661.638751</td>\n",
       "      <td>...</td>\n",
       "      <td>America/Denver</td>\n",
       "      <td>60159ff0780d93a383aead21</td>\n",
       "      <td>1d292b85-c549-409a-a10d-746e957582a0</td>\n",
       "      <td>1.612030e+09</td>\n",
       "      <td>shared_ride</td>\n",
       "      <td>work</td>\n",
       "      <td>same_mode</td>\n",
       "      <td>23</td>\n",
       "      <td>0</td>\n",
       "      <td>68.0</td>\n",
       "    </tr>\n",
       "    <tr>\n",
       "      <th>204</th>\n",
       "      <td>DwellSegmentationTimeFilter</td>\n",
       "      <td>1.612030e+09</td>\n",
       "      <td>2021-01-30T11:09:00.496000-07:00</td>\n",
       "      <td>{'type': 'Point', 'coordinates': [-104.9410838...</td>\n",
       "      <td>6015adea1bab2d95b869355e</td>\n",
       "      <td>1.612030e+09</td>\n",
       "      <td>2021-01-30T11:00:38.619918-07:00</td>\n",
       "      <td>{'type': 'Point', 'coordinates': [-104.9412627...</td>\n",
       "      <td>501.876082</td>\n",
       "      <td>1689.490782</td>\n",
       "      <td>...</td>\n",
       "      <td>America/Denver</td>\n",
       "      <td>6015ae001bab2d95b86935aa</td>\n",
       "      <td>1d292b85-c549-409a-a10d-746e957582a0</td>\n",
       "      <td>1.612034e+09</td>\n",
       "      <td>shared_ride</td>\n",
       "      <td>work</td>\n",
       "      <td>same_mode</td>\n",
       "      <td>0</td>\n",
       "      <td>21</td>\n",
       "      <td>14.0</td>\n",
       "    </tr>\n",
       "    <tr>\n",
       "      <th>205</th>\n",
       "      <td>DwellSegmentationTimeFilter</td>\n",
       "      <td>1.612031e+09</td>\n",
       "      <td>2021-01-30T11:27:40.596000-07:00</td>\n",
       "      <td>{'type': 'Point', 'coordinates': [-104.9412735...</td>\n",
       "      <td>6015adeb1bab2d95b8693560</td>\n",
       "      <td>1.612030e+09</td>\n",
       "      <td>2021-01-30T11:12:00.496000-07:00</td>\n",
       "      <td>{'type': 'Point', 'coordinates': [-104.9410838...</td>\n",
       "      <td>940.100000</td>\n",
       "      <td>1626.118529</td>\n",
       "      <td>...</td>\n",
       "      <td>America/Denver</td>\n",
       "      <td>6015ae001bab2d95b86935ab</td>\n",
       "      <td>1d292b85-c549-409a-a10d-746e957582a0</td>\n",
       "      <td>1.612034e+09</td>\n",
       "      <td>shared_ride</td>\n",
       "      <td>home</td>\n",
       "      <td>same_mode</td>\n",
       "      <td>23</td>\n",
       "      <td>0</td>\n",
       "      <td>68.0</td>\n",
       "    </tr>\n",
       "    <tr>\n",
       "      <th>206</th>\n",
       "      <td>DwellSegmentationTimeFilter</td>\n",
       "      <td>1.612037e+09</td>\n",
       "      <td>2021-01-30T12:59:27.149000-07:00</td>\n",
       "      <td>{'type': 'Point', 'coordinates': [-104.9397768...</td>\n",
       "      <td>6015ca10995adf38c815560e</td>\n",
       "      <td>1.612036e+09</td>\n",
       "      <td>2021-01-30T12:47:19.349658-07:00</td>\n",
       "      <td>{'type': 'Point', 'coordinates': [-104.9412735...</td>\n",
       "      <td>727.799341</td>\n",
       "      <td>255.993197</td>\n",
       "      <td>...</td>\n",
       "      <td>America/Denver</td>\n",
       "      <td>6015ca11995adf38c8155653</td>\n",
       "      <td>1d292b85-c549-409a-a10d-746e957582a0</td>\n",
       "      <td>1.612041e+09</td>\n",
       "      <td>walk</td>\n",
       "      <td>meal</td>\n",
       "      <td>same_mode</td>\n",
       "      <td>0</td>\n",
       "      <td>0</td>\n",
       "      <td>0.0</td>\n",
       "    </tr>\n",
       "    <tr>\n",
       "      <th>207</th>\n",
       "      <td>DwellSegmentationTimeFilter</td>\n",
       "      <td>1.612037e+09</td>\n",
       "      <td>2021-01-30T13:10:55.460000-07:00</td>\n",
       "      <td>{'type': 'Point', 'coordinates': [-104.9413888...</td>\n",
       "      <td>6015ca10995adf38c8155610</td>\n",
       "      <td>1.612037e+09</td>\n",
       "      <td>2021-01-30T13:02:27.149000-07:00</td>\n",
       "      <td>{'type': 'Point', 'coordinates': [-104.9397768...</td>\n",
       "      <td>508.311000</td>\n",
       "      <td>224.726835</td>\n",
       "      <td>...</td>\n",
       "      <td>America/Denver</td>\n",
       "      <td>6015ca11995adf38c8155654</td>\n",
       "      <td>1d292b85-c549-409a-a10d-746e957582a0</td>\n",
       "      <td>1.612041e+09</td>\n",
       "      <td>walk</td>\n",
       "      <td>home</td>\n",
       "      <td>same_mode</td>\n",
       "      <td>0</td>\n",
       "      <td>0</td>\n",
       "      <td>0.0</td>\n",
       "    </tr>\n",
       "  </tbody>\n",
       "</table>\n",
       "<p>208 rows × 39 columns</p>\n",
       "</div>"
      ],
      "text/plain": [
       "                          source        end_ts  \\\n",
       "0    DwellSegmentationTimeFilter  1.604364e+09   \n",
       "1    DwellSegmentationTimeFilter  1.604604e+09   \n",
       "2    DwellSegmentationTimeFilter  1.604604e+09   \n",
       "3    DwellSegmentationTimeFilter  1.604606e+09   \n",
       "4    DwellSegmentationTimeFilter  1.604610e+09   \n",
       "..                           ...           ...   \n",
       "203  DwellSegmentationTimeFilter  1.612027e+09   \n",
       "204  DwellSegmentationTimeFilter  1.612030e+09   \n",
       "205  DwellSegmentationTimeFilter  1.612031e+09   \n",
       "206  DwellSegmentationTimeFilter  1.612037e+09   \n",
       "207  DwellSegmentationTimeFilter  1.612037e+09   \n",
       "\n",
       "                         end_fmt_time  \\\n",
       "0    2020-11-02T17:45:22.115000-07:00   \n",
       "1           2020-11-05T12:12:12-07:00   \n",
       "2           2020-11-05T12:27:22-07:00   \n",
       "3    2020-11-05T12:47:29.017000-07:00   \n",
       "4    2020-11-05T13:54:28.880000-07:00   \n",
       "..                                ...   \n",
       "203  2021-01-30T10:10:11.271000-07:00   \n",
       "204  2021-01-30T11:09:00.496000-07:00   \n",
       "205  2021-01-30T11:27:40.596000-07:00   \n",
       "206  2021-01-30T12:59:27.149000-07:00   \n",
       "207  2021-01-30T13:10:55.460000-07:00   \n",
       "\n",
       "                                               end_loc  \\\n",
       "0    {'type': 'Point', 'coordinates': [-104.9409405...   \n",
       "1    {'type': 'Point', 'coordinates': [-105.0670666...   \n",
       "2    {'type': 'Point', 'coordinates': [-105.080878,...   \n",
       "3    {'type': 'Point', 'coordinates': [-105.0827029...   \n",
       "4    {'type': 'Point', 'coordinates': [-105.0824703...   \n",
       "..                                                 ...   \n",
       "203  {'type': 'Point', 'coordinates': [-104.9412627...   \n",
       "204  {'type': 'Point', 'coordinates': [-104.9410838...   \n",
       "205  {'type': 'Point', 'coordinates': [-104.9412735...   \n",
       "206  {'type': 'Point', 'coordinates': [-104.9397768...   \n",
       "207  {'type': 'Point', 'coordinates': [-104.9413888...   \n",
       "\n",
       "                     raw_trip      start_ts                    start_fmt_time  \\\n",
       "0    5fa139609ae96f3a5fcdef31  1.604364e+09  2020-11-02T17:39:08.049000-07:00   \n",
       "1    5fa4690763a5e0e8d90c7fa4  1.604601e+09  2020-11-05T11:30:56.952000-07:00   \n",
       "2    5fa4690763a5e0e8d90c7fa8  1.604604e+09  2020-11-05T12:22:21.130739-07:00   \n",
       "3    5fa4690763a5e0e8d90c7faa  1.604605e+09  2020-11-05T12:42:19.793043-07:00   \n",
       "4    5fa4771a533f6ebf89c7c5e3  1.604610e+09  2020-11-05T13:52:57.667396-07:00   \n",
       "..                        ...           ...                               ...   \n",
       "203  60159fde780d93a383aeaceb  1.612026e+09  2021-01-30T10:03:38.301500-07:00   \n",
       "204  6015adea1bab2d95b869355e  1.612030e+09  2021-01-30T11:00:38.619918-07:00   \n",
       "205  6015adeb1bab2d95b8693560  1.612030e+09  2021-01-30T11:12:00.496000-07:00   \n",
       "206  6015ca10995adf38c815560e  1.612036e+09  2021-01-30T12:47:19.349658-07:00   \n",
       "207  6015ca10995adf38c8155610  1.612037e+09  2021-01-30T13:02:27.149000-07:00   \n",
       "\n",
       "                                             start_loc     duration  \\\n",
       "0    {'type': 'Point', 'coordinates': [-104.9398732...   374.066000   \n",
       "1    {'type': 'Point', 'coordinates': [-104.9479963...  2475.048000   \n",
       "2    {'type': 'Point', 'coordinates': [-105.0670666...   300.869261   \n",
       "3    {'type': 'Point', 'coordinates': [-105.080878,...   309.223957   \n",
       "4    {'type': 'Point', 'coordinates': [-105.0827029...    91.212605   \n",
       "..                                                 ...          ...   \n",
       "203  {'type': 'Point', 'coordinates': [-104.9410274...   392.969500   \n",
       "204  {'type': 'Point', 'coordinates': [-104.9412627...   501.876082   \n",
       "205  {'type': 'Point', 'coordinates': [-104.9410838...   940.100000   \n",
       "206  {'type': 'Point', 'coordinates': [-104.9412735...   727.799341   \n",
       "207  {'type': 'Point', 'coordinates': [-104.9397768...   508.311000   \n",
       "\n",
       "         distance  ... end_local_dt_timezone                       _id  \\\n",
       "0      384.730231  ...        America/Denver  600533265e173ffb99e07625   \n",
       "1    13765.915676  ...        America/Denver  600533265e173ffb99e07626   \n",
       "2     1508.223413  ...        America/Denver  600533265e173ffb99e07627   \n",
       "3      434.038504  ...        America/Denver  600533265e173ffb99e07628   \n",
       "4      333.230154  ...        America/Denver  600533265e173ffb99e07629   \n",
       "..            ...  ...                   ...                       ...   \n",
       "203   1661.638751  ...        America/Denver  60159ff0780d93a383aead21   \n",
       "204   1689.490782  ...        America/Denver  6015ae001bab2d95b86935aa   \n",
       "205   1626.118529  ...        America/Denver  6015ae001bab2d95b86935ab   \n",
       "206    255.993197  ...        America/Denver  6015ca11995adf38c8155653   \n",
       "207    224.726835  ...        America/Denver  6015ca11995adf38c8155654   \n",
       "\n",
       "                                  user_id metadata_write_ts  mode_confirm  \\\n",
       "0    1d292b85-c549-409a-a10d-746e957582a0      1.604402e+09          walk   \n",
       "1    1d292b85-c549-409a-a10d-746e957582a0      1.604610e+09         train   \n",
       "2    1d292b85-c549-409a-a10d-746e957582a0      1.604610e+09    skateboard   \n",
       "3    1d292b85-c549-409a-a10d-746e957582a0      1.604610e+09    not_a_trip   \n",
       "4    1d292b85-c549-409a-a10d-746e957582a0      1.604614e+09    not_a_trip   \n",
       "..                                    ...               ...           ...   \n",
       "203  1d292b85-c549-409a-a10d-746e957582a0      1.612030e+09   shared_ride   \n",
       "204  1d292b85-c549-409a-a10d-746e957582a0      1.612034e+09   shared_ride   \n",
       "205  1d292b85-c549-409a-a10d-746e957582a0      1.612034e+09   shared_ride   \n",
       "206  1d292b85-c549-409a-a10d-746e957582a0      1.612041e+09          walk   \n",
       "207  1d292b85-c549-409a-a10d-746e957582a0      1.612041e+09          walk   \n",
       "\n",
       "      purpose_confirm  replaced_mode  start_loc_cluster  end_loc_cluster  \\\n",
       "0                meal      same_mode                  0                0   \n",
       "1        personal_med      same_mode                  0                1   \n",
       "2    transit_transfer            bus                  1                2   \n",
       "3    transit_transfer      same_mode                  2                2   \n",
       "4    transit_transfer      same_mode                  2                2   \n",
       "..                ...            ...                ...              ...   \n",
       "203              work      same_mode                 23                0   \n",
       "204              work      same_mode                  0               21   \n",
       "205              home      same_mode                 23                0   \n",
       "206              meal      same_mode                  0                0   \n",
       "207              home      same_mode                  0                0   \n",
       "\n",
       "     trip_cluster_dbscan  \n",
       "0                    0.0  \n",
       "1                    1.0  \n",
       "2                   17.0  \n",
       "3                   21.0  \n",
       "4                   21.0  \n",
       "..                   ...  \n",
       "203                 68.0  \n",
       "204                 14.0  \n",
       "205                 68.0  \n",
       "206                  0.0  \n",
       "207                  0.0  \n",
       "\n",
       "[208 rows x 39 columns]"
      ]
     },
     "execution_count": 22,
     "metadata": {},
     "output_type": "execute_result"
    }
   ],
   "source": [
    "# Create DBSCAN clusters\n",
    "modeling_support_objects = {}\n",
    "add_trip_clusters_dbscan(user_id, add_loc_clusters(user_id, modeling_support_objects, user_trip_df))"
   ]
  },
  {
   "cell_type": "code",
   "execution_count": 23,
   "id": "cardiovascular-artwork",
   "metadata": {},
   "outputs": [
    {
     "name": "stdout",
     "output_type": "stream",
     "text": [
      "[6, 19, 100, 106, 115, 120, 149]\n",
      "[18, 71, 99, 105, 107, 114, 116]\n",
      "[12, 26, 60, 84, 89, 143]\n",
      "[15, 38, 45, 70, 98, 133]\n",
      "[16, 27, 48, 50, 128]\n",
      "[47, 73, 79, 113, 127]\n",
      "[14, 37, 69, 97]\n",
      "[138, 153, 155, 157]\n",
      "[139, 154, 156, 158]\n",
      "[4, 66, 86]\n",
      "[17, 49, 129]\n",
      "[31, 142, 147]\n",
      "[34, 55, 140]\n",
      "[40, 77, 109]\n",
      "[65, 85, 94]\n",
      "[7, 13]\n",
      "[9, 82]\n",
      "[23, 30]\n",
      "[25, 59]\n",
      "[36, 96]\n",
      "[39, 76]\n",
      "[46, 78]\n",
      "[56, 141]\n",
      "[72, 112]\n",
      "[80, 90]\n",
      "[101, 118]\n",
      "[102, 119]\n",
      "[104, 117]\n",
      "[0]\n",
      "[1]\n",
      "[2]\n",
      "[3]\n",
      "[5]\n",
      "[8]\n",
      "[10]\n",
      "[11]\n",
      "[20]\n",
      "[21]\n",
      "[22]\n",
      "[24]\n",
      "[28]\n",
      "[29]\n",
      "[32]\n",
      "[33]\n",
      "[35]\n",
      "[41]\n",
      "[42]\n",
      "[43]\n",
      "[44]\n",
      "[51]\n",
      "[52]\n",
      "[53]\n",
      "[54]\n",
      "[57]\n",
      "[58]\n",
      "[61]\n",
      "[62]\n",
      "[63]\n",
      "[64]\n",
      "[67]\n",
      "[68]\n",
      "[74]\n",
      "[75]\n",
      "[81]\n",
      "[83]\n",
      "[87]\n",
      "[88]\n",
      "[91]\n",
      "[92]\n",
      "[93]\n",
      "[95]\n",
      "[103]\n",
      "[108]\n",
      "[110]\n",
      "[111]\n",
      "[121]\n",
      "[122]\n",
      "[123]\n",
      "[124]\n",
      "[125]\n",
      "[126]\n",
      "[130]\n",
      "[131]\n",
      "[132]\n",
      "[134]\n",
      "[135]\n",
      "[136]\n",
      "[137]\n",
      "[144]\n",
      "[145]\n",
      "[146]\n",
      "[148]\n",
      "[150]\n",
      "[151]\n",
      "[152]\n"
     ]
    }
   ],
   "source": [
    "# Create oursim bin\n",
    "# curr_sim.bin_data()\n",
    "all_bins = curr_sim.bins\n",
    "for b in all_bins:\n",
    "    print(b)"
   ]
  },
  {
   "cell_type": "markdown",
   "id": "tutorial-injury",
   "metadata": {},
   "source": [
    "Let's try to convert the bins into labels to be consistent with the sklearn clustering algorithms\n",
    "**TODO: This should really go into the sim implementation**\n",
    "again, to be consistent with the sklearn configuration, we use a min_sample of 2\n",
    "so trips that are in a bin of length 1 are noise. the others are in a labeled cluster"
   ]
  },
  {
   "cell_type": "code",
   "execution_count": 24,
   "id": "seven-shade",
   "metadata": {},
   "outputs": [
    {
     "data": {
      "text/plain": [
       "Int64Index([  0,   3,   4,   8,  12,  13,  16,  17,  29,  30,  32,  33,  35,\n",
       "             37,  41,  64,  65,  67,  68,  70,  83,  84,  89,  97,  98, 113,\n",
       "            116, 119, 140, 145, 146, 149, 157, 158, 159, 160, 161, 164, 166,\n",
       "            167, 168, 169, 172, 173, 176, 179, 201, 206, 207],\n",
       "           dtype='int64')"
      ]
     },
     "execution_count": 24,
     "metadata": {},
     "output_type": "execute_result"
    }
   ],
   "source": [
    "removed_trips.index"
   ]
  },
  {
   "cell_type": "code",
   "execution_count": 25,
   "id": "changing-closure",
   "metadata": {},
   "outputs": [
    {
     "data": {
      "text/plain": [
       "(49, 159, 208)"
      ]
     },
     "execution_count": 25,
     "metadata": {},
     "output_type": "execute_result"
    }
   ],
   "source": [
    "len(removed_trips), len(filtered_trip_df), len(user_trip_df)"
   ]
  },
  {
   "cell_type": "code",
   "execution_count": 26,
   "id": "opposite-selling",
   "metadata": {},
   "outputs": [],
   "source": [
    "import itertools"
   ]
  },
  {
   "cell_type": "code",
   "execution_count": 27,
   "id": "formed-sudan",
   "metadata": {},
   "outputs": [
    {
     "data": {
      "text/plain": [
       "[6, 19, 100, 106, 115]"
      ]
     },
     "execution_count": 27,
     "metadata": {},
     "output_type": "execute_result"
    }
   ],
   "source": [
    "flat_all_bins = list(itertools.chain(*all_bins)); flat_all_bins[:5]"
   ]
  },
  {
   "cell_type": "code",
   "execution_count": 28,
   "id": "random-failure",
   "metadata": {},
   "outputs": [
    {
     "data": {
      "text/plain": [
       "(159, 158)"
      ]
     },
     "execution_count": 28,
     "metadata": {},
     "output_type": "execute_result"
    }
   ],
   "source": [
    "len(flat_all_bins), max(flat_all_bins)"
   ]
  },
  {
   "cell_type": "code",
   "execution_count": 29,
   "id": "appropriate-passion",
   "metadata": {},
   "outputs": [],
   "source": [
    "# Let's start by assuming that everything is noise, and set the ones that are not\n",
    "# This is a bit tricky wrt indexing, since the indices of the trips in the bin are after filtering,\n",
    "# so don't match up 1:1 with the indices in the trip dataframe\n",
    "# since we create a new dataframe for the filtered trips, they should match up with the filtered dataframe\n",
    "# but the index of the filtered dataframe is a new RangeIndex, so it doesn't work for indexing into the result series\n",
    "# so we need to follow a two-step process as below\n",
    "def get_result_labels(user_trip_df, filtered_trip_df):\n",
    "    \"\"\"\n",
    "    user_trip_df: all trips that we are determining similarity for\n",
    "    filtered_trip_df: trips filtered out by the \"too_short\" metric\n",
    "    \"\"\"\n",
    "    result_labels = pd.Series([-1] * len(user_trip_df))\n",
    "    for i, curr_bin in enumerate(all_bins):\n",
    "        if len(curr_bin) > 1:\n",
    "            # get the trip ids of matching filtered trips for the current bin\n",
    "            matching_filtered_trip_ids = filtered_trip_df.loc[curr_bin]._id\n",
    "            # then, match by tripid to find the corresponding entries in the all_trips dataframe\n",
    "            matching_all_trip_ids = user_trip_df[user_trip_df._id.isin(matching_filtered_trip_ids)].index\n",
    "            result_labels.loc[matching_all_trip_ids] = i\n",
    "            \n",
    "    removed_trips = user_trip_df[~user_trip_df._id.isin(filtered_trip_df._id)]\n",
    "    # For now, we also mark the \"too short\" labels with -2 to help with our understanding\n",
    "    result_labels.loc[removed_trips.index] = -2\n",
    "    return result_labels"
   ]
  },
  {
   "cell_type": "code",
   "execution_count": 30,
   "id": "centered-space",
   "metadata": {},
   "outputs": [
    {
     "data": {
      "text/plain": [
       "Int64Index([23, 53, 60, 93, 126, 178], dtype='int64')"
      ]
     },
     "execution_count": 30,
     "metadata": {},
     "output_type": "execute_result"
    }
   ],
   "source": [
    "user_trip_df[user_trip_df._id.isin(filtered_trip_df.loc[[15, 38, 45, 70, 98, 133]]._id)].index"
   ]
  },
  {
   "cell_type": "code",
   "execution_count": 31,
   "id": "legendary-wholesale",
   "metadata": {},
   "outputs": [],
   "source": [
    "result_labels = get_result_labels(user_trip_df, filtered_trip_df)"
   ]
  },
  {
   "cell_type": "code",
   "execution_count": 32,
   "id": "wired-blast",
   "metadata": {},
   "outputs": [
    {
     "data": {
      "text/plain": [
       "([15, 38, 45, 70, 98, 133],\n",
       " 15     16\n",
       " 38     -1\n",
       " 45     17\n",
       " 70     -2\n",
       " 98     -2\n",
       " 133     1\n",
       " dtype: int64,\n",
       " 23     3\n",
       " 53     3\n",
       " 60     3\n",
       " 93     3\n",
       " 126    3\n",
       " 178    3\n",
       " dtype: int64)"
      ]
     },
     "execution_count": 32,
     "metadata": {},
     "output_type": "execute_result"
    }
   ],
   "source": [
    "# Quick inline unit test\n",
    "all_bins[3], result_labels.loc[all_bins[3]], result_labels[result_labels == 3]"
   ]
  },
  {
   "cell_type": "code",
   "execution_count": 33,
   "id": "interior-istanbul",
   "metadata": {},
   "outputs": [
    {
     "data": {
      "text/plain": [
       "(67, 49, 85, 208)"
      ]
     },
     "execution_count": 33,
     "metadata": {},
     "output_type": "execute_result"
    }
   ],
   "source": [
    "np.count_nonzero(result_labels == -1), np.count_nonzero(result_labels == -2), np.count_nonzero(result_labels > 0), len(result_labels)"
   ]
  },
  {
   "cell_type": "code",
   "execution_count": 34,
   "id": "surface-master",
   "metadata": {},
   "outputs": [],
   "source": [
    "user_trip_df[\"trip_cluster_oursim\"] = get_result_labels(user_trip_df, filtered_trip_df)"
   ]
  },
  {
   "cell_type": "code",
   "execution_count": 35,
   "id": "adjusted-quebec",
   "metadata": {},
   "outputs": [
    {
     "data": {
      "text/plain": [
       "(31, 67, 116)"
      ]
     },
     "execution_count": 35,
     "metadata": {},
     "output_type": "execute_result"
    }
   ],
   "source": [
    "# Moment of truth: which has more noise? The custom binning algo, which is not surprising since it is fairly naive\n",
    "np.count_nonzero(user_trip_df.trip_cluster_dbscan == -1), np.count_nonzero(user_trip_df.trip_cluster_oursim == -1), np.count_nonzero(user_trip_df.trip_cluster_oursim < 0)"
   ]
  },
  {
   "cell_type": "markdown",
   "id": "monetary-night",
   "metadata": {},
   "source": [
    "### Our similarity code marks more trips as noisy\n",
    "\n",
    "This is not super surprising, since our implementation is a fairly naive one written by an undergrad over the summer, while DBSCAN is a (hopefully) more sophisticated and better performing algorithm from the literature.\n",
    "\n",
    "At this point, between the too short filtering (unnecessary and somewhat erroneous), which removed 49 trips, and the noisier binning (67 v/s 31), we have removed 116 trips out of our original 208 (around 55%). In contrast, the DBSCAN implementation has removed only 31 / 208 = 14%. This is a huge difference in terms of ongoing modeling."
   ]
  },
  {
   "cell_type": "markdown",
   "id": "secondary-tactics",
   "metadata": {},
   "source": [
    "### Step 3: Determining the cutoff\n",
    "\n",
    "Since we have already marked all bins of length 1 as noise, I don't anticipate this make very much of a difference. But let's finish it anyway."
   ]
  },
  {
   "cell_type": "code",
   "execution_count": 36,
   "id": "hawaiian-fiction",
   "metadata": {},
   "outputs": [],
   "source": [
    "curr_sim.delete_bins()\n",
    "above_cutoff_bins = curr_sim.bins"
   ]
  },
  {
   "cell_type": "code",
   "execution_count": 37,
   "id": "mineral-republic",
   "metadata": {},
   "outputs": [
    {
     "data": {
      "text/plain": [
       "[[6, 19, 100, 106, 115, 120, 149],\n",
       " [18, 71, 99, 105, 107, 114, 116],\n",
       " [12, 26, 60, 84, 89, 143],\n",
       " [15, 38, 45, 70, 98, 133],\n",
       " [16, 27, 48, 50, 128],\n",
       " [47, 73, 79, 113, 127],\n",
       " [14, 37, 69, 97],\n",
       " [138, 153, 155, 157],\n",
       " [139, 154, 156, 158],\n",
       " [4, 66, 86],\n",
       " [17, 49, 129],\n",
       " [31, 142, 147],\n",
       " [34, 55, 140],\n",
       " [40, 77, 109],\n",
       " [65, 85, 94],\n",
       " [7, 13],\n",
       " [9, 82],\n",
       " [23, 30],\n",
       " [25, 59],\n",
       " [36, 96],\n",
       " [39, 76],\n",
       " [46, 78],\n",
       " [56, 141],\n",
       " [72, 112],\n",
       " [80, 90],\n",
       " [101, 118],\n",
       " [102, 119],\n",
       " [104, 117]]"
      ]
     },
     "execution_count": 37,
     "metadata": {},
     "output_type": "execute_result"
    }
   ],
   "source": [
    "above_cutoff_bins"
   ]
  },
  {
   "cell_type": "code",
   "execution_count": 38,
   "id": "false-saying",
   "metadata": {},
   "outputs": [
    {
     "data": {
      "text/plain": [
       "[6, 19, 100, 106, 115]"
      ]
     },
     "execution_count": 38,
     "metadata": {},
     "output_type": "execute_result"
    }
   ],
   "source": [
    "flat_all_bins = list(itertools.chain(*all_bins)); flat_all_bins[:5]"
   ]
  },
  {
   "cell_type": "code",
   "execution_count": 39,
   "id": "functional-sodium",
   "metadata": {},
   "outputs": [
    {
     "data": {
      "text/plain": [
       "(159, 92, 92)"
      ]
     },
     "execution_count": 39,
     "metadata": {},
     "output_type": "execute_result"
    }
   ],
   "source": [
    "len(curr_sim.data), len(curr_sim.newdata), len(flat_all_bins)"
   ]
  },
  {
   "cell_type": "code",
   "execution_count": 40,
   "id": "pointed-newton",
   "metadata": {},
   "outputs": [],
   "source": [
    "# It looks like the trips were not re-indexed here, so let's just go ahead with generating labels in the same way \n",
    "user_trip_df[\"trip_cluster_oursim_above_cutoff\"] = get_result_labels(user_trip_df, filtered_trip_df)"
   ]
  },
  {
   "cell_type": "code",
   "execution_count": 41,
   "id": "polish-showcase",
   "metadata": {},
   "outputs": [
    {
     "data": {
      "text/plain": [
       "(31, 67, 116)"
      ]
     },
     "execution_count": 41,
     "metadata": {},
     "output_type": "execute_result"
    }
   ],
   "source": [
    "# As expected, for this user, there is no difference\n",
    "np.count_nonzero(user_trip_df.trip_cluster_dbscan == -1), np.count_nonzero(user_trip_df.trip_cluster_oursim == -1), np.count_nonzero(user_trip_df.trip_cluster_oursim < 0)"
   ]
  },
  {
   "cell_type": "markdown",
   "id": "communist-breeding",
   "metadata": {},
   "source": [
    "### Step 4: Spot checking the noise\n",
    "\n",
    "Let's pick a trip that is noise in oursim, find its cluster in DBSCAN and plot it"
   ]
  },
  {
   "cell_type": "code",
   "execution_count": 42,
   "id": "representative-compatibility",
   "metadata": {},
   "outputs": [],
   "source": [
    "def get_geojson_for_trip_cluster(cluster_trips):\n",
    "    print(len(cluster_trips))\n",
    "    # [[[X1, Y1], [X1, Y1]],\n",
    "    # [[X1, Y1], [X1, Y1]]]\n",
    "    clistarray = cluster_trips[[\"start_loc\", \"end_loc\"]].apply(\n",
    "                    lambda se: [p[\"coordinates\"] for p in se]).to_numpy().tolist()\n",
    "    print([len(clist) for clist in clistarray])\n",
    "    linestrings = [gj.LineString(coordinates=clist) for clist in clistarray]\n",
    "    purpose_locs = gj.FeatureCollection(cluster_trips.start_loc.to_list() +\n",
    "                                        cluster_trips.end_loc.to_list() +\n",
    "                                        linestrings)\n",
    "    return folium.features.GeoJson(purpose_locs)"
   ]
  },
  {
   "cell_type": "code",
   "execution_count": 43,
   "id": "political-gallery",
   "metadata": {},
   "outputs": [
    {
     "data": {
      "text/plain": [
       "array([ 1., 17., 22., 23., 32., 39., 51., 20., 48., 10., 55., 24., 30.,\n",
       "       16.,  6., 42., 60., 59., 29., 25., 33., 44., 35., 61., 36., 28.,\n",
       "        9.,  0., 15., 64., 13., 34., 54., 18., 47.])"
      ]
     },
     "execution_count": 43,
     "metadata": {},
     "output_type": "execute_result"
    }
   ],
   "source": [
    "extra_noise_in_oursim = user_trip_df.query(\"(trip_cluster_oursim == -1) and (trip_cluster_dbscan != -1)\")\n",
    "extra_clusters = extra_noise_in_oursim.trip_cluster_dbscan.unique(); extra_clusters"
   ]
  },
  {
   "cell_type": "code",
   "execution_count": 44,
   "id": "perceived-encyclopedia",
   "metadata": {},
   "outputs": [
    {
     "data": {
      "text/html": [
       "<div>\n",
       "<style scoped>\n",
       "    .dataframe tbody tr th:only-of-type {\n",
       "        vertical-align: middle;\n",
       "    }\n",
       "\n",
       "    .dataframe tbody tr th {\n",
       "        vertical-align: top;\n",
       "    }\n",
       "\n",
       "    .dataframe thead th {\n",
       "        text-align: right;\n",
       "    }\n",
       "</style>\n",
       "<table border=\"1\" class=\"dataframe\">\n",
       "  <thead>\n",
       "    <tr style=\"text-align: right;\">\n",
       "      <th></th>\n",
       "      <th>source</th>\n",
       "      <th>end_ts</th>\n",
       "      <th>end_fmt_time</th>\n",
       "      <th>end_loc</th>\n",
       "      <th>raw_trip</th>\n",
       "      <th>start_ts</th>\n",
       "      <th>start_fmt_time</th>\n",
       "      <th>start_loc</th>\n",
       "      <th>duration</th>\n",
       "      <th>distance</th>\n",
       "      <th>...</th>\n",
       "      <th>user_id</th>\n",
       "      <th>metadata_write_ts</th>\n",
       "      <th>mode_confirm</th>\n",
       "      <th>purpose_confirm</th>\n",
       "      <th>replaced_mode</th>\n",
       "      <th>start_loc_cluster</th>\n",
       "      <th>end_loc_cluster</th>\n",
       "      <th>trip_cluster_dbscan</th>\n",
       "      <th>trip_cluster_oursim</th>\n",
       "      <th>trip_cluster_oursim_above_cutoff</th>\n",
       "    </tr>\n",
       "  </thead>\n",
       "  <tbody>\n",
       "    <tr>\n",
       "      <th>6</th>\n",
       "      <td>DwellSegmentationTimeFilter</td>\n",
       "      <td>1.604613e+09</td>\n",
       "      <td>2020-11-05T14:50:20-07:00</td>\n",
       "      <td>{'type': 'Point', 'coordinates': [-104.9441597...</td>\n",
       "      <td>5fa4852560b1337a58918277</td>\n",
       "      <td>1.604612e+09</td>\n",
       "      <td>2020-11-05T14:30:39.066514-07:00</td>\n",
       "      <td>{'type': 'Point', 'coordinates': [-104.9947607...</td>\n",
       "      <td>1180.933486</td>\n",
       "      <td>4780.373344</td>\n",
       "      <td>...</td>\n",
       "      <td>1d292b85-c549-409a-a10d-746e957582a0</td>\n",
       "      <td>1.604618e+09</td>\n",
       "      <td>bus</td>\n",
       "      <td>transit_transfer</td>\n",
       "      <td>same_mode</td>\n",
       "      <td>3</td>\n",
       "      <td>4</td>\n",
       "      <td>23.0</td>\n",
       "      <td>-1</td>\n",
       "      <td>-1</td>\n",
       "    </tr>\n",
       "  </tbody>\n",
       "</table>\n",
       "<p>1 rows × 41 columns</p>\n",
       "</div>"
      ],
      "text/plain": [
       "                        source        end_ts               end_fmt_time  \\\n",
       "6  DwellSegmentationTimeFilter  1.604613e+09  2020-11-05T14:50:20-07:00   \n",
       "\n",
       "                                             end_loc  \\\n",
       "6  {'type': 'Point', 'coordinates': [-104.9441597...   \n",
       "\n",
       "                   raw_trip      start_ts                    start_fmt_time  \\\n",
       "6  5fa4852560b1337a58918277  1.604612e+09  2020-11-05T14:30:39.066514-07:00   \n",
       "\n",
       "                                           start_loc     duration  \\\n",
       "6  {'type': 'Point', 'coordinates': [-104.9947607...  1180.933486   \n",
       "\n",
       "      distance  ...                               user_id metadata_write_ts  \\\n",
       "6  4780.373344  ...  1d292b85-c549-409a-a10d-746e957582a0      1.604618e+09   \n",
       "\n",
       "  mode_confirm   purpose_confirm  replaced_mode  start_loc_cluster  \\\n",
       "6          bus  transit_transfer      same_mode                  3   \n",
       "\n",
       "   end_loc_cluster  trip_cluster_dbscan  trip_cluster_oursim  \\\n",
       "6                4                 23.0                   -1   \n",
       "\n",
       "   trip_cluster_oursim_above_cutoff  \n",
       "6                                -1  \n",
       "\n",
       "[1 rows x 41 columns]"
      ]
     },
     "execution_count": 44,
     "metadata": {},
     "output_type": "execute_result"
    }
   ],
   "source": [
    "user_trip_df[user_trip_df.trip_cluster_dbscan == extra_clusters[3]]"
   ]
  },
  {
   "cell_type": "code",
   "execution_count": 45,
   "id": "vulnerable-membership",
   "metadata": {},
   "outputs": [
    {
     "data": {
      "text/html": [
       "<div>\n",
       "<style scoped>\n",
       "    .dataframe tbody tr th:only-of-type {\n",
       "        vertical-align: middle;\n",
       "    }\n",
       "\n",
       "    .dataframe tbody tr th {\n",
       "        vertical-align: top;\n",
       "    }\n",
       "\n",
       "    .dataframe thead th {\n",
       "        text-align: right;\n",
       "    }\n",
       "</style>\n",
       "<table border=\"1\" class=\"dataframe\">\n",
       "  <thead>\n",
       "    <tr style=\"text-align: right;\">\n",
       "      <th></th>\n",
       "      <th>source</th>\n",
       "      <th>end_ts</th>\n",
       "      <th>end_fmt_time</th>\n",
       "      <th>end_loc</th>\n",
       "      <th>raw_trip</th>\n",
       "      <th>start_ts</th>\n",
       "      <th>start_fmt_time</th>\n",
       "      <th>start_loc</th>\n",
       "      <th>duration</th>\n",
       "      <th>distance</th>\n",
       "      <th>...</th>\n",
       "      <th>user_id</th>\n",
       "      <th>metadata_write_ts</th>\n",
       "      <th>mode_confirm</th>\n",
       "      <th>purpose_confirm</th>\n",
       "      <th>replaced_mode</th>\n",
       "      <th>start_loc_cluster</th>\n",
       "      <th>end_loc_cluster</th>\n",
       "      <th>trip_cluster_dbscan</th>\n",
       "      <th>trip_cluster_oursim</th>\n",
       "      <th>trip_cluster_oursim_above_cutoff</th>\n",
       "    </tr>\n",
       "  </thead>\n",
       "  <tbody>\n",
       "    <tr>\n",
       "      <th>175</th>\n",
       "      <td>DwellSegmentationTimeFilter</td>\n",
       "      <td>1.611358e+09</td>\n",
       "      <td>2021-01-22T16:27:27.265000-07:00</td>\n",
       "      <td>{'type': 'Point', 'coordinates': [-105.0670986...</td>\n",
       "      <td>600b84670d6036d3fac7ffc3</td>\n",
       "      <td>1.611354e+09</td>\n",
       "      <td>2021-01-22T15:13:24.631990-07:00</td>\n",
       "      <td>{'type': 'Point', 'coordinates': [-104.9871567...</td>\n",
       "      <td>4442.63301</td>\n",
       "      <td>14967.826212</td>\n",
       "      <td>...</td>\n",
       "      <td>1d292b85-c549-409a-a10d-746e957582a0</td>\n",
       "      <td>1.611368e+09</td>\n",
       "      <td>bus</td>\n",
       "      <td>personal_med</td>\n",
       "      <td>same_mode</td>\n",
       "      <td>14</td>\n",
       "      <td>1</td>\n",
       "      <td>54.0</td>\n",
       "      <td>-1</td>\n",
       "      <td>-1</td>\n",
       "    </tr>\n",
       "  </tbody>\n",
       "</table>\n",
       "<p>1 rows × 41 columns</p>\n",
       "</div>"
      ],
      "text/plain": [
       "                          source        end_ts  \\\n",
       "175  DwellSegmentationTimeFilter  1.611358e+09   \n",
       "\n",
       "                         end_fmt_time  \\\n",
       "175  2021-01-22T16:27:27.265000-07:00   \n",
       "\n",
       "                                               end_loc  \\\n",
       "175  {'type': 'Point', 'coordinates': [-105.0670986...   \n",
       "\n",
       "                     raw_trip      start_ts                    start_fmt_time  \\\n",
       "175  600b84670d6036d3fac7ffc3  1.611354e+09  2021-01-22T15:13:24.631990-07:00   \n",
       "\n",
       "                                             start_loc    duration  \\\n",
       "175  {'type': 'Point', 'coordinates': [-104.9871567...  4442.63301   \n",
       "\n",
       "         distance  ...                               user_id  \\\n",
       "175  14967.826212  ...  1d292b85-c549-409a-a10d-746e957582a0   \n",
       "\n",
       "    metadata_write_ts mode_confirm purpose_confirm  replaced_mode  \\\n",
       "175      1.611368e+09          bus    personal_med      same_mode   \n",
       "\n",
       "     start_loc_cluster  end_loc_cluster  trip_cluster_dbscan  \\\n",
       "175                 14                1                 54.0   \n",
       "\n",
       "     trip_cluster_oursim  trip_cluster_oursim_above_cutoff  \n",
       "175                   -1                                -1  \n",
       "\n",
       "[1 rows x 41 columns]"
      ]
     },
     "execution_count": 45,
     "metadata": {},
     "output_type": "execute_result"
    }
   ],
   "source": [
    "x = user_trip_df[user_trip_df.trip_cluster_dbscan == extra_clusters[-3]]; x"
   ]
  },
  {
   "cell_type": "markdown",
   "id": "operational-evidence",
   "metadata": {},
   "source": [
    "### Most of the \"non-noisy\" trips in the DBSCAN method have only one trip!!\n",
    "\n",
    "Since we cluster the start and locations separately (with min_samples = 2) but then just find unique combinations with them without requiring min_samples = 2 for the pair (the trip), we can end up with one trip and have it be non-noisy. This still seems principled - if both the start and the end are known places, even if there is only one trip between them, it is unlikely to represent an overlap with a different trip.\n",
    "\n",
    "But this does mean that our original criterion for what is noisy is too strict.\n",
    "On the other hand, step 3 would have filtered all those out as noisy anyway.\n",
    "\n",
    "So I don't think it changes the results for this user, but we should change our implementation to check for other users. Since this is unrolled, let's preserve the original result and copy-paste the new implementation below."
   ]
  },
  {
   "cell_type": "code",
   "execution_count": 46,
   "id": "sized-individual",
   "metadata": {},
   "outputs": [],
   "source": [
    "### run all the similarity code again\n",
    "curr_sim = eamts.similarity(user_trip_list, FINAL_RADIUS)\n",
    "curr_sim.bin_data()\n",
    "filtered_trip_df = pd.DataFrame([e[\"data\"] for e in curr_sim.data])"
   ]
  },
  {
   "cell_type": "code",
   "execution_count": 47,
   "id": "prescribed-guest",
   "metadata": {},
   "outputs": [],
   "source": [
    "# Since this is an unrolled notebook, we redefine the function instead of modifying the previous implementation\n",
    "def get_result_labels_new(user_trip_df, filtered_trip_df):\n",
    "    \"\"\"\n",
    "    user_trip_df: all trips that we are determining similarity for\n",
    "    filtered_trip_df: trips retained after the \"too_short\" metric.\n",
    "    We need this because the model is a list of bins, and stores trip\n",
    "    indices based these filtered trips. But we want to set the results into the full user_trip_df.\n",
    "    \"\"\"\n",
    "    result_labels = pd.Series([-1] * len(user_trip_df))\n",
    "    for i, curr_bin in enumerate(curr_sim.bins):\n",
    "        # get the trip ids of matching filtered trips for the current bin\n",
    "        matching_filtered_trip_ids = filtered_trip_df.loc[curr_bin]._id\n",
    "        # then, match by tripid to find the corresponding entries in the all_trips dataframe\n",
    "        matching_all_trip_ids = user_trip_df[user_trip_df._id.isin(matching_filtered_trip_ids)].index\n",
    "        result_labels.loc[matching_all_trip_ids] = i\n",
    "            \n",
    "    removed_trips = user_trip_df[~user_trip_df._id.isin(filtered_trip_df._id)]\n",
    "    # For now, we also mark the \"too short\" labels with -2 to help with our understanding\n",
    "    result_labels.loc[removed_trips.index] = -2\n",
    "    return result_labels"
   ]
  },
  {
   "cell_type": "code",
   "execution_count": 48,
   "id": "necessary-background",
   "metadata": {},
   "outputs": [],
   "source": [
    "user_trip_df[\"trip_cluster_oursim_single_trip_clusters\"] = get_result_labels_new(user_trip_df, filtered_trip_df)"
   ]
  },
  {
   "cell_type": "code",
   "execution_count": 49,
   "id": "small-relations",
   "metadata": {},
   "outputs": [
    {
     "data": {
      "text/plain": [
       "(31, 0, 49)"
      ]
     },
     "execution_count": 49,
     "metadata": {},
     "output_type": "execute_result"
    }
   ],
   "source": [
    "# At this point, there is no noise from oursim because all trips are in at least their cluster (a cluster of one)\n",
    "np.count_nonzero(user_trip_df.trip_cluster_dbscan == -1), np.count_nonzero(user_trip_df.trip_cluster_oursim_single_trip_clusters == -1), np.count_nonzero(user_trip_df.trip_cluster_oursim_single_trip_clusters < 0)"
   ]
  },
  {
   "cell_type": "code",
   "execution_count": 50,
   "id": "brazilian-bumper",
   "metadata": {},
   "outputs": [],
   "source": [
    "curr_sim.delete_bins()\n",
    "above_cutoff_bins = curr_sim.bins"
   ]
  },
  {
   "cell_type": "code",
   "execution_count": 51,
   "id": "limited-thousand",
   "metadata": {},
   "outputs": [],
   "source": [
    "user_trip_df[\"trip_cluster_oursim_single_trip_clusters_above_cutoff\"] = get_result_labels_new(user_trip_df, filtered_trip_df)"
   ]
  },
  {
   "cell_type": "code",
   "execution_count": 52,
   "id": "third-brown",
   "metadata": {},
   "outputs": [
    {
     "data": {
      "text/plain": [
       "(31, 67, 116)"
      ]
     },
     "execution_count": 52,
     "metadata": {},
     "output_type": "execute_result"
    }
   ],
   "source": [
    "# After finding the cutoff\n",
    "np.count_nonzero(user_trip_df.trip_cluster_dbscan == -1), np.count_nonzero(user_trip_df.trip_cluster_oursim_single_trip_clusters_above_cutoff == -1), np.count_nonzero(user_trip_df.trip_cluster_oursim_single_trip_clusters_above_cutoff < 0)"
   ]
  },
  {
   "cell_type": "markdown",
   "id": "brief-mention",
   "metadata": {},
   "source": [
    "### Spot checking the noise again"
   ]
  },
  {
   "cell_type": "code",
   "execution_count": 53,
   "id": "accomplished-geography",
   "metadata": {},
   "outputs": [
    {
     "data": {
      "text/plain": [
       "array([ 1., 17., 22., 23., 32., 39., 51., 20., 48., 10., 55., 24., 30.,\n",
       "       16.,  6., 42., 60., 59., 29., 25., 33., 44., 35., 61., 36., 28.,\n",
       "        9.,  0., 15., 64., 13., 34., 54., 18., 47.])"
      ]
     },
     "execution_count": 53,
     "metadata": {},
     "output_type": "execute_result"
    }
   ],
   "source": [
    "extra_noise_in_oursim = user_trip_df.query(\"(trip_cluster_oursim_single_trip_clusters_above_cutoff == -1) and (trip_cluster_dbscan != -1)\")\n",
    "extra_clusters = extra_noise_in_oursim.trip_cluster_dbscan.unique(); extra_clusters"
   ]
  },
  {
   "cell_type": "code",
   "execution_count": 54,
   "id": "increasing-statement",
   "metadata": {},
   "outputs": [
    {
     "data": {
      "text/plain": [
       "[1.0, 20.0, 16.0, 60.0, 9.0, 0.0]"
      ]
     },
     "execution_count": 54,
     "metadata": {},
     "output_type": "execute_result"
    }
   ],
   "source": [
    "# Find which of these clusters has > 1 trip (if any)\n",
    "two_trip_clusters = [c for c in extra_clusters if np.count_nonzero(user_trip_df.trip_cluster_dbscan == c) > 1]; two_trip_clusters"
   ]
  },
  {
   "cell_type": "code",
   "execution_count": 55,
   "id": "pacific-yemen",
   "metadata": {},
   "outputs": [
    {
     "name": "stdout",
     "output_type": "stream",
     "text": [
      "0 1.0\n",
      "3\n",
      "[2, 2, 2]\n",
      "1 20.0\n",
      "2\n",
      "[2, 2]\n",
      "2 16.0\n",
      "3\n",
      "[2, 2, 2]\n",
      "3 60.0\n",
      "3\n",
      "[2, 2, 2]\n",
      "4 9.0\n",
      "3\n",
      "[2, 2, 2]\n",
      "5 0.0\n",
      "34\n",
      "[2, 2, 2, 2, 2, 2, 2, 2, 2, 2, 2, 2, 2, 2, 2, 2, 2, 2, 2, 2, 2, 2, 2, 2, 2, 2, 2, 2, 2, 2, 2, 2, 2, 2]\n"
     ]
    },
    {
     "data": {
      "text/html": [
       "<div style=\"width:100%;\"><div style=\"position:relative;width:100%;height:0;padding-bottom:60%;\"><span style=\"color:#565656\">Make this Notebook Trusted to load map: File -> Trust Notebook</span><iframe src=\"about:blank\" style=\"position:absolute;width:100%;height:100%;left:0;top:0;border:none !important;\" data-html=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 onload=\"this.contentDocument.open();this.contentDocument.write(atob(this.getAttribute('data-html')));this.contentDocument.close();\" allowfullscreen webkitallowfullscreen mozallowfullscreen></iframe></div></div>"
      ],
      "text/plain": [
       "<branca.element.Figure at 0x7fc2485d4650>"
      ]
     },
     "execution_count": 55,
     "metadata": {},
     "output_type": "execute_result"
    }
   ],
   "source": [
    "fig = bre.Figure()\n",
    "for i, c in enumerate(two_trip_clusters):\n",
    "    print(i,c)\n",
    "    fig.add_subplot(3,2,i+1).add_child(folium.Map().add_child(get_geojson_for_trip_cluster(user_trip_df[user_trip_df.trip_cluster_dbscan == c])))\n",
    "fig"
   ]
  },
  {
   "cell_type": "markdown",
   "id": "under-mongolia",
   "metadata": {},
   "source": [
    "Most of the mismatches are for really small clusters, but cluster 0 is a really big one. Let's see how the similarity code dealt with it by visualizing the outputs"
   ]
  },
  {
   "cell_type": "code",
   "execution_count": 56,
   "id": "pediatric-zimbabwe",
   "metadata": {},
   "outputs": [
    {
     "data": {
      "text/plain": [
       "-2    25\n",
       " 0     7\n",
       "-1     2\n",
       "Name: trip_cluster_oursim_single_trip_clusters_above_cutoff, dtype: int64"
      ]
     },
     "execution_count": 56,
     "metadata": {},
     "output_type": "execute_result"
    }
   ],
   "source": [
    "user_trip_df[user_trip_df.trip_cluster_dbscan == 0].trip_cluster_oursim_single_trip_clusters_above_cutoff.value_counts()"
   ]
  },
  {
   "cell_type": "code",
   "execution_count": 57,
   "id": "mysterious-chosen",
   "metadata": {},
   "outputs": [
    {
     "name": "stdout",
     "output_type": "stream",
     "text": [
      "7\n",
      "[2, 2, 2, 2, 2, 2, 2]\n",
      "2\n",
      "[2, 2]\n",
      "25\n",
      "[2, 2, 2, 2, 2, 2, 2, 2, 2, 2, 2, 2, 2, 2, 2, 2, 2, 2, 2, 2, 2, 2, 2, 2, 2]\n"
     ]
    },
    {
     "data": {
      "text/html": [
       "<div style=\"width:100%;\"><div style=\"position:relative;width:100%;height:0;padding-bottom:60%;\"><span style=\"color:#565656\">Make this Notebook Trusted to load map: File -> Trust Notebook</span><iframe src=\"about:blank\" style=\"position:absolute;width:100%;height:100%;left:0;top:0;border:none !important;\" data-html=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 onload=\"this.contentDocument.open();this.contentDocument.write(atob(this.getAttribute('data-html')));this.contentDocument.close();\" allowfullscreen webkitallowfullscreen mozallowfullscreen></iframe></div></div>"
      ],
      "text/plain": [
       "<branca.element.Div at 0x7fc24868d950>"
      ]
     },
     "execution_count": 57,
     "metadata": {},
     "output_type": "execute_result"
    }
   ],
   "source": [
    "fig = bre.Figure()\n",
    "fig.add_subplot(1,3,1).add_child(folium.Map().add_child(get_geojson_for_trip_cluster(user_trip_df.query(\"trip_cluster_dbscan == 0 and trip_cluster_oursim_single_trip_clusters_above_cutoff >= 0\"))))\n",
    "fig.add_subplot(1,3,2).add_child(folium.Map().add_child(get_geojson_for_trip_cluster(user_trip_df.query(\"trip_cluster_dbscan == 0 and trip_cluster_oursim_single_trip_clusters_above_cutoff == -1\"))))\n",
    "fig.add_subplot(1,3,3).add_child(folium.Map().add_child(get_geojson_for_trip_cluster(user_trip_df.query(\"trip_cluster_dbscan == 0 and trip_cluster_oursim_single_trip_clusters_above_cutoff == -2\"))))"
   ]
  },
  {
   "cell_type": "markdown",
   "id": "capital-documentation",
   "metadata": {},
   "source": [
    "The DBSCAN algorithm is in fact more promiscuous the classic similarity algorithm in finding clusters, but the effect is minimal. We find only a handful of cases (at least for this user) (6 trips; 2%) where the similarity code did not find a cluster above the cutoff, but there was more than one trip found by DBSCAN. Looking at them exhaustively, the trip quality is not that great.\n",
    "\n",
    "Specifically, focusing on cluster 0, which had 34 trips in it, the similarity code found 7 trip cluster, a single trip cluser (below cutoff) and 25 \"too short\" trips. Looking at the 25 too short trips, most of them seem to be to a shopping center across the street from where the user lives and/or works. Would the user like to have these trips automatically labeled? You betcha!"
   ]
  },
  {
   "cell_type": "markdown",
   "id": "passive-hypothetical",
   "metadata": {},
   "source": [
    "## Conclusion: we need to make significant changes in the way the similarity code is used for auto-labeling\n",
    "\n",
    "\n",
    "The similarity code was designed to surface common trips for user review and focus. It was not designed to automatically label trips. As we adapted it for this new use case, we need to make some simple changes to it. Note that the original goal was to surface the \"big ticket items\" of the trips, the new goal is to automatically handle the \"small ticket items\" so they don't bother the user.\n",
    "\n",
    "Concretely:\n",
    "\n",
    "- The filtering of short trips is unnecessary and sometimes incorrect, and it removes 49 trips (23%) of the trips already. See shopping center example above. While we may not need to surface these short shopping trips as part of the  larger tour model graph as a significant part of the user travel, it is particularly these trips that we should autolabel to reduce user burden.\n",
    "- The filtering of infrequent trips (below cutoff) from the model does not help at all. We instituted a cutoff because showing all these infrequent trips to the user would increase their cognitive burden. But we are now not showing these infrequent trips to the user, we are building a computer model from them. The computer can handle such a cognitive load without any problems. If the user took one trip and then took the same trip only a month later instead of every day, why would we not want to automatically label the trip? Again, because our goal is to take the cognitive burden off the user, it is better for the computer to remember the trip from the month ago and autolabel it.\n",
    "\n",
    "With these two changes, the results from this user indicate that the performance of the current similarity code can match or surpass the DBSCAN code. If these results hold against the multi-dataset, we can stick with the current similarity code and only make these changes to improve the overall results."
   ]
  },
  {
   "cell_type": "code",
   "execution_count": null,
   "id": "coupled-merit",
   "metadata": {},
   "outputs": [],
   "source": []
  }
 ],
 "metadata": {
  "kernelspec": {
   "display_name": "Python 3",
   "language": "python",
   "name": "python3"
  },
  "language_info": {
   "codemirror_mode": {
    "name": "ipython",
    "version": 3
   },
   "file_extension": ".py",
   "mimetype": "text/x-python",
   "name": "python",
   "nbconvert_exporter": "python",
   "pygments_lexer": "ipython3",
   "version": "3.7.9"
  }
 },
 "nbformat": 4,
 "nbformat_minor": 5
}
