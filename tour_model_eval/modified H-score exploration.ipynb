{
 "cells": [
  {
   "cell_type": "markdown",
   "id": "bfccf679",
   "metadata": {},
   "source": [
    "This notebook implements a modified H-score and explores its properties. \n",
    "\n",
    "The modified H-score is calculated by introducing 'invisible trips'/artificial heterogeneity into each cluster. (Essentially what we are doing to the H-score [formula](https://www.geeksforgeeks.org/ml-v-measure-for-evaluating-clustering-performance/) is bumping up the cluster size when we calculate the entropy of C conditioned on K, but calculating the entropy of C with the real original sample size.) \n",
    "\n",
    "The idea is to penalize small bins (particularly single-trip bins, which would have a homogeneity score of 1 despite not providing us with much information/confidence). At the same time, we still want to capture the fact that we use the single-trip bins in our predictions, so we don't want to ignore them entirely. \n",
    "\n",
    "We expect this modification to degrade the H-score in all scenarios (H can equal 1 if a bin contains an infinite number of identical trips, or if there are an infinite number of single-trip bins). More importantly, small bins would be more affected than large bins, reflecting the greater confidence we have in our predictions when we have more trips in a bin. The rest of this notebook allows us to explore this modified score in further detail. "
   ]
  },
  {
   "cell_type": "markdown",
   "id": "0534d24b",
   "metadata": {
    "ExecuteTime": {
     "start_time": "2022-06-13T23:31:10.970Z"
    },
    "code_folding": [],
    "heading_collapsed": true
   },
   "source": [
    "### imports"
   ]
  },
  {
   "cell_type": "code",
   "execution_count": 1,
   "id": "d7faf61f",
   "metadata": {
    "ExecuteTime": {
     "end_time": "2022-06-14T17:38:31.572082Z",
     "start_time": "2022-06-14T17:38:30.944437Z"
    },
    "hidden": true
   },
   "outputs": [],
   "source": [
    "import pandas as pd\n",
    "import numpy as np\n",
    "import geojson as gj\n",
    "import sklearn.cluster as sc\n",
    "import sklearn.metrics.pairwise as smp\n",
    "import sklearn.metrics as sm"
   ]
  },
  {
   "cell_type": "code",
   "execution_count": 2,
   "id": "c673cc91",
   "metadata": {
    "ExecuteTime": {
     "end_time": "2022-06-14T17:38:31.578221Z",
     "start_time": "2022-06-14T17:38:31.575646Z"
    },
    "hidden": true
   },
   "outputs": [],
   "source": [
    "from sklearn.metrics.cluster import homogeneity_score\n",
    "from sklearn.metrics.cluster._supervised import check_clusterings\n",
    "from sklearn.metrics.cluster import entropy\n",
    "from sklearn.metrics.cluster import contingency_matrix\n",
    "from sklearn.metrics.cluster import mutual_info_score"
   ]
  },
  {
   "cell_type": "code",
   "execution_count": 3,
   "id": "3125effc",
   "metadata": {
    "ExecuteTime": {
     "end_time": "2022-06-14T17:38:31.731096Z",
     "start_time": "2022-06-14T17:38:31.581558Z"
    },
    "hidden": true
   },
   "outputs": [],
   "source": [
    "import matplotlib.pyplot as plt\n",
    "import matplotlib.colors as pltc"
   ]
  },
  {
   "cell_type": "code",
   "execution_count": 4,
   "id": "4142f661",
   "metadata": {
    "ExecuteTime": {
     "end_time": "2022-06-14T17:38:31.739189Z",
     "start_time": "2022-06-14T17:38:31.733692Z"
    },
    "hidden": true
   },
   "outputs": [
    {
     "data": {
      "text/plain": [
       "{'divide': 'warn', 'over': 'warn', 'under': 'ignore', 'invalid': 'warn'}"
      ]
     },
     "execution_count": 4,
     "metadata": {},
     "output_type": "execute_result"
    }
   ],
   "source": [
    "np.seterr(all='raise')"
   ]
  },
  {
   "cell_type": "markdown",
   "id": "90c6a954",
   "metadata": {},
   "source": [
    "### define performance metrics"
   ]
  },
  {
   "cell_type": "code",
   "execution_count": 84,
   "id": "1419a3bc",
   "metadata": {
    "ExecuteTime": {
     "end_time": "2022-06-14T17:57:32.051273Z",
     "start_time": "2022-06-14T17:57:32.043570Z"
    }
   },
   "outputs": [],
   "source": [
    "def H_score(df):\n",
    "    \"\"\" Calculated the standard homogeneity score. This should return the same \n",
    "        value as sklearn's homogeneity_score(), though the implementation is\n",
    "        slightly different. \n",
    "        \n",
    "        Args:\n",
    "            df: DataFrame containing contingency matrix for true labels and bins\n",
    "    \"\"\"\n",
    "    C = df.shape[0]\n",
    "    N = df.sum().sum()\n",
    "    entropy_C = 0\n",
    "    entropy_CK = 0\n",
    "    for c in range(C):\n",
    "        n_c = df.iloc[c].sum()\n",
    "#         print('samples w label c', n_c)\n",
    "        if n_c == 0:\n",
    "            continue\n",
    "        entropy_C += (n_c/N) * (np.log(n_c) - np.log(N))\n",
    "        \n",
    "        for k in range(df.shape[1]):\n",
    "            n_ck = df.iloc[c, k]\n",
    "            n_k = df[df.columns[k]].sum() # number of samples in cluster k\n",
    "            \n",
    "            if n_k > 0 and n_ck > 0:\n",
    "#                 print('samples w label c, cluster k', n_ck)\n",
    "#                 print('samples in cluster k', n_k)\n",
    "                entropy_CK += (n_ck/N) * (np.log(n_ck) - np.log(n_k))\n",
    "#     print('entropy_CK', entropy_CK)\n",
    "#     print('entropy_C', entropy_C)\n",
    "    H = 1 - (entropy_CK/entropy_C) if entropy_C else 1.0\n",
    "    return H"
   ]
  },
  {
   "cell_type": "code",
   "execution_count": 69,
   "id": "d9114556",
   "metadata": {
    "ExecuteTime": {
     "end_time": "2022-06-14T17:52:45.814777Z",
     "start_time": "2022-06-14T17:52:45.806764Z"
    }
   },
   "outputs": [],
   "source": [
    "def H_score_modified(df, t=1):\n",
    "    \"\"\" Calculated the modified homogeneity score, in which t 'invisible trips'\n",
    "        are introduced to penalize bins with very few trips. This should return \n",
    "        a value that is smaller than sklearn's homogeneity_score().\n",
    "        \n",
    "        Args:\n",
    "            df: DataFrame containing contingency matrix for true labels and bins\n",
    "            k (int): number of 'invisible trips' to introduce\n",
    "    \"\"\"\n",
    "    C = df.shape[0]\n",
    "    N = df.sum().sum()\n",
    "    entropy_C = 0\n",
    "    entropy_CK = 0\n",
    "    for c in range(C):\n",
    "        n_c = df.iloc[c].sum() # number of samples with label c\n",
    "        if n_c == 0:\n",
    "            continue\n",
    "        entropy_C += (n_c/N) * (np.log(n_c) - np.log(N+t))\n",
    "#         print('entropy_C', entropy_C)\n",
    "        \n",
    "        for k in range(df.shape[1]):\n",
    "            n_ck = df.iloc[c, k] # number of samples in cluster k with label c\n",
    "            n_k = df[df.columns[k]].sum() # number of samples in cluster k\n",
    "            if n_ck > 0:\n",
    "                entropy_CK += (n_ck/N) * (np.log(n_ck) - np.log(n_k + t))\n",
    "#     print('entropy_CK', entropy_CK)\n",
    "#     print('entropy_C', entropy_C)\n",
    "    H = 1 - (entropy_CK/entropy_C)\n",
    "    return H"
   ]
  },
  {
   "cell_type": "code",
   "execution_count": 7,
   "id": "9d074673",
   "metadata": {
    "ExecuteTime": {
     "end_time": "2022-06-14T17:38:31.758329Z",
     "start_time": "2022-06-14T17:38:31.755386Z"
    }
   },
   "outputs": [],
   "source": [
    "# for plotting\n",
    "def plot_stacked_bars(df, fig=None, ax=None):\n",
    "    if not (fig and ax):\n",
    "        fig, ax = plt.subplots(1, 1)\n",
    "    X = range(df.shape[1])\n",
    "    for i in range(df.shape[0]):\n",
    "        bottom=np.sum(df[:i], axis =0)\n",
    "        ax.bar(X, df.iloc[i], bottom=bottom)\n",
    "    ax.set_xlabel('bin')\n",
    "    ax.set_ylabel('trip count')\n",
    "#     plt.show()"
   ]
  },
  {
   "cell_type": "markdown",
   "id": "ef444985",
   "metadata": {
    "ExecuteTime": {
     "start_time": "2022-06-13T23:38:45.288Z"
    }
   },
   "source": [
    "check that I implemented the H-score correctly"
   ]
  },
  {
   "cell_type": "code",
   "execution_count": 8,
   "id": "31202cc8",
   "metadata": {
    "ExecuteTime": {
     "end_time": "2022-06-14T17:38:33.303670Z",
     "start_time": "2022-06-14T17:38:31.760797Z"
    }
   },
   "outputs": [
    {
     "data": {
      "image/png": "[encoded data removed]",
      "text/plain": [
       "<Figure size 432x288 with 1 Axes>"
      ]
     },
     "metadata": {
      "needs_background": "light"
     },
     "output_type": "display_data"
    }
   ],
   "source": [
    "label_true = [0]*45 + [1]*5 + [2]*10 + [3]*10 + [4]*10 + [5]*5 + [6]*5 + [7]*3 + list(range(8, 40))\n",
    "bin_pred = [1]*50 + [2]*30 + [3]*10 + [4]*3 + [5]*2 + list(range(6, 36))\n",
    "df = pd.DataFrame(contingency_matrix(label_true, bin_pred, sparse=False))\n",
    "\n",
    "plot_stacked_bars(df)\n",
    "plt.show()"
   ]
  },
  {
   "cell_type": "code",
   "execution_count": 70,
   "id": "86c7f51c",
   "metadata": {
    "ExecuteTime": {
     "end_time": "2022-06-14T17:52:48.292657Z",
     "start_time": "2022-06-14T17:52:47.997815Z"
    }
   },
   "outputs": [
    {
     "name": "stdout",
     "output_type": "stream",
     "text": [
      "sklearn H-score:\t\t 0.8286383846991637\n",
      "my H-score implementation:\t 0.8286383846991641\n",
      "H-score w/ penalty:\t\t 0.7537256832350768\n"
     ]
    }
   ],
   "source": [
    "error = 1e-10\n",
    "print(\"sklearn H-score:\\t\\t\", homogeneity_score(label_true, bin_pred))\n",
    "print(\"my H-score implementation:\\t\", H_score(df))\n",
    "assert (H_score(df) - homogeneity_score(label_true, bin_pred)) < error \n",
    "print(\"H-score w/ penalty:\\t\\t\", H_score_modified(df))"
   ]
  },
  {
   "cell_type": "markdown",
   "id": "456328b6",
   "metadata": {},
   "source": [
    "### explore the modified H-score with some example data"
   ]
  },
  {
   "cell_type": "code",
   "execution_count": 10,
   "id": "a7a0debb",
   "metadata": {
    "ExecuteTime": {
     "end_time": "2022-06-14T17:38:33.617290Z",
     "start_time": "2022-06-14T17:38:33.613433Z"
    }
   },
   "outputs": [],
   "source": [
    "def gen_clusters(N, K):\n",
    "    \"\"\" Generates example data for N trips, split evenly among K homogeneous clusters. \n",
    "        Returns a dataframe containing the contingency matrix.\n",
    "    \n",
    "        Args:\n",
    "            N (int): total number of trips\n",
    "            K (int): number of clusters. K <= N\n",
    "    \"\"\"\n",
    "    assert K <= N\n",
    "    n_k = N // K # number of samples per cluster\n",
    "    label_true = np.concatenate([[i]*n_k for i in range(K)])\n",
    "    df = pd.DataFrame(contingency_matrix(label_true, label_true, sparse=False))\n",
    "    return df"
   ]
  },
  {
   "cell_type": "markdown",
   "id": "754ee6c3",
   "metadata": {},
   "source": [
    "#### example 1: "
   ]
  },
  {
   "cell_type": "markdown",
   "id": "23950d19",
   "metadata": {},
   "source": [
    "In this example, we assume that there are N trips that are split evenly into K homogeneous clusters, with each cluster containing N//K trips. "
   ]
  },
  {
   "cell_type": "code",
   "execution_count": 11,
   "id": "469cb4b2",
   "metadata": {
    "ExecuteTime": {
     "end_time": "2022-06-14T17:39:17.076977Z",
     "start_time": "2022-06-14T17:38:33.619543Z"
    }
   },
   "outputs": [
    {
     "data": {
      "image/png": "[encoded data removed]",
      "text/plain": [
       "<Figure size 1080x360 with 2 Axes>"
      ]
     },
     "metadata": {
      "needs_background": "light"
     },
     "output_type": "display_data"
    }
   ],
   "source": [
    "# generate a comparison graph\n",
    "fig, [ax1, ax2] = plt.subplots(1, 2, figsize=(15,5))\n",
    "ax1.plot([1]*500, label=\"unmodified H-score\")\n",
    "ax2.plot([1]*250, label=\"unmodified H-score\")\n",
    "for K in range(2, 252, 20):\n",
    "    if K == 1: continue # TODO: need to handle if 1 cluster\n",
    "    X_N = []\n",
    "    X_NK = []\n",
    "    modified_H_scores1 = []\n",
    "    modified_H_scores2 = []\n",
    "    \n",
    "    for N in range(K, 501):\n",
    "        if N%K==0:\n",
    "            modified_H_score = H_score_modified(gen_clusters(N, K))\n",
    "            modified_H_scores1 += [modified_H_score]\n",
    "            modified_H_scores2 += [modified_H_score]\n",
    "            X_N += [N]\n",
    "            X_NK += [N//K]\n",
    "            \n",
    "    ax1.plot(X_N, modified_H_scores1, '.-', label=\"{:d} clusters\".format(K))\n",
    "    ax2.plot(X_NK, modified_H_scores2, '.-', label=\"{:d} clusters\".format(K))\n",
    "\n",
    "    \n",
    "fig.suptitle(\"scenario: N total trips, split evenly among K homogeneous clusters\")\n",
    "ax1.set_xlabel(\"N (total number of trips)\")\n",
    "ax1.set_ylabel(\"modified H-score\")\n",
    "ax2.set_xlabel(\"N / K (trips per cluster)\")\n",
    "ax2.set_ylabel(\"modified H-score\")\n",
    "ax1.legend()\n",
    "ax2.legend()\n",
    "plt.show()\n"
   ]
  },
  {
   "cell_type": "markdown",
   "id": "201e4c1f",
   "metadata": {},
   "source": [
    "As expected, the modified H-score approaches 0 as the number of trips/bin goes to infinity, reflecting a greater confidence in larger bins and penalizing bins with fewer trips. Compare this to the original H-score, which is artificially high for small bins. \n",
    "\n",
    "For the same number of trips/bin, the modified H-score is higher when there are more clusters. (Not really sure how to interpret this, though...)"
   ]
  },
  {
   "cell_type": "markdown",
   "id": "bd559093",
   "metadata": {},
   "source": [
    "#### example 2"
   ]
  },
  {
   "cell_type": "markdown",
   "id": "40aff419",
   "metadata": {},
   "source": [
    "We can examine the specific case in which there are N trips, each in its own cluster. (This is basically zooming in on a slice of the above graph on the right at N/K = 1)"
   ]
  },
  {
   "cell_type": "code",
   "execution_count": 12,
   "id": "5a37280c",
   "metadata": {
    "ExecuteTime": {
     "end_time": "2022-06-14T17:40:04.755856Z",
     "start_time": "2022-06-14T17:39:17.079176Z"
    }
   },
   "outputs": [
    {
     "data": {
      "image/png": "[encoded data removed]",
      "text/plain": [
       "<Figure size 432x288 with 1 Axes>"
      ]
     },
     "metadata": {
      "needs_background": "light"
     },
     "output_type": "display_data"
    }
   ],
   "source": [
    "fig, ax = plt.subplots(1, 1)\n",
    "ax.plot([1]*500, label=\"unmodified H-score\")\n",
    "N = np.concatenate((np.array([1, 2, 4, 6, 8]), np.logspace(1, 2.7, num=20).astype(int)))\n",
    "modified_H_scores = np.empty(len(N))\n",
    "\n",
    "for i in range(len(N)):\n",
    "    n = N[i]\n",
    "    if n == 1: continue # TODO: need to handle if 1 cluster\n",
    "    modified_H_scores[i] = H_score_modified(gen_clusters(n, n))\n",
    "\n",
    "ax.plot(N, modified_H_scores, '.-', label=\"modified H-score\")\n",
    "\n",
    "ax.set_title(\"scenario: N total trips, split into N single-trip bins\")\n",
    "ax.set_xlabel(\"N (number of trips, aka number of clusters)\")\n",
    "ax.set_ylabel(\"modified H-score\")\n",
    "plt.legend()\n",
    "plt.show()"
   ]
  },
  {
   "cell_type": "markdown",
   "id": "3eb724ee",
   "metadata": {},
   "source": [
    "This is an interesting property, though not intended: as the number of single-trip bins increases, the modified H-score increases (it actually approaches 1 as N goes to infinity). I can't think of any authentic narrative interpretation we can make of this (but this seems to be a property of the raw H-score too, not unique to the modification - see below). Still, for all these cases, the modified H-score is less than 1, which is good because we want to avoid an artificially high H-score for single-trip bins. "
   ]
  },
  {
   "cell_type": "markdown",
   "id": "4b3ac807",
   "metadata": {},
   "source": [
    "Here, we quickly check that the original H-score also has the property that it increases as the number of bins increases (while the number of trips/bin stays the same). \n",
    "\n",
    "In this example, each bin has 10 trips (9 with one label and 1 with a different label). We vary the number of bins and see how it affects the H-score. "
   ]
  },
  {
   "cell_type": "code",
   "execution_count": 13,
   "id": "83e7d3f5",
   "metadata": {
    "ExecuteTime": {
     "end_time": "2022-06-14T17:40:04.769194Z",
     "start_time": "2022-06-14T17:40:04.757911Z"
    }
   },
   "outputs": [
    {
     "name": "stdout",
     "output_type": "stream",
     "text": [
      "0.9245483248000907\n",
      "0.9117352209655136\n",
      "1.5674036237692443e-14\n",
      "0.0\n"
     ]
    }
   ],
   "source": [
    "label_true = [1]*99 + [0]*1 + [2]*99 + [0]*1\n",
    "bin_pred = [1]*100 + [2]*100\n",
    "print(homogeneity_score(label_true, bin_pred))\n",
    "print(H_score_modified(pd.DataFrame(contingency_matrix(label_true, bin_pred))))\n",
    "\n",
    "label_true = [1]*99 + [0]*1\n",
    "bin_pred = [1]*100\n",
    "print(homogeneity_score(label_true, bin_pred))\n",
    "print(H_score_modified(pd.DataFrame(contingency_matrix(label_true, bin_pred))))\n"
   ]
  },
  {
   "cell_type": "code",
   "execution_count": 18,
   "id": "40aa6da1",
   "metadata": {
    "ExecuteTime": {
     "end_time": "2022-06-14T17:40:54.367306Z",
     "start_time": "2022-06-14T17:40:54.359010Z"
    }
   },
   "outputs": [
    {
     "name": "stdout",
     "output_type": "stream",
     "text": [
      "0.31739380551401464\n",
      "0.0\n"
     ]
    }
   ],
   "source": [
    "print(H_score_modified(pd.DataFrame(contingency_matrix([0, 1, 2, 3], [0, 0, 2, 2]))))\n",
    "print(H_score_modified(pd.DataFrame(contingency_matrix([0, 1, 2], [0, 0, 0]))))"
   ]
  },
  {
   "cell_type": "code",
   "execution_count": 15,
   "id": "c7d5bcb5",
   "metadata": {
    "ExecuteTime": {
     "end_time": "2022-06-14T17:40:52.179100Z",
     "start_time": "2022-06-14T17:40:04.783679Z"
    }
   },
   "outputs": [
    {
     "data": {
      "image/png": "[encoded data removed]",
      "text/plain": [
       "<Figure size 432x288 with 1 Axes>"
      ]
     },
     "metadata": {
      "needs_background": "light"
     },
     "output_type": "display_data"
    }
   ],
   "source": [
    "fig, ax = plt.subplots(1, 1)\n",
    "K = np.concatenate((np.array([1, 2, 4, 6, 8]), np.logspace(1, 2.7, num=20).astype(int)))\n",
    "H_scores = np.empty(len(K))\n",
    "modified_H_scores = np.empty(len(K))\n",
    "for i in range(len(K)):\n",
    "    k = K[i]\n",
    "    label_true = np.concatenate([[x+1]*9 + [0] for x in range(k)])\n",
    "    bin_pred = np.concatenate([[x+1]*10 for x in range(k)])\n",
    "    df = pd.DataFrame(contingency_matrix(label_true, bin_pred, sparse=False))\n",
    "    H_scores[i] = homogeneity_score(label_true, bin_pred)\n",
    "    modified_H_scores[i] = H_score_modified(df)\n",
    "\n",
    "ax.plot(N, H_scores, '.-', label=\"raw H-score\")\n",
    "ax.plot(N, modified_H_scores, '.-', label=\"modified H-score\")\n",
    "\n",
    "fig.suptitle(\"scenario: K*10 total trips, split into K 10-trip bins\")\n",
    "ax.set_xlabel(\"K (number of bins)\")\n",
    "ax.set_ylabel(\"H-score\")\n",
    "ax.set_ylim(0, 1)\n",
    "plt.legend()\n",
    "plt.show()"
   ]
  },
  {
   "cell_type": "markdown",
   "id": "5d0f6d27",
   "metadata": {},
   "source": [
    "# example 3"
   ]
  },
  {
   "cell_type": "markdown",
   "id": "ba291010",
   "metadata": {},
   "source": [
    "comparison of H-scores for example data with and without 30 single-trip bins:"
   ]
  },
  {
   "cell_type": "markdown",
   "id": "12ec0363",
   "metadata": {
    "ExecuteTime": {
     "start_time": "2022-06-13T23:32:14.385Z"
    }
   },
   "source": [
    "- bin 1: 45 drive to work, 5 bike to work\n",
    "- bin 2: 10 walk to park, 10 bike to park, 10 bike to store near park\n",
    "- bin 3: 5 drive to store, 5 bike to store\n",
    "- bin 4: 3 walk to library\n",
    "- bin 5: 1 drive to dentist, 1 bike to dentist\n",
    "- bin 6-35: 1 trip to new location\n",
    "30 single-trip bins, 5 bins containing a total of 95 trips\n",
    "\n",
    "index: \n",
    "\n",
    "0. drive to work\n",
    "1. bike to work\n",
    "2. walk to park\n",
    "3. bike to park\n",
    "4. bike to library\n",
    "5. drive to store\n",
    "6. bike to store\n",
    "7. walk to library\n",
    "8. drive to dentist\n",
    "9. bike to dentist\n",
    "\n",
    "10-39: random unique trips "
   ]
  },
  {
   "cell_type": "code",
   "execution_count": 16,
   "id": "90265340",
   "metadata": {
    "ExecuteTime": {
     "end_time": "2022-06-14T17:40:54.339295Z",
     "start_time": "2022-06-14T17:40:52.181613Z"
    }
   },
   "outputs": [
    {
     "name": "stdout",
     "output_type": "stream",
     "text": [
      "H-score:\t 0.8286383846991641 \t\t H-score: 0.650915960427094\n",
      "modified H-score: 0.7537256832350768 \t modified H-score: 0.625260422744438\n"
     ]
    },
    {
     "data": {
      "image/png": "[encoded data removed]",
      "text/plain": [
       "<Figure size 720x216 with 2 Axes>"
      ]
     },
     "metadata": {
      "needs_background": "light"
     },
     "output_type": "display_data"
    }
   ],
   "source": [
    "label_true = [0]*45 + [1]*5 + [2]*10 + [3]*10 + [4]*10 + [5]*5 + [6]*5 + [7]*3 + list(range(8, 40))\n",
    "bin_pred = [1]*50 + [2]*30 + [3]*10 + [4]*3 + [5]*2 + list(range(6, 36))\n",
    "\n",
    "df = pd.DataFrame(contingency_matrix(label_true, bin_pred, sparse=False))\n",
    "df_chopped = df[:10]\n",
    "dfs = [df, df_chopped]\n",
    "\n",
    "fig, axs = plt.subplots(1, 2, figsize=(10,3))\n",
    "\n",
    "for i in range(2):\n",
    "    plot_stacked_bars(dfs[i], fig, axs[i])\n",
    "    \n",
    "axs[0].set_title(\"with 30 single-trip bins\")\n",
    "axs[1].set_title(\"without 30 single-trip bins\")\n",
    "print(\"H-score:\\t\", H_score(dfs[0]), \"\\t\\t H-score:\", H_score(dfs[1]))\n",
    "print(\"modified H-score:\", H_score_modified(dfs[0]), \"\\t modified H-score:\", H_score_modified(dfs[1]))\n"
   ]
  },
  {
   "cell_type": "markdown",
   "id": "9f27bf04",
   "metadata": {},
   "source": [
    "An early idea to address the issue of single-trip bins artificially inflating H-scores was to compute the H-score only for the multi-trip bins. However, the concern was that the H-score would be artificially lowered and not capture the fact that we were still using the single-trip bins to make predictions. \n",
    "\n",
    "Notice that the modified H-score (0.753) for the left scenario is lower than its raw H-score (0.829) but higher than the score where the single-trip bins were entirely excluded (0.651). (This seems good, and supports the usage of this modified H-score over the earlier idea.) \n",
    "\n",
    "In both scenarios, the modified H-score is lower than the raw H-score, as expected and desired. Also interesting to note is that the gap between modified and raw H-scores is bigger on the left, where the 30 single-trip bins disproportionately affected the raw H-score. The gap is smaller on the right because we didn't have all those single-trip bins to skew our results. "
   ]
  },
  {
   "cell_type": "markdown",
   "id": "596b9ef9",
   "metadata": {},
   "source": [
    "We can also compare the H-score for singular clusters from this example data to get a more granular view of what the modifications are doing:"
   ]
  },
  {
   "cell_type": "code",
   "execution_count": 91,
   "id": "6ddc5091",
   "metadata": {
    "ExecuteTime": {
     "end_time": "2022-06-14T18:23:45.273642Z",
     "start_time": "2022-06-14T18:23:44.341751Z"
    }
   },
   "outputs": [
    {
     "name": "stdout",
     "output_type": "stream",
     "text": [
      "H-score:\n",
      "[0.0, 0.0, 0.0, 1.0, 0.0, 1.0]\n",
      "modified H-score:\n",
      "[0.0, 0.0, 0.0, 0.0, 0.0, 0.0]\n"
     ]
    },
    {
     "data": {
      "image/png": "[encoded data removed]",
      "text/plain": [
       "<Figure size 1080x216 with 6 Axes>"
      ]
     },
     "metadata": {
      "needs_background": "light"
     },
     "output_type": "display_data"
    }
   ],
   "source": [
    "label_true = [0]*45 + [1]*5 + [2]*10 + [3]*10 + [4]*10 + [5]*5 + [6]*5 + [7]*3 + list(range(8, 40))\n",
    "bin_pred = [1]*50 + [2]*30 + [3]*10 + [4]*3 + [5]*2 + list(range(6, 36))\n",
    "df = pd.DataFrame(contingency_matrix(label_true, bin_pred, sparse=False))\n",
    "H_scores = []\n",
    "modified_H_scores = []\n",
    "\n",
    "fig, axs = plt.subplots(1, 6, figsize=(15, 3))\n",
    "for i in range(6):\n",
    "    plot_stacked_bars(df.iloc[:,[i]], fig, axs[i])\n",
    "    axs[i].set_ylim(0, 50)\n",
    "    H_scores += [H_score(df.iloc[:,[i]])]\n",
    "    modified_H_scores += [H_score_modified(df.iloc[:,[i]])]\n",
    "\n",
    "print(\"H-score:\")\n",
    "print(H_scores)\n",
    "print(\"modified H-score:\")\n",
    "print(modified_H_scores)\n"
   ]
  },
  {
   "cell_type": "code",
   "execution_count": 82,
   "id": "a051d7b9",
   "metadata": {
    "ExecuteTime": {
     "end_time": "2022-06-14T17:56:42.056629Z",
     "start_time": "2022-06-14T17:56:42.002790Z"
    }
   },
   "outputs": [
    {
     "name": "stdout",
     "output_type": "stream",
     "text": [
      "0.0\n",
      "0.0\n",
      "0.0\n",
      "0.0\n",
      "0.0\n",
      "0.0\n",
      "0.0\n"
     ]
    }
   ],
   "source": [
    "# label_true = [0]*45 + [1]*5 + [2]*10 + [3]*10 + [4]*10 + [5]*5 + [6]*5 + [7]*3 + list(range(8, 40))\n",
    "# bin_pred = [1]*50 + [2]*30 + [3]*10 + [4]*3 + [5]*2 + list(range(6, 36))\n",
    "# df = pd.DataFrame(contingency_matrix(label_true, bin_pred, sparse=False))\n",
    "\n",
    "H_scores = []\n",
    "modified_H_scores = []\n",
    "\n",
    "fig, axs = plt.subplots(1, 6, figsize=(15, 3))\n",
    "for i in range(6):\n",
    "    temp_df = df.iloc[:,[i, i+1]]\n",
    "    plot_stacked_bars(temp_df, fig, axs[i])\n",
    "    axs[i].set_ylim(0, 50)\n",
    "    H_scores += [H_score(temp_df)]\n",
    "    modified_H_scores += [H_score_modified(temp_df)]\n",
    "\n",
    "print(\"H-score:\")\n",
    "print(H_scores)\n",
    "print(\"modified H-score:\")\n",
    "print(modified_H_scores)\n"
   ]
  },
  {
   "cell_type": "code",
   "execution_count": 85,
   "id": "d4547dee",
   "metadata": {
    "ExecuteTime": {
     "end_time": "2022-06-14T17:57:38.779437Z",
     "start_time": "2022-06-14T17:57:38.728087Z"
    }
   },
   "outputs": [
    {
     "name": "stdout",
     "output_type": "stream",
     "text": [
      "0.0\n",
      "0.0\n",
      "0.0\n",
      "1.0\n",
      "0.0\n",
      "1.0\n",
      "1.0\n"
     ]
    }
   ],
   "source": [
    "print(H_score(df.iloc[:,[0]]))\n",
    "print(H_score(df.iloc[:,[1]]))\n",
    "print(H_score(df.iloc[:,[2]]))\n",
    "print(H_score(df.iloc[:,[3]]))\n",
    "print(H_score(df.iloc[:,[4]]))\n",
    "print(H_score(df.iloc[:,[5]]))\n",
    "print(H_score(df.iloc[:,[6]]))"
   ]
  },
  {
   "cell_type": "code",
   "execution_count": 81,
   "id": "7696d5b0",
   "metadata": {
    "ExecuteTime": {
     "end_time": "2022-06-14T17:56:20.162377Z",
     "start_time": "2022-06-14T17:56:20.112883Z"
    }
   },
   "outputs": [
    {
     "name": "stdout",
     "output_type": "stream",
     "text": [
      "0.5036782754131408\n",
      "0.3399714466848355\n",
      "0.41360129762684605\n",
      "0.45959877251022296\n",
      "0.30501249975961464\n",
      "0.3690702464285426\n"
     ]
    }
   ],
   "source": [
    "print(H_score_modified(df.iloc[:,[0, 1]]))\n",
    "print(H_score_modified(df.iloc[:,[1, 2]]))\n",
    "print(H_score_modified(df.iloc[:,[2, 3]]))\n",
    "print(H_score_modified(df.iloc[:,[3, 4]]))\n",
    "print(H_score_modified(df.iloc[:,[4, 5]]))\n",
    "print(H_score_modified(df.iloc[:,[5, 6]]))"
   ]
  },
  {
   "cell_type": "code",
   "execution_count": 86,
   "id": "3193b131",
   "metadata": {
    "ExecuteTime": {
     "end_time": "2022-06-14T18:00:29.495765Z",
     "start_time": "2022-06-14T18:00:29.442659Z"
    }
   },
   "outputs": [
    {
     "name": "stdout",
     "output_type": "stream",
     "text": [
      "0.5181742207643957\n",
      "0.3605680553151701\n",
      "0.5032672074087368\n",
      "0.708231644803283\n",
      "0.579380164285695\n",
      "1.0\n"
     ]
    }
   ],
   "source": [
    "print(H_score(df.iloc[:,[0, 1]]))\n",
    "print(H_score(df.iloc[:,[1, 2]]))\n",
    "print(H_score(df.iloc[:,[2, 3]]))\n",
    "print(H_score(df.iloc[:,[3, 4]]))\n",
    "print(H_score(df.iloc[:,[4, 5]]))\n",
    "print(H_score(df.iloc[:,[5, 6]]))"
   ]
  },
  {
   "cell_type": "code",
   "execution_count": null,
   "id": "f9618372",
   "metadata": {},
   "outputs": [],
   "source": []
  }
 ],
 "metadata": {
  "kernelspec": {
   "display_name": "Python 3",
   "language": "python",
   "name": "python3"
  },
  "language_info": {
   "codemirror_mode": {
    "name": "ipython",
    "version": 3
   },
   "file_extension": ".py",
   "mimetype": "text/x-python",
   "name": "python",
   "nbconvert_exporter": "python",
   "pygments_lexer": "ipython3",
   "version": "3.7.12"
  },
  "toc": {
   "base_numbering": 1,
   "nav_menu": {},
   "number_sections": true,
   "sideBar": true,
   "skip_h1_title": false,
   "title_cell": "Table of Contents",
   "title_sidebar": "Contents",
   "toc_cell": false,
   "toc_position": {},
   "toc_section_display": true,
   "toc_window_display": false
  }
 },
 "nbformat": 4,
 "nbformat_minor": 5
}
