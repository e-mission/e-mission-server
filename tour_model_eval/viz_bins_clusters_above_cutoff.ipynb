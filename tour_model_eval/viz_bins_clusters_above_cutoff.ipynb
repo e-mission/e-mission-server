{
 "cells": [
  {
   "cell_type": "code",
   "execution_count": null,
   "id": "addressed-paraguay",
   "metadata": {
    "scrolled": true
   },
   "outputs": [],
   "source": [
    "import matplotlib\n",
    "import matplotlib.pyplot as plt\n",
    "import numpy\n",
    "import emission.core.get_database as edb\n",
    "import logging\n",
    "import folium\n",
    "import math\n",
    "import branca.colormap as cm\n",
    "import emission.storage.timeseries.abstract_timeseries as esta\n",
    "import emission.analysis.modelling.tour_model.cluster_pipeline as eamtc\n",
    "import emission.analysis.modelling.tour_model.similarity as similarity\n",
    "import emission.analysis.modelling.tour_model.cluster_pipeline as pipeline\n",
    "import emission.analysis.modelling.tour_model.featurization as featurization\n",
    "import viz_bin_cluster as viz"
   ]
  },
  {
   "cell_type": "code",
   "execution_count": null,
   "id": "medical-connecticut",
   "metadata": {},
   "outputs": [],
   "source": [
    "logger = logging.getLogger()\n",
    "logger.setLevel(logging.DEBUG)"
   ]
  },
  {
   "cell_type": "code",
   "execution_count": null,
   "id": "improved-provincial",
   "metadata": {},
   "outputs": [],
   "source": [
    "# copied from mode_purpose_share.ipynb\n",
    "# We select participants from real data to be users at this time\n",
    "participant_uuid_obj = list(edb.get_profile_db().find({\"install_group\": \"participant\"}, {\"user_id\": 1, \"_id\": 0}))\n",
    "all_users = [u[\"user_id\"] for u in participant_uuid_obj]"
   ]
  },
  {
   "cell_type": "code",
   "execution_count": null,
   "id": "manufactured-chosen",
   "metadata": {},
   "outputs": [],
   "source": [
    "logging.debug('There are %s users, we will plot the graphs for one of them' % len(all_users))\n",
    "# We use user11 as an example \n",
    "# since the bins number after filtering are obviously different from the number of clusters\n",
    "user = all_users[10]"
   ]
  },
  {
   "cell_type": "code",
   "execution_count": null,
   "id": "essential-attraction",
   "metadata": {},
   "outputs": [],
   "source": [
    "# we should experiment with different values here\n",
    "radius = 300"
   ]
  },
  {
   "cell_type": "code",
   "execution_count": null,
   "id": "favorite-independence",
   "metadata": {},
   "outputs": [],
   "source": [
    "trips = pipeline.read_data(uuid=user)"
   ]
  },
  {
   "cell_type": "markdown",
   "id": "particular-meaning",
   "metadata": {},
   "source": [
    "## Visualizing trips from bins above cutoff"
   ]
  },
  {
   "cell_type": "code",
   "execution_count": null,
   "id": "alpine-business",
   "metadata": {
    "scrolled": true
   },
   "outputs": [],
   "source": [
    "bin_trips, bins = pipeline.remove_noise(trips, radius)"
   ]
  },
  {
   "cell_type": "code",
   "execution_count": null,
   "id": "inner-double",
   "metadata": {
    "scrolled": false
   },
   "outputs": [],
   "source": [
    "logging.debug('The list of bins is %s' % bins)"
   ]
  },
  {
   "cell_type": "code",
   "execution_count": null,
   "id": "rising-prayer",
   "metadata": {},
   "outputs": [],
   "source": [
    "# bins_map takes three parameters\n",
    "# set the second parameter to None since we need to plot all trips above cutoff\n",
    "viz.bins_map(bins,None,trips)"
   ]
  },
  {
   "cell_type": "markdown",
   "id": "loose-galaxy",
   "metadata": {},
   "source": [
    "## Visualizing clusters above cutoff"
   ]
  },
  {
   "cell_type": "code",
   "execution_count": null,
   "id": "assisted-january",
   "metadata": {
    "scrolled": true
   },
   "outputs": [],
   "source": [
    "# here the clustering is set to(min=len(bins),max=1.5 * len(bins))\n",
    "clusters,labels,cluster_trips, points = pipeline.cluster(bin_trips, len(bins))"
   ]
  },
  {
   "cell_type": "code",
   "execution_count": null,
   "id": "spoken-soccer",
   "metadata": {},
   "outputs": [],
   "source": [
    "logging.debug('number of clusters: %d' % clusters)"
   ]
  },
  {
   "cell_type": "code",
   "execution_count": null,
   "id": "realistic-stick",
   "metadata": {},
   "outputs": [],
   "source": [
    "logging.debug('labels list is: %s' % labels)"
   ]
  },
  {
   "cell_type": "code",
   "execution_count": null,
   "id": "close-oasis",
   "metadata": {
    "scrolled": false
   },
   "outputs": [],
   "source": [
    "# clusters_map takes four parameters\n",
    "# set the second parameter to None since we need to plot all clusters above cutoff\n",
    "viz.clusters_map(labels,None,points,clusters)"
   ]
  },
  {
   "cell_type": "markdown",
   "id": "technical-juvenile",
   "metadata": {},
   "source": [
    "## Visualizing the difference between specific bins and clusters above cutoff "
   ]
  },
  {
   "cell_type": "markdown",
   "id": "naval-behavior",
   "metadata": {},
   "source": [
    "### Trips from filtered bins"
   ]
  },
  {
   "cell_type": "code",
   "execution_count": null,
   "id": "thirty-activity",
   "metadata": {
    "scrolled": false
   },
   "outputs": [],
   "source": [
    "# put the indices of selected bin(s) into a list as the second parameter\n",
    "# from the output above, trips in the first bin have different labels, we can compare them here\n",
    "viz.bins_map(bins,[0],trips)"
   ]
  },
  {
   "cell_type": "markdown",
   "id": "manual-remainder",
   "metadata": {},
   "source": [
    "### Trips in clusters"
   ]
  },
  {
   "cell_type": "code",
   "execution_count": null,
   "id": "hired-fetish",
   "metadata": {
    "scrolled": false
   },
   "outputs": [],
   "source": [
    "# put the selected label(s) into a list as the second parameter\n",
    "viz.clusters_map(labels,[1,12,15],points,clusters)"
   ]
  },
  {
   "cell_type": "markdown",
   "id": "grateful-advantage",
   "metadata": {},
   "source": [
    "## Data collection"
   ]
  },
  {
   "cell_type": "code",
   "execution_count": null,
   "id": "completed-recognition",
   "metadata": {},
   "outputs": [],
   "source": [
    "import pandas as pd"
   ]
  },
  {
   "cell_type": "markdown",
   "id": "quantitative-undergraduate",
   "metadata": {},
   "source": [
    "user12 is not typical, so we filter it out"
   ]
  },
  {
   "cell_type": "code",
   "execution_count": null,
   "id": "portable-argentina",
   "metadata": {},
   "outputs": [],
   "source": [
    "above_cutoff_bins = []\n",
    "for i in range (len(all_users)):\n",
    "    if i == 11:\n",
    "        continue\n",
    "    user = all_users[i]\n",
    "    trips = pipeline.read_data(uuid=user)\n",
    "    bin_trips, bins = pipeline.remove_noise(trips, radius)\n",
    "    above_cutoff_bins.append(len(bins))\n",
    "above_cutoff_bins"
   ]
  },
  {
   "cell_type": "code",
   "execution_count": null,
   "id": "statewide-mitchell",
   "metadata": {},
   "outputs": [],
   "source": [
    "# add another clustering outcome here (min=0,max=1.5 * len(bins)), to see the outcome based on sil score\n",
    "above_cutoff_clusters_min_0 = []\n",
    "for i in range (len(all_users)):\n",
    "    if i == 11:\n",
    "        continue\n",
    "    user = all_users[i]\n",
    "    trips = pipeline.read_data(uuid=user)\n",
    "    bin_trips, bins = pipeline.remove_noise(trips, radius)\n",
    "    feat = featurization.featurization(bin_trips)\n",
    "    min = 0\n",
    "    max = int(math.ceil(1.5 * len(bins)))\n",
    "    feat.cluster(min_clusters=min, max_clusters=max)\n",
    "    above_cutoff_clusters_min_0.append(feat.clusters)\n",
    "above_cutoff_clusters_min_0"
   ]
  },
  {
   "cell_type": "code",
   "execution_count": null,
   "id": "pleasant-miami",
   "metadata": {},
   "outputs": [],
   "source": [
    "# this clustering method is set to(min=len(bins),max=1.5 * len(bins)), the outcome is based on the number of bins and sil score\n",
    "above_cutoff_clusters_min_bins = []\n",
    "for i in range (len(all_users)):\n",
    "    if i == 11:\n",
    "        continue\n",
    "    user = all_users[i]\n",
    "    trips = pipeline.read_data(uuid=user)\n",
    "    bin_trips, bins = pipeline.remove_noise(trips, radius)\n",
    "    clusters,labels,cluster_trips, points = pipeline.cluster(bin_trips, len(bins))\n",
    "    above_cutoff_clusters_min_bins.append(clusters)\n",
    "above_cutoff_clusters_min_bins"
   ]
  },
  {
   "cell_type": "code",
   "execution_count": null,
   "id": "short-break",
   "metadata": {},
   "outputs": [],
   "source": [
    "# since we just need a simple graph, setting the indices to users' name is more clear to readers \n",
    "user_index = ['user1','user2','user3','user4','user5','user6','user7','user8','user9','user10','user11','user13']"
   ]
  },
  {
   "cell_type": "code",
   "execution_count": null,
   "id": "functional-shopper",
   "metadata": {},
   "outputs": [],
   "source": [
    "cutoff_data = {'above cutoff bins':[i for i in above_cutoff_bins],'above cutoff clusters (min = len(bins))':[i for i in above_cutoff_clusters_min_bins],'above cutoff clusters (min = 0)':[i for i in above_cutoff_clusters_min_0]}"
   ]
  },
  {
   "cell_type": "code",
   "execution_count": null,
   "id": "false-infrastructure",
   "metadata": {},
   "outputs": [],
   "source": [
    "df_cutoff = pd.DataFrame(data = cutoff_data, index = user_index)\n",
    "df_cutoff"
   ]
  },
  {
   "cell_type": "code",
   "execution_count": null,
   "id": "nasty-christianity",
   "metadata": {},
   "outputs": [],
   "source": [
    "df_cutoff.plot(kind = 'bar')"
   ]
  }
 ],
 "metadata": {
  "kernelspec": {
   "display_name": "Python 3",
   "language": "python",
   "name": "python3"
  },
  "language_info": {
   "codemirror_mode": {
    "name": "ipython",
    "version": 3
   },
   "file_extension": ".py",
   "mimetype": "text/x-python",
   "name": "python",
   "nbconvert_exporter": "python",
   "pygments_lexer": "ipython3",
   "version": "3.7.9"
  }
 },
 "nbformat": 4,
 "nbformat_minor": 5
}
