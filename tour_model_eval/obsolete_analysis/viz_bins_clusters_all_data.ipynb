{
 "cells": [
  {
   "cell_type": "code",
   "execution_count": null,
   "id": "mental-retail",
   "metadata": {},
   "outputs": [],
   "source": [
    "import matplotlib\n",
    "import matplotlib.pyplot as plt\n",
    "import numpy\n",
    "import emission.core.get_database as edb\n",
    "import logging\n",
    "import folium\n",
    "import math\n",
    "import branca.colormap as cm\n",
    "import emission.storage.timeseries.abstract_timeseries as esta\n",
    "import emission.analysis.modelling.tour_model.cluster_pipeline as eamtc\n",
    "import emission.analysis.modelling.tour_model.similarity as similarity\n",
    "import emission.analysis.modelling.tour_model.cluster_pipeline as pipeline\n",
    "import emission.analysis.modelling.tour_model.featurization as featurization\n",
    "import viz_bin_cluster as viz"
   ]
  },
  {
   "cell_type": "code",
   "execution_count": null,
   "id": "adaptive-supplement",
   "metadata": {},
   "outputs": [],
   "source": [
    "logger = logging.getLogger()\n",
    "logger.setLevel(logging.DEBUG)"
   ]
  },
  {
   "cell_type": "code",
   "execution_count": null,
   "id": "combined-magazine",
   "metadata": {},
   "outputs": [],
   "source": [
    "# copied from mode_purpose_share.ipynb\n",
    "# We select participants from real data to be users at this time\n",
    "participant_uuid_obj = list(edb.get_profile_db().find({\"install_group\": \"participant\"}, {\"user_id\": 1, \"_id\": 0}))\n",
    "all_users = [u[\"user_id\"] for u in participant_uuid_obj]"
   ]
  },
  {
   "cell_type": "code",
   "execution_count": null,
   "id": "hollow-prefix",
   "metadata": {},
   "outputs": [],
   "source": [
    "logging.debug('There are %s users, we will plot the graphs for one of them' % len(all_users))\n",
    "# We can choose one user without too many bins/clusters (easier to identify by colors later)\n",
    "user = all_users[1]"
   ]
  },
  {
   "cell_type": "code",
   "execution_count": null,
   "id": "finnish-istanbul",
   "metadata": {},
   "outputs": [],
   "source": [
    "# we should experiment with different values here\n",
    "radius = 300"
   ]
  },
  {
   "cell_type": "code",
   "execution_count": null,
   "id": "dependent-machinery",
   "metadata": {
    "scrolled": false
   },
   "outputs": [],
   "source": [
    "trips = pipeline.read_data(uuid=user)"
   ]
  },
  {
   "cell_type": "markdown",
   "id": "cooperative-light",
   "metadata": {},
   "source": [
    "## Visualizing trips from all bins"
   ]
  },
  {
   "cell_type": "code",
   "execution_count": null,
   "id": "ultimate-bottom",
   "metadata": {
    "scrolled": true
   },
   "outputs": [],
   "source": [
    "sim = similarity.similarity(trips, radius)\n",
    "sim.bin_data()"
   ]
  },
  {
   "cell_type": "code",
   "execution_count": null,
   "id": "amino-particular",
   "metadata": {
    "scrolled": true
   },
   "outputs": [],
   "source": [
    "logging.debug('There are %s bins before filtering' % len(sim.bins))"
   ]
  },
  {
   "cell_type": "code",
   "execution_count": null,
   "id": "horizontal-empty",
   "metadata": {
    "scrolled": false
   },
   "outputs": [],
   "source": [
    "# the second parameter is for selected bins, set it to None to plot all bins\n",
    "viz.bins_map(sim.bins, None, trips)"
   ]
  },
  {
   "cell_type": "markdown",
   "id": "latest-impact",
   "metadata": {},
   "source": [
    "## Visualizing clusters on all data"
   ]
  },
  {
   "cell_type": "markdown",
   "id": "dirty-lucas",
   "metadata": {},
   "source": [
    "Note: should run \"Trips from all bins\" first"
   ]
  },
  {
   "cell_type": "code",
   "execution_count": null,
   "id": "corresponding-silly",
   "metadata": {
    "scrolled": true
   },
   "outputs": [],
   "source": [
    "# copied from the cluster pipeline code so we can work with the featurization code directly\n",
    "feat = featurization.featurization(trips)\n",
    "min = 0\n",
    "max = int(math.ceil(1.5 * len(sim.bins)))\n",
    "feat.cluster(min_clusters=min, max_clusters=max)"
   ]
  },
  {
   "cell_type": "code",
   "execution_count": null,
   "id": "together-motivation",
   "metadata": {},
   "outputs": [],
   "source": [
    "logging.debug('number of clusters: %d' % feat.clusters)"
   ]
  },
  {
   "cell_type": "code",
   "execution_count": null,
   "id": "spoken-template",
   "metadata": {},
   "outputs": [],
   "source": [
    "logging.debug('The list of labels is %s'% feat.labels)"
   ]
  },
  {
   "cell_type": "code",
   "execution_count": null,
   "id": "primary-messaging",
   "metadata": {
    "scrolled": true
   },
   "outputs": [],
   "source": [
    "# the second parameter is for selected cluster, set it to None to plot all clusters\n",
    "viz.clusters_map(feat.labels, None, feat.points, feat.clusters)"
   ]
  },
  {
   "cell_type": "markdown",
   "id": "economic-approval",
   "metadata": {},
   "source": [
    "## Data collection"
   ]
  },
  {
   "cell_type": "code",
   "execution_count": null,
   "id": "criminal-course",
   "metadata": {},
   "outputs": [],
   "source": [
    "import pandas as pd"
   ]
  },
  {
   "cell_type": "code",
   "execution_count": null,
   "id": "fluid-bronze",
   "metadata": {},
   "outputs": [],
   "source": [
    "# user12 is not typical, so we filter it out"
   ]
  },
  {
   "cell_type": "code",
   "execution_count": null,
   "id": "inner-reunion",
   "metadata": {},
   "outputs": [],
   "source": [
    "all_data_bins = []\n",
    "for i in range (len(all_users)):\n",
    "    if i == 11:\n",
    "        continue\n",
    "    user = all_users[i]\n",
    "    trips = pipeline.read_data(uuid=user)\n",
    "    sim = similarity.similarity(trips, radius)\n",
    "    sim.bin_data()\n",
    "    bins_num_all = len(sim.bins)\n",
    "    all_data_bins.append(bins_num_all )\n",
    "all_data_bins"
   ]
  },
  {
   "cell_type": "code",
   "execution_count": null,
   "id": "entire-honor",
   "metadata": {},
   "outputs": [],
   "source": [
    "all_data_clusters = []\n",
    "for i in range (len(all_users)):\n",
    "    if i == 11:\n",
    "        continue\n",
    "    user = all_users[i]\n",
    "    trips = pipeline.read_data(uuid=user)\n",
    "    sim = similarity.similarity(trips, radius)\n",
    "    sim.bin_data()\n",
    "    feat = featurization.featurization(trips)\n",
    "    min = 0\n",
    "    max = int(math.ceil(1.5 * len(sim.bins)))\n",
    "    feat.cluster(min_clusters=min, max_clusters=max)\n",
    "    all_clusters = feat.clusters\n",
    "    all_data_clusters.append(all_clusters)\n",
    "all_data_clusters"
   ]
  },
  {
   "cell_type": "code",
   "execution_count": null,
   "id": "spiritual-wesley",
   "metadata": {},
   "outputs": [],
   "source": [
    "user_index = ['user1','user2','user3','user4','user5','user6','user7','user8','user9','user10','user11','user13']"
   ]
  },
  {
   "cell_type": "code",
   "execution_count": null,
   "id": "completed-characteristic",
   "metadata": {
    "scrolled": true
   },
   "outputs": [],
   "source": [
    "all_data = {'all bins':[i for i in all_data_bins],'all clusters':[i for i in all_data_clusters]}"
   ]
  },
  {
   "cell_type": "code",
   "execution_count": null,
   "id": "inclusive-belarus",
   "metadata": {},
   "outputs": [],
   "source": [
    "df_all = pd.DataFrame(data = all_data, index = user_index)\n",
    "df_all"
   ]
  },
  {
   "cell_type": "code",
   "execution_count": null,
   "id": "auburn-dividend",
   "metadata": {},
   "outputs": [],
   "source": [
    "df_all.plot(kind = 'bar')"
   ]
  }
 ],
 "metadata": {
  "kernelspec": {
   "display_name": "Python 3",
   "language": "python",
   "name": "python3"
  },
  "language_info": {
   "codemirror_mode": {
    "name": "ipython",
    "version": 3
   },
   "file_extension": ".py",
   "mimetype": "text/x-python",
   "name": "python",
   "nbconvert_exporter": "python",
   "pygments_lexer": "ipython3",
   "version": "3.7.9"
  }
 },
 "nbformat": 4,
 "nbformat_minor": 5
}
