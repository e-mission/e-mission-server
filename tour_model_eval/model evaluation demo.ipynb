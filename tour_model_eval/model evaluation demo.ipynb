{
    "cells": [
        {
            "cell_type": "markdown",
            "metadata": {},
            "source": [
                "This notebook demonstrates the cross-validation functions to assess the label assist performance. Ouputs include confusion matrices and tables of standard performance metrics (precision, recall, f-score, accuracy). "
            ]
        },
        {
            "cell_type": "markdown",
            "metadata": {},
            "source": [
                "### imports and setup"
            ]
        },
        {
            "cell_type": "code",
            "execution_count": null,
            "metadata": {
                "ExecuteTime": {
                    "end_time": "2022-06-24T16:55:13.225781Z",
                    "start_time": "2022-06-24T16:55:11.620262Z"
                },
                "scrolled": false
            },
            "outputs": [],
            "source": [
                "%load_ext autoreload\n",
                "%autoreload 2\n",
                "\n",
                "import pandas as pd\n",
                "import numpy as np\n",
                "\n",
                "# our imports\n",
                "import emission.storage.timeseries.abstract_timeseries as esta\n",
                "import emission.storage.decorations.trip_queries as esdtq\n",
                "import models\n",
                "from performance_eval import cross_val_predict, print_clf_metrics, get_clf_metrics, cv_for_all_users\n",
                "\n",
                "# set up logging\n",
                "import logging \n",
                "logging.getLogger().setLevel(logging.INFO)"
            ]
        },
        {
            "cell_type": "markdown",
            "metadata": {},
            "source": [
                "### Read data and set up variables"
            ]
        },
        {
            "cell_type": "markdown",
            "metadata": {},
            "source": [
                "Let's see how many labeled/unlabeled trips there are"
            ]
        },
        {
            "cell_type": "code",
            "execution_count": null,
            "metadata": {
                "ExecuteTime": {
                    "end_time": "2022-06-24T16:55:36.409688Z",
                    "start_time": "2022-06-24T16:55:13.548684Z"
                },
                "scrolled": true
            },
            "outputs": [],
            "source": [
                "all_users = esta.TimeSeries.get_uuid_list()\n",
                "confirmed_trip_df_map = {}\n",
                "labeled_trip_df_map = {}\n",
                "expanded_trip_df_map = {}\n",
                "for u in all_users:\n",
                "    ts = esta.TimeSeries.get_time_series(u)\n",
                "    ct_df = ts.get_data_df(\"analysis/confirmed_trip\")\n",
                "    confirmed_trip_df_map[u] = ct_df\n",
                "    labeled_trip_df_map[u] = esdtq.filter_labeled_trips(ct_df)\n",
                "    expanded_trip_df_map[u] = esdtq.expand_userinputs(labeled_trip_df_map[u])\n",
                "n_trips_df = pd.DataFrame(\n",
                "    [[u, len(confirmed_trip_df_map[u]),\n",
                "      len(labeled_trip_df_map[u])] for u in all_users],\n",
                "    columns=[\"user_id\", \"all_trips\", \"labeled_trips\"])\n",
                "n_trips_df"
            ]
        },
        {
            "cell_type": "code",
            "execution_count": null,
            "metadata": {
                "ExecuteTime": {
                    "end_time": "2022-06-24T16:55:36.426285Z",
                    "start_time": "2022-06-24T16:55:36.413898Z"
                }
            },
            "outputs": [],
            "source": [
                "all_trips = n_trips_df.all_trips.sum()\n",
                "labeled_trips = n_trips_df.labeled_trips.sum()\n",
                "unlabeled_trips = all_trips - labeled_trips\n",
                "print('{:.2f}% unlabeled, {:.2f}% labeled, {} total trips'.format(\n",
                "    unlabeled_trips / all_trips, labeled_trips / all_trips, all_trips))\n"
            ]
        },
        {
            "cell_type": "markdown",
            "metadata": {},
            "source": [
                "### get results"
            ]
        },
        {
            "cell_type": "code",
            "execution_count": null,
            "metadata": {
                "ExecuteTime": {
                    "end_time": "2022-06-24T17:58:43.845093Z",
                    "start_time": "2022-06-24T17:33:29.144532Z"
                },
                "scrolled": true
            },
            "outputs": [],
            "source": [
                "cross_val_results = cv_for_all_users(models.ClusterExtrapolationClassifier,\n",
                "                                uuid_list=all_users,\n",
                "                                expanded_trip_df_map=expanded_trip_df_map,\n",
                "                                raise_errors=True)"
            ]
        },
        {
            "cell_type": "code",
            "execution_count": null,
            "metadata": {
                "ExecuteTime": {
                    "end_time": "2022-06-24T17:31:42.848701Z",
                    "start_time": "2022-06-24T17:31:41.050635Z"
                }
            },
            "outputs": [],
            "source": [
                "print_clf_metrics(cross_val_results,\n",
                "                  'mode',\n",
                "                  weight='distance',\n",
                "                  keep_nopred=True,\n",
                "                  ignore_custom=False)"
            ]
        },
        {
            "cell_type": "code",
            "execution_count": null,
            "metadata": {},
            "outputs": [],
            "source": [
                "# ensure that the distances in the confusion matrix match up with the actual \n",
                "# distances from the user\n",
                "print(np.sum(get_clf_metrics(cross_val_results, 'mode', weight='distance',\n",
                "                  keep_nopred=True,\n",
                "                  ignore_custom=False)['cm']))\n",
                "print(expanded_trip_df_map[user2].dropna(subset=['mode_confirm']).distance.sum())"
            ]
        },
        {
            "cell_type": "code",
            "execution_count": null,
            "metadata": {
                "ExecuteTime": {
                    "end_time": "2022-06-24T17:31:42.848701Z",
                    "start_time": "2022-06-24T17:31:41.050635Z"
                }
            },
            "outputs": [],
            "source": [
                "print_clf_metrics(cross_val_results,\n",
                "                  'purpose',\n",
                "                  weight='distance',\n",
                "                  keep_nopred=True,\n",
                "                  ignore_custom=False)"
            ]
        },
        {
            "cell_type": "code",
            "execution_count": null,
            "metadata": {
                "ExecuteTime": {
                    "end_time": "2022-06-24T17:31:42.848701Z",
                    "start_time": "2022-06-24T17:31:41.050635Z"
                }
            },
            "outputs": [],
            "source": [
                "# we can also access the standard confusion matrix based on trip count instead \n",
                "# of trip distances\n",
                "print_clf_metrics(cross_val_results,\n",
                "                  'purpose',\n",
                "                  weight='count',\n",
                "                  keep_nopred=True,\n",
                "                  ignore_custom=False)"
            ]
        },
        {
            "cell_type": "code",
            "execution_count": null,
            "metadata": {
                "ExecuteTime": {
                    "end_time": "2022-06-24T17:31:46.351684Z",
                    "start_time": "2022-06-24T17:31:44.249659Z"
                },
                "scrolled": false
            },
            "outputs": [],
            "source": [
                "print_clf_metrics(cross_val_results,\n",
                "                  'replaced',\n",
                "                  weight='distance',\n",
                "                  keep_nopred=True,\n",
                "                  ignore_custom=False)"
            ]
        }
    ],
    "metadata": {
        "interpreter": {
            "hash": "39792147defedce75a7e3a68ae8b893956023a509c7f6b059d8d59165c20ef2c"
        },
        "kernelspec": {
            "display_name": "Python 3.7.12",
            "language": "python",
            "name": "python3"
        },
        "language_info": {
            "codemirror_mode": {
                "name": "ipython",
                "version": 3
            },
            "file_extension": ".py",
            "mimetype": "text/x-python",
            "name": "python",
            "nbconvert_exporter": "python",
            "pygments_lexer": "ipython3",
            "version": "3.7.12"
        }
    },
    "nbformat": 4,
    "nbformat_minor": 2
}
