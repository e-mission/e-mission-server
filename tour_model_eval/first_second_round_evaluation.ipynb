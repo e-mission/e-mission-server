{
 "cells": [
  {
   "cell_type": "markdown",
   "id": "chubby-lightning",
   "metadata": {},
   "source": [
    "## This notebook is to show the evaluation (scatter plot) of two rounds of clustering"
   ]
  },
  {
   "cell_type": "code",
   "execution_count": null,
   "id": "mighty-ukraine",
   "metadata": {},
   "outputs": [],
   "source": [
    "import emission.core.get_database as edb\n",
    "import emission.analysis.modelling.tour_model.get_users as gu\n",
    "import emission.storage.timeseries.abstract_timeseries as esta\n",
    "import matplotlib.pyplot as plt\n",
    "import get_plot as plot"
   ]
  },
  {
   "cell_type": "code",
   "execution_count": null,
   "id": "cathedral-pointer",
   "metadata": {},
   "outputs": [],
   "source": [
    "# read data of mini-pilot\n",
    "participant_uuid_obj = list(edb.get_profile_db().find({\"install_group\": \"participant\"}, {\"user_id\": 1, \"_id\": 0}))\n",
    "all_users = [u[\"user_id\"] for u in participant_uuid_obj]"
   ]
  },
  {
   "cell_type": "code",
   "execution_count": null,
   "id": "extraordinary-fetish",
   "metadata": {},
   "outputs": [],
   "source": [
    "# # read all data in the database\n",
    "# all_users = esta.TimeSeries.get_uuid_list()"
   ]
  },
  {
   "cell_type": "code",
   "execution_count": null,
   "id": "exotic-livestock",
   "metadata": {},
   "outputs": [],
   "source": [
    "radius = 100"
   ]
  },
  {
   "cell_type": "code",
   "execution_count": null,
   "id": "czech-establishment",
   "metadata": {},
   "outputs": [],
   "source": [
    "# get all/valid user list\n",
    "user_ls, valid_users = gu.get_user_ls(all_users, radius)"
   ]
  },
  {
   "cell_type": "markdown",
   "id": "stainless-zoning",
   "metadata": {},
   "source": [
    "### Get scatter plot from the 1st round of clustering"
   ]
  },
  {
   "cell_type": "code",
   "execution_count": null,
   "id": "steady-bradley",
   "metadata": {},
   "outputs": [],
   "source": [
    "plt.figure()\n",
    "# e.g. the full path is \"/Users/chuang/Desktop/e-mission-server/user_576e37c7-ab7e-4c03-add7-02486bc3f42e.csv\"\n",
    "# here the file_path should be pass in \"/Users/chuang/Desktop/e-mission-server/\"\n",
    "file_path = \"<path before filename>\"\n",
    "plot.get_scatter(valid_users,file_path, first_round=True, second_round=False)"
   ]
  },
  {
   "cell_type": "markdown",
   "id": "distant-vietnamese",
   "metadata": {},
   "source": [
    "### Get scatter plot from the 2nd round of clustering"
   ]
  },
  {
   "cell_type": "code",
   "execution_count": null,
   "id": "polyphonic-reply",
   "metadata": {},
   "outputs": [],
   "source": [
    "plt.figure()\n",
    "file_path = \"<path before filename>\"\n",
    "plot.get_scatter(valid_users,file_path, first_round=False, second_round=True)"
   ]
  }
 ],
 "metadata": {
  "kernelspec": {
   "display_name": "Python 3",
   "language": "python",
   "name": "python3"
  },
  "language_info": {
   "codemirror_mode": {
    "name": "ipython",
    "version": 3
   },
   "file_extension": ".py",
   "mimetype": "text/x-python",
   "name": "python",
   "nbconvert_exporter": "python",
   "pygments_lexer": "ipython3",
   "version": "3.7.9"
  }
 },
 "nbformat": 4,
 "nbformat_minor": 5
}
