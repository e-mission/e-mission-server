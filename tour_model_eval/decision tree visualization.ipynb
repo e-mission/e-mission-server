{
    "cells": [
        {
            "cell_type": "markdown",
            "metadata": {},
            "source": [
                "### imports & load data"
            ]
        },
        {
            "cell_type": "code",
            "execution_count": null,
            "metadata": {},
            "outputs": [],
            "source": [
                "%load_ext autoreload\n",
                "%autoreload 2\n",
                "\n",
                "import pandas as pd\n",
                "import numpy as np\n",
                "from uuid import UUID\n",
                "\n",
                "from sklearn import tree\n",
                "import matplotlib.pyplot as plt\n",
                "\n",
                "import emission.storage.timeseries.abstract_timeseries as esta\n",
                "import emission.storage.decorations.trip_queries as esdtq\n",
                "import emission.core.get_database as edb\n",
                "import models\n",
                "\n",
                "import logging\n",
                "# logging.basicConfig()\n",
                "# logger = logging.getLogger()\n",
                "# logger.setLevel(logging.DEBUG)\n"
            ]
        },
        {
            "cell_type": "code",
            "execution_count": null,
            "metadata": {},
            "outputs": [],
            "source": [
                "# to see the same outputs I described, put in the unique tokens for these users\n",
                "email0 = \"replace this\" # shankari\n",
                "email1 = \"replace this\" # tom\n",
                "user0 = list(edb.get_uuid_db().find({\"user_email\": email0}))[0]['uuid']\n",
                "user1 = list(edb.get_uuid_db().find({\"user_email\": email1}))[0]['uuid']\n",
                "user2 = UUID('replace this') # hannah\n",
                "\n",
                "all_users = esta.TimeSeries.get_uuid_list()\n",
                "confirmed_trip_df_map = {}\n",
                "labeled_trip_df_map = {}\n",
                "expanded_labeled_trip_df_map = {}\n",
                "expanded_all_trip_df_map = {}\n",
                "for u in all_users:\n",
                "    ts = esta.TimeSeries.get_time_series(u)\n",
                "    ct_df = ts.get_data_df(\"analysis/confirmed_trip\")\n",
                "\n",
                "    confirmed_trip_df_map[u] = ct_df\n",
                "    labeled_trip_df_map[u] = esdtq.filter_labeled_trips(ct_df)\n",
                "    expanded_labeled_trip_df_map[u] = esdtq.expand_userinputs(\n",
                "        labeled_trip_df_map[u])\n",
                "    expanded_all_trip_df_map[u] = esdtq.expand_userinputs(\n",
                "        confirmed_trip_df_map[u])"
            ]
        },
        {
            "cell_type": "markdown",
            "metadata": {},
            "source": [
                "### visualize a decision tree in the random forest from ForestClassifier"
            ]
        },
        {
            "cell_type": "markdown",
            "metadata": {},
            "source": [
                "Let's look at user2's results"
            ]
        },
        {
            "cell_type": "code",
            "execution_count": null,
            "metadata": {},
            "outputs": [],
            "source": [
                "train_df = expanded_labeled_trip_df_map[user2]\n",
                "cluster_forest_model = models.ForestClassifier(loc_feature='cluster')\n",
                "cluster_forest_model.fit(train_df)"
            ]
        },
        {
            "cell_type": "markdown",
            "metadata": {},
            "source": [
                "view a decision tree from the mode classifier:"
            ]
        },
        {
            "cell_type": "code",
            "execution_count": null,
            "metadata": {},
            "outputs": [],
            "source": [
                "plt.style.use('default')"
            ]
        },
        {
            "cell_type": "code",
            "execution_count": null,
            "metadata": {},
            "outputs": [],
            "source": [
                "fig, axs = plt.subplots(1, 1, dpi=1000, figsize=(20, 10))\n",
                "for decision_tree in cluster_forest_model.mode_predictor.estimators_[0:1]:\n",
                "    tree.plot_tree(\n",
                "        decision_tree,\n",
                "        feature_names=cluster_forest_model.base_features +\n",
                "        cluster_forest_model.cluster_enc.onehot_encoding_cols +\n",
                "        cluster_forest_model.purpose_enc.onehot_encoding_cols,\n",
                "        class_names=list(cluster_forest_model.y_mode.unique()),\n",
                "        filled=True,\n",
                "        ax=axs,\n",
                "        #    fontsize=5,\n",
                "    )\n"
            ]
        },
        {
            "cell_type": "markdown",
            "metadata": {},
            "source": [
                "view a decision tree from the purpose classifier:"
            ]
        },
        {
            "cell_type": "code",
            "execution_count": null,
            "metadata": {},
            "outputs": [],
            "source": [
                "fig, axs = plt.subplots(1, 1, dpi=1000, figsize=(20, 10))\n",
                "for decision_tree in cluster_forest_model.purpose_predictor.estimators_[2:3]:\n",
                "    tree.plot_tree(\n",
                "        decision_tree,\n",
                "        feature_names=cluster_forest_model.base_features +\n",
                "        cluster_forest_model.cluster_enc.onehot_encoding_cols,\n",
                "        class_names=list(cluster_forest_model.y_purpose.unique()),\n",
                "        filled=True,\n",
                "        ax=axs,\n",
                "        #    fontsize=5,\n",
                "    )\n"
            ]
        },
        {
            "cell_type": "markdown",
            "metadata": {},
            "source": [
                "view a decision tree from the replaced-mode classifier:"
            ]
        },
        {
            "cell_type": "code",
            "execution_count": null,
            "metadata": {},
            "outputs": [],
            "source": [
                "fig, axs = plt.subplots(1, 1, dpi=1000, figsize=(20, 10))\n",
                "for decision_tree in cluster_forest_model.replaced_predictor.estimators_[2:3]:\n",
                "    tree.plot_tree(\n",
                "        decision_tree,\n",
                "        feature_names=cluster_forest_model.base_features +\n",
                "        cluster_forest_model.cluster_enc.onehot_encoding_cols +\n",
                "        cluster_forest_model.purpose_enc.onehot_encoding_cols +\n",
                "        cluster_forest_model.mode_enc.onehot_encoding_cols,\n",
                "        class_names=list(cluster_forest_model.y_replaced.unique()),\n",
                "        filled=True,\n",
                "        ax=axs,\n",
                "        #    fontsize=5,\n",
                "    )\n"
            ]
        },
        {
            "cell_type": "markdown",
            "metadata": {},
            "source": [
                "### visualize a decision tree in the random forest from BasicForestPredictor"
            ]
        },
        {
            "cell_type": "code",
            "execution_count": null,
            "metadata": {},
            "outputs": [],
            "source": [
                "basic_forest_model = models.BasicForestPredictor()\n",
                "basic_forest_model.fit(train_df)"
            ]
        },
        {
            "cell_type": "markdown",
            "metadata": {},
            "source": [
                "view a decision tree from the mode classifier:"
            ]
        },
        {
            "cell_type": "code",
            "execution_count": null,
            "metadata": {},
            "outputs": [],
            "source": [
                "fig, axs = plt.subplots(1, 1, dpi=1000, figsize=(20, 10))\n",
                "for decision_tree in basic_forest_model.mode_predictor.estimators_[0:1]:\n",
                "    tree.plot_tree(\n",
                "        decision_tree,\n",
                "        feature_names=basic_forest_model.base_features +\n",
                "        basic_forest_model.purpose_enc.onehot_encoding_cols,\n",
                "        class_names=list(basic_forest_model.y_mode.unique()),\n",
                "        filled=True,\n",
                "        ax=axs,\n",
                "        #    fontsize=5,\n",
                "    )\n"
            ]
        },
        {
            "cell_type": "markdown",
            "metadata": {},
            "source": [
                "view a decision tree from the purpose classifier:"
            ]
        },
        {
            "cell_type": "code",
            "execution_count": null,
            "metadata": {},
            "outputs": [],
            "source": [
                "fig, axs = plt.subplots(1, 1, dpi=1000, figsize=(20, 10))\n",
                "for decision_tree in basic_forest_model.purpose_predictor.estimators_[2:3]:\n",
                "    tree.plot_tree(\n",
                "        decision_tree,\n",
                "        feature_names=basic_forest_model.base_features,\n",
                "        class_names=list(basic_forest_model.y_purpose.unique()),\n",
                "        filled=True,\n",
                "        ax=axs,\n",
                "        #    fontsize=5,\n",
                "    )\n"
            ]
        },
        {
            "cell_type": "markdown",
            "metadata": {},
            "source": [
                "view a decision tree from the replaced-mode classifier:"
            ]
        },
        {
            "cell_type": "code",
            "execution_count": null,
            "metadata": {},
            "outputs": [],
            "source": [
                "fig, axs = plt.subplots(1, 1, dpi=1000, figsize=(20, 10))\n",
                "for decision_tree in basic_forest_model.replaced_predictor.estimators_[2:3]:\n",
                "    tree.plot_tree(\n",
                "        decision_tree,\n",
                "        feature_names=basic_forest_model.base_features +\n",
                "        basic_forest_model.purpose_enc.onehot_encoding_cols +\n",
                "        basic_forest_model.mode_enc.onehot_encoding_cols,\n",
                "        class_names=list(basic_forest_model.y_replaced.unique()),\n",
                "        filled=True,\n",
                "        ax=axs,\n",
                "        #    fontsize=5,\n",
                "    )\n"
            ]
        },
        {
            "cell_type": "code",
            "execution_count": null,
            "metadata": {},
            "outputs": [],
            "source": []
        }
    ],
    "metadata": {
        "interpreter": {
            "hash": "39792147defedce75a7e3a68ae8b893956023a509c7f6b059d8d59165c20ef2c"
        },
        "kernelspec": {
            "display_name": "Python 3.7.12",
            "language": "python",
            "name": "python3"
        },
        "language_info": {
            "codemirror_mode": {
                "name": "ipython",
                "version": 3
            },
            "file_extension": ".py",
            "mimetype": "text/x-python",
            "name": "python",
            "nbconvert_exporter": "python",
            "pygments_lexer": "ipython3",
            "version": "3.7.12"
        },
        "orig_nbformat": 4
    },
    "nbformat": 4,
    "nbformat_minor": 2
}
