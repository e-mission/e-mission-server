{
 "cells": [
  {
   "cell_type": "markdown",
   "metadata": {},
   "source": [
    "In this notebook, we will try to tune the OPTICS clustering algorithm. \n",
    "\n",
    "Spoilers: This notebook is kind of messy because I started modifying the hyperparameter without much technique. The verdict is that it is difficult to find optimal hyperparameters because **they vary by region (e.g. if users take trips in sprawling suburbs or densely packed cities)**. "
   ]
  },
  {
   "cell_type": "markdown",
   "metadata": {},
   "source": [
    "### imports"
   ]
  },
  {
   "cell_type": "code",
   "execution_count": null,
   "metadata": {},
   "outputs": [],
   "source": [
    "%load_ext autoreload\n",
    "%autoreload 2\n",
    "\n",
    "import pandas as pd\n",
    "import numpy as np\n",
    "\n",
    "from uuid import UUID\n",
    "\n",
    "# hack because jupyter notebook doesn't work properly through my vscode for\n",
    "# some reason and therefore cant import stuff from emission? remove this before\n",
    "# pushing\n",
    "###\n",
    "import sys\n",
    "\n",
    "sys.path.append('/Users/hlu2/Documents/GitHub/e-mission-server/')\n",
    "###\n",
    "\n",
    "import emission.storage.timeseries.abstract_timeseries as esta\n",
    "import emission.storage.decorations.trip_queries as esdtq\n",
    "import emission.core.get_database as edb\n",
    "import mapping\n"
   ]
  },
  {
   "cell_type": "markdown",
   "metadata": {},
   "source": [
    "### load data"
   ]
  },
  {
   "cell_type": "code",
   "execution_count": null,
   "metadata": {},
   "outputs": [],
   "source": [
    "# to see the same outputs I described, put in the unique tokens for these users\n",
    "email0 = \"replace this\"  # shankari\n",
    "email1 = \"replace this\"  # tom\n",
    "user0 = list(edb.get_uuid_db().find({\"user_email\": email0}))[0]['uuid']\n",
    "user1 = list(edb.get_uuid_db().find({\"user_email\": email1}))[0]['uuid']\n",
    "user2 = UUID('replace this')  # hannah"
   ]
  },
  {
   "cell_type": "code",
   "execution_count": null,
   "metadata": {},
   "outputs": [],
   "source": [
    "all_users = esta.TimeSeries.get_uuid_list()\n",
    "user_list = np.append([user0, user1, user2],\n",
    "                      np.random.choice(all_users, size=10, replace=False))\n",
    "confirmed_trip_df_map = {}\n",
    "labeled_trip_df_map = {}\n",
    "expanded_labeled_trip_df_map = {}\n",
    "expanded_all_trip_df_map = {}\n",
    "for i in range(len(user_list)):\n",
    "    u = user_list[i]\n",
    "    print(u)\n",
    "    ts = esta.TimeSeries.get_time_series(u)\n",
    "    ct_df = ts.get_data_df(\"analysis/confirmed_trip\")\n",
    "\n",
    "    confirmed_trip_df_map[i] = ct_df\n",
    "    labeled_trip_df_map[i] = esdtq.filter_labeled_trips(ct_df)\n",
    "    expanded_labeled_trip_df_map[i] = esdtq.expand_userinputs(\n",
    "        labeled_trip_df_map[i])\n",
    "    expanded_all_trip_df_map[i] = esdtq.expand_userinputs(\n",
    "        confirmed_trip_df_map[i])\n"
   ]
  },
  {
   "cell_type": "code",
   "execution_count": null,
   "metadata": {},
   "outputs": [],
   "source": [
    "n_trips_df = pd.DataFrame([[\n",
    "    user_list[i],\n",
    "    len(confirmed_trip_df_map[i]),\n",
    "    len(labeled_trip_df_map[i])\n",
    "] for i in range(len(user_list))],\n",
    "                          columns=[\"user_id\", \"all_trips\", \"labeled_trips\"])\n",
    "n_trips_df"
   ]
  },
  {
   "cell_type": "markdown",
   "metadata": {},
   "source": [
    "### tuning"
   ]
  },
  {
   "cell_type": "markdown",
   "metadata": {},
   "source": [
    "#### initial tuning of radii and minpts (no xi modification)"
   ]
  },
  {
   "cell_type": "markdown",
   "metadata": {},
   "source": [
    "optics with min samples of 2"
   ]
  },
  {
   "cell_type": "code",
   "execution_count": null,
   "metadata": {},
   "outputs": [],
   "source": [
    "# importlib.reload(mapping)\n",
    "fig = mapping.plot_clusters(expanded_labeled_trip_df_map[0],\n",
    "                            alg='OPTICS',\n",
    "                            loc_type='end',\n",
    "                            radii=[50, 100, 150, 200, 250, 300, 400, 500],\n",
    "                            optics_min_samples=2)\n",
    "fig"
   ]
  },
  {
   "cell_type": "markdown",
   "metadata": {},
   "source": [
    "optics with min samples of 3"
   ]
  },
  {
   "cell_type": "code",
   "execution_count": null,
   "metadata": {},
   "outputs": [],
   "source": [
    "# importlib.reload(mapping)\n",
    "fig = mapping.plot_clusters(expanded_labeled_trip_df_map[0],\n",
    "                            alg='OPTICS',\n",
    "                            loc_type='end',\n",
    "                            radii=[50, 100, 150, 200, 250, 300, 400, 500],\n",
    "                            optics_min_samples=5)\n",
    "fig"
   ]
  },
  {
   "cell_type": "code",
   "execution_count": null,
   "metadata": {},
   "outputs": [],
   "source": [
    "# importlib.reload(mapping)\n",
    "fig = mapping.plot_clusters(expanded_labeled_trip_df_map[0],\n",
    "                            alg='OPTICS',\n",
    "                            loc_type='end',\n",
    "                            radii=[50, 100, 150, 200, 250, 300, 400, 500],\n",
    "                            optics_min_samples=10)\n",
    "fig"
   ]
  },
  {
   "cell_type": "code",
   "execution_count": null,
   "metadata": {},
   "outputs": [],
   "source": [
    "# importlib.reload(mapping)\n",
    "print(len(expanded_labeled_trip_df_map[0]))\n",
    "fig = mapping.plot_clusters(expanded_labeled_trip_df_map[0],\n",
    "                            alg='OPTICS',\n",
    "                            loc_type='end',\n",
    "                            radii=[50, 100, 150, 200, 250, 300, 400, 500],\n",
    "                            optics_min_samples=int(\n",
    "                                0.1 * len(expanded_labeled_trip_df_map[0])))\n",
    "fig"
   ]
  },
  {
   "cell_type": "code",
   "execution_count": null,
   "metadata": {},
   "outputs": [],
   "source": [
    "# importlib.reload(mapping)\n",
    "print(len(expanded_labeled_trip_df_map[0]))\n",
    "fig = mapping.plot_clusters(expanded_labeled_trip_df_map[0],\n",
    "                            alg='OPTICS',\n",
    "                            loc_type='end',\n",
    "                            radii=[50, 100, 150, 200, 250, 300, 400, 500],\n",
    "                            optics_min_samples=int(\n",
    "                                0.07 * len(expanded_labeled_trip_df_map[0])))\n",
    "fig"
   ]
  },
  {
   "cell_type": "code",
   "execution_count": null,
   "metadata": {},
   "outputs": [],
   "source": [
    "importlib.reload(mapping)\n",
    "fig = mapping.plot_clusters(expanded_labeled_trip_df_map[0],\n",
    "                            alg='OPTICS',\n",
    "                            loc_type='end',\n",
    "                            radii=[50, 100, 150, 200, 250, 300, 400, 500],\n",
    "                            optics_min_samples=20)\n",
    "fig"
   ]
  },
  {
   "cell_type": "code",
   "execution_count": null,
   "metadata": {},
   "outputs": [],
   "source": [
    "# importlib.reload(mapping)\n",
    "fig = mapping.plot_clusters(\n",
    "    expanded_labeled_trip_df_map[0],\n",
    "    alg='OPTICS',\n",
    "    loc_type='end',\n",
    "    radii=[50, 100, 150, 200, 250, 300, 400, 500],\n",
    "    optics_min_samples=40,\n",
    ")\n",
    "fig"
   ]
  },
  {
   "cell_type": "code",
   "execution_count": null,
   "metadata": {},
   "outputs": [],
   "source": [
    "# importlib.reload(mapping)\n",
    "fig = mapping.plot_clusters(\n",
    "    expanded_labeled_trip_df_map[0],\n",
    "    alg='OPTICS',\n",
    "    loc_type='end',\n",
    "    radii=[50, 100, 150, 200, 250, 300, 400, 500],\n",
    "    optics_min_samples=30,\n",
    ")\n",
    "fig"
   ]
  },
  {
   "cell_type": "markdown",
   "metadata": {},
   "source": [
    "#### tuning xi"
   ]
  },
  {
   "cell_type": "markdown",
   "metadata": {},
   "source": [
    "Ok, here's the problem: the super dense 'home' cluster isn't being recognized as such, whether I vary radius or minPts. It's forming really tiny clusters and not expanding beyond those. If I raise minPts too high, then we won't see other smaller clusters. However, increasing the radius doesn't seem to help much. \n",
    "\n",
    "minPts = 2 is much too small as it yields clusters that mostly only have 2-3 trips. \n",
    "minPts = 5 is able to nicely distinguish library and shopping but doesn't recognize the massive home cluster. (It found a sparse cluster of noise off the primary home cluster though.)\n",
    "minPts = 10 still doesn't recognize the home cluster, but is making a concerningly large shopping cluster at a low radius without recognizing the library cluster as easily. \n",
    "\n",
    "So I think what we should try is to lower the steepness threshold for points to be considered part of a cluster. My hypothesis is that the steepness increases too fast around the points in the home cluster and therefore they look like a bunch of tiny separate clusters. \n",
    "\n",
    "As a side note, I'm not really sure what's the best way to tune this algorithm right now. Immediately I think of cross-validation, but I wonder what score we should use. Harmonic mean of (modified) homogeneity with cluster %? "
   ]
  },
  {
   "cell_type": "code",
   "execution_count": null,
   "metadata": {},
   "outputs": [],
   "source": [
    "# importlib.reload(mapping)\n",
    "fig = mapping.plot_clusters(expanded_labeled_trip_df_map[0],\n",
    "                            alg='OPTICS',\n",
    "                            loc_type='end',\n",
    "                            radii=[50, 100, 150, 200, 250, 300, 400, 500],\n",
    "                            optics_min_samples=3,\n",
    "                            optics_cluster_method='dbscan')\n",
    "fig"
   ]
  },
  {
   "cell_type": "code",
   "execution_count": null,
   "metadata": {},
   "outputs": [],
   "source": [
    "# importlib.reload(mapping)\n",
    "fig = mapping.plot_clusters(expanded_labeled_trip_df_map[0],\n",
    "                            alg='OPTICS',\n",
    "                            loc_type='end',\n",
    "                            radii=[50, 100, 150, 200, 250, 300, 400, 500],\n",
    "                            optics_min_samples=3,\n",
    "                            optics_xi=0.05)\n",
    "fig"
   ]
  },
  {
   "cell_type": "code",
   "execution_count": null,
   "metadata": {},
   "outputs": [],
   "source": [
    "# importlib.reload(mapping)\n",
    "fig = mapping.plot_clusters(expanded_labeled_trip_df_map[0],\n",
    "                            alg='OPTICS',\n",
    "                            loc_type='end',\n",
    "                            radii=[50, 100, 150, 200, 250, 300, 400, 500],\n",
    "                            optics_min_samples=3,\n",
    "                            optics_xi=0.2)\n",
    "fig"
   ]
  },
  {
   "cell_type": "code",
   "execution_count": null,
   "metadata": {},
   "outputs": [],
   "source": [
    "# importlib.reload(mapping)\n",
    "fig = mapping.plot_clusters(expanded_labeled_trip_df_map[0],\n",
    "                            alg='OPTICS',\n",
    "                            loc_type='end',\n",
    "                            radii=[50, 100, 150, 200, 250, 300, 400, 500],\n",
    "                            optics_min_samples=3,\n",
    "                            optics_xi=0.4)\n",
    "fig"
   ]
  },
  {
   "cell_type": "code",
   "execution_count": null,
   "metadata": {},
   "outputs": [],
   "source": [
    "# importlib.reload(mapping)\n",
    "fig = mapping.plot_clusters(expanded_labeled_trip_df_map[0],\n",
    "                            alg='OPTICS',\n",
    "                            loc_type='end',\n",
    "                            radii=[50, 100, 150, 200, 250, 300, 400, 500],\n",
    "                            optics_min_samples=3,\n",
    "                            optics_xi=0.6)\n",
    "fig"
   ]
  },
  {
   "cell_type": "code",
   "execution_count": null,
   "metadata": {},
   "outputs": [],
   "source": [
    "# importlib.reload(mapping)\n",
    "fig = mapping.plot_clusters(expanded_labeled_trip_df_map[0],\n",
    "                            alg='OPTICS',\n",
    "                            loc_type='end',\n",
    "                            radii=[50, 100, 150, 200, 250, 300, 400, 500],\n",
    "                            optics_min_samples=3,\n",
    "                            optics_xi=0.7)\n",
    "fig"
   ]
  },
  {
   "cell_type": "code",
   "execution_count": null,
   "metadata": {},
   "outputs": [],
   "source": [
    "# importlib.reload(mapping)\n",
    "fig = mapping.plot_clusters(expanded_labeled_trip_df_map[0],\n",
    "                            alg='OPTICS',\n",
    "                            loc_type='end',\n",
    "                            radii=[50, 100, 150, 200, 250, 300, 400, 500],\n",
    "                            optics_min_samples=3,\n",
    "                            optics_xi=0.9)\n",
    "fig"
   ]
  },
  {
   "cell_type": "code",
   "execution_count": null,
   "metadata": {},
   "outputs": [],
   "source": [
    "# importlib.reload(mapping)\n",
    "fig = mapping.plot_clusters(expanded_labeled_trip_df_map[1],\n",
    "                            alg='OPTICS',\n",
    "                            loc_type='end',\n",
    "                            radii=[50, 100, 150, 200, 250, 300],\n",
    "                            optics_min_samples=3,\n",
    "                            optics_xi=0.5)\n",
    "fig"
   ]
  },
  {
   "cell_type": "code",
   "execution_count": null,
   "metadata": {},
   "outputs": [],
   "source": [
    "# importlib.reload(mapping)\n",
    "fig = mapping.plot_clusters(expanded_labeled_trip_df_map[1],\n",
    "                            alg='OPTICS',\n",
    "                            loc_type='end',\n",
    "                            radii=[50, 100, 150, 200, 250, 300],\n",
    "                            optics_min_samples=2,\n",
    "                            optics_xi=0.7)\n",
    "fig"
   ]
  },
  {
   "cell_type": "code",
   "execution_count": null,
   "metadata": {},
   "outputs": [],
   "source": [
    "# importlib.reload(mapping)\n",
    "fig = mapping.plot_clusters(expanded_labeled_trip_df_map[1],\n",
    "                            alg='OPTICS',\n",
    "                            loc_type='end',\n",
    "                            radii=[50, 100, 150, 200, 250, 300],\n",
    "                            optics_min_samples=3,\n",
    "                            optics_xi=0.7)\n",
    "fig"
   ]
  },
  {
   "cell_type": "code",
   "execution_count": null,
   "metadata": {},
   "outputs": [],
   "source": [
    "# importlib.reload(mapping)\n",
    "fig = mapping.plot_clusters(expanded_labeled_trip_df_map[1],\n",
    "                            alg='OPTICS',\n",
    "                            loc_type='end',\n",
    "                            radii=[50, 100, 150, 200, 250, 300, 400, 500],\n",
    "                            optics_min_samples=4,\n",
    "                            optics_xi=0.6)\n",
    "fig"
   ]
  },
  {
   "cell_type": "code",
   "execution_count": null,
   "metadata": {},
   "outputs": [],
   "source": [
    "# importlib.reload(mapping)\n",
    "fig = mapping.plot_clusters(expanded_labeled_trip_df_map[1],\n",
    "                            alg='OPTICS',\n",
    "                            loc_type='end',\n",
    "                            radii=[50, 100, 150, 200, 250, 300],\n",
    "                            optics_min_samples=3,\n",
    "                            optics_xi=0.85)\n",
    "fig"
   ]
  },
  {
   "cell_type": "code",
   "execution_count": null,
   "metadata": {},
   "outputs": [],
   "source": [
    "# importlib.reload(mapping)\n",
    "fig = mapping.plot_clusters(expanded_labeled_trip_df_map[1],\n",
    "                            alg='OPTICS',\n",
    "                            loc_type='end',\n",
    "                            radii=[50, 100, 150, 200, 250, 300],\n",
    "                            optics_min_samples=3,\n",
    "                            optics_xi=0.9)\n",
    "fig"
   ]
  },
  {
   "cell_type": "markdown",
   "metadata": {},
   "source": [
    "For these past few maps with xi <=0.8, what I don't understand is why the shopping cluster keeps disappearing at/above 100m even though the cluster is found at 50m...\n",
    "Ok, looks like xi=0.9 yields better and more intuitive results - as the radius increases, nearby clusters get merged into each other. Since xi is the minimum steepness at which a point is cut off from a cluster, xi essentially seems to represent the algorithm's sensitivity to density variation; a xi value closer to 1 would make the algorithm more similar to DBSCAN, which is entirely insensitive to density change. "
   ]
  },
  {
   "cell_type": "code",
   "execution_count": null,
   "metadata": {},
   "outputs": [],
   "source": [
    "# importlib.reload(mapping)\n",
    "fig = mapping.plot_clusters(expanded_labeled_trip_df_map[1],\n",
    "                            alg='OPTICS',\n",
    "                            loc_type='end',\n",
    "                            radii=[50, 100, 150, 200, 250, 300],\n",
    "                            optics_min_samples=2,\n",
    "                            optics_xi=0.9)\n",
    "fig"
   ]
  },
  {
   "cell_type": "markdown",
   "metadata": {},
   "source": [
    "radius=100m, minPts=2, xi=0.9 looks really good for this user. When the minpts was 3, we missed some two-trips clusters that were definitely at the same location and which would have provided useful information. "
   ]
  },
  {
   "cell_type": "code",
   "execution_count": null,
   "metadata": {},
   "outputs": [],
   "source": [
    "# importlib.reload(mapping)\n",
    "fig = mapping.plot_clusters(expanded_labeled_trip_df_map[0],\n",
    "                            alg='OPTICS',\n",
    "                            loc_type='end',\n",
    "                            radii=[50, 100, 150, 200, 250, 300],\n",
    "                            optics_min_samples=2,\n",
    "                            optics_xi=0.9)\n",
    "fig"
   ]
  },
  {
   "cell_type": "markdown",
   "metadata": {},
   "source": [
    "unfortunately, those parameters failed to find the super dense home cluster :( also, the clusters around library and shopping disappeared as the radius increased ??\n",
    "\n",
    "increasing minPts to 3 seems to fix things:"
   ]
  },
  {
   "cell_type": "code",
   "execution_count": null,
   "metadata": {},
   "outputs": [],
   "source": [
    "# importlib.reload(mapping)\n",
    "fig = mapping.plot_clusters(expanded_labeled_trip_df_map[0],\n",
    "                            alg='OPTICS',\n",
    "                            loc_type='end',\n",
    "                            radii=[50, 100, 150, 200, 250, 300],\n",
    "                            optics_min_samples=3,\n",
    "                            optics_xi=0.9)\n",
    "fig"
   ]
  },
  {
   "cell_type": "markdown",
   "metadata": {},
   "source": [
    "#### tuning xi for other users"
   ]
  },
  {
   "cell_type": "code",
   "execution_count": null,
   "metadata": {},
   "outputs": [],
   "source": [
    "# importlib.reload(mapping)\n",
    "fig = mapping.plot_clusters(expanded_labeled_trip_df_map[2],\n",
    "                            alg='OPTICS',\n",
    "                            loc_type='end',\n",
    "                            radii=[50, 100, 150, 200, 250, 300],\n",
    "                            optics_min_samples=2,\n",
    "                            optics_xi=0.9)\n",
    "fig"
   ]
  },
  {
   "cell_type": "code",
   "execution_count": null,
   "metadata": {},
   "outputs": [],
   "source": [
    "# importlib.reload(mapping)\n",
    "fig = mapping.plot_clusters(expanded_labeled_trip_df_map[2],\n",
    "                            alg='OPTICS',\n",
    "                            loc_type='end',\n",
    "                            radii=[50, 100, 150, 200, 250, 300],\n",
    "                            optics_min_samples=3,\n",
    "                            optics_xi=0.9)\n",
    "fig"
   ]
  },
  {
   "cell_type": "markdown",
   "metadata": {},
   "source": [
    "Similar results: minpts=2 failed to find the important, dense clusters. Increasing to minpts=3 helped. Unfortunately, it was only able to distinguish between school/meal at 50m; by 100m, they were all clumped together. SO OPTICS helps with a little bit of density variation compared to DBSCAN, but not really for dramatic variation in density. We could try lowering xi a little to see if that helps. \n",
    "\n",
    "(Hmm, lowering xi below 0.85 for user[1] and user[3] would make some clusters disappear.) So xi=0.85 is not enough to distinguish between school/meal but xi=0.8 fails to find any proper school/meal clusters at all. "
   ]
  },
  {
   "cell_type": "code",
   "execution_count": null,
   "metadata": {},
   "outputs": [],
   "source": [
    "# importlib.reload(mapping)\n",
    "fig = mapping.plot_clusters(expanded_labeled_trip_df_map[3],\n",
    "                            alg='OPTICS',\n",
    "                            loc_type='end',\n",
    "                            radii=[50, 100, 150, 200, 250, 300],\n",
    "                            optics_min_samples=3,\n",
    "                            optics_xi=0.85)\n",
    "fig"
   ]
  },
  {
   "cell_type": "code",
   "execution_count": null,
   "metadata": {},
   "outputs": [],
   "source": [
    "# importlib.reload(mapping)\n",
    "fig = mapping.plot_clusters(expanded_labeled_trip_df_map[4],\n",
    "                            alg='OPTICS',\n",
    "                            loc_type='end',\n",
    "                            radii=[50, 100, 150, 200, 250, 300],\n",
    "                            optics_min_samples=3,\n",
    "                            optics_xi=0.85)\n",
    "fig"
   ]
  },
  {
   "cell_type": "markdown",
   "metadata": {},
   "source": [
    "At minpts=2, rad=100, xi=0.9, this user had a dense home cluster that wasnt picked up. It also grouped a lot of noisy points into a work cluster located in a downtown area. \n",
    "\n",
    "Bumping minpts up to 3 helped us find the big home cluster. The work cluster was still pretty noisy. Let's try dropping xi down to 0.85. \n",
    "\n",
    "Ok, so dropping xi down to 0.85 kept clusters pretty similar. Home is still well-identified, work is still noisy. "
   ]
  },
  {
   "cell_type": "markdown",
   "metadata": {},
   "source": [
    "User[5] only had 9 labeled points. We found 2 two-trip clusters when minPts=2, and nothing when minPts=3. "
   ]
  },
  {
   "cell_type": "code",
   "execution_count": null,
   "metadata": {},
   "outputs": [],
   "source": [
    "# importlib.reload(mapping)\n",
    "fig = mapping.plot_clusters(expanded_labeled_trip_df_map[5],\n",
    "                            alg='OPTICS',\n",
    "                            loc_type='end',\n",
    "                            radii=[50, 100, 150, 200, 250, 300],\n",
    "                            optics_min_samples=3,\n",
    "                            optics_xi=0.85)\n",
    "fig"
   ]
  },
  {
   "cell_type": "markdown",
   "metadata": {},
   "source": [
    "Users [6-9] had no labeled data. I think we found Tom by accident again as user 10. User 11 had a single trip.\n",
    "\n",
    "User 13 has 28 data points, and it was pretty spread out around the city, not really any repeated trips. We found 2 home clusters nicely though. "
   ]
  },
  {
   "cell_type": "code",
   "execution_count": null,
   "metadata": {},
   "outputs": [],
   "source": [
    "# importlib.reload(mapping)\n",
    "fig = mapping.plot_clusters(expanded_labeled_trip_df_map[13],\n",
    "                            alg='OPTICS',\n",
    "                            loc_type='end',\n",
    "                            radii=[50, 100, 150, 200, 250, 300],\n",
    "                            optics_min_samples=2,\n",
    "                            optics_xi=0.9)\n",
    "fig"
   ]
  },
  {
   "cell_type": "code",
   "execution_count": null,
   "metadata": {},
   "outputs": [],
   "source": [
    "# importlib.reload(mapping)\n",
    "fig = mapping.plot_clusters(expanded_labeled_trip_df_map[12],\n",
    "                            alg='OPTICS',\n",
    "                            loc_type='end',\n",
    "                            radii=[50, 100, 150, 200, 250, 300],\n",
    "                            optics_min_samples=3,\n",
    "                            optics_xi=0.85)\n",
    "fig"
   ]
  },
  {
   "cell_type": "markdown",
   "metadata": {},
   "source": [
    "Verdict: based purely on anecdotal evidence, it looks like OPTICS produces okay-ish results with parameters of minPts=3, xi around 0.85-0.9, radius around 100m. We should do some parameter tuning on a mass scale to see how it performs for a wide variety of users. \n",
    "\n",
    "Still, we're missing useful 2-trip clusters. Also, we don't know how the clusters look when we add unlabeled points. And I think it makes sense to use a semi-supervised alg to leverage any label information if we have it. "
   ]
  },
  {
   "cell_type": "markdown",
   "metadata": {},
   "source": [
    "### Check clustering with unlabeled trips"
   ]
  },
  {
   "cell_type": "code",
   "execution_count": null,
   "metadata": {},
   "outputs": [],
   "source": [
    "fig = mapping.plot_clusters(expanded_all_trip_df_map[1],\n",
    "                            alg='OPTICS',\n",
    "                            loc_type='end',\n",
    "                            radii=[50, 100, 150, 200, 250, 300],\n",
    "                            cluster_unlabeled=True,\n",
    "                            plot_unlabeled=True,\n",
    "                            optics_min_samples=3,\n",
    "                            optics_xi=0.85)\n",
    "fig"
   ]
  },
  {
   "cell_type": "code",
   "execution_count": null,
   "metadata": {},
   "outputs": [],
   "source": [
    "fig = mapping.plot_clusters(expanded_all_trip_df_map[3],\n",
    "                            alg='OPTICS',\n",
    "                            loc_type='end',\n",
    "                            radii=[50, 100, 150, 200, 250, 300],\n",
    "                            cluster_unlabeled=True,\n",
    "                            plot_unlabeled=True,\n",
    "                            optics_min_samples=3,\n",
    "                            optics_xi=0.9)\n",
    "fig"
   ]
  },
  {
   "cell_type": "code",
   "execution_count": null,
   "metadata": {},
   "outputs": [],
   "source": [
    "fig = mapping.plot_clusters(expanded_all_trip_df_map[3],\n",
    "                            alg='OPTICS',\n",
    "                            loc_type='end',\n",
    "                            radii=[50, 100, 150, 200, 250, 300],\n",
    "                            cluster_unlabeled=True,\n",
    "                            plot_unlabeled=True,\n",
    "                            optics_min_samples=3,\n",
    "                            optics_xi=0.9)\n",
    "fig"
   ]
  },
  {
   "cell_type": "code",
   "execution_count": null,
   "metadata": {},
   "outputs": [],
   "source": [
    "fig = mapping.plot_clusters(expanded_all_trip_df_map[4],\n",
    "                            alg='OPTICS',\n",
    "                            loc_type='end',\n",
    "                            radii=[50, 100, 150, 200, 250, 300],\n",
    "                            cluster_unlabeled=True,\n",
    "                            plot_unlabeled=True,\n",
    "                            optics_min_samples=3,\n",
    "                            optics_xi=0.85)\n",
    "fig"
   ]
  },
  {
   "cell_type": "code",
   "execution_count": null,
   "metadata": {},
   "outputs": [],
   "source": [
    "fig = mapping.plot_clusters(expanded_all_trip_df_map[5],\n",
    "                            alg='OPTICS',\n",
    "                            loc_type='end',\n",
    "                            radii=[50, 100, 150, 200, 250, 300],\n",
    "                            cluster_unlabeled=True,\n",
    "                            plot_unlabeled=True,\n",
    "                            optics_min_samples=3,\n",
    "                            optics_xi=0.85)\n",
    "fig"
   ]
  },
  {
   "cell_type": "markdown",
   "metadata": {},
   "source": [
    "Interesting. for user 6, I think the introduction of noisy unlabeled points caused it to merge home/library/park. Yep, if we don't use unlabeled points to determine cluster bounds then it helps."
   ]
  },
  {
   "cell_type": "code",
   "execution_count": null,
   "metadata": {},
   "outputs": [],
   "source": [
    "fig = mapping.plot_clusters(expanded_all_trip_df_map[6],\n",
    "                            alg='OPTICS',\n",
    "                            loc_type='end',\n",
    "                            radii=[50, 100, 150, 200, 250, 300],\n",
    "                            cluster_unlabeled=True,\n",
    "                            plot_unlabeled=True,\n",
    "                            optics_min_samples=3,\n",
    "                            optics_xi=0.8)\n",
    "fig"
   ]
  },
  {
   "cell_type": "code",
   "execution_count": null,
   "metadata": {},
   "outputs": [],
   "source": [
    "fig = mapping.plot_clusters(expanded_all_trip_df_map[6],\n",
    "                            alg='OPTICS',\n",
    "                            loc_type='end',\n",
    "                            radii=[50, 100, 150, 200, 250, 300],\n",
    "                            cluster_unlabeled=False,\n",
    "                            plot_unlabeled=True,\n",
    "                            optics_min_samples=3,\n",
    "                            optics_xi=0.8)\n",
    "fig"
   ]
  },
  {
   "cell_type": "markdown",
   "metadata": {},
   "source": [
    "at xi=0.85, we failed to find a big home cluster for user7. Found it with x=0.9. "
   ]
  },
  {
   "cell_type": "code",
   "execution_count": null,
   "metadata": {},
   "outputs": [],
   "source": [
    "fig = mapping.plot_clusters(expanded_all_trip_df_map[7],\n",
    "                            alg='OPTICS',\n",
    "                            loc_type='end',\n",
    "                            radii=[50, 100, 150, 200, 250, 300],\n",
    "                            cluster_unlabeled=True,\n",
    "                            plot_unlabeled=True,\n",
    "                            optics_min_samples=3,\n",
    "                            optics_xi=0.9)\n",
    "fig"
   ]
  },
  {
   "cell_type": "code",
   "execution_count": null,
   "metadata": {},
   "outputs": [],
   "source": [
    "fig = mapping.plot_clusters(expanded_all_trip_df_map[8],\n",
    "                            alg='OPTICS',\n",
    "                            loc_type='end',\n",
    "                            radii=[50, 100, 150, 200, 250, 300],\n",
    "                            cluster_unlabeled=True,\n",
    "                            plot_unlabeled=True,\n",
    "                            optics_min_samples=3,\n",
    "                            optics_xi=0.85)\n",
    "fig"
   ]
  }
 ],
 "metadata": {
  "interpreter": {
   "hash": "39792147defedce75a7e3a68ae8b893956023a509c7f6b059d8d59165c20ef2c"
  },
  "kernelspec": {
   "display_name": "Python 3.7.12",
   "language": "python",
   "name": "python3"
  },
  "language_info": {
   "codemirror_mode": {
    "name": "ipython",
    "version": 3
   },
   "file_extension": ".py",
   "mimetype": "text/x-python",
   "name": "python",
   "nbconvert_exporter": "python",
   "pygments_lexer": "ipython3",
   "version": "3.7.12"
  },
  "orig_nbformat": 4
 },
 "nbformat": 4,
 "nbformat_minor": 2
}
